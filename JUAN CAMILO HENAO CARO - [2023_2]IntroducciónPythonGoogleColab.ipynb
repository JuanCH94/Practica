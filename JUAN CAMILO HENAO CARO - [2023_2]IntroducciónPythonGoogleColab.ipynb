{
 "cells": [
  {
   "cell_type": "markdown",
   "metadata": {
    "id": "l_s6qtY8N9b5"
   },
   "source": [
    "<p><img alt=\"UdeA\" height=\"150px\" src=\"https://upload.wikimedia.org/wikipedia/commons/archive/f/fb/20161010213812%21Escudo-UdeA.svg\" align=\"left\" hspace=\"10px\" vspace=\"0px\"></p>\n",
    "<img alt=\"CC\" height=\"150px\" src=\"https://upload.wikimedia.org/wikipedia/commons/thumb/b/b9/Ingenier%C3%ADa_Industrial_UdeA.png/1026px-Ingenier%C3%ADa_Industrial_UdeA.png\" align=\"right\" hspace=\"0px\" vspace=\"0px\">\n",
    "<br><br><br><br><br><br>\n",
    "<p>\n",
    "<h1><center><b> Introducción a Python con Google Colab </b></center></h1>\n",
    "<hr size=10 noshade color=\"green\">\n",
    "</p>\n",
    "<p>\n",
    "<img alt=\"CC\" height=\"70px\" src=\"https://creativecommons.org/images/deed/cc_blue_x2.png\" align=\"left\" hspace=\"0px\" vspace=\"0px\">\n",
    "<img alt=\"Attribution\" height=\"70px\" src=\"https://creativecommons.org/images/deed/attribution_icon_blue_x2.png\" align=\"left\" hspace=\"0px\" vspace=\"0px\">\n",
    "<img alt=\"NC\" height=\"70px\" src=\"https://creativecommons.org/images/deed/nc_blue_x2.png\" align=\"left\" hspace=\"0px\" vspace=\"0px\">\n",
    "<img alt=\"SA\" height=\"70px\" src=\"https://creativecommons.org/images/deed/sa_blue_x2.png\" align=\"left\" hspace=\"0px\" vspace=\"0px\">\n",
    "</p>\n",
    "\n",
    "<div align=\"right\">\n",
    "<h2> <b> Por: Julián Andrés Castillo G. </b> </h2>\n",
    "<a href=\"mailto:jandres.castillo@udea.edu.co\"> ✉ Julian Andres Castillo Grisales </a>\n",
    "<h2> <b> Por: Yony Fernando Ceballos. </b> </h2>\n",
    "<a href=\"mailto:yony.ceballos@udea.edu.co\"> ✉ Yony Fernando Ceballos </a>\n",
    "</div>\n",
    "\n",
    "<br>\n",
    "\n",
    "**El presente curso hace parte de la Ingeniería Industrial de la Universidad de Antioquia.**\n",
    "\n",
    "---"
   ]
  },
  {
   "cell_type": "code",
   "execution_count": 2,
   "metadata": {},
   "outputs": [
    {
     "name": "stdout",
     "output_type": "stream",
     "text": [
      "Hola amigos, cómo están?\n"
     ]
    }
   ],
   "source": [
    "print(\"Hola amigos, cómo están?\")"
   ]
  },
  {
   "cell_type": "markdown",
   "metadata": {
    "id": "m3alM4s5PGqq"
   },
   "source": [
    "<p><a name=\"contents\"></a></p>\n",
    "\n",
    "# **Contenido Cuaderno 01 - Introducción a Python**\n",
    "\n",
    "- <a href=\"#s1\">01. Introducción a Google Colab</a><br>\n",
    "- <a href=\"#s2\">02. Lenguaje de programación Python</a><br>\n",
    "- <a href=\"#s3\">03. Introducción a Python</a><br>\n",
    "- <a href=\"#s4\">04. Google Colab con Python</a><br>\n",
    "- <a href=\"#s5\">05. Introducción al lenguaje de programación Python</a><br>\n",
    "- <a href=\"#s6\">06. Módulos, Librerías, ayudas y descripciones</a><br>\n",
    "- <a href=\"#s7\">07. Variables</a><br>\n",
    "- <a href=\"#s8\">08. Tipos de Datos</a><br>\n",
    "- <a href=\"#s9\">09. Operadores</a><br>\n",
    "- <a href=\"#s10\">10. Listas, tuplas, diccionarios y conjuntos</a><br>\n",
    "- <a href=\"#s11\">11. Estructuras de seleccion (Condicionales)</a><br>\n",
    "- <a href=\"#s12\">12. Estructuras repetitivas</a><br>\n",
    "- <a href=\"#s13\">13. Funciones</a><br>\n",
    "- <a href=\"#s14\">14. Clases y Objetos</a><br>\n",
    "- <a href=\"#s15\">15. Manejo de archivos</a><br>\n",
    "- <a href=\"#s16\">16. NumPy</a><br>\n",
    "- <a href=\"#s17\">17. Pandas</a><br>\n",
    "- <a href=\"#s18\">18. Matplotlib</a><br>\n"
   ]
  },
  {
   "cell_type": "markdown",
   "metadata": {
    "id": "qmIDT2z7R5jh"
   },
   "source": [
    "**El presente documento está basado en los siguientes contenidos:**\n",
    "\n",
    "*   Python Website. (2023). Python 3.11.1 documentation. Retrieved june 03, 2023, from https://docs.python.org/\n",
    "*   W3schools.com. (2023). Python tutorial. Retrieved june 03, 2023, from https://www.w3schools.com/python/default.asp\n",
    "*   Sweigart, A. (2019). Automate the boring stuff with Python: practical programming for total beginners. No Starch Press.\n",
    "*   Pilgrim, M., & Willison, S. (2009). Dive Into Python 3 (Vol. 2). Apress.\n",
    "</p>\n",
    "\n",
    "[[Contenidos]](#contents)"
   ]
  },
  {
   "cell_type": "markdown",
   "metadata": {
    "id": "NgkBpxJTm7RR"
   },
   "source": [
    "<p><a name=\"s1\"></a></p>\n",
    "\n",
    "# **1. Introducción a Google Colab**\n",
    "*Tomado de la página oficial de Google Colab* --> [Google Colab](https://colab.research.google.com/notebooks/intro.ipynb)<br>\n",
    "[[Contenidos]](#contents)"
   ]
  },
  {
   "cell_type": "markdown",
   "metadata": {
    "id": "Dahx2tSuprHw"
   },
   "source": [
    "<p><img alt=\"Colaboratory logo\" height=\"45px\" src=\"/img/colab_favicon.ico\" align=\"left\" hspace=\"10px\" vspace=\"0px\"></p>\n",
    "\n",
    "<h1>¿Qué es Colaboratory?</h1>\n",
    "\n",
    "Colaboratory, también llamado Colab, te permite escribir y ejecutar código de Python en un navegador, con las siguientes particularidades:\n",
    "- Sin configuración requerida.\n",
    "- Acceso gratuito a GPU.\n",
    "- Facilidad para compartir.\n",
    "\n",
    "Seas <strong>estudiante</strong>, <strong>científico de datos</strong> o <strong>investigador de IA</strong>, Colab facilita tu trabajo. Mira <a href=\"https://www.youtube.com/watch?v=inN8seMm7UI\">este video introductorio sobre Colab</a> para obtener más información, o bien comienza a usarlo más abajo."
   ]
  },
  {
   "cell_type": "code",
   "execution_count": 1,
   "metadata": {
    "colab": {
     "base_uri": "https://localhost:8080/"
    },
    "executionInfo": {
     "elapsed": 12,
     "status": "ok",
     "timestamp": 1694464715218,
     "user": {
      "displayName": "JUAN CAMILO HENAO CARO",
      "userId": "11825490046934558373"
     },
     "user_tz": 300
    },
    "id": "1Q11qisbqMbB",
    "outputId": "238d4a22-9646-481b-94d4-d51a78b4b881"
   },
   "outputs": [
    {
     "name": "stdout",
     "output_type": "stream",
     "text": [
      "Los segundos en un dia son: 86400\n"
     ]
    }
   ],
   "source": [
    "seconds_in_a_day = 24 * 60 * 60\n",
    "print('Los segundos en un dia son:',seconds_in_a_day)"
   ]
  },
  {
   "cell_type": "markdown",
   "metadata": {
    "id": "UVpaBXCAqOQI"
   },
   "source": [
    "A fin de ejecutar el código en la celda anterior, haz clic en él para seleccionarlo y luego presiona el botón de reproducción ubicado a la izquierda del código o usa la combinación de teclas \"Command/Ctrl + Intro\". Para editar el código, solo haz clic en la celda y comienza a editar.\n",
    "\n",
    "Las variables que defines en una celda pueden usarse en otras:"
   ]
  },
  {
   "cell_type": "code",
   "execution_count": null,
   "metadata": {
    "colab": {
     "base_uri": "https://localhost:8080/"
    },
    "executionInfo": {
     "elapsed": 434,
     "status": "ok",
     "timestamp": 1693260112749,
     "user": {
      "displayName": "JUAN CAMILO HENAO CARO",
      "userId": "11825490046934558373"
     },
     "user_tz": 300
    },
    "id": "m19VZA7NqQD4",
    "outputId": "00c64456-39b6-4797-94b0-762dafe34278"
   },
   "outputs": [
    {
     "data": {
      "text/plain": [
       "604800"
      ]
     },
     "execution_count": 4,
     "metadata": {},
     "output_type": "execute_result"
    }
   ],
   "source": [
    "seconds_in_a_week = 7 * seconds_in_a_day\n",
    "seconds_in_a_week"
   ]
  },
  {
   "cell_type": "markdown",
   "metadata": {
    "id": "y_6pvEQAqTdU"
   },
   "source": [
    "Los notebooks de Colab te permiten combinar <strong>código ejecutable</strong> y <strong>texto enriquecido</strong> en un único documento, junto con <strong>imágenes</strong>, <strong>HTML</strong>, <strong>LaTeX</strong> y mucho más. Los notebooks que crees en Colab se almacenan en tu cuenta de Google Drive. Puedes compartir fácilmente los notebooks de Colab con amigos o compañeros de trabajo para que realicen comentarios o los editen. Si quieres obtener más información, consulta la <a href=\"/notebooks/basic_features_overview.ipynb\">Descripción general de Colab</a>. Para crear un nuevo notebook de Colab, ve al menú Archivo que aparece más arriba o usa este vínculo: <a href=\"http://colab.research.google.com#create=true\">crear un nuevo notebook de Colab</a>.\n",
    "\n",
    "Los notebooks de Colab son notebooks de Jupyter que aloja Colab. Para obtener más información sobre el proyecto Jupyter, visita <a href=\"https://www.jupyter.org\">jupyter.org</a>."
   ]
  },
  {
   "cell_type": "markdown",
   "metadata": {
    "id": "-YiHvugcrCtL"
   },
   "source": [
    "## Ciencia de datos\n",
    "\n",
    "Con Colab, puedes aprovechar por completo las bibliotecas más populares de Python para analizar y visualizar datos. La celda de código que se incluye a continuación usa <strong>NumPy</strong> para generar algunos datos aleatorios y <strong>matplotlib</strong> para visualizarlos. Para editar el código, haz clic en la celda y comienza a editar."
   ]
  },
  {
   "cell_type": "code",
   "execution_count": 4,
   "metadata": {
    "colab": {
     "base_uri": "https://localhost:8080/",
     "height": 452
    },
    "executionInfo": {
     "elapsed": 455,
     "status": "ok",
     "timestamp": 1694466659196,
     "user": {
      "displayName": "JUAN CAMILO HENAO CARO",
      "userId": "11825490046934558373"
     },
     "user_tz": 300
    },
    "id": "O39hXLbDrEry",
    "outputId": "13a9237f-77a1-4740-f5a1-b46f1581f29a"
   },
   "outputs": [
    {
     "data": {
      "image/png": "[encoded data removed]",
      "text/plain": [
       "<Figure size 640x480 with 1 Axes>"
      ]
     },
     "metadata": {},
     "output_type": "display_data"
    }
   ],
   "source": [
    "import numpy as np\n",
    "from matplotlib import pyplot as plt\n",
    "\n",
    "ys = 200 + np.random.randn(100)\n",
    "x = [x for x in range(len(ys))]\n",
    "\n",
    "plt.plot(x, ys, '-')\n",
    "plt.fill_between(x, ys, 195, where=(ys > 195), facecolor='g', alpha=0.6)\n",
    "\n",
    "plt.title(\"Sample Visualization\")\n",
    "plt.show()"
   ]
  },
  {
   "cell_type": "code",
   "execution_count": 6,
   "metadata": {
    "colab": {
     "base_uri": "https://localhost:8080/"
    },
    "executionInfo": {
     "elapsed": 327,
     "status": "ok",
     "timestamp": 1694467190657,
     "user": {
      "displayName": "JUAN CAMILO HENAO CARO",
      "userId": "11825490046934558373"
     },
     "user_tz": 300
    },
    "id": "giCO0eGJFJ8B",
    "outputId": "6a0561aa-ce0c-4807-d269-f688c402b766"
   },
   "outputs": [
    {
     "data": {
      "text/plain": [
       "array([201.25787578, 202.11906296, 197.92584102, 200.25935195,\n",
       "       200.35508484, 199.56834542, 198.78935349, 198.48542377,\n",
       "       200.60998634, 200.7448793 , 199.3500245 , 200.91162596,\n",
       "       199.94465328, 201.26201588, 199.86179844, 199.5908389 ,\n",
       "       199.43084488, 201.04792537, 200.43320637, 199.79471887,\n",
       "       200.71779097, 200.7546072 , 199.811027  , 199.66647067,\n",
       "       200.85877679, 200.19534108, 199.3505513 , 200.16532656,\n",
       "       198.16954795, 198.53624012, 199.09756357, 198.91516723,\n",
       "       198.39863606, 199.0594927 , 200.40438546, 201.64472078,\n",
       "       199.35146135, 201.79886123, 199.69749846, 199.3167851 ,\n",
       "       201.49080733, 199.24536581, 199.1848136 , 199.5820846 ,\n",
       "       199.7759897 , 199.47016384, 199.30345347, 200.02359291,\n",
       "       200.93259116, 198.95425315, 199.62993206, 200.12814786,\n",
       "       201.27103485, 202.01128482, 199.81926219, 200.02439757,\n",
       "       200.48315029, 200.46251743, 201.29186253, 199.35332342,\n",
       "       199.49419872, 199.42468822, 198.89142935, 198.94837715,\n",
       "       199.60455743, 200.09656839, 199.88539469, 199.7950761 ,\n",
       "       201.97537405, 200.44064326, 201.58129689, 199.8438    ,\n",
       "       201.68405346, 201.34934666, 200.80361489, 200.53367657,\n",
       "       199.86651192, 198.76503103, 200.90887041, 200.24431212,\n",
       "       199.61343914, 200.28197778, 201.46391754, 199.60187064,\n",
       "       199.11819426, 199.94795239, 199.00547289, 199.94946724,\n",
       "       200.82042723, 200.5759116 , 201.01926016, 200.76944906,\n",
       "       201.06114458, 200.24221936, 201.12074601, 199.41308542,\n",
       "       199.61399013, 201.67904885, 199.4422807 , 200.05996575])"
      ]
     },
     "execution_count": 6,
     "metadata": {},
     "output_type": "execute_result"
    }
   ],
   "source": [
    "ys"
   ]
  },
  {
   "cell_type": "code",
   "execution_count": null,
   "metadata": {
    "colab": {
     "base_uri": "https://localhost:8080/",
     "height": 449
    },
    "executionInfo": {
     "elapsed": 1192,
     "status": "ok",
     "timestamp": 1693262415915,
     "user": {
      "displayName": "JUAN CAMILO HENAO CARO",
      "userId": "11825490046934558373"
     },
     "user_tz": 300
    },
    "id": "4ekY9u-OLMPV",
    "outputId": "c89ea0bf-daf5-45b7-f815-b762d60091fb"
   },
   "outputs": [
    {
     "data": {
      "text/plain": [
       "[<matplotlib.lines.Line2D at 0x7b89a16b1b70>]"
      ]
     },
     "execution_count": 11,
     "metadata": {},
     "output_type": "execute_result"
    },
    {
     "data": {
      "image/png": "[encoded data removed]",
      "text/plain": [
       "<Figure size 640x480 with 1 Axes>"
      ]
     },
     "metadata": {},
     "output_type": "display_data"
    }
   ],
   "source": [
    "import numpy as np #librería especializada en cáculos númericos y anális de datos\n",
    "#Especialmente para grandes volumenes de datos, usa los arrays\n",
    "from matplotlib import pyplot as plt # creación en gráficos en dos dimensiones.\n",
    "\n",
    "\n",
    "y = 200 + np.random.rand(100)#generates randoms numbers from de standar uniform distribution\n",
    "x = [x for x in range(len(y))]\n",
    "\n",
    "plt.plot(x, y, '-')"
   ]
  },
  {
   "cell_type": "markdown",
   "metadata": {
    "id": "hgUmSonOrKuW"
   },
   "source": [
    "Puedes importar datos propios a notebooks de Colab desde tu cuenta de Google Drive &#40;incluso desde hojas de cálculos&#41;, GitHub y muchas otras fuentes. Para obtener más información acerca de la importación de datos y cómo puede usarse Colab para fines relacionados con la ciencia de datos, consulta los vínculos de <a href=\"#working-with-data\">Cómo trabajar con datos</a>."
   ]
  },
  {
   "cell_type": "markdown",
   "metadata": {
    "id": "jwalAbnxrOsU"
   },
   "source": [
    "## Aprendizaje automático\n",
    "\n",
    "Colab te permite importar un conjunto de datos de imágenes, entrenar un clasificador de imágenes en él y evaluar el modelo con solo <a href=\"https://colab.research.google.com/github/tensorflow/docs/blob/master/site/en/tutorials/quickstart/beginner.ipynb\">unas pocas líneas de código</a>. Los notebooks de Colab ejecutan código en los servidores alojados en la nube de Google, lo que significa que puedes aprovechar al máximo el hardware de Google, incluidas las <a href=\"#using-accelerated-hardware\">GPU y TPU</a>, independientemente de la potencia de tu máquina. Lo único que necesitas es un navegador."
   ]
  },
  {
   "cell_type": "markdown",
   "metadata": {
    "id": "fkYBieu2rQ4P"
   },
   "source": [
    "Entre los usos que tiene Colab en la comunidad de aprendizaje automático, se encuentran los siguientes:\n",
    "- Introducción a TensorFlow.\n",
    "- Desarrollo y entrenamiento de redes neuronales.\n",
    "- Experimentación con TPU.\n",
    "- Diseminación de investigación de IA.\n",
    "- Creación de instructivos.\n",
    "\n",
    "Para ver notebooks de Colab que usan como ejemplo el aprendizaje automático, consulta los <a href=\"#machine-learning-examples\">ejemplos</a> que se incluyen a continuación."
   ]
  },
  {
   "cell_type": "markdown",
   "metadata": {
    "id": "xKmxF_gIrT3I"
   },
   "source": [
    "## Más recursos\n",
    "\n",
    "### Cómo trabajar con notebooks en Colab\n",
    "- [Descripción general de Colaboratory](/notebooks/basic_features_overview.ipynb)\n",
    "- [Guía para usar Markdown](/notebooks/markdown_guide.ipynb)\n",
    "- [Cómo importar bibliotecas y luego instalar dependencias](/notebooks/snippets/importing_libraries.ipynb)\n",
    "- [Cómo guardar y cargar notebooks en GitHub](https://colab.research.google.com/github/googlecolab/colabtools/blob/master/notebooks/colab-github-demo.ipynb)\n",
    "- [Formularios interactivos](/notebooks/forms.ipynb)\n",
    "- [Widgets interactivos](/notebooks/widgets.ipynb)\n",
    "- <img src=\"/img/new.png\" height=\"20px\" align=\"left\" hspace=\"4px\" alt=\"New\"></img>\n",
    " [TensorFlow 2 en Colab](/notebooks/tensorflow_version.ipynb)\n",
    "\n",
    "<a name=\"working-with-data\"></a>\n",
    "### Cómo trabajar con datos\n",
    "- [Cómo cargar datos: Drive, Hojas de cálculo y Google Cloud Storage](/notebooks/io.ipynb)\n",
    "- [Gráficos: visualización de datos](/notebooks/charts.ipynb)\n",
    "- [Cómo comenzar a usar BigQuery](/notebooks/bigquery.ipynb)\n",
    "\n",
    "### Curso intensivo de aprendizaje automático\n",
    "Estos son algunos de los notebooks del curso de aprendizaje automático en línea de Google. Para obtener más información, consulta el <a href=\"https://developers.google.com/machine-learning/crash-course/\">sitio web del curso completo</a>.\n",
    "- [Introducción a Pandas](/notebooks/mlcc/intro_to_pandas.ipynb)\n",
    "- [Conceptos de TensorFlow](/notebooks/mlcc/tensorflow_programming_concepts.ipynb)\n",
    "- [Primeros pasos con TensorFlow](/notebooks/mlcc/first_steps_with_tensor_flow.ipynb)\n",
    "- [Introducción a las redes neuronales](/notebooks/mlcc/intro_to_neural_nets.ipynb)\n",
    "- [Introducción a los datos dispersos y las incorporaciones](/notebooks/mlcc/intro_to_sparse_data_and_embeddings.ipynb)\n",
    "\n",
    "<a name=\"using-accelerated-hardware\"></a>\n",
    "### Uso de aceleración de hardware\n",
    "- [TensorFlow con GPU](/notebooks/gpu.ipynb)\n",
    "- [TensorFlow con TPU](/notebooks/tpu.ipynb)"
   ]
  },
  {
   "cell_type": "markdown",
   "metadata": {
    "id": "kvmO8yjGrXOt"
   },
   "source": [
    "<a name=\"machine-learning-examples\"></a>\n",
    "\n",
    "## Ejemplos de aprendizaje automático\n",
    "\n",
    "Para ver ejemplos de extremo a extremo de los análisis de aprendizaje automático interactivo que Colaboratory permite realizar, consulta estos instructivos con modelos de <a href=\"https://tfhub.dev\">TensorFlow Hub</a>.\n",
    "\n",
    "Algunos ejemplos destacados son los siguientes:\n",
    "\n",
    "- <a href=\"https://tensorflow.org/hub/tutorials/tf2_image_retraining\">Reentrenamiento de un clasificador de imágenes</a>: compila un modelo de Keras sobre un clasificador de imágenes previamente entrenado para distinguir flores.\n",
    "- <a href=\"https://tensorflow.org/hub/tutorials/tf2_text_classification\">Clasificación de texto</a>: clasifica opiniones sobre películas de IMDB como <em>positivas</em> o <em>negativas</em>.\n",
    "- <a href=\"https://tensorflow.org/hub/tutorials/tf2_arbitrary_image_stylization\">Transferencia de estilos</a>: usa el aprendizaje profundo para transferir el estilo de una imagen a otra.\n",
    "- <a href=\"https://tensorflow.org/hub/tutorials/retrieval_with_tf_hub_universal_encoder_qa\">Codificador universal de oraciones en varios idiomas para preguntas y respuestas</a>: usa un modelo de aprendizaje automático para responder preguntas del conjunto de datos SQuAD.\n",
    "- <a href=\"https://tensorflow.org/hub/tutorials/tweening_conv3d\">Interpolación de videos</a>: predice lo que sucedió en un video entre el primer y el último fotograma.\n",
    "\n",
    "Tomado de [Gooble Colab Bienvenida](https://colab.research.google.com/notebooks/intro.ipynb)\n"
   ]
  },
  {
   "cell_type": "markdown",
   "metadata": {
    "id": "RniT4egCqBP8"
   },
   "source": [
    "<p><a name=\"s2\"></a></p>\n",
    "\n",
    "# **2. Lenguaje de programación Python**\n",
    "\n",
    "[[Contenidos]](#contents)"
   ]
  },
  {
   "cell_type": "markdown",
   "metadata": {
    "id": "Ox7uxWQUp2MP"
   },
   "source": [
    "## <strong>Introducción</strong>\n",
    "\n",
    "El documento que estás leyendo no es una página web estática, sino un entorno interactivo denominado <strong>notebook de Colab</strong>, que permite escribir y ejecutar código.\n",
    "\n",
    "Por ejemplo, a continuación vemos una <strong>celda de código</strong> con una secuencia de comandos de Python corta que calcula un valor, lo almacena en una variable y devuelve el resultado:"
   ]
  },
  {
   "cell_type": "code",
   "execution_count": 7,
   "metadata": {
    "colab": {
     "base_uri": "https://localhost:8080/"
    },
    "executionInfo": {
     "elapsed": 266,
     "status": "ok",
     "timestamp": 1694468179050,
     "user": {
      "displayName": "JUAN CAMILO HENAO CARO",
      "userId": "11825490046934558373"
     },
     "user_tz": 300
    },
    "id": "6hB5cS-Qr03z",
    "outputId": "10ed40af-7bfc-4677-e798-4a019beff01b"
   },
   "outputs": [
    {
     "name": "stdout",
     "output_type": "stream",
     "text": [
      "22 + 11 El resultado es: 33\n"
     ]
    }
   ],
   "source": [
    "# Clic en el botón (►) play para ejecutar\n",
    "a=22\n",
    "b=11\n",
    "c=a+b\n",
    "print(a, \"+\", b,\"El resultado es:\",c)"
   ]
  },
  {
   "cell_type": "markdown",
   "metadata": {
    "id": "VO6T8ZY5nEcG"
   },
   "source": [
    "<p>Python es un lenguaje de programación interpretado cuya filosofía hace hincapié en la legibilidad de su código.​ Se trata de un lenguaje de programación multiparadigma, ya que soporta orientación a objetos, programación imperativa y, en menor medida, programación funcional. Es un lenguaje interpretado, dinámico y multiplataforma.\n",
    "Es administrado por Python Software Foundation. Posee una licencia de código abierto, denominada Python Software Foundation License.</p>\n",
    "<div align=\"center\">\n",
    "<img alt=\"PythonLogo\" height=\"200px\" src=\"https://upload.wikimedia.org/wikipedia/commons/c/c3/Python-logo-notext.svg\" align=\"center\" hspace=\"0px\" vspace=\"0px\">\n",
    "</div>​\n",
    "<p>Python fue creado a finales de los ochenta​ por Guido van Rossum en el Centro para las Matemáticas y la Informática (CWI, Centrum Wiskunde & Informatica), en los Países Bajos, como un sucesor del lenguaje de programación ABC, capaz de manejar excepciones e interactuar con el sistema operativo Amoeba.\n",
    "El nombre del lenguaje proviene de la afición de su creador por los humoristas británicos Monty Python.\n",
    "Van Rossum es el principal autor de Python, y su continuo rol central en decidir la dirección de Python es reconocido, refiriéndose a él como Benevolente Dictador Vitalicio (en inglés: Benevolent Dictator for Life, BDFL); sin embargo el 12 de julio de 2018 declinó de dicha situación de honor sin dejar un sucesor o sucesora y con una declaración altisonante: Entonces, ¿qué van a hacer todos ustedes? ¿Crear una democracia? ¿Anarquía? ¿Una dictadura? ¿Una federación? Guido van Rossum. </p>\n",
    "\n",
    "Tomado de [Wikipedia](https://es.wikipedia.org/wiki/Python)"
   ]
  },
  {
   "cell_type": "markdown",
   "metadata": {
    "id": "JJmU99a0chgr"
   },
   "source": [
    "<p><a name=\"s3\"></a></p>\n",
    "\n",
    "# **3. Qué es Python**\n",
    "\n",
    "[[Contenidos]](#contents)"
   ]
  },
  {
   "cell_type": "markdown",
   "metadata": {
    "id": "paCMvqLQPgJc"
   },
   "source": [
    "\n",
    "## <strong>Python es:</strong>\n",
    "\n",
    "* Lenguaje de Alto nivel.\n",
    "* Lenguaje interpretado (scripts).\n",
    "* Software Libre (GPL).\n",
    "* Multiplataforma (Sistema Operativo y Online).\n",
    "* Programación orientada a objetos.\n",
    "\n",
    "**Puntos fuertes**\n",
    "\n",
    "Analítica, Ciencia de Datos, Gráficas, Machine learning, Instrumental, Software cientifico, Comunidad.\n",
    "\n",
    "**Puntos débiles**\n",
    "\n",
    "Programación del alto performance (que se puede solventar con el uso de Wrappers o funciones vectorizadas).\n"
   ]
  },
  {
   "cell_type": "markdown",
   "metadata": {
    "id": "cJ6edMRLkVq7"
   },
   "source": [
    "## <strong>De donde descargo Python</strong>\n",
    "\n",
    "La instalación de Python generalmente es sencilla y, en la actualidad, muchas distribuciones de Linux y UNIX incluyen una versión reciente de Python. Incluso algunos ordenadores con Windows (especialmente los de HP) vienen con Python ya instalado. Si necesitas instalar Python y no estás seguro acerca de cómo hacerlo, puedes encontrar algunas notas en la página wiki \"BeginnersGuide/Download\", pero la instalación es bastante común en la mayoría de las plataformas.\n",
    "La descarga y guía de instalación la puedes encontrar en la plataforma de Python accediendo al siguiente link. [Beginners Guide](https://wiki.python.org/moin/BeginnersGuide/Download)\n",
    "\n",
    "\n",
    "\n",
    "Reducidamente los pasos son, instalar Python en nuestro computador (Windows, Mac, Linux u otro) [Python](www.python.org), luego instalar un entorno de desarrollo integrado o entorno de desarrollo interactivo, en inglés Integrated Development Environment (IDE), que permita desarrollo con el lenguaje de programación Python, tales como (solo se muestran opciones gratuitas e IDE, no se muestran editores de texto):\n",
    "\n",
    "<strong>Pydev</strong>: es un complemento de terceros para Eclipse. Es un entorno de desarrollo integrado (IDE), utilizado para la programación en Python que admite la refactorización de código, la depuración gráfica, el análisis de código, entre otras características.<br>\n",
    "Página Web [PyDev](http://pydev.org/)<br>\n",
    "<div align=\"center\">\n",
    "<img alt=\"PyDev\" height=\"100px\" src=\"https://upload.wikimedia.org/wikipedia/en/c/c7/Pydev_logo.png\" align=\"center\" hspace=\"0px\" vspace=\"0px\">\n",
    "</div><br>\n",
    "\n",
    "<strong>Vistual Studio Code</strong>: es un editor de código fuente, desarrollado por Microsoft para Windows, Linux y macOS. Incluye soporte para la depuración, control integrado de Git, resaltado de sintaxis, finalización inteligente de código, fragmentos y refactorización de código. También es personalizable, por lo que los usuarios pueden cambiar el tema del editor, los atajos de teclado y las preferencias. Es gratuito y de código abierto,  aunque la descarga oficial está bajo software privativo e incluye características personalizadas por Microsoft.<br>\n",
    "Página Web [VS Code](ttps://code.visualstudio.com/)<br>\n",
    "<div align=\"center\">\n",
    "<img alt=\"VS Code\" height=\"100px\" src=\"https://code.visualstudio.com/assets/favicon.ico\" align=\"center\" hspace=\"0px\" vspace=\"0px\">\n",
    "</div><br>\n",
    "<strong>Atom/Atom-IDE</strong>: es un editor de código fuente, de código abierto para macOS, Linux, y Windows, con soporte para múltiples plug-in escritos en Node.js y control de versiones Git integrado, desarrollado por GitHub. Atom es una aplicación de escritorio construida utilizando tecnologías web.\n",
    "\n",
    "Página Web [Atom](https://atom.io/)<br>\n",
    "\n",
    "<br>\n",
    "<div align=\"center\">\n",
    "<img alt=\"Atom\" height=\"100px\" src=\"https://upload.wikimedia.org/wikipedia/commons/e/eb/Atom_icon.svg\" align=\"center\" hspace=\"0px\" vspace=\"0px\">\n",
    "</div><br>\n",
    "<strong>IDLE</strong>: (abreviatura de Integrated Development and Learning Environment, en español: «Entorno integrado de desarrollo y aprendizaje») es un entorno de desarrollo integrado para Python, que se incluye con la implementación predeterminada del lenguaje desde la versión 1.5.2. está empaquetado como una parte opcional del paquete de Python con muchas distribuciones de Linux. IDLE está destinado a ser un entorno de desarrollo integrado simple y enfocado para su uso por parte de usuarios principiantes, especialmente en un entorno educativo. Con ese fin, es multiplataforma y evita la sobrecarga de funcionalidades.<br>\n",
    "Página Web [IDLE](https://docs.python.org/3/library/idle.html)<br>\n",
    "\n",
    "Página Web [IDLE Python](https://docs.python.org/3/library/idle.html)<br>\n",
    "<div align=\"center\">\n",
    "<img alt=\"VS Code\" height=\"100px\" src=\"https://www.python.org/static/img/python-logo.png\" align=\"center\" hspace=\"0px\" vspace=\"0px\">\n",
    "</div><br>\n",
    "<strong>Spyder</strong>: es un entorno de desarrollo integrado (IDE) multiplataforma de código abierto para programación científica en el lenguaje Python. Spyder se integra con varios paquetes destacados en la pila científica de Python, incluidos NumPy, SciPy, Matplotlib, pandas, IPython, SymPy y Cython, así como otro software de código abierto. Se publica bajo la licencia MIT.<br>\n",
    "\n",
    "\n",
    "Página Web [Spyder](https://www.spyder-ide.org/)<br>\n",
    "<div align=\"center\">\n",
    "<img alt=\"Spyder\" height=\"100px\" src=\"https://upload.wikimedia.org/wikipedia/commons/7/7e/Spyder_logo.svg\" align=\"center\" hspace=\"0px\" vspace=\"0px\">\n",
    "</div><br>\n",
    "<strong>Thonny</strong>: es un entorno de desarrollo integrado para Python que está diseñado para principiantes. Admite diferentes formas de recorrer el código, evaluación de expresiones paso a paso, visualización detallada de la lista de llamadas y un modo para explicar los conceptos de referencias y pilas.<br>\n",
    "\n",
    "Página Web [Thonny](https://thonny.org)<br>\n",
    "<div align=\"center\">\n",
    "<img alt=\"Thonny\" height=\"100px\" src=\"https://upload.wikimedia.org/wikipedia/commons/e/e2/Thonny_logo.png\" align=\"center\" hspace=\"0px\" vspace=\"0px\">\n",
    "</div><br>\n",
    "\n",
    "## <strong>Gestor de paquetes</strong>\n",
    "\n",
    "Instalar un gestor de paquetes, el gestor más común y utilizado en el entorno de desarrollo de Python es Anaconda.\n",
    "\n",
    "<strong>Anaconda</strong>: es una distribución libre y abierta de los lenguajes Python y R, utilizada en ciencia de datos, y aprendizaje automático (machine learning). Esto incluye procesamiento de grandes volúmenes de información, análisis predictivo y cómputos científicos. Está orientado a simplificar el despliegue y administración de los paquetes de software. Las diferentes versiones de los paquetes se administran mediante el sistema de gestión de paquetes conda, el cual lo hace bastante sencillo de instalar, correr, y actualizar software de ciencia de datos y aprendizaje automático como Scikit-team, TensorFlow y SciPy. La distribución Anaconda es utilizada por 6 millones de usuarios e incluye más de 250 paquetes de ciencia de datos válidos para Windows, Linux y macOS.<br>\n",
    "Pagina Web [Anaconda](https://www.anaconda.com/)<br>\n",
    "![Anaconda Logo](https://upload.wikimedia.org/wikipedia/en/c/cd/Anaconda_Logo.png)\n",
    "<br>\n",
    "<br>\n",
    "<strong>Resumen en Markdown (*De Pago)</strong>\n",
    "\n",
    "Python IDE Gratis | Python IDE Para Mac | Python IDE Para Windows\n",
    "--- | --- | ---\n",
    "PyDev | Pydev | PyDev\n",
    "Visual Studio Code | Visual Studio Code | PyDev\n",
    "Spyder | Spyder | Spyder\n",
    "Thonny | Thonny | Thonny\n",
    "Anaconda | Anaconda | Anaconda\n",
    " | Pycharm* | Pycharm*"
   ]
  },
  {
   "cell_type": "markdown",
   "metadata": {
    "id": "lK5GGBwG9Z4d"
   },
   "source": [
    "## <strong>Python en la Web</strong>\n"
   ]
  },
  {
   "cell_type": "markdown",
   "metadata": {
    "id": "HcI0Ex_y9vJv"
   },
   "source": [
    "Usar Python en la web, para este caso podemos usar un entorno colaborativo o un intérprete web, si se desea utilizar un intérprete web, la mejor opción es Repl.it y si por el contrario se prefiere un entorno colaborativo y dinámico, la mejor opción es Google Colab. A continuación, se describen ambos.\n",
    "\n",
    "<strong>Repl.it</strong>: un IDE en línea (entorno de desarrollo integrado). Su nombre proviene del acrónimo REPL, que significa \"read–evaluate–print loop\" (\"bucle de lectura-evaluación-impresión\"). El servicio fue creado por el programador Jordano Amjad Masad y la diseñadora jordana Haya Odeh en 2016. Repl.it permite a los usuarios escribir código y crear aplicaciones y sitios web utilizando un navegador. Además, Repl.it permite a los usuarios compartir proyectos de varias formas. También organizan \"jams\", concursos de codificación basados en un tema determinado. Los premios del concurso a menudo varían desde una actualización temporal de la cuenta, dinero, criptomonedas o una tarjeta de regalo. Los \"jams\" hechos por la comunidad también se alojan a veces en repl talk, con el mismo propósito. Un \"Repl\" en Repl.it es un entorno de programación interactivo. Puede crear un espacio de trabajo en los lenguajes de programación más populares, donde se le proporciona un contenedor en una máquina virtual donde se puede ejecutar su código. En cualquier Repl, hay dos partes principales: el editor y la consola.<br>\n",
    "\n",
    "[Replit.com Logo](https://upload.wikimedia.org/wikipedia/commons/b/b2/Repl.it_logo.svg)\n",
    "\n",
    "Página Web [Replit.com](https://replit.com/)<br>\n",
    "<div align=\"center\">\n",
    "<img alt=\"Thonny\" height=\"100px\" src=\"https://upload.wikimedia.org/wikipedia/commons/b/b2/Repl.it_logo.svg\" align=\"center\" hspace=\"0px\" vspace=\"0px\">\n",
    "</div><br>\n",
    "\n",
    "<strong>IPython IP[y]:</strong> IPython es un shell interactivo que añade funcionalidades extra al modo interactivo incluido con Python, como resaltado de líneas y errores mediante colores, una sintaxis adicional para el shell, autocompletado mediante tabulador de variables, módulos y atributos; entre otras funcionalidades. Es un componente del paquete SciPy.<br>\n",
    "El Proyecto Jupyter es una organización sin ánimo de lucro creada para \"desarrollar software de código abierto, estándares abiertos y servicios para computación interactiva en docenas de lenguajes de programación\". Según el sitio web del Proyecto Jupyter, \"Jupyter siempre será un software 100% de código abierto, de uso gratuito para todos y lanzado bajo los términos liberales de la licencia BSD modificada\".\n",
    "Fernando Pérez es un físico, desarrollador de software y promotor del software libre y creador de IPython. [**Fernando Pérez**](https://es.wikipedia.org/wiki/Fernando_P%C3%A9rez_(programador)) nació en Medellín, Colombia y realizó su pregrado en Física en la Universidad de Antioquia (1994) y su maestría en Física en la misma universidad Colombiana (1996). Posteriormente, obtuvo el título de doctorado en física de partículas de la Universidad de Colorado en Boulder (2002).<br>\n",
    "\n",
    "Página Web [IP[y]:](https://ipython.org/)<br>\n",
    "<div align=\"center\">\n",
    "<img alt=\"ipython\" height=\"100px\" src=\"https://ipython.org/_static/IPy_header.png\" align=\"center\" hspace=\"0px\" vspace=\"0px\">\n",
    "</div><br>\n",
    "\n",
    "<strong>Google Colaboratory (Google Colab)</strong>: Colaboratory (también conocido como Colab) es un entorno de notebook Jupyter gratuito que se ejecuta en la nube y almacena sus notebooks en Google Drive. Colab fue originalmente un proyecto interno de Google. Se intentó abrir todo el código como fuente abierta y trabajar más directamente en sentido ascendente, lo que llevó al desarrollo de la extensión de Google Chrome \"Open in Colab\", pero esto finalmente terminó y el desarrollo de Colab continuó internamente. A partir de octubre de 2019, la UI (User interface, interfaz de usuario) de Colaboratory solo le permite crear cuadernos con kernels de Python 2 y Python 3; sin embargo, si tiene un portátil cuya especificación de kernel sea IR o Swift, funcionará, ya que tanto R como Swift están instalados en el contenedor. El lenguaje Julia también puede funcionar en Colab (por ejemplo, con Python y GPU; las unidades de procesamiento de tensor de Google también funcionan con Julia en Colab).<br>\n",
    "\n",
    "Página Web [Google Colab](https://colab.research.google.com/)<br>\n",
    "<div align=\"center\">\n",
    "<img alt=\"Colab\" height=\"200px\" src=\"https://colab.research.google.com/img/colab_favicon_256px.png\" align=\"center\" hspace=\"0px\" vspace=\"0px\">\n",
    "</div><br>\n"
   ]
  },
  {
   "cell_type": "markdown",
   "metadata": {
    "id": "11c4fObcpJog"
   },
   "source": [
    "<p><a name=\"s4\"></a></p>\n",
    "\n",
    "# **4. Google Colab con Python**\n",
    "\n",
    "## **Un entorno relacionado de Ipython y Jupyter Notebooks**\n",
    "Una interfaz notebook (también llamada 'cuaderno computacional' ) es un entorno virtual de cuaderno utilizado para la programación literaria.​ Combina la funcionalidad del software procesamiento de textos con ambos shell y kernel del lenguaje de programación de esa computadora portátil. Millones de personas usan interfaces de notebooks​ para analizar datos de ciencia, periodismo y educación. [Wikipedia]<br>\n",
    "[[Contenidos]](#contents)"
   ]
  },
  {
   "cell_type": "markdown",
   "metadata": {
    "id": "GZC3xjCxqI03"
   },
   "source": [
    "## <strong>Atajos para Google Colab:</strong>\n",
    "\n",
    "* Paleta de comandos: \"Ctrl+m+h\"\n",
    "* Celda de código abajo \"Ctrl+m+a\"\n",
    "* Celda de código arriba: \"Ctrl+m+b\"\n",
    "* Borrar celdas: \"Ctrl+m+d\"\n",
    "* Comentar: \"Crtl+/\"\n",
    "\n",
    "El símbolo **#** antes de una línea en las celdas de comandos indica que esa línea es un comentario y no debe interpretarse ni ejecutarse."
   ]
  },
  {
   "cell_type": "markdown",
   "metadata": {
    "id": "RWbLkLAS0lRn"
   },
   "source": [
    "\n",
    "## <strong>Texto Enriquecido</strong>\n",
    "\n",
    "1. Los títulos se establecen con el símbolo `#`.\n",
    "2. Título de primer orden `#`, título de segundo orden `##`, título de tercer orden `###`.\n",
    "3. Las viñetas se establecen con el símbolo `*`.\n",
    "4. Las listas se establecen con números `1.`\n",
    "5. Para un formato código se usa la tilde grave `funcion()` (`)\n",
    "6. Si quiero escribir un texto en negrilla, debo encerrar dicho texto entre doble asteriscos (**Negrita**)\n",
    "7. Si quiero escribir un texto en cursiva, debo encerrar dicho texto ente arteriscos (*Cursiva*)\n",
    "8. La tripleta de tildes graves encierran códigos. Si se coloca el nombre en minúsculas del lenguaje se colorea.\n",
    ">```\n",
    "a = int()\n",
    "```\n",
    ">```python\n",
    "a = int()\n",
    "```\n",
    ">```r\n",
    "a <- function(x){\n",
    "  return(x)\n",
    "}\n",
    "```\n",
    "9. Los vínculos se relacionan con corchetes para el texto y entre paréntesis el vínculo relacionado `[texto del vínculo](https://)`\n",
    "10. Las imagénes son similares a los vínculos, se debe agregar un signo de admiracion `!` previo a los corchetes `![Imagen Texto](https://)`\n",
    "11. Las sangrías se relacionan con con el tag `>`\n",
    "12. Agregar una regla horizontal se realiza con triple guión `---`"
   ]
  },
  {
   "cell_type": "markdown",
   "metadata": {
    "id": "79bGhZOuysFE"
   },
   "source": [
    "## <strong>Ayudas</strong>\n",
    "\n",
    "El símbolo **?** antepuesto a un comando muestra en una ventana lateral el contexto de ayuda de dicho comando."
   ]
  },
  {
   "cell_type": "code",
   "execution_count": null,
   "metadata": {
    "id": "IIkS5W5Qy4lP"
   },
   "outputs": [],
   "source": [
    "? print"
   ]
  },
  {
   "cell_type": "markdown",
   "metadata": {
    "id": "n7BUEP1U4Qdb"
   },
   "source": [
    "## <strong>Antes de comenzar a programar</strong>\n",
    "\n",
    "<strong>Convención de nombres en programación</strong>\n",
    "<p>\n",
    "Es un conjunto de reglas para la elección de la secuencia de caracteres que se utiliza para identificadores que denoten variables, tipos, funciones y otras entidades en el código fuente y la documentación.\n",
    "\n",
    "Algunas de las razones para utilizar una convención de nombres (en lugar de permitir a los programadores elegir cualquier secuencia de caracteres) son:\n",
    "* Reducir el esfuerzo necesario para leer y entender el código fuente.\n",
    "* Mejorar la apariencia del código fuente (por ejemplo, al no permitir nombres excesivamente largos o abreviaturas poco claros).\n",
    "\n",
    "La elección de las convenciones de nombres puede ser un problema de enorme polémica, donde los partidarios de cada convención consideran la suya como la mejor y las demás inferiores. Coloquialmente, se dice que es una cuestión de dogma.​ Muchas empresas también han establecido su propio conjunto de convenciones para satisfacer mejor sus intereses.\n",
    "\n",
    "## <strong>En Python</strong>\n",
    "Para Python recomiendan [UpperCamelCase](https://es.wikipedia.org/wiki/Camel_case) para nombres de clases, CAPITALIZED_WITH_UNDERSCORES para las constantes y lowercase_separated_by_underscores para otros nombres. En Python, si un nombre está destinado a ser \"privado\", que está precedido de un guión bajo.\n",
    "\n",
    "[Wikipedia](https://es.wikipedia.org/wiki/Convenci%C3%B3n_de_nombres_(programaci%C3%B3n))\n",
    "\n",
    "## <strong>Notacion Húngara</strong>\n",
    "En programación informática, la notación húngara es un sistema usado normalmente para crear los nombres de variables. También se utiliza para nombrar las instancias de objetos en lenguajes de programación visuales, como por ejemplo Delphi. El nombre de la notación proviene del hecho de que su inventor, Charles Simonyi, nació en Hungría.\n",
    "Esta convención es muy poco utilizada en las viejas versiones de Delphi pero es muy utilizada por los programadores de Microsoft y, en particular, en la programación del sistema operativo Windows.\n",
    "Consiste en prefijos en minúsculas que se añaden a los nombres de las variables y que indican su tipo. El resto del nombre indica, lo más claramente posible, la función que realiza la variable.\n",
    "\n",
    "[Wikipedia](https://es.wikipedia.org/wiki/Notaci%C3%B3n_h%C3%BAngara)\n",
    "</p>"
   ]
  },
  {
   "cell_type": "code",
   "execution_count": null,
   "metadata": {
    "id": "lUXnWLgXNzs_"
   },
   "outputs": [],
   "source": [
    "strNombreVariable = \"Hola Como estas?\"\n",
    "intNumeroDato = 5\n",
    "dblNumeroDoble = 5.5 #Float se conoce en lo interpretes para los lenguajes heredados de C, se utiliza double (java)\n",
    "blnAceptar = True"
   ]
  },
  {
   "cell_type": "markdown",
   "metadata": {
    "id": "Kluufz-4D5JG"
   },
   "source": [
    "### <strong>Ejemplos de Notación Húngara</strong>\n",
    "\n",
    "Crear variables usando notación Húngara\n",
    "```python\n",
    "# Variables tipo texto\n",
    "strCiudad = \"Medellín\"\n",
    "#Variables tipo entero\n",
    "intEdad = 20\n",
    "#Variables tipo flotante\n",
    "fltCoeficiente = 0.25\n",
    "#Variables Booleanas\n",
    "blnPagoSalud = True\n",
    "```"
   ]
  },
  {
   "cell_type": "markdown",
   "metadata": {
    "id": "4Fea1bpp506g"
   },
   "source": [
    "<p>\n",
    "\n",
    "## **Nombres de variables de palabras múltiples**\n",
    "\n",
    "Los nombres de variables con más de una palabra pueden resultar difíciles de leer. Hay varias técnicas que puede utilizar para hacerlos más legibles:\n",
    "\n",
    "*   *Camel Case*\n",
    ">*   Cada palabra a exepción de la primera comienza con mayúscula\n",
    ">>```python\n",
    "myVariableName = \"John\"\n",
    "```\n",
    "\n",
    "*   *Pascal Case*\n",
    ">*   Cada palabra comienza con mayúcula\n",
    ">>```python\n",
    "MyVariableName = \"John\"\n",
    "```\n",
    "\n",
    "*   *Snake Case*\n",
    ">*   Cada palabra es separada con guion bajo\n",
    ">>```python\n",
    "my_variable_name = \"John\"\n",
    "```\n",
    "</p>"
   ]
  },
  {
   "cell_type": "markdown",
   "metadata": {
    "id": "Tu2oPyvFvCyw"
   },
   "source": [
    "## <strong>Magics</strong>\n",
    "<p>\n",
    "Para los usuarios de Jupyter: Los Magics son mejoras específicas y proporcionadas por el Kernel* de IPython. Si Magics está disponible en un Kernel es una decisión que toma el desarrollador del Kernel en función del Kernel. Para funcionar correctamente, Magics debe utilizar un elemento de sintaxis que no sea válido en el idioma subyacente. Por ejemplo, el Kernel de IPython usa el elemento de sintaxis (caracter porcentaje) % para Magics, ya que el símbolo no es un operador unario válido en Python. Sin embargo % podría tener significado en otros idiomas.</p>\n",
    "\n",
    "[Accede a la página web de IPython para validar los Magics](https://ipython.readthedocs.io/en/stable/interactive/magics.html) | [Kernel*](https://es.wikipedia.org/wiki/N%C3%BAcleo_(inform%C3%A1tica))\n",
    "\n",
    "<br>\n",
    "Algunos ejemplos\n"
   ]
  },
  {
   "cell_type": "code",
   "execution_count": null,
   "metadata": {
    "id": "Vmw1hNhWwrc0"
   },
   "outputs": [],
   "source": [
    "from IPython.display import YouTubeVideo\n",
    "# importamos la libreria de YouTube para mostrar un video embedido en la ventana.\n",
    "YouTubeVideo('jej8qlzlAGw')\n",
    "#Notesé que solo se debe registrar el codigo del video, no la url completa."
   ]
  },
  {
   "cell_type": "code",
   "execution_count": null,
   "metadata": {
    "id": "HWjAdcNY1vro"
   },
   "outputs": [],
   "source": [
    "YouTubeVideo('jej8qlzlAGw',width=800,height=400)\n",
    "#Podemos especificar el tamaño del video siempre y cuando comprenda la relación aspecto."
   ]
  },
  {
   "cell_type": "code",
   "execution_count": null,
   "metadata": {
    "id": "uBNhvRQ9EqGP"
   },
   "outputs": [],
   "source": [
    "#Contabilizar el tiempo de ejecución de un código + Mas de consola\n",
    "%%time\n",
    "#Nos anticiparemos a algo de código en Python realizando un ciclo para verificar el tiempo de ejecución.\n",
    "batman = 0.0\n",
    "for i in range(10000):\n",
    "  batman = batman * i"
   ]
  },
  {
   "cell_type": "code",
   "execution_count": null,
   "metadata": {
    "id": "OEf2o4JOFhJv"
   },
   "outputs": [],
   "source": [
    "#Contabilizar el tiempo de ejecución de un código\n",
    "%%time\n",
    "#Nos anticiparemos a algo de código en Python realizando un ciclo para verificar el tiempo de ejecución.\n",
    "batman = 1.0\n",
    "for i in range(100000):\n",
    "  batman = batman * i"
   ]
  },
  {
   "cell_type": "code",
   "execution_count": null,
   "metadata": {
    "id": "G8AVK8c_FjoW"
   },
   "outputs": [],
   "source": [
    "#Contabilizar el tiempo de ejecución de un código\n",
    "\n",
    "%%time\n",
    "#Nos anticiparemos a algo de código en Python realizando un ciclo para verificar el tiempo de ejecución.\n",
    "batman = 0.0\n",
    "for i in range(1000000):\n",
    "  batman = batman * i"
   ]
  },
  {
   "cell_type": "code",
   "execution_count": null,
   "metadata": {
    "id": "WQvet-g-FqIG"
   },
   "outputs": [],
   "source": [
    "#Contabilizar el tiempo de ejecución de un código\n",
    "%%time\n",
    "#Nos anticiparemos a algo de código en Python realizando un ciclo para verificar el tiempo de ejecución.\n",
    "batman = 0.0\n",
    "for i in range(100000000):\n",
    "  batman = batman * i"
   ]
  },
  {
   "cell_type": "code",
   "execution_count": null,
   "metadata": {
    "id": "UBmg-CQvGqL5"
   },
   "outputs": [],
   "source": [
    "%who\n",
    "# Con Who detallamos todas las variables disponibles actualmente"
   ]
  },
  {
   "cell_type": "code",
   "execution_count": null,
   "metadata": {
    "id": "aRVVMnOtImmZ"
   },
   "outputs": [],
   "source": [
    "a = \"The Legend Of Zelda Breath of the Wild es el mejor juego de todos\"\n",
    "%pinfo a"
   ]
  },
  {
   "cell_type": "code",
   "execution_count": null,
   "metadata": {
    "id": "LQA1J0XJI591"
   },
   "outputs": [],
   "source": [
    "%lsmagic #Listar todos los comandos Magic"
   ]
  },
  {
   "cell_type": "code",
   "execution_count": null,
   "metadata": {
    "id": "-wYeALSESl-8"
   },
   "outputs": [],
   "source": []
  },
  {
   "cell_type": "markdown",
   "metadata": {
    "id": "2ZFYf7gqBAqu"
   },
   "source": [
    "<p><a name=\"s5\"></a></p>\n",
    "\n",
    "# **5. Introducción al lenguaje de programación Python**\n",
    "\n",
    "Una interfaz notebook (también llamada 'cuaderno computacional' ) es un entorno virtual de cuaderno utilizado para la programación literaria.​ Combina la funcionalidad del software procesamiento de textos con ambos shell y kernel del lenguaje de programación de esa computadora portátil. Millones de personas usan interfaces de notebooks​ para analizar datos de ciencia, periodismo y educación. [Wikipedia]<br>\n",
    "[[Contenidos]](#contents)\n",
    "\n",
    "\n",
    "<p>\n",
    "Python es un lenguaje de programación orientado a objetos claro y poderoso, comparable a Perl, Ruby, Scheme o Java. Fue creado por Guido van Rossum y fue lanzado en 1991, es usado comúnmente para: desarrollo web (del lado del servidor), desarrollo de software, matemáticas, secuencias de comandos del sistema.\n",
    "¿Qué puede hacer Python?, Python se puede utilizar en un servidor para crear aplicaciones web. Python se puede utilizar junto con el software para crear flujos de trabajo. Python puede conectarse a sistemas de bases de datos. También puede leer y modificar archivos. Python se puede utilizar para manejar big data y realizar matemáticas complejas. Python se puede utilizar para la creación rápida de prototipos o para el desarrollo de software listo para producción.\n",
    "\n",
    "Python fue diseñado para facilitar la lectura y tiene algunas similitudes con el idioma inglés con influencia de las matemáticas.\n",
    "Python usa nuevas líneas para completar un comando, a diferencia de otros lenguajes de programación que a menudo usan punto y coma o paréntesis.\n",
    "Python se basa en la sangría, usando espacios en blanco, para definir el alcance; como el alcance de los bucles, funciones y clases. Otros lenguajes de programación suelen utilizar corchetes para este propósito.\n",
    "\n",
    "</p>"
   ]
  },
  {
   "cell_type": "markdown",
   "metadata": {
    "id": "Pi0WY9FRS_zI"
   },
   "source": [
    "## **Python y el sagrando o \"Indentation\" Conocido como la regla del fuera de juego - 1**\n",
    "<p>\n",
    "\n",
    "La sangría se refiere a los espacios al comienzo de una línea de código.\n",
    "Mientras que en otros lenguajes de programación la sangría en el código es solo para legibilidad, la sangría en Python es muy importante.\n",
    "Python usa sangría para indicar un bloque de código.\n",
    "\n",
    "Python te dará un error si omite la sangría.\n",
    "\n",
    "El número de espacios depende de usted como programador, pero debe ser al menos uno.\n",
    "\n",
    "Tienes que usar la misma cantidad de espacios en el mismo bloque de código, de lo contrario Python te dará un error.\n",
    "\n",
    "</p>\n",
    "\n"
   ]
  },
  {
   "cell_type": "markdown",
   "metadata": {
    "id": "A82AJfrs9fKx"
   },
   "source": [
    "## **Python y el sagrando o \"Indentation\" Conocido como la regla del fuera de juego - 2**\n",
    "<p>\n",
    "\n",
    "Mientras que en otros lenguajes de programación la sangría en el código es solo para legibilidad, la sangría en Python es muy importante. Python usa sangría para indicar un bloque de código.\n",
    "\n",
    ">Correcto\n",
    "```python\n",
    "if 10 > 1:\n",
    "  print(\"Diez es mayor que uno\")\n",
    "```\n",
    ">Incorrecto - Python te dará un error si omite la sangría:\n",
    "```python\n",
    "if 10 > 1:\n",
    "print(\"Diez es mayor que uno\")\n",
    "```\n",
    "\n",
    "Ejemplo en Java\n",
    "```java\n",
    "if (10 > 1){println(\"Diez es mayor que uno\")}\n",
    "\n",
    "```\n",
    "\n",
    "</p>\n"
   ]
  },
  {
   "cell_type": "code",
   "execution_count": null,
   "metadata": {
    "id": "ZQsX6D1n-64U"
   },
   "outputs": [],
   "source": [
    "if 10 > 1: #Correcto\n",
    "  print(\"Diez es mayor que uno\")"
   ]
  },
  {
   "cell_type": "code",
   "execution_count": null,
   "metadata": {
    "id": "oy3UiioB--h5"
   },
   "outputs": [],
   "source": [
    "#Eliminar comentario y ejecutar\n",
    "# if 10 > 1: #Incorrecto\n",
    "# print(\"Diez es mayor que uno\")"
   ]
  },
  {
   "cell_type": "markdown",
   "metadata": {
    "id": "4F_N-e5OTEXg"
   },
   "source": [
    "\n",
    "## **Algunas de las características notables de Python:**\n",
    "<p>\n",
    "\n",
    "*   Utiliza una sintaxis elegante, lo que facilita la lectura de los programas que escribe.\n",
    "*   Es un lenguaje fácil de usar que simplifica el funcionamiento de su programa. Esto hace que Python sea ideal para el desarrollo de prototipos y otras tareas de programación ad-hoc, sin comprometer la mantenibilidad.\n",
    "*   Viene con una gran biblioteca estándar que admite muchas tareas de programación comunes, como conectarse a servidores web, buscar texto con expresiones regulares, leer y modificar archivos.\n",
    "El modo interactivo de Python facilita la prueba de pequeños fragmentos de código. También hay un entorno de desarrollo integrado llamado IDLE.\n",
    "*   Se amplía fácilmente añadiendo nuevos módulos implementados en un lenguaje compilado como C o C ++.\n",
    "*   También puede integrarse en una aplicación para proporcionar una interfaz programable.\n",
    "*   Se ejecuta en cualquier lugar, incluidos Mac OS X, Windows, Linux y Unix, con versiones no oficiales también disponibles para Android e iOS.\n",
    "*   Es software libre en dos sentidos. No cuesta nada descargar o usar Python, o incluirlo en su aplicación. Python también se puede modificar y redistribuir libremente porque, si bien el lenguaje tiene derechos de autor, está disponible bajo una licencia de código abierto.\n",
    "</p>\n",
    "\n"
   ]
  },
  {
   "cell_type": "markdown",
   "metadata": {
    "id": "pe7KdRtOTG6I"
   },
   "source": [
    "## **Algunas características del lenguaje de programación de Python son:**\n",
    "<p>\n",
    "\n",
    "*   Hay una variedad de tipos de datos básicos disponibles: números (enteros de punto flotante, complejos y de longitud ilimitada), cadenas (tanto ASCII como Unicode), listas y diccionarios.\n",
    "*   Python admite la programación orientada a objetos con clases y múltiples herencias.\n",
    "*   El código se puede agrupar en módulos y paquetes.\n",
    "*   El lenguaje admite la generación y captura de excepciones, lo que resulta en un manejo de errores más limpio.\n",
    "*   Los tipos de datos se escriben de forma fuerte y dinámica. La combinación de tipos incompatibles (por ejemplo, intentar agregar una cadena y un número) provoca que se genere una excepción, por lo que los errores se detectan antes.\n",
    "*   Python contiene funciones de programación avanzadas como generadores y listas por comprensión.\n",
    "*   La gestión automática de memoria de Python le libera de tener que asignar y liberar memoria manualmente en su código.\n",
    "</p>"
   ]
  },
  {
   "cell_type": "markdown",
   "metadata": {
    "id": "5h6DmOKjTIa_"
   },
   "source": [
    "## **Comentarios**\n",
    "<p>\n",
    "\n",
    "Python tiene la capacidad de comentar a los efectos de la documentación en el código.\n",
    "Los comentarios comienzan con un # y Python representará el resto de la línea como un comentario:\n",
    "\n",
    "\n",
    "```python\n",
    "# Esto tiene formato de comentario\n",
    "```\n",
    "\n",
    "\n"
   ]
  },
  {
   "cell_type": "code",
   "execution_count": null,
   "metadata": {
    "id": "JJyuOrbzRB8K"
   },
   "outputs": [],
   "source": [
    "\"\"\"\n",
    "Preservan el espaciado determinado por el IDE\n",
    "Yo puedo multiples lineas en un comentario\n",
    "\"\"\""
   ]
  },
  {
   "cell_type": "markdown",
   "metadata": {
    "id": "BYhkpyFm-kW_"
   },
   "source": [
    "<p><a name=\"s6\"></a></p>\n",
    "\n",
    "# **6. Módulos, Librerías, ayudas y descripciones**\n",
    "[[Contenidos]](#contents)\n",
    "<p>\n",
    "\n",
    "## **Módulos**\n",
    "\n",
    "Python tiene una forma de poner definiciones en un archivo y usarlas en un script o en una instancia interactiva del intérprete. Dicho archivo se denomina módulo; las definiciones de un módulo se pueden importar a otros módulos o al módulo principal (la colección de variables a las que tiene acceso en un script ejecutado en el nivel superior y en modo calculadora).\n",
    "Es similar al uso de librerías en otros lenguajes de programación, tales como  Java, C# o C++.</p>\n",
    "<p>\n",
    "Un módulo es un archivo que contiene definiciones y declaraciones de Python. El nombre del archivo es el nombre del módulo con el sufijo .py añadido. Dentro de un módulo, el nombre del módulo (como una cadena) está disponible como el valor de la variable global `__name__`.\n",
    "</p>\n",
    "<p>\n",
    "Un módulo puede contener sentencias ejecutables así como definiciones de funciones. Estas declaraciones están destinadas a inicializar el módulo. Se ejecutan solo la primera vez que se encuentra el nombre del módulo en una declaración de importación. (También se ejecutan si el archivo se ejecuta como un script).\n",
    "\n",
    "Cada módulo tiene su propia tabla de símbolos privada, que todas las funciones definidas en el módulo utilizan como tabla de símbolos global. Por lo tanto, el autor de un módulo puede usar variables globales en el módulo sin preocuparse por choques accidentales con las variables globales de un usuario. Por otro lado, si sabe lo que está haciendo, puede tocar las variables globales de un módulo con la misma notación utilizada para referirse a sus funciones, `modname.itemname`.\n",
    "\n",
    "Los módulos pueden importar otros módulos. Es habitual, pero no obligatorio, colocar todas las declaraciones de importación al principio de un módulo (o script, para el caso). Los nombres de los módulos importados se colocan en la tabla de símbolos global del módulo de importación.\n",
    "</p>\n"
   ]
  },
  {
   "cell_type": "markdown",
   "metadata": {
    "id": "6qnAjEnl0gQc"
   },
   "source": [
    "Cómo verificar la versión de Python a utilizar."
   ]
  },
  {
   "cell_type": "code",
   "execution_count": 8,
   "metadata": {
    "colab": {
     "base_uri": "https://localhost:8080/"
    },
    "executionInfo": {
     "elapsed": 354,
     "status": "ok",
     "timestamp": 1694468871276,
     "user": {
      "displayName": "JUAN CAMILO HENAO CARO",
      "userId": "11825490046934558373"
     },
     "user_tz": 300
    },
    "id": "yUQcNsw2jRT-",
    "outputId": "fbd8aa82-749f-4fca-a7dd-dd3966e24af6"
   },
   "outputs": [
    {
     "name": "stdout",
     "output_type": "stream",
     "text": [
      "3.10.12 (main, Jun 11 2023, 05:26:28) [GCC 11.4.0]\n",
      "sys.version_info(major=3, minor=10, micro=12, releaselevel='final', serial=0)\n"
     ]
    }
   ],
   "source": [
    "import sys #La palabra clave *import* llama el modulo o libreria para ser utilizada\n",
    "print(sys.version)\n",
    "print(sys.version_info)"
   ]
  },
  {
   "cell_type": "code",
   "execution_count": 9,
   "metadata": {
    "colab": {
     "base_uri": "https://localhost:8080/"
    },
    "executionInfo": {
     "elapsed": 305,
     "status": "ok",
     "timestamp": 1694468877516,
     "user": {
      "displayName": "JUAN CAMILO HENAO CARO",
      "userId": "11825490046934558373"
     },
     "user_tz": 300
    },
    "id": "POxKW5yN-4Ny",
    "outputId": "4b22639c-7a61-4a1f-dea8-fdf0174592c3"
   },
   "outputs": [
    {
     "name": "stdout",
     "output_type": "stream",
     "text": [
      "posix\n",
      "------------------\n",
      "Linux\n",
      "------------------\n",
      "x86_64\n"
     ]
    }
   ],
   "source": [
    "import platform\n",
    "import os\n",
    "print(os.name)\n",
    "print('------------------')\n",
    "print(platform.system())\n",
    "print('------------------')\n",
    "print(platform.machine())"
   ]
  },
  {
   "cell_type": "markdown",
   "metadata": {
    "id": "eypitHl2_fNN"
   },
   "source": [
    "## **POSIX y Linux**\n",
    "\n",
    "\n",
    "The Portable Operating System Interface (POSIX - en español Interfaz de sistema operativo portátil) es una familia de estándares especificados por IEEE Computer Society para mantener la compatibilidad entre sistemas operativos. POSIX define la interfaz de programación de aplicaciones (API), junto con entornos de línea de comandos e interfaces de utilidades, para la compatibilidad del software con variantes de Unix y otros sistemas operativos"
   ]
  },
  {
   "cell_type": "markdown",
   "metadata": {
    "id": "vwpMbX3-JZTS"
   },
   "source": [
    "## **Alias**\n",
    "\n",
    "En la mayoría de las ocasiones programables actuales, un entorno de programación requiere practicidad a la hora de escribir código, a lo cual se recomienda usar alias sobre los módulos importados, por ejemplo, al importar el módulo random se recomienda usar el alias rnd de la siguiente manera:"
   ]
  },
  {
   "cell_type": "code",
   "execution_count": 10,
   "metadata": {
    "colab": {
     "base_uri": "https://localhost:8080/"
    },
    "executionInfo": {
     "elapsed": 278,
     "status": "ok",
     "timestamp": 1694468885913,
     "user": {
      "displayName": "JUAN CAMILO HENAO CARO",
      "userId": "11825490046934558373"
     },
     "user_tz": 300
    },
    "id": "dE0_GDvKKA_6",
    "outputId": "4427b78c-edbe-48f4-c9c5-ebf7f07608fd"
   },
   "outputs": [
    {
     "data": {
      "text/plain": [
       "['BPF',\n",
       " 'LOG4',\n",
       " 'NV_MAGICCONST',\n",
       " 'RECIP_BPF',\n",
       " 'Random',\n",
       " 'SG_MAGICCONST',\n",
       " 'SystemRandom',\n",
       " 'TWOPI',\n",
       " '_ONE',\n",
       " '_Sequence',\n",
       " '_Set',\n",
       " '__all__',\n",
       " '__builtins__',\n",
       " '__cached__',\n",
       " '__doc__',\n",
       " '__file__',\n",
       " '__loader__',\n",
       " '__name__',\n",
       " '__package__',\n",
       " '__spec__',\n",
       " '_accumulate',\n",
       " '_acos',\n",
       " '_bisect',\n",
       " '_ceil',\n",
       " '_cos',\n",
       " '_e',\n",
       " '_exp',\n",
       " '_floor',\n",
       " '_index',\n",
       " '_inst',\n",
       " '_isfinite',\n",
       " '_log',\n",
       " '_os',\n",
       " '_pi',\n",
       " '_random',\n",
       " '_repeat',\n",
       " '_sha512',\n",
       " '_sin',\n",
       " '_sqrt',\n",
       " '_test',\n",
       " '_test_generator',\n",
       " '_urandom',\n",
       " '_warn',\n",
       " 'betavariate',\n",
       " 'choice',\n",
       " 'choices',\n",
       " 'expovariate',\n",
       " 'gammavariate',\n",
       " 'gauss',\n",
       " 'getrandbits',\n",
       " 'getstate',\n",
       " 'lognormvariate',\n",
       " 'normalvariate',\n",
       " 'paretovariate',\n",
       " 'randbytes',\n",
       " 'randint',\n",
       " 'random',\n",
       " 'randrange',\n",
       " 'sample',\n",
       " 'seed',\n",
       " 'setstate',\n",
       " 'shuffle',\n",
       " 'triangular',\n",
       " 'uniform',\n",
       " 'vonmisesvariate',\n",
       " 'weibullvariate']"
      ]
     },
     "execution_count": 10,
     "metadata": {},
     "output_type": "execute_result"
    }
   ],
   "source": [
    "import random as rnd\n",
    "dir(rnd)"
   ]
  },
  {
   "cell_type": "markdown",
   "metadata": {
    "id": "gDPNCyzKIhyX"
   },
   "source": [
    "La función `dir()` es usada para listar los nombres definidos en un módulo, esta función devuelve texto detallando la información solicitada."
   ]
  },
  {
   "cell_type": "code",
   "execution_count": null,
   "metadata": {
    "id": "ubYAGQ49Grk6"
   },
   "outputs": [],
   "source": [
    "dir(sys)"
   ]
  },
  {
   "cell_type": "markdown",
   "metadata": {
    "id": "1p4lCRE9BgbG"
   },
   "source": [
    "## **Guion bajo o “Underscore” en prefijos de funciones.**\n",
    "\n",
    "Los guiones bajos iniciales en los nombres de las variables de Python (por ejemplo, `_foo` y `__foo`) protegen a los desarrolladores de los conflictos de nombres. Un solo guion bajo delante de un nombre de variable (prefijo) es una pista de que una variable está destinada únicamente para uso interno. Un prefijo de subrayado doble hace que el intérprete de Python reescriba el nombre de la variable para evitar conflictos de nombres en las subclases. Los guiones bajos dobles también se denominan \"dunders\" en Python. El ejemplo a continuación detalla con conceptos avanzados para nuestro conocimiento actual, pero, a modo de ejemplo se puede interpretar el uso de 'underscores'."
   ]
  },
  {
   "cell_type": "code",
   "execution_count": null,
   "metadata": {
    "id": "DiFl0JnDCVYs"
   },
   "outputs": [],
   "source": [
    "class Ejemplo:\n",
    "    def __init__(self): #Solamente estoy creando el constructor y dos objetos iniciales publico, privado y protegido\n",
    "        self.empanada = 1\n",
    "        self._dos = 2\n",
    "        self.__datos = 3\n",
    "ej = Ejemplo()\n",
    "print(ej)\n",
    "print('------------------')\n",
    "dir(ej)\n",
    "#Para evitar el manejo de varios nombres con valores de datos, Python renombra __datos con la clase.\n",
    "# \"'_Ejemplo__datos',\" y al final pone '_dos', 'empanada'"
   ]
  },
  {
   "cell_type": "markdown",
   "metadata": {
    "id": "heWddGgyz6F2"
   },
   "source": [
    "## **Instalar módulos o librerias**\n",
    "\n",
    "Pip es uno de los sistemas de administración de paquetes más famosos y utilizados para instalar y administrar paquetes de software escritos en Python y que se encuentran en Python Package Index [PyPI](https://pypi.org/). Pip es un acrónimo recursivo que puede significar `\"Pip Installs Packages\"` o `\"Pip Installs Python\"`. Alternativamente, pip significa `\"preferred installer program\"` o en español \"programa de instalación preferido\"."
   ]
  },
  {
   "cell_type": "markdown",
   "metadata": {
    "id": "nhche3HkO5p_"
   },
   "source": [
    "## **PyPI**\n",
    "The Python Package Index (PyPI) es un repositorio de software para el lenguaje de programación Python.\n",
    "\n",
    "A continuación una lista de los paquetes disponibles para la versión 3 de Python:\n",
    "[Clic aquí](https://pypi.org/search/?c=Programming+Language+%3A%3A+Python+%3A%3A+3)\n"
   ]
  },
  {
   "cell_type": "code",
   "execution_count": 11,
   "metadata": {
    "colab": {
     "base_uri": "https://localhost:8080/"
    },
    "executionInfo": {
     "elapsed": 1474,
     "status": "ok",
     "timestamp": 1694468917017,
     "user": {
      "displayName": "JUAN CAMILO HENAO CARO",
      "userId": "11825490046934558373"
     },
     "user_tz": 300
    },
    "id": "pTIhmas0zMyw",
    "outputId": "4cfaaf60-0afa-4579-ad85-c2c4b82d77fd"
   },
   "outputs": [
    {
     "name": "stdout",
     "output_type": "stream",
     "text": [
      "Package                          Version\n",
      "-------------------------------- ---------------------\n",
      "absl-py                          1.4.0\n",
      "aiohttp                          3.8.5\n",
      "aiosignal                        1.3.1\n",
      "alabaster                        0.7.13\n",
      "albumentations                   1.3.1\n",
      "altair                           4.2.2\n",
      "anyio                            3.7.1\n",
      "appdirs                          1.4.4\n",
      "argon2-cffi                      23.1.0\n",
      "argon2-cffi-bindings             21.2.0\n",
      "array-record                     0.4.1\n",
      "arviz                            0.15.1\n",
      "astropy                          5.3.3\n",
      "astunparse                       1.6.3\n",
      "async-timeout                    4.0.3\n",
      "attrs                            23.1.0\n",
      "audioread                        3.0.0\n",
      "autograd                         1.6.2\n",
      "Babel                            2.12.1\n",
      "backcall                         0.2.0\n",
      "beautifulsoup4                   4.11.2\n",
      "bleach                           6.0.0\n",
      "blinker                          1.4\n",
      "blis                             0.7.10\n",
      "blosc2                           2.0.0\n",
      "bokeh                            3.2.2\n",
      "bqplot                           0.12.40\n",
      "branca                           0.6.0\n",
      "build                            1.0.3\n",
      "CacheControl                     0.13.1\n",
      "cachetools                       5.3.1\n",
      "catalogue                        2.0.9\n",
      "certifi                          2023.7.22\n",
      "cffi                             1.15.1\n",
      "chardet                          5.2.0\n",
      "charset-normalizer               3.2.0\n",
      "chex                             0.1.7\n",
      "click                            8.1.7\n",
      "click-plugins                    1.1.1\n",
      "cligj                            0.7.2\n",
      "cloudpickle                      2.2.1\n",
      "cmake                            3.27.4.1\n",
      "cmdstanpy                        1.1.0\n",
      "colorcet                         3.0.1\n",
      "colorlover                       0.3.0\n",
      "colour                           0.1.5\n",
      "community                        1.0.0b1\n",
      "confection                       0.1.2\n",
      "cons                             0.4.6\n",
      "contextlib2                      21.6.0\n",
      "contourpy                        1.1.0\n",
      "convertdate                      2.4.0\n",
      "cryptography                     41.0.3\n",
      "cufflinks                        0.17.3\n",
      "cvxopt                           1.3.2\n",
      "cvxpy                            1.3.2\n",
      "cycler                           0.11.0\n",
      "cymem                            2.0.7\n",
      "Cython                           3.0.2\n",
      "dask                             2023.8.1\n",
      "datascience                      0.17.6\n",
      "db-dtypes                        1.1.1\n",
      "dbus-python                      1.2.18\n",
      "debugpy                          1.6.6\n",
      "decorator                        4.4.2\n",
      "defusedxml                       0.7.1\n",
      "distributed                      2023.8.1\n",
      "distro                           1.7.0\n",
      "dlib                             19.24.2\n",
      "dm-tree                          0.1.8\n",
      "docutils                         0.18.1\n",
      "dopamine-rl                      4.0.6\n",
      "duckdb                           0.8.1\n",
      "earthengine-api                  0.1.368\n",
      "easydict                         1.10\n",
      "ecos                             2.0.12\n",
      "editdistance                     0.6.2\n",
      "eerepr                           0.0.4\n",
      "en-core-web-sm                   3.6.0\n",
      "entrypoints                      0.4\n",
      "ephem                            4.1.4\n",
      "et-xmlfile                       1.1.0\n",
      "etils                            1.4.1\n",
      "etuples                          0.3.9\n",
      "exceptiongroup                   1.1.3\n",
      "fastai                           2.7.12\n",
      "fastcore                         1.5.29\n",
      "fastdownload                     0.0.7\n",
      "fastjsonschema                   2.18.0\n",
      "fastprogress                     1.0.3\n",
      "fastrlock                        0.8.2\n",
      "filelock                         3.12.2\n",
      "Fiona                            1.9.4.post1\n",
      "firebase-admin                   5.3.0\n",
      "Flask                            2.2.5\n",
      "flatbuffers                      23.5.26\n",
      "flax                             0.7.2\n",
      "folium                           0.14.0\n",
      "fonttools                        4.42.1\n",
      "frozendict                       2.3.8\n",
      "frozenlist                       1.4.0\n",
      "fsspec                           2023.6.0\n",
      "future                           0.18.3\n",
      "gast                             0.4.0\n",
      "gcsfs                            2023.6.0\n",
      "GDAL                             3.4.3\n",
      "gdown                            4.6.6\n",
      "geemap                           0.26.0\n",
      "gensim                           4.3.2\n",
      "geocoder                         1.38.1\n",
      "geographiclib                    2.0\n",
      "geopandas                        0.13.2\n",
      "geopy                            2.3.0\n",
      "gin-config                       0.5.0\n",
      "glob2                            0.7\n",
      "google                           2.0.3\n",
      "google-api-core                  2.11.1\n",
      "google-api-python-client         2.84.0\n",
      "google-auth                      2.17.3\n",
      "google-auth-httplib2             0.1.0\n",
      "google-auth-oauthlib             1.0.0\n",
      "google-cloud-bigquery            3.10.0\n",
      "google-cloud-bigquery-connection 1.12.1\n",
      "google-cloud-bigquery-storage    2.22.0\n",
      "google-cloud-core                2.3.3\n",
      "google-cloud-datastore           2.15.2\n",
      "google-cloud-firestore           2.11.1\n",
      "google-cloud-functions           1.13.2\n",
      "google-cloud-language            2.9.1\n",
      "google-cloud-storage             2.8.0\n",
      "google-cloud-translate           3.11.3\n",
      "google-colab                     1.0.0\n",
      "google-crc32c                    1.5.0\n",
      "google-pasta                     0.2.0\n",
      "google-resumable-media           2.6.0\n",
      "googleapis-common-protos         1.60.0\n",
      "googledrivedownloader            0.4\n",
      "graphviz                         0.20.1\n",
      "greenlet                         2.0.2\n",
      "grpc-google-iam-v1               0.12.6\n",
      "grpcio                           1.57.0\n",
      "grpcio-status                    1.48.2\n",
      "gspread                          3.4.2\n",
      "gspread-dataframe                3.3.1\n",
      "gym                              0.25.2\n",
      "gym-notices                      0.0.8\n",
      "h5netcdf                         1.2.0\n",
      "h5py                             3.9.0\n",
      "holidays                         0.32\n",
      "holoviews                        1.17.1\n",
      "html5lib                         1.1\n",
      "httpimport                       1.3.1\n",
      "httplib2                         0.22.0\n",
      "humanize                         4.7.0\n",
      "hyperopt                         0.2.7\n",
      "idna                             3.4\n",
      "imageio                          2.31.3\n",
      "imageio-ffmpeg                   0.4.8\n",
      "imagesize                        1.4.1\n",
      "imbalanced-learn                 0.10.1\n",
      "imgaug                           0.4.0\n",
      "importlib-metadata               6.8.0\n",
      "importlib-resources              6.0.1\n",
      "imutils                          0.5.4\n",
      "inflect                          7.0.0\n",
      "iniconfig                        2.0.0\n",
      "intel-openmp                     2023.2.0\n",
      "ipyevents                        2.0.2\n",
      "ipyfilechooser                   0.6.0\n",
      "ipykernel                        5.5.6\n",
      "ipyleaflet                       0.17.3\n",
      "ipython                          7.34.0\n",
      "ipython-genutils                 0.2.0\n",
      "ipython-sql                      0.5.0\n",
      "ipytree                          0.2.2\n",
      "ipywidgets                       7.7.1\n",
      "itsdangerous                     2.1.2\n",
      "jax                              0.4.14\n",
      "jaxlib                           0.4.14+cuda11.cudnn86\n",
      "jeepney                          0.7.1\n",
      "jieba                            0.42.1\n",
      "Jinja2                           3.1.2\n",
      "joblib                           1.3.2\n",
      "jsonpickle                       3.0.2\n",
      "jsonschema                       4.19.0\n",
      "jsonschema-specifications        2023.7.1\n",
      "jupyter-client                   6.1.12\n",
      "jupyter-console                  6.1.0\n",
      "jupyter_core                     5.3.1\n",
      "jupyter-server                   1.24.0\n",
      "jupyterlab-pygments              0.2.2\n",
      "jupyterlab-widgets               3.0.8\n",
      "kaggle                           1.5.16\n",
      "keras                            2.13.1\n",
      "keyring                          23.5.0\n",
      "kiwisolver                       1.4.5\n",
      "langcodes                        3.3.0\n",
      "launchpadlib                     1.10.16\n",
      "lazr.restfulclient               0.14.4\n",
      "lazr.uri                         1.0.6\n",
      "lazy_loader                      0.3\n",
      "libclang                         16.0.6\n",
      "librosa                          0.10.1\n",
      "lightgbm                         4.0.0\n",
      "linkify-it-py                    2.0.2\n",
      "lit                              16.0.6\n",
      "llvmlite                         0.39.1\n",
      "locket                           1.0.0\n",
      "logical-unification              0.4.6\n",
      "LunarCalendar                    0.0.9\n",
      "lxml                             4.9.3\n",
      "Markdown                         3.4.4\n",
      "markdown-it-py                   3.0.0\n",
      "MarkupSafe                       2.1.3\n",
      "matplotlib                       3.7.1\n",
      "matplotlib-inline                0.1.6\n",
      "matplotlib-venn                  0.11.9\n",
      "mdit-py-plugins                  0.4.0\n",
      "mdurl                            0.1.2\n",
      "miniKanren                       1.0.3\n",
      "missingno                        0.5.2\n",
      "mistune                          0.8.4\n",
      "mizani                           0.9.3\n",
      "mkl                              2023.2.0\n",
      "ml-dtypes                        0.2.0\n",
      "mlxtend                          0.22.0\n",
      "more-itertools                   10.1.0\n",
      "moviepy                          1.0.3\n",
      "mpmath                           1.3.0\n",
      "msgpack                          1.0.5\n",
      "multidict                        6.0.4\n",
      "multipledispatch                 1.0.0\n",
      "multitasking                     0.0.11\n",
      "murmurhash                       1.0.9\n",
      "music21                          9.1.0\n",
      "natsort                          8.4.0\n",
      "nbclassic                        1.0.0\n",
      "nbclient                         0.8.0\n",
      "nbconvert                        6.5.4\n",
      "nbformat                         5.9.2\n",
      "nest-asyncio                     1.5.7\n",
      "networkx                         3.1\n",
      "nibabel                          4.0.2\n",
      "nltk                             3.8.1\n",
      "notebook                         6.5.5\n",
      "notebook_shim                    0.2.3\n",
      "numba                            0.56.4\n",
      "numexpr                          2.8.5\n",
      "numpy                            1.23.5\n",
      "oauth2client                     4.1.3\n",
      "oauthlib                         3.2.2\n",
      "opencv-contrib-python            4.8.0.76\n",
      "opencv-python                    4.8.0.76\n",
      "opencv-python-headless           4.8.0.76\n",
      "openpyxl                         3.1.2\n",
      "opt-einsum                       3.3.0\n",
      "optax                            0.1.7\n",
      "orbax-checkpoint                 0.3.5\n",
      "osqp                             0.6.2.post8\n",
      "packaging                        23.1\n",
      "pandas                           1.5.3\n",
      "pandas-datareader                0.10.0\n",
      "pandas-gbq                       0.17.9\n",
      "pandocfilters                    1.5.0\n",
      "panel                            1.2.2\n",
      "param                            1.13.0\n",
      "parso                            0.8.3\n",
      "partd                            1.4.0\n",
      "pathlib                          1.0.1\n",
      "pathy                            0.10.2\n",
      "patsy                            0.5.3\n",
      "pexpect                          4.8.0\n",
      "pickleshare                      0.7.5\n",
      "Pillow                           9.4.0\n",
      "pip                              23.1.2\n",
      "pip-tools                        6.13.0\n",
      "platformdirs                     3.10.0\n",
      "plotly                           5.15.0\n",
      "plotnine                         0.12.3\n",
      "pluggy                           1.3.0\n",
      "polars                           0.17.3\n",
      "pooch                            1.7.0\n",
      "portpicker                       1.5.2\n",
      "prefetch-generator               1.0.3\n",
      "preshed                          3.0.8\n",
      "prettytable                      3.8.0\n",
      "proglog                          0.1.10\n",
      "progressbar2                     4.2.0\n",
      "prometheus-client                0.17.1\n",
      "promise                          2.3\n",
      "prompt-toolkit                   3.0.39\n",
      "prophet                          1.1.4\n",
      "proto-plus                       1.22.3\n",
      "protobuf                         3.20.3\n",
      "psutil                           5.9.5\n",
      "psycopg2                         2.9.7\n",
      "ptyprocess                       0.7.0\n",
      "py-cpuinfo                       9.0.0\n",
      "py4j                             0.10.9.7\n",
      "pyarrow                          9.0.0\n",
      "pyasn1                           0.5.0\n",
      "pyasn1-modules                   0.3.0\n",
      "pycocotools                      2.0.7\n",
      "pycparser                        2.21\n",
      "pyct                             0.5.0\n",
      "pydantic                         1.10.12\n",
      "pydata-google-auth               1.8.2\n",
      "pydot                            1.4.2\n",
      "pydot-ng                         2.0.0\n",
      "pydotplus                        2.0.2\n",
      "PyDrive                          1.3.1\n",
      "PyDrive2                         1.6.3\n",
      "pyerfa                           2.0.0.3\n",
      "pygame                           2.5.1\n",
      "Pygments                         2.16.1\n",
      "PyGObject                        3.42.1\n",
      "PyJWT                            2.3.0\n",
      "pymc                             5.7.2\n",
      "PyMeeus                          0.5.12\n",
      "pymystem3                        0.2.0\n",
      "PyOpenGL                         3.1.7\n",
      "pyOpenSSL                        23.2.0\n",
      "pyparsing                        3.1.1\n",
      "pyperclip                        1.8.2\n",
      "pyproj                           3.6.0\n",
      "pyproject_hooks                  1.0.0\n",
      "pyshp                            2.3.1\n",
      "PySocks                          1.7.1\n",
      "pytensor                         2.14.2\n",
      "pytest                           7.4.1\n",
      "python-apt                       0.0.0\n",
      "python-box                       7.1.1\n",
      "python-dateutil                  2.8.2\n",
      "python-louvain                   0.16\n",
      "python-slugify                   8.0.1\n",
      "python-utils                     3.7.0\n",
      "pytz                             2023.3.post1\n",
      "pyviz_comms                      3.0.0\n",
      "PyWavelets                       1.4.1\n",
      "PyYAML                           6.0.1\n",
      "pyzmq                            23.2.1\n",
      "qdldl                            0.1.7.post0\n",
      "qudida                           0.0.4\n",
      "ratelim                          0.1.6\n",
      "referencing                      0.30.2\n",
      "regex                            2023.6.3\n",
      "requests                         2.31.0\n",
      "requests-oauthlib                1.3.1\n",
      "requirements-parser              0.5.0\n",
      "rich                             13.5.2\n",
      "rpds-py                          0.10.2\n",
      "rpy2                             3.4.2\n",
      "rsa                              4.9\n",
      "scikit-image                     0.19.3\n",
      "scikit-learn                     1.2.2\n",
      "scipy                            1.11.2\n",
      "scooby                           0.7.2\n",
      "scs                              3.2.3\n",
      "seaborn                          0.12.2\n",
      "SecretStorage                    3.3.1\n",
      "Send2Trash                       1.8.2\n",
      "setuptools                       67.7.2\n",
      "shapely                          2.0.1\n",
      "six                              1.16.0\n",
      "sklearn-pandas                   2.2.0\n",
      "smart-open                       6.4.0\n",
      "sniffio                          1.3.0\n",
      "snowballstemmer                  2.2.0\n",
      "sortedcontainers                 2.4.0\n",
      "soundfile                        0.12.1\n",
      "soupsieve                        2.5\n",
      "soxr                             0.3.6\n",
      "spacy                            3.6.1\n",
      "spacy-legacy                     3.0.12\n",
      "spacy-loggers                    1.0.4\n",
      "Sphinx                           5.0.2\n",
      "sphinxcontrib-applehelp          1.0.7\n",
      "sphinxcontrib-devhelp            1.0.5\n",
      "sphinxcontrib-htmlhelp           2.0.4\n",
      "sphinxcontrib-jsmath             1.0.1\n",
      "sphinxcontrib-qthelp             1.0.6\n",
      "sphinxcontrib-serializinghtml    1.1.9\n",
      "SQLAlchemy                       2.0.20\n",
      "sqlparse                         0.4.4\n",
      "srsly                            2.4.7\n",
      "statsmodels                      0.14.0\n",
      "sympy                            1.12\n",
      "tables                           3.8.0\n",
      "tabulate                         0.9.0\n",
      "tbb                              2021.10.0\n",
      "tblib                            2.0.0\n",
      "tenacity                         8.2.3\n",
      "tensorboard                      2.13.0\n",
      "tensorboard-data-server          0.7.1\n",
      "tensorflow                       2.13.0\n",
      "tensorflow-datasets              4.9.2\n",
      "tensorflow-estimator             2.13.0\n",
      "tensorflow-gcs-config            2.13.0\n",
      "tensorflow-hub                   0.14.0\n",
      "tensorflow-io-gcs-filesystem     0.33.0\n",
      "tensorflow-metadata              1.14.0\n",
      "tensorflow-probability           0.20.1\n",
      "tensorstore                      0.1.41\n",
      "termcolor                        2.3.0\n",
      "terminado                        0.17.1\n",
      "text-unidecode                   1.3\n",
      "textblob                         0.17.1\n",
      "tf-slim                          1.1.0\n",
      "thinc                            8.1.12\n",
      "threadpoolctl                    3.2.0\n",
      "tifffile                         2023.8.30\n",
      "tinycss2                         1.2.1\n",
      "toml                             0.10.2\n",
      "tomli                            2.0.1\n",
      "toolz                            0.12.0\n",
      "torch                            2.0.1+cu118\n",
      "torchaudio                       2.0.2+cu118\n",
      "torchdata                        0.6.1\n",
      "torchsummary                     1.5.1\n",
      "torchtext                        0.15.2\n",
      "torchvision                      0.15.2+cu118\n",
      "tornado                          6.3.2\n",
      "tqdm                             4.66.1\n",
      "traitlets                        5.7.1\n",
      "traittypes                       0.2.1\n",
      "triton                           2.0.0\n",
      "tweepy                           4.13.0\n",
      "typer                            0.9.0\n",
      "types-setuptools                 68.2.0.0\n",
      "typing_extensions                4.5.0\n",
      "tzlocal                          5.0.1\n",
      "uc-micro-py                      1.0.2\n",
      "uritemplate                      4.1.1\n",
      "urllib3                          2.0.4\n",
      "vega-datasets                    0.9.0\n",
      "wadllib                          1.3.6\n",
      "wasabi                           1.1.2\n",
      "wcwidth                          0.2.6\n",
      "webcolors                        1.13\n",
      "webencodings                     0.5.1\n",
      "websocket-client                 1.6.2\n",
      "Werkzeug                         2.3.7\n",
      "wheel                            0.41.2\n",
      "widgetsnbextension               3.6.5\n",
      "wordcloud                        1.9.2\n",
      "wrapt                            1.15.0\n",
      "xarray                           2023.7.0\n",
      "xarray-einstats                  0.6.0\n",
      "xgboost                          1.7.6\n",
      "xlrd                             2.0.1\n",
      "xyzservices                      2023.7.0\n",
      "yarl                             1.9.2\n",
      "yellowbrick                      1.5\n",
      "yfinance                         0.2.28\n",
      "zict                             3.0.0\n",
      "zipp                             3.16.2\n"
     ]
    }
   ],
   "source": [
    "#Con pip list verificamos todos los paquetes instaldos en la maquina actual que pueden importarse\n",
    "!pip list"
   ]
  },
  {
   "cell_type": "markdown",
   "metadata": {
    "id": "nAyA6sO_JS5X"
   },
   "source": [
    "Por ejemplo, el módulo pygame no se encuentra por defecto en la librería de Google Colab, por lo tanto, si deseamos utilizar dicha librería, debemos instalarla con la ayuda de pip."
   ]
  },
  {
   "cell_type": "code",
   "execution_count": 12,
   "metadata": {
    "colab": {
     "base_uri": "https://localhost:8080/"
    },
    "executionInfo": {
     "elapsed": 9929,
     "status": "ok",
     "timestamp": 1694468931194,
     "user": {
      "displayName": "JUAN CAMILO HENAO CARO",
      "userId": "11825490046934558373"
     },
     "user_tz": 300
    },
    "id": "2e9INkyhvvAA",
    "outputId": "7dfd603a-38b9-4a0d-ae03-4f41ecad3ea4"
   },
   "outputs": [
    {
     "name": "stdout",
     "output_type": "stream",
     "text": [
      "Requirement already satisfied: pygame in /usr/local/lib/python3.10/dist-packages (2.5.1)\n"
     ]
    }
   ],
   "source": [
    "!pip install pygame"
   ]
  },
  {
   "cell_type": "code",
   "execution_count": 13,
   "metadata": {
    "colab": {
     "base_uri": "https://localhost:8080/"
    },
    "executionInfo": {
     "elapsed": 615,
     "status": "ok",
     "timestamp": 1694468939153,
     "user": {
      "displayName": "JUAN CAMILO HENAO CARO",
      "userId": "11825490046934558373"
     },
     "user_tz": 300
    },
    "id": "-cCAak9Wvgqw",
    "outputId": "2227da34-07f3-4498-8ef1-476f5f382338"
   },
   "outputs": [
    {
     "name": "stdout",
     "output_type": "stream",
     "text": [
      "pygame 2.5.1 (SDL 2.28.2, Python 3.10.12)\n",
      "Hello from the pygame community. https://www.pygame.org/contribute.html\n"
     ]
    }
   ],
   "source": [
    "import pygame"
   ]
  },
  {
   "cell_type": "markdown",
   "metadata": {
    "id": "HBG822xxmFJG"
   },
   "source": [
    "## **Ayudas acerca de los módulos**\n",
    "<p>\n",
    "\n",
    "**Funciones integradas**\n",
    "\n",
    "El intérprete de Python tiene una serie de funciones y tipos integrados que siempre están disponibles. Se enumeran aquí en orden alfabético.\n",
    "\n",
    "[Funciones](https://docs.python.org/3/library/functions.html)\n",
    "\n",
    "</p>\n",
    "<table>\n",
    "   <colgroup>\n",
    "      <col>\n",
    "      <col>\n",
    "      <col>\n",
    "      <col>\n",
    "      <col>\n",
    "   </colgroup>\n",
    "   <thead>\n",
    "      <tr>\n",
    "         <th></th>\n",
    "         <th></th>\n",
    "         <th>\n",
    "            <p>Built-in Functions</p>\n",
    "         </th>\n",
    "         <th></th>\n",
    "         <th></th>\n",
    "      </tr>\n",
    "   </thead>\n",
    "   <tbody>\n",
    "      <tr>\n",
    "         <td>\n",
    "            <p><a href=\"https://docs.python.org/3/library/functions.html\" title=\"abs\"><code class=\"xref py py-func docutils literal notranslate\"><span class=\"pre\">abs()</span></code></a></p>\n",
    "         </td>\n",
    "         <td>\n",
    "            <p><a href=\"https://docs.python.org/3/library/functions.html\" title=\"delattr\"><code class=\"xref py py-func docutils literal notranslate\"><span class=\"pre\">delattr()</span></code></a></p>\n",
    "         </td>\n",
    "         <td>\n",
    "            <p><a href=\"https://docs.python.org/3/library/functions.html\" title=\"hash\"><code class=\"xref py py-func docutils literal notranslate\"><span class=\"pre\">hash()</span></code></a></p>\n",
    "         </td>\n",
    "         <td>\n",
    "            <p><a href=\"https://docs.python.org/3/library/functions.html\"><code class=\"docutils literal notranslate\"><span class=\"pre\">memoryview()</span></code></a></p>\n",
    "         </td>\n",
    "         <td>\n",
    "            <p><a href=\"https://docs.python.org/3/library/functions.html\"><code class=\"docutils literal notranslate\"><span class=\"pre\">set()</span></code></a></p>\n",
    "         </td>\n",
    "      </tr>\n",
    "      <tr class=\"row-odd\">\n",
    "         <td>\n",
    "            <p><a href=\"https://docs.python.org/3/library/functions.html\" title=\"all\"><code class=\"xref py py-func docutils literal notranslate\"><span class=\"pre\">all()</span></code></a></p>\n",
    "         </td>\n",
    "         <td>\n",
    "            <p><a href=\"https://docs.python.org/3/library/functions.html\"><code class=\"docutils literal notranslate\"><span class=\"pre\">dict()</span></code></a></p>\n",
    "         </td>\n",
    "         <td>\n",
    "            <p><a href=\"https://docs.python.org/3/library/functions.html\" title=\"help\"><code class=\"xref py py-func docutils literal notranslate\"><span class=\"pre\">help()</span></code></a></p>\n",
    "         </td>\n",
    "         <td>\n",
    "            <p><a href=\"https://docs.python.org/3/library/functions.html\" title=\"min\"><code class=\"xref py py-func docutils literal notranslate\"><span class=\"pre\">min()</span></code></a></p>\n",
    "         </td>\n",
    "         <td>\n",
    "            <p><a href=\"https://docs.python.org/3/library/functions.html\" title=\"setattr\"><code class=\"xref py py-func docutils literal notranslate\"><span class=\"pre\">setattr()</span></code></a></p>\n",
    "         </td>\n",
    "      </tr>\n",
    "      <tr>\n",
    "         <td>\n",
    "            <p><a href=\"https://docs.python.org/3/library/functions.html\" title=\"any\"><code class=\"xref py py-func docutils literal notranslate\"><span class=\"pre\">any()</span></code></a></p>\n",
    "         </td>\n",
    "         <td>\n",
    "            <p><a href=\"https://docs.python.org/3/library/functions.html\" title=\"dir\"><code class=\"xref py py-func docutils literal notranslate\"><span class=\"pre\">dir()</span></code></a></p>\n",
    "         </td>\n",
    "         <td>\n",
    "            <p><a href=\"https://docs.python.org/3/library/functions.html\" title=\"hex\"><code class=\"xref py py-func docutils literal notranslate\"><span class=\"pre\">hex()</span></code></a></p>\n",
    "         </td>\n",
    "         <td>\n",
    "            <p><a href=\"https://docs.python.org/3/library/functions.html\" title=\"next\"><code class=\"xref py py-func docutils literal notranslate\"><span class=\"pre\">next()</span></code></a></p>\n",
    "         </td>\n",
    "         <td>\n",
    "            <p><a href=\"https://docs.python.org/3/library/functions.html\" title=\"slice\"><code class=\"xref py py-func docutils literal notranslate\"><span class=\"pre\">slice()</span></code></a></p>\n",
    "         </td>\n",
    "      </tr>\n",
    "      <tr class=\"row-odd\">\n",
    "         <td>\n",
    "            <p><a href=\"https://docs.python.org/3/library/functions.html\" title=\"ascii\"><code class=\"xref py py-func docutils literal notranslate\"><span class=\"pre\">ascii()</span></code></a></p>\n",
    "         </td>\n",
    "         <td>\n",
    "            <p><a href=\"https://docs.python.org/3/library/functions.html\" title=\"divmod\"><code class=\"xref py py-func docutils literal notranslate\"><span class=\"pre\">divmod()</span></code></a></p>\n",
    "         </td>\n",
    "         <td>\n",
    "            <p><a href=\"https://docs.python.org/3/library/functions.html\" title=\"id\"><code class=\"xref py py-func docutils literal notranslate\"><span class=\"pre\">id()</span></code></a></p>\n",
    "         </td>\n",
    "         <td>\n",
    "            <p><a href=\"https://docs.python.org/3/library/functions.html\" title=\"object\"><code class=\"xref py py-func docutils literal notranslate\"><span class=\"pre\">object()</span></code></a></p>\n",
    "         </td>\n",
    "         <td>\n",
    "            <p><a href=\"https://docs.python.org/3/library/functions.html\" title=\"sorted\"><code class=\"xref py py-func docutils literal notranslate\"><span class=\"pre\">sorted()</span></code></a></p>\n",
    "         </td>\n",
    "      </tr>\n",
    "      <tr>\n",
    "         <td>\n",
    "            <p><a href=\"https://docs.python.org/3/library/functions.html\" title=\"bin\"><code class=\"xref py py-func docutils literal notranslate\"><span class=\"pre\">bin()</span></code></a></p>\n",
    "         </td>\n",
    "         <td>\n",
    "            <p><a href=\"https://docs.python.org/3/library/functions.html\" title=\"enumerate\"><code class=\"xref py py-func docutils literal notranslate\"><span class=\"pre\">enumerate()</span></code></a></p>\n",
    "         </td>\n",
    "         <td>\n",
    "            <p><a href=\"https://docs.python.org/3/library/functions.html\" title=\"input\"><code class=\"xref py py-func docutils literal notranslate\"><span class=\"pre\">input()</span></code></a></p>\n",
    "         </td>\n",
    "         <td>\n",
    "            <p><a href=\"https://docs.python.org/3/library/functions.html\" title=\"oct\"><code class=\"xref py py-func docutils literal notranslate\"><span class=\"pre\">oct()</span></code></a></p>\n",
    "         </td>\n",
    "         <td>\n",
    "            <p><a href=\"https://docs.python.org/3/library/functions.html\" title=\"staticmethod\"><code class=\"xref py py-func docutils literal notranslate\"><span class=\"pre\">staticmethod()</span></code></a></p>\n",
    "         </td>\n",
    "      </tr>\n",
    "      <tr class=\"row-odd\">\n",
    "         <td>\n",
    "            <p><a href=\"https://docs.python.org/3/library/functions.html\" title=\"bool\"><code class=\"xref py py-func docutils literal notranslate\"><span class=\"pre\">bool()</span></code></a></p>\n",
    "         </td>\n",
    "         <td>\n",
    "            <p><a href=\"https://docs.python.org/3/library/functions.html\" title=\"eval\"><code class=\"xref py py-func docutils literal notranslate\"><span class=\"pre\">eval()</span></code></a></p>\n",
    "         </td>\n",
    "         <td>\n",
    "            <p><a href=\"https://docs.python.org/3/library/functions.html\" title=\"int\"><code class=\"xref py py-func docutils literal notranslate\"><span class=\"pre\">int()</span></code></a></p>\n",
    "         </td>\n",
    "         <td>\n",
    "            <p><a href=\"https://docs.python.org/3/library/functions.html\" title=\"open\"><code class=\"xref py py-func docutils literal notranslate\"><span class=\"pre\">open()</span></code></a></p>\n",
    "         </td>\n",
    "         <td>\n",
    "            <p><a href=\"https://docs.python.org/3/library/functions.html\"><code class=\"docutils literal notranslate\"><span class=\"pre\">str()</span></code></a></p>\n",
    "         </td>\n",
    "      </tr>\n",
    "      <tr>\n",
    "         <td>\n",
    "            <p><a href=\"https://docs.python.org/3/library/functions.html\" title=\"breakpoint\"><code class=\"xref py py-func docutils literal notranslate\"><span class=\"pre\">breakpoint()</span></code></a></p>\n",
    "         </td>\n",
    "         <td>\n",
    "            <p><a href=\"https://docs.python.org/3/library/functions.html\" title=\"exec\"><code class=\"xref py py-func docutils literal notranslate\"><span class=\"pre\">exec()</span></code></a></p>\n",
    "         </td>\n",
    "         <td>\n",
    "            <p><a href=\"https://docs.python.org/3/library/functions.html\" title=\"isinstance\"><code class=\"xref py py-func docutils literal notranslate\"><span class=\"pre\">isinstance()</span></code></a></p>\n",
    "         </td>\n",
    "         <td>\n",
    "            <p><a href=\"https://docs.python.org/3/library/functions.html\" title=\"ord\"><code class=\"xref py py-func docutils literal notranslate\"><span class=\"pre\">ord()</span></code></a></p>\n",
    "         </td>\n",
    "         <td>\n",
    "            <p><a href=\"https://docs.python.org/3/library/functions.html\" title=\"sum\"><code class=\"xref py py-func docutils literal notranslate\"><span class=\"pre\">sum()</span></code></a></p>\n",
    "         </td>\n",
    "      </tr>\n",
    "      <tr class=\"row-odd\">\n",
    "         <td>\n",
    "            <p><a href=\"https://docs.python.org/3/library/functions.html\"><code class=\"docutils literal notranslate\"><span class=\"pre\">bytearray()</span></code></a></p>\n",
    "         </td>\n",
    "         <td>\n",
    "            <p><a href=\"https://docs.python.org/3/library/functions.html\" title=\"filter\"><code class=\"xref py py-func docutils literal notranslate\"><span class=\"pre\">filter()</span></code></a></p>\n",
    "         </td>\n",
    "         <td>\n",
    "            <p><a href=\"https://docs.python.org/3/library/functions.html\" title=\"issubclass\"><code class=\"xref py py-func docutils literal notranslate\"><span class=\"pre\">issubclass()</span></code></a></p>\n",
    "         </td>\n",
    "         <td>\n",
    "            <p><a href=\"https://docs.python.org/3/library/functions.html\" title=\"pow\"><code class=\"xref py py-func docutils literal notranslate\"><span class=\"pre\">pow()</span></code></a></p>\n",
    "         </td>\n",
    "         <td>\n",
    "            <p><a href=\"https://docs.python.org/3/library/functions.html\" title=\"super\"><code class=\"xref py py-func docutils literal notranslate\"><span class=\"pre\">super()</span></code></a></p>\n",
    "         </td>\n",
    "      </tr>\n",
    "      <tr>\n",
    "         <td>\n",
    "            <p><a href=\"https://docs.python.org/3/library/functions.html\"><code class=\"docutils literal notranslate\"><span class=\"pre\">bytes()</span></code></a></p>\n",
    "         </td>\n",
    "         <td>\n",
    "            <p><a href=\"https://docs.python.org/3/library/functions.html\" title=\"float\"><code class=\"xref py py-func docutils literal notranslate\"><span class=\"pre\">float()</span></code></a></p>\n",
    "         </td>\n",
    "         <td>\n",
    "            <p><a href=\"https://docs.python.org/3/library/functions.html\" title=\"iter\"><code class=\"xref py py-func docutils literal notranslate\"><span class=\"pre\">iter()</span></code></a></p>\n",
    "         </td>\n",
    "         <td>\n",
    "            <p><a href=\"https://docs.python.org/3/library/functions.html\" title=\"print\"><code class=\"xref py py-func docutils literal notranslate\"><span class=\"pre\">print()</span></code></a></p>\n",
    "         </td>\n",
    "         <td>\n",
    "            <p><a href=\"https://docs.python.org/3/library/functions.html\"><code class=\"docutils literal notranslate\"><span class=\"pre\">tuple()</span></code></a></p>\n",
    "         </td>\n",
    "      </tr>\n",
    "      <tr class=\"row-odd\">\n",
    "         <td>\n",
    "            <p><a href=\"https://docs.python.org/3/library/functions.html\" title=\"callable\"><code class=\"xref py py-func docutils literal notranslate\"><span class=\"pre\">callable()</span></code></a></p>\n",
    "         </td>\n",
    "         <td>\n",
    "            <p><a href=\"https://docs.python.org/3/library/functions.html\" title=\"format\"><code class=\"xref py py-func docutils literal notranslate\"><span class=\"pre\">format()</span></code></a></p>\n",
    "         </td>\n",
    "         <td>\n",
    "            <p><a href=\"https://docs.python.org/3/library/functions.html\" title=\"len\"><code class=\"xref py py-func docutils literal notranslate\"><span class=\"pre\">len()</span></code></a></p>\n",
    "         </td>\n",
    "         <td>\n",
    "            <p><a href=\"https://docs.python.org/3/library/functions.html\" title=\"property\"><code class=\"xref py py-func docutils literal notranslate\"><span class=\"pre\">property()</span></code></a></p>\n",
    "         </td>\n",
    "         <td>\n",
    "            <p><a href=\"https://docs.python.org/3/library/functions.html\" title=\"type\"><code class=\"xref py py-func docutils literal notranslate\"><span class=\"pre\">type()</span></code></a></p>\n",
    "         </td>\n",
    "      </tr>\n",
    "      <tr>\n",
    "         <td>\n",
    "            <p><a href=\"https://docs.python.org/3/library/functions.html\" title=\"chr\"><code class=\"xref py py-func docutils literal notranslate\"><span class=\"pre\">chr()</span></code></a></p>\n",
    "         </td>\n",
    "         <td>\n",
    "            <p><a href=\"https://docs.python.org/3/library/functions.html\"><code class=\"docutils literal notranslate\"><span class=\"pre\">frozenset()</span></code></a></p>\n",
    "         </td>\n",
    "         <td>\n",
    "            <p><a href=\"https://docs.python.org/3/library/functions.html\"><code class=\"docutils literal notranslate\"><span class=\"pre\">list()</span></code></a></p>\n",
    "         </td>\n",
    "         <td>\n",
    "            <p><a href=\"https://docs.python.org/3/library/functions.html\"><code class=\"docutils literal notranslate\"><span class=\"pre\">range()</span></code></a></p>\n",
    "         </td>\n",
    "         <td>\n",
    "            <p><a href=\"https://docs.python.org/3/library/functions.html\" title=\"vars\"><code class=\"xref py py-func docutils literal notranslate\"><span class=\"pre\">vars()</span></code></a></p>\n",
    "         </td>\n",
    "      </tr>\n",
    "      <tr class=\"row-odd\">\n",
    "         <td>\n",
    "            <p><a href=\"https://docs.python.org/3/library/functions.html\" title=\"classmethod\"><code class=\"xref py py-func docutils literal notranslate\"><span class=\"pre\">classmethod()</span></code></a></p>\n",
    "         </td>\n",
    "         <td>\n",
    "            <p><a href=\"https://docs.python.org/3/library/functions.html\" title=\"getattr\"><code class=\"xref py py-func docutils literal notranslate\"><span class=\"pre\">getattr()</span></code></a></p>\n",
    "         </td>\n",
    "         <td>\n",
    "            <p><a href=\"https://docs.python.org/3/library/functions.html\" title=\"locals\"><code class=\"xref py py-func docutils literal notranslate\"><span class=\"pre\">locals()</span></code></a></p>\n",
    "         </td>\n",
    "         <td>\n",
    "            <p><a href=\"https://docs.python.org/3/library/functions.html\" title=\"repr\"><code class=\"xref py py-func docutils literal notranslate\"><span class=\"pre\">repr()</span></code></a></p>\n",
    "         </td>\n",
    "         <td>\n",
    "            <p><a href=\"https://docs.python.org/3/library/functions.html\" title=\"zip\"><code class=\"xref py py-func docutils literal notranslate\"><span class=\"pre\">zip()</span></code></a></p>\n",
    "         </td>\n",
    "      </tr>\n",
    "      <tr>\n",
    "         <td>\n",
    "            <p><a href=\"https://docs.python.org/3/library/functions.html\" title=\"compile\"><code class=\"xref py py-func docutils literal notranslate\"><span class=\"pre\">compile()</span></code></a></p>\n",
    "         </td>\n",
    "         <td>\n",
    "            <p><a href=\"https://docs.python.org/3/library/functions.html\" title=\"globals\"><code class=\"xref py py-func docutils literal notranslate\"><span class=\"pre\">globals()</span></code></a></p>\n",
    "         </td>\n",
    "         <td>\n",
    "            <p><a href=\"https://docs.python.org/3/library/functions.html\" title=\"map\"><code class=\"xref py py-func docutils literal notranslate\"><span class=\"pre\">map()</span></code></a></p>\n",
    "         </td>\n",
    "         <td>\n",
    "            <p><a href=\"https://docs.python.org/3/library/functions.html\" title=\"reversed\"><code class=\"xref py py-func docutils literal notranslate\"><span class=\"pre\">reversed()</span></code></a></p>\n",
    "         </td>\n",
    "         <td>\n",
    "            <p><a href=\"https://docs.python.org/3/library/functions.html\" title=\"__import__\"><code class=\"xref py py-func docutils literal notranslate\"><span class=\"pre\">__import__()</span></code></a></p>\n",
    "         </td>\n",
    "      </tr>\n",
    "      <tr class=\"row-odd\">\n",
    "         <td>\n",
    "            <p><a href=\"https://docs.python.org/3/library/functions.html\" title=\"complex\"><code class=\"xref py py-func docutils literal notranslate\"><span class=\"pre\">complex()</span></code></a></p>\n",
    "         </td>\n",
    "         <td>\n",
    "            <p><a href=\"#hasattr\" title=\"hasattr\"><code class=\"xref py py-func docutils literal notranslate\"><span class=\"pre\">hasattr()</span></code></a></p>\n",
    "         </td>\n",
    "         <td>\n",
    "            <p><a href=\"https://docs.python.org/3/library/functions.html\" title=\"max\"><code class=\"xref py py-func docutils literal notranslate\"><span class=\"pre\">max()</span></code></a></p>\n",
    "         </td>\n",
    "         <td>\n",
    "            <p><a href=\"https://docs.python.org/3/library/functions.html\" title=\"round\"><code class=\"xref py py-func docutils literal notranslate\"><span class=\"pre\">round()</span></code></a></p>\n",
    "         </td>\n",
    "         <td></td>\n",
    "      </tr>\n",
    "   </tbody>\n",
    "</table>"
   ]
  },
  {
   "cell_type": "code",
   "execution_count": null,
   "metadata": {
    "id": "ZPoUqJR3VUUx"
   },
   "outputs": [],
   "source": [
    "\"baloto\"\n",
    "balota1 = [x for x in range(1,43)]\n",
    "print(balota1)\n"
   ]
  },
  {
   "cell_type": "code",
   "execution_count": null,
   "metadata": {
    "id": "3NyX-2ThV-oD"
   },
   "outputs": [],
   "source": [
    "print(rnd.choice(balota1))"
   ]
  },
  {
   "cell_type": "markdown",
   "metadata": {
    "id": "ukL9CMG8oxRz"
   },
   "source": [
    "<p>\n",
    "\n",
    "##  **La función $Help$**\n",
    "\n",
    "Invoca el sistema de ayuda integrado. (Esta función está pensada para uso interactivo). Si no se proporciona ningún argumento, el sistema de ayuda interactiva se inicia en la consola del intérprete. Si el argumento es una cadena, la cadena se busca como el nombre de un módulo, función, clase, método, palabra clave o tema de documentación, y se imprime una página de ayuda en la consola. Si el argumento es cualquier otro tipo de objeto, se genera una página de ayuda sobre el objeto.</p>\n",
    "\n",
    "[Función Help](https://docs.python.org/3/library/functions.html#help)\n",
    "\n",
    "<p>Importamos el módulo $random$ y luego utilizamos la función integrada $help$ para obtener la ayuda relacionada con el objeto, también podemos utilizar la función %help% sobre funciones del módulo."
   ]
  },
  {
   "cell_type": "code",
   "execution_count": null,
   "metadata": {
    "id": "tOml75vqpim2"
   },
   "outputs": [],
   "source": [
    "import random\n",
    "help(random) #Funcion help sobre el modulo"
   ]
  },
  {
   "cell_type": "code",
   "execution_count": null,
   "metadata": {
    "id": "Xz_VE5BHre6d"
   },
   "outputs": [],
   "source": [
    "help(random.randint) #Funcion help sobre el modulo y la funcion especifica"
   ]
  },
  {
   "cell_type": "markdown",
   "metadata": {
    "id": "g7SxY6hgsd-9"
   },
   "source": [
    "<p><a name=\"s7\"></a></p>\n",
    "\n",
    "# **7. Variables**\n",
    "[[Contenidos]](#contents)\n",
    "<p>Las variables son contenedores para almacenar valores de datos.</p>"
   ]
  },
  {
   "cell_type": "markdown",
   "metadata": {
    "id": "dFmT6zx-02mz"
   },
   "source": [
    "## **Creando Variables**\n",
    "Python no tiene ningún comando para declarar una variable. Una variable se crea en el momento en que le asigna un valor por primera vez."
   ]
  },
  {
   "cell_type": "markdown",
   "metadata": {
    "id": "okwPtXPryiy3"
   },
   "source": [
    "<p>\n",
    "\n",
    "## **Nombres de Variables**\n",
    "\n",
    "Una variable puede tener un nombre corto (como xey) o un nombre más descriptivo (edad, nombre del coche, volumen_total).\n",
    "Las reglas para variables de Python son:\n",
    "\n",
    "\n",
    "*   El nombre de una variable debe comenzar con una letra o el carácter de guion bajo, mas conocido como underscore.\n",
    "*   El nombre de una variable no puede comenzar con un número.\n",
    "*   El nombre de una variable solo puede contener caracteres alfanuméricos y guiones bajos (A-z, 0-9 y _).\n",
    "*   Los nombres de las variables distinguen entre mayúsculas y minúsculas (alfa, Alfa, alfA y ALFA son cuatro variables diferentes).\n",
    "</p>\n",
    "\n"
   ]
  },
  {
   "cell_type": "code",
   "execution_count": 14,
   "metadata": {
    "colab": {
     "base_uri": "https://localhost:8080/"
    },
    "executionInfo": {
     "elapsed": 352,
     "status": "ok",
     "timestamp": 1694469499390,
     "user": {
      "displayName": "JUAN CAMILO HENAO CARO",
      "userId": "11825490046934558373"
     },
     "user_tz": 300
    },
    "id": "6dkmelsVYVBz",
    "outputId": "b5e18c37-37f8-4524-f648-ecb7e2b92d71"
   },
   "outputs": [
    {
     "name": "stdout",
     "output_type": "stream",
     "text": [
      "Hola\n",
      "66\n"
     ]
    }
   ],
   "source": [
    "Л = 'Hola'\n",
    "print(Л) #MALO no se puede\n",
    "años = 66\n",
    "print(años)"
   ]
  },
  {
   "cell_type": "code",
   "execution_count": 15,
   "metadata": {
    "executionInfo": {
     "elapsed": 260,
     "status": "ok",
     "timestamp": 1694469505218,
     "user": {
      "displayName": "JUAN CAMILO HENAO CARO",
      "userId": "11825490046934558373"
     },
     "user_tz": 300
    },
    "id": "g4hMhHsyzGZj"
   },
   "outputs": [],
   "source": [
    "#Correctas declaraciones de variables\n",
    "myvar = \"Batman\"\n",
    "my_var = \"Batman\"\n",
    "_my_var = \"Batman\"\n",
    "myVar = \"Batman\"\n",
    "MYVAR = \"Batman\"\n",
    "myvar2 = \"Batman\""
   ]
  },
  {
   "cell_type": "code",
   "execution_count": null,
   "metadata": {
    "id": "ONhbf8QjzJfM"
   },
   "outputs": [],
   "source": [
    "#Incorrectas declaraciones de variables\n",
    "#Quitar comentario y evaluar\n",
    "#2myvar = \"Batman\"\n",
    "#my-var = \"Batman\"\n",
    "#my var = \"Batman\""
   ]
  },
  {
   "cell_type": "markdown",
   "metadata": {
    "id": "yzje5nRLzdJL"
   },
   "source": [
    "## **Los nombres de las variables son sensibles a mayúsculas**"
   ]
  },
  {
   "cell_type": "code",
   "execution_count": 16,
   "metadata": {
    "colab": {
     "base_uri": "https://localhost:8080/"
    },
    "executionInfo": {
     "elapsed": 285,
     "status": "ok",
     "timestamp": 1694469519864,
     "user": {
      "displayName": "JUAN CAMILO HENAO CARO",
      "userId": "11825490046934558373"
     },
     "user_tz": 300
    },
    "id": "EkG1Onojzi8X",
    "outputId": "3fea7346-1666-4b46-c0ee-22c78986e365"
   },
   "outputs": [
    {
     "name": "stdout",
     "output_type": "stream",
     "text": [
      "1 2\n"
     ]
    }
   ],
   "source": [
    "a = 1\n",
    "A = 2\n",
    "print(a,A)"
   ]
  },
  {
   "cell_type": "markdown",
   "metadata": {
    "id": "qG0GfIlWv30O"
   },
   "source": [
    "<p>\n",
    "\n",
    "## **La función $Print$**\n",
    "\n",
    "`print(*objects, sep=' ', end='\\n', file=sys.stdout, flush=False)`\n",
    "\n",
    "Imprime los objetos en el archivo usando el flujo de texto, separados por `sep` y seguidos por `end`. `sep`, `end`, `file` y `flush`, si están presentes, deben proporcionarse como argumentos de palabra clave.\n",
    "Todos los argumentos que no son palabras clave se convierten en cadenas como lo hace `str()` y se escriben en la secuencia, separados por `sep` y seguidos por `end`. Tanto `sep` como `end` deben ser cadenas de texto; también pueden ser ninguno, lo que significa utilizar los valores predeterminados.\n",
    "Para concatenar variables se utiliza el símbolo `+`, en contexto de variables matemáticas el símbolo `+` se aplica como operador suma de variables.\n",
    "Si se combinan número y texto con el símbolo `+` Python retorna un error de operadores no soportados como se muestra a continuación:\n",
    "```\n",
    "TypeError: unsupported operand type(s) for +: 'int' and 'str'\n",
    "```\n",
    "\n",
    "</p>\n",
    "\n",
    "[Función Print](https://docs.python.org/3/library/functions.html#print)\n",
    "\n",
    "Creamos tres variables, asignamos un valor y se imprimen usando `print`\n",
    "</p>"
   ]
  },
  {
   "cell_type": "code",
   "execution_count": 17,
   "metadata": {
    "colab": {
     "base_uri": "https://localhost:8080/"
    },
    "executionInfo": {
     "elapsed": 255,
     "status": "ok",
     "timestamp": 1694469586533,
     "user": {
      "displayName": "JUAN CAMILO HENAO CARO",
      "userId": "11825490046934558373"
     },
     "user_tz": 300
    },
    "id": "6B-XQEHSxI26",
    "outputId": "0df36fe2-60ea-4570-e5e7-1e5b2ae9ca40"
   },
   "outputs": [
    {
     "name": "stdout",
     "output_type": "stream",
     "text": [
      "666\n",
      "25.6\n",
      "Batman\n"
     ]
    }
   ],
   "source": [
    "#Ejemplo de variables\n",
    "x = 666\n",
    "y = 25.6\n",
    "z = \"Batman\"\n",
    "\n",
    "print(x)\n",
    "print(y)\n",
    "print(z)"
   ]
  },
  {
   "cell_type": "code",
   "execution_count": 18,
   "metadata": {
    "colab": {
     "base_uri": "https://localhost:8080/"
    },
    "executionInfo": {
     "elapsed": 386,
     "status": "ok",
     "timestamp": 1694469590845,
     "user": {
      "displayName": "JUAN CAMILO HENAO CARO",
      "userId": "11825490046934558373"
     },
     "user_tz": 300
    },
    "id": "rnPqbeHAxYsT",
    "outputId": "41e76b26-5b54-4ca6-970c-81b2494166b3"
   },
   "outputs": [
    {
     "name": "stdout",
     "output_type": "stream",
     "text": [
      "666 25.6 Batman\n"
     ]
    }
   ],
   "source": [
    "print(x,y,z)"
   ]
  },
  {
   "cell_type": "code",
   "execution_count": 19,
   "metadata": {
    "colab": {
     "base_uri": "https://localhost:8080/"
    },
    "executionInfo": {
     "elapsed": 339,
     "status": "ok",
     "timestamp": 1694469593172,
     "user": {
      "displayName": "JUAN CAMILO HENAO CARO",
      "userId": "11825490046934558373"
     },
     "user_tz": 300
    },
    "id": "HVZKGEEcQvv0",
    "outputId": "7a1c6570-1e47-4b8a-cb9f-a461ae4ed88e"
   },
   "outputs": [
    {
     "data": {
      "text/plain": [
       "int"
      ]
     },
     "execution_count": 19,
     "metadata": {},
     "output_type": "execute_result"
    }
   ],
   "source": [
    "type(x)"
   ]
  },
  {
   "cell_type": "code",
   "execution_count": 20,
   "metadata": {
    "colab": {
     "base_uri": "https://localhost:8080/",
     "height": 200
    },
    "executionInfo": {
     "elapsed": 322,
     "status": "error",
     "timestamp": 1694469608963,
     "user": {
      "displayName": "JUAN CAMILO HENAO CARO",
      "userId": "11825490046934558373"
     },
     "user_tz": 300
    },
    "id": "i4Hs5NeR_D8B",
    "outputId": "e83760b8-71a2-4092-abe9-e7553c491fe9"
   },
   "outputs": [
    {
     "ename": "TypeError",
     "evalue": "ignored",
     "output_type": "error",
     "traceback": [
      "\u001b[0;31m---------------------------------------------------------------------------\u001b[0m",
      "\u001b[0;31mTypeError\u001b[0m                                 Traceback (most recent call last)",
      "\u001b[0;32m<ipython-input-20-4b7f814cd78d>\u001b[0m in \u001b[0;36m<cell line: 2>\u001b[0;34m()\u001b[0m\n\u001b[1;32m      1\u001b[0m \u001b[0;31m#Quitar comentario y evaluar\u001b[0m\u001b[0;34m\u001b[0m\u001b[0;34m\u001b[0m\u001b[0m\n\u001b[0;32m----> 2\u001b[0;31m \u001b[0mprint\u001b[0m\u001b[0;34m(\u001b[0m\u001b[0mx\u001b[0m \u001b[0;34m+\u001b[0m \u001b[0;34m\" - \"\u001b[0m \u001b[0;34m+\u001b[0m \u001b[0my\u001b[0m \u001b[0;34m+\u001b[0m \u001b[0;34m\" - \"\u001b[0m \u001b[0;34m+\u001b[0m \u001b[0mz\u001b[0m\u001b[0;34m)\u001b[0m\u001b[0;34m\u001b[0m\u001b[0;34m\u001b[0m\u001b[0m\n\u001b[0m",
      "\u001b[0;31mTypeError\u001b[0m: unsupported operand type(s) for +: 'int' and 'str'"
     ]
    }
   ],
   "source": [
    "#Quitar comentario y evaluar\n",
    "print(x + \" - \" + y + \" - \" + z)"
   ]
  },
  {
   "cell_type": "code",
   "execution_count": 21,
   "metadata": {
    "colab": {
     "base_uri": "https://localhost:8080/"
    },
    "executionInfo": {
     "elapsed": 290,
     "status": "ok",
     "timestamp": 1694469647156,
     "user": {
      "displayName": "JUAN CAMILO HENAO CARO",
      "userId": "11825490046934558373"
     },
     "user_tz": 300
    },
    "id": "BQA1bbzi_RK5",
    "outputId": "a6021438-849c-4df2-c13d-e501b4c9f4d7"
   },
   "outputs": [
    {
     "name": "stdout",
     "output_type": "stream",
     "text": [
      "Batman con Superman\n"
     ]
    }
   ],
   "source": [
    "a = \"Batman con \"\n",
    "b = \"Superman\"\n",
    "print(a+b)"
   ]
  },
  {
   "cell_type": "code",
   "execution_count": 22,
   "metadata": {
    "colab": {
     "base_uri": "https://localhost:8080/"
    },
    "executionInfo": {
     "elapsed": 340,
     "status": "ok",
     "timestamp": 1694469652588,
     "user": {
      "displayName": "JUAN CAMILO HENAO CARO",
      "userId": "11825490046934558373"
     },
     "user_tz": 300
    },
    "id": "A5vVfbgQ_5MK",
    "outputId": "4d6be8a6-8e68-48bb-b320-bcc3c1347e5b"
   },
   "outputs": [
    {
     "name": "stdout",
     "output_type": "stream",
     "text": [
      "666\n"
     ]
    }
   ],
   "source": [
    "e = 333\n",
    "f = 333\n",
    "print(e+f)"
   ]
  },
  {
   "cell_type": "code",
   "execution_count": 23,
   "metadata": {
    "colab": {
     "base_uri": "https://localhost:8080/"
    },
    "executionInfo": {
     "elapsed": 324,
     "status": "ok",
     "timestamp": 1694469670405,
     "user": {
      "displayName": "JUAN CAMILO HENAO CARO",
      "userId": "11825490046934558373"
     },
     "user_tz": 300
    },
    "id": "mXpYftpKA15d",
    "outputId": "9afdca42-d42b-45ea-c30a-98b3e5f57c3d"
   },
   "outputs": [
    {
     "name": "stdout",
     "output_type": "stream",
     "text": [
      "BatmanBatmanBatmanBatmanBatman\n"
     ]
    }
   ],
   "source": [
    "u = 5\n",
    "o = \"Batman\"\n",
    "#Quitar comentario y evaluar\n",
    "print(o*u)"
   ]
  },
  {
   "cell_type": "code",
   "execution_count": 24,
   "metadata": {
    "colab": {
     "base_uri": "https://localhost:8080/"
    },
    "executionInfo": {
     "elapsed": 274,
     "status": "ok",
     "timestamp": 1694469681279,
     "user": {
      "displayName": "JUAN CAMILO HENAO CARO",
      "userId": "11825490046934558373"
     },
     "user_tz": 300
    },
    "id": "T_FszBch9uQs",
    "outputId": "c4302822-2140-41c0-a733-722bedccadb5"
   },
   "outputs": [
    {
     "name": "stdout",
     "output_type": "stream",
     "text": [
      "Comúnmente\n"
     ]
    }
   ],
   "source": [
    "#Contatenación de strings con +\n",
    "print(\"Común\"+\"mente\")"
   ]
  },
  {
   "cell_type": "code",
   "execution_count": 25,
   "metadata": {
    "colab": {
     "base_uri": "https://localhost:8080/"
    },
    "executionInfo": {
     "elapsed": 353,
     "status": "ok",
     "timestamp": 1694469689560,
     "user": {
      "displayName": "JUAN CAMILO HENAO CARO",
      "userId": "11825490046934558373"
     },
     "user_tz": 300
    },
    "id": "umJGwGMm93Lz",
    "outputId": "43ca3271-28b6-44e4-9ea1-8b72383ead14"
   },
   "outputs": [
    {
     "name": "stdout",
     "output_type": "stream",
     "text": [
      "Comúnmente\n",
      "Común mente otra cosa\n",
      "('Común', 'mente')\n"
     ]
    }
   ],
   "source": [
    "#La función print concatena dependiendo de como son las entradas.\n",
    "#A continuación se muestran tres resultados diferentes\n",
    "\n",
    "print(\"Común\" \"mente\")\n",
    "print(\"Común\",\"mente\",\"otra cosa\")\n",
    "print((\"Común\",\"mente\")) #mas adelante\n",
    "#tuplas"
   ]
  },
  {
   "cell_type": "code",
   "execution_count": 26,
   "metadata": {
    "colab": {
     "base_uri": "https://localhost:8080/"
    },
    "executionInfo": {
     "elapsed": 404,
     "status": "ok",
     "timestamp": 1694469715491,
     "user": {
      "displayName": "JUAN CAMILO HENAO CARO",
      "userId": "11825490046934558373"
     },
     "user_tz": 300
    },
    "id": "srKT7Smh95QT",
    "outputId": "ccee04ff-2a87-46c0-92e3-722c1d25f4f0"
   },
   "outputs": [
    {
     "name": "stdout",
     "output_type": "stream",
     "text": [
      "Común 1.0 False\n"
     ]
    }
   ],
   "source": [
    "#Por otra parte, la función print convierte todos las entradas a strings\n",
    "print(\"Común\", 1.0, False)"
   ]
  },
  {
   "cell_type": "code",
   "execution_count": 27,
   "metadata": {
    "colab": {
     "base_uri": "https://localhost:8080/"
    },
    "executionInfo": {
     "elapsed": 501,
     "status": "ok",
     "timestamp": 1694469827155,
     "user": {
      "displayName": "JUAN CAMILO HENAO CARO",
      "userId": "11825490046934558373"
     },
     "user_tz": 300
    },
    "id": "mLaK7-2X9-Et",
    "outputId": "e713b162-5d5f-46bd-c3a3-74aab18f592b"
   },
   "outputs": [
    {
     "name": "stdout",
     "output_type": "stream",
     "text": [
      "value = 3.343570\n"
     ]
    }
   ],
   "source": [
    "# Podemos usar la función print en forma similar a como es usada en C\n",
    "print(\"value = %f\" %3.3435698475348750948732)"
   ]
  },
  {
   "cell_type": "code",
   "execution_count": 28,
   "metadata": {
    "colab": {
     "base_uri": "https://localhost:8080/"
    },
    "executionInfo": {
     "elapsed": 260,
     "status": "ok",
     "timestamp": 1694469837348,
     "user": {
      "displayName": "JUAN CAMILO HENAO CARO",
      "userId": "11825490046934558373"
     },
     "user_tz": 300
    },
    "id": "spftv6-jZrLG",
    "outputId": "57d156a3-4418-46cb-bdd4-4c7eee44e662"
   },
   "outputs": [
    {
     "name": "stdout",
     "output_type": "stream",
     "text": [
      "[6, 2, 3, 4, 5]\n"
     ]
    }
   ],
   "source": [
    "lstNombre = [1,2,3,4,5]\n",
    "lstNombre[0] = 6\n",
    "print(lstNombre) # reemplaza un valor de una lista usando [], colocando la posicón"
   ]
  },
  {
   "cell_type": "markdown",
   "metadata": {
    "id": "IwPwPklA-ETZ"
   },
   "source": [
    "Python posee dos estilos de formatos. Un estilo más antiguo, en el que se especifica, por ejemplo, el número de cifras decimales que se imprimirá tendrá un número de tipo float denotado por %n.f y %.d, que transforma un número en un string, correspondiente a un número decimal."
   ]
  },
  {
   "cell_type": "code",
   "execution_count": 29,
   "metadata": {
    "colab": {
     "base_uri": "https://localhost:8080/"
    },
    "executionInfo": {
     "elapsed": 251,
     "status": "ok",
     "timestamp": 1694469974117,
     "user": {
      "displayName": "JUAN CAMILO HENAO CARO",
      "userId": "11825490046934558373"
     },
     "user_tz": 300
    },
    "id": "0pzwbO75-5OO",
    "outputId": "9b9de3f5-6cc7-4638-c5c2-6689f228357a"
   },
   "outputs": [
    {
     "name": "stdout",
     "output_type": "stream",
     "text": [
      "Valor = 00000003 value2 = 00000001\n"
     ]
    }
   ],
   "source": [
    "Variable = \"Valor = %.8d value2 = %.8d\" % (3.1415384734974, 1.64354365)\n",
    "print(Variable)"
   ]
  },
  {
   "cell_type": "markdown",
   "metadata": {
    "id": "rtOrQhjH_CIz"
   },
   "source": [
    "El mismo string puede ser definido usando el nuevo estilo de formato el cual veremos más adelante."
   ]
  },
  {
   "cell_type": "code",
   "execution_count": null,
   "metadata": {
    "colab": {
     "base_uri": "https://localhost:8080/"
    },
    "executionInfo": {
     "elapsed": 4,
     "status": "ok",
     "timestamp": 1692122305681,
     "user": {
      "displayName": "JUAN CAMILO HENAO CARO",
      "userId": "11825490046934558373"
     },
     "user_tz": 300
    },
    "id": "KnL_EN49_DKz",
    "outputId": "13d8b53c-c297-4696-ec21-622915c4372d"
   },
   "outputs": [
    {
     "name": "stdout",
     "output_type": "stream",
     "text": [
      "Valor = 3.14, value2 = 7.9,1.5\n"
     ]
    },
    {
     "data": {
      "text/plain": [
       "str"
      ]
     },
     "execution_count": 43,
     "metadata": {},
     "output_type": "execute_result"
    }
   ],
   "source": [
    "Variable2 = 'Valor = {0:.2f}, value2 = {2},{1}'.format(3.1415, 1.5, 7.9)\n",
    "print(Variable2)\n",
    "type(Variable2)"
   ]
  },
  {
   "cell_type": "code",
   "execution_count": null,
   "metadata": {
    "cellView": "form",
    "colab": {
     "base_uri": "https://localhost:8080/"
    },
    "executionInfo": {
     "elapsed": 354,
     "status": "ok",
     "timestamp": 1692121269422,
     "user": {
      "displayName": "JUAN CAMILO HENAO CARO",
      "userId": "11825490046934558373"
     },
     "user_tz": 300
    },
    "id": "p2Ogv1LNTmB0",
    "outputId": "5dd93a26-2e24-4035-ea3a-ba600b66b162"
   },
   "outputs": [
    {
     "name": "stdout",
     "output_type": "stream",
     "text": [
      "El volúmen de su esfera es: 2144.6116693333333\n"
     ]
    }
   ],
   "source": [
    "\n",
    "numero = 5 #@param {type:'integer'}\n",
    "\n",
    "#Solución esfera@param {type:\"integer\"}\n",
    "r =  8 #\n",
    "\n",
    "V = (4/3)*3.141521*(r**3)\n",
    "print(\"El volúmen de su esfera es:\",V)\n"
   ]
  },
  {
   "cell_type": "markdown",
   "metadata": {
    "id": "aURAU749xsTL"
   },
   "source": [
    "<p>\n",
    "\n",
    "## **La función $Type$**\n",
    "\n",
    "`type(name, bases, dict)`\n",
    "\n",
    "Con un argumento, devuelve el tipo de objeto. El valor de retorno es un objeto de tipo.\n",
    "\n",
    "Las variables no necesitan declararse con ningún tipo en particular, e incluso pueden cambiar de tipo una vez que se han establecido.</p>\n",
    "\n",
    "[Función Type](https://docs.python.org/3/library/functions.html#type)\n",
    "\n",
    "Usando las variables previas detallaremos el tipo con `type`\n",
    "</p>"
   ]
  },
  {
   "cell_type": "code",
   "execution_count": null,
   "metadata": {
    "colab": {
     "base_uri": "https://localhost:8080/"
    },
    "executionInfo": {
     "elapsed": 353,
     "status": "ok",
     "timestamp": 1692121498730,
     "user": {
      "displayName": "JUAN CAMILO HENAO CARO",
      "userId": "11825490046934558373"
     },
     "user_tz": 300
    },
    "id": "c0n_TQkqySAP",
    "outputId": "a71ff14a-7f1c-4c57-feb3-e74ce6f9147b"
   },
   "outputs": [
    {
     "data": {
      "text/plain": [
       "int"
      ]
     },
     "execution_count": 20,
     "metadata": {},
     "output_type": "execute_result"
    }
   ],
   "source": [
    "type(x)"
   ]
  },
  {
   "cell_type": "code",
   "execution_count": null,
   "metadata": {
    "colab": {
     "base_uri": "https://localhost:8080/"
    },
    "executionInfo": {
     "elapsed": 353,
     "status": "ok",
     "timestamp": 1692121501224,
     "user": {
      "displayName": "JUAN CAMILO HENAO CARO",
      "userId": "11825490046934558373"
     },
     "user_tz": 300
    },
    "id": "Ps4rItaUyW3Y",
    "outputId": "e11db705-2f19-4c1a-e93d-694ec57b8390"
   },
   "outputs": [
    {
     "data": {
      "text/plain": [
       "float"
      ]
     },
     "execution_count": 21,
     "metadata": {},
     "output_type": "execute_result"
    }
   ],
   "source": [
    "type(y)"
   ]
  },
  {
   "cell_type": "code",
   "execution_count": null,
   "metadata": {
    "colab": {
     "base_uri": "https://localhost:8080/"
    },
    "executionInfo": {
     "elapsed": 390,
     "status": "ok",
     "timestamp": 1692121504108,
     "user": {
      "displayName": "JUAN CAMILO HENAO CARO",
      "userId": "11825490046934558373"
     },
     "user_tz": 300
    },
    "id": "HqpPAhKsyYQ4",
    "outputId": "860c799e-73c8-478b-eb41-1b236bd26b12"
   },
   "outputs": [
    {
     "data": {
      "text/plain": [
       "str"
      ]
     },
     "execution_count": 22,
     "metadata": {},
     "output_type": "execute_result"
    }
   ],
   "source": [
    "type(z)"
   ]
  },
  {
   "cell_type": "code",
   "execution_count": null,
   "metadata": {
    "id": "evSKlntaUPdp"
   },
   "outputs": [],
   "source": [
    "a = 33.6231\n",
    "b = 38\n"
   ]
  },
  {
   "cell_type": "code",
   "execution_count": null,
   "metadata": {
    "colab": {
     "base_uri": "https://localhost:8080/"
    },
    "executionInfo": {
     "elapsed": 8,
     "status": "ok",
     "timestamp": 1692122170952,
     "user": {
      "displayName": "JUAN CAMILO HENAO CARO",
      "userId": "11825490046934558373"
     },
     "user_tz": 300
    },
    "id": "nxcZhygYVP4o",
    "outputId": "b7b5fd0a-8b2f-4a0d-8f18-33fd97263297"
   },
   "outputs": [
    {
     "name": "stdout",
     "output_type": "stream",
     "text": [
      "33.6231\n",
      "<class 'str'>\n"
     ]
    }
   ],
   "source": [
    "a = str(a)\n",
    "print(a)\n",
    "print(type(a))"
   ]
  },
  {
   "cell_type": "code",
   "execution_count": null,
   "metadata": {
    "colab": {
     "base_uri": "https://localhost:8080/"
    },
    "executionInfo": {
     "elapsed": 8,
     "status": "ok",
     "timestamp": 1692122285168,
     "user": {
      "displayName": "JUAN CAMILO HENAO CARO",
      "userId": "11825490046934558373"
     },
     "user_tz": 300
    },
    "id": "z5Lzw956WC2c",
    "outputId": "dc3e5a06-88f2-432e-b63f-94bd2f48e602"
   },
   "outputs": [
    {
     "name": "stdout",
     "output_type": "stream",
     "text": [
      "38\n",
      "<class 'str'>\n"
     ]
    }
   ],
   "source": [
    "float(b)\n",
    "print(b)\n",
    "print(type(a))"
   ]
  },
  {
   "cell_type": "markdown",
   "metadata": {
    "id": "7EdLwOUS1US5"
   },
   "source": [
    "<p>\n",
    "\n",
    "## **Las funciones de conversión implícita y explícita**\n",
    "\n",
    "Si desea especificar el tipo de datos de una variable, puede hacerlo con conversión. Para realizar conversiones utilizamos funciones integradas de tipología de datos, de las cuales las más usadas son:\n",
    "\n",
    "*   [bool([x])](https://docs.python.org/3/library/functions.html#bool)\n",
    ">*   Devuelve un valor booleano, es decir, uno de verdadero o falso. `x` se convierte utilizando el procedimiento estándar de prueba de verdad. Si `x` es falso o se omite, devuelve `False`; de lo contrario, devuelve `True`. La clase `bool` es una subclase de `int`. No se puede subclasificar más. Sus únicas instancias son `False` y `True`.\n",
    "\n",
    "*   [float([x])](https://docs.python.org/3/library/functions.html#float)\n",
    ">*   Devuelve un número de coma flotante construido a partir de un número o cadena `x`.\n",
    "Si el argumento es una cadena, debe contener un número decimal, opcionalmente precedido por un signo y opcionalmente incrustado en espacios en blanco. El signo opcional puede ser `+` o `-` ; un signo `+` no tiene ningún efecto sobre el valor producido. El argumento también puede ser una cadena que represente un NaN (no un número) o un infinito positivo o negativo.\n",
    "\n",
    "*   [int([x])](https://docs.python.org/3/library/functions.html#int)\n",
    ">*   Devuelve un objeto entero construido a partir de un número o cadena `x`, o devuelve `0` si no se dan argumentos. Si `x` define `__int__()`, `int(x)` devuelve `x` `__int__()`. Si `x` define `__index__()`, devuelve `x` .`__index__()`. Si `x` define `__trunc__()`, devuelve `x` .`__trunc__()`. Para números de coma flotante, esto se trunca hacia cero.\n",
    "Si `x` no es un número o si se proporciona una base, entonces `x` debe ser una instancia de cadena, `bytes` o `bytearray` que represente un literal entero en  [radix (base)](https://en.wikipedia.org/wiki/Radix). Opcionalmente, el literal puede ir precedido por `+` o `-` (sin espacios entre ellos) y rodeado por espacios en blanco. Un literal de base `n` consta de los dígitos del `0` al `n-1`, y de la a a la z (o de la A a la Z) tienen valores de 10 a 35. La base predeterminada es 10. Los valores permitidos son 0 y 2–36. Opcionalmente, los literales base-2, -8 y -16 pueden tener el prefijo 0b / 0B, 0o / 0O o 0x / 0X, como ocurre con los literales enteros en el código. Base 0 significa interpretar exactamente como un código literal, de modo que la base real es 2, 8, 10 o 16, y de modo que int ('010', 0) no es legal, mientras que int ('010') es, así como int ('010', 8).\n",
    "\n",
    "*   [str([x])](https://docs.python.org/3/library/functions.html#str)\n",
    ">*   Devuelve una versión de cadena de texto del objeto. Si no se proporciona el objeto, devuelve la cadena vacía. De lo contrario, el comportamiento de `str()` depende de si se proporciona codificación o errores, como sigue.\n",
    "Si no se da ni codificación ni errores, `str(objeto)` devuelve `objeto.__str__()`, que es la representación de cadena \"informal\" o bien imprimible del objeto. Para los objetos de cadena, esta es la cadena en sí. Si el objeto no tiene un método `__str__()`, entonces `str()` vuelve a devolver repr (objeto).\n",
    "\n",
    "Para profundizar la implementación de conversión explicita e implicita, visita [DuckTyping](https://es.wikipedia.org/wiki/Duck_typing#En_Python)\n",
    "\n",
    "![Duck](https://i.ytimg.com/vi/WM1x2L1dFJk/maxresdefault.jpg)\n",
    "\n",
    "\n",
    "\n",
    "![BoxBox](https://upload.wikimedia.org/wikipedia/commons/5/55/8-cell-simple.gif)\n",
    "\n",
    "\n",
    "</p>"
   ]
  },
  {
   "cell_type": "markdown",
   "metadata": {
    "id": "pd9ZMgi1ry3_"
   },
   "source": []
  },
  {
   "cell_type": "code",
   "execution_count": 30,
   "metadata": {
    "colab": {
     "base_uri": "https://localhost:8080/"
    },
    "executionInfo": {
     "elapsed": 373,
     "status": "ok",
     "timestamp": 1694470131430,
     "user": {
      "displayName": "JUAN CAMILO HENAO CARO",
      "userId": "11825490046934558373"
     },
     "user_tz": 300
    },
    "id": "Rn081Vy265Z5",
    "outputId": "a25ec309-e393-447e-ffa9-3b11dcf298a3"
   },
   "outputs": [
    {
     "name": "stdout",
     "output_type": "stream",
     "text": [
      "666 25 16.6\n",
      "<class 'str'> <class 'int'> <class 'float'>\n"
     ]
    }
   ],
   "source": [
    "#Convertir datos\n",
    "x = str(666)\n",
    "y = int(25.6)\n",
    "z = float(\"16.6\")\n",
    "print(x,y,z)\n",
    "print(type(x), type(y), type(z))"
   ]
  },
  {
   "cell_type": "code",
   "execution_count": 31,
   "metadata": {
    "colab": {
     "base_uri": "https://localhost:8080/"
    },
    "executionInfo": {
     "elapsed": 333,
     "status": "ok",
     "timestamp": 1694470152851,
     "user": {
      "displayName": "JUAN CAMILO HENAO CARO",
      "userId": "11825490046934558373"
     },
     "user_tz": 300
    },
    "id": "FJUxffrU7TV-",
    "outputId": "8241589f-10a2-452d-86b6-fef347901fd8"
   },
   "outputs": [
    {
     "name": "stdout",
     "output_type": "stream",
     "text": [
      "666 25 16.6\n",
      "<class 'str'> <class 'int'> <class 'float'>\n"
     ]
    }
   ],
   "source": [
    "x = str(666)\n",
    "y = int(25.6)\n",
    "z = float(\"16.6\")\n",
    "print(x,y,z)\n",
    "print(type(x), type(y), type(z))"
   ]
  },
  {
   "cell_type": "markdown",
   "metadata": {
    "id": "WgODP-f4r6WW"
   },
   "source": [
    "## **Limites a números en Python**"
   ]
  },
  {
   "cell_type": "code",
   "execution_count": 32,
   "metadata": {
    "colab": {
     "base_uri": "https://localhost:8080/"
    },
    "executionInfo": {
     "elapsed": 411,
     "status": "ok",
     "timestamp": 1694470168489,
     "user": {
      "displayName": "JUAN CAMILO HENAO CARO",
      "userId": "11825490046934558373"
     },
     "user_tz": 300
    },
    "id": "i4Gxa6scrpMz",
    "outputId": "5126b719-ba28-4bd3-84cc-bd67d696d4a6"
   },
   "outputs": [
    {
     "name": "stdout",
     "output_type": "stream",
     "text": [
      "9223372036854775807\n",
      "<class 'int'>\n",
      "True\n"
     ]
    }
   ],
   "source": [
    "import sys\n",
    "print(sys.maxsize)\n",
    "print(type(sys.maxsize))\n",
    "print(sys.maxsize == 2**63 - 1)"
   ]
  },
  {
   "cell_type": "code",
   "execution_count": 33,
   "metadata": {
    "colab": {
     "base_uri": "https://localhost:8080/"
    },
    "executionInfo": {
     "elapsed": 438,
     "status": "ok",
     "timestamp": 1694470176502,
     "user": {
      "displayName": "JUAN CAMILO HENAO CARO",
      "userId": "11825490046934558373"
     },
     "user_tz": 300
    },
    "id": "A8LVBJ_cSNH3",
    "outputId": "1f8cd462-4830-4297-819c-45c073f61e6e"
   },
   "outputs": [
    {
     "name": "stdout",
     "output_type": "stream",
     "text": [
      "100009223372036854775808\n"
     ]
    }
   ],
   "source": [
    "print(2**63 + 100000000000000000000000)"
   ]
  },
  {
   "cell_type": "markdown",
   "metadata": {
    "id": "ZkZ8cGHq7nXx"
   },
   "source": [
    "<p>\n",
    "\n",
    "## **¿Comillas simples o dobles?**\n",
    "\n",
    "Las variables de cadena de texto se pueden declarar utilizando comillas simples o dobles:\n",
    "\n",
    "\n",
    "```python\n",
    "x = \"Batman\"\n",
    "# Es lo mismo\n",
    "x = 'Batman'\n",
    "```\n",
    "</p>\n"
   ]
  },
  {
   "cell_type": "markdown",
   "metadata": {
    "id": "3lNDkAXi8E_P"
   },
   "source": [
    "<p>\n",
    "\n",
    "## **Varios valores a múltiples variables**\n",
    "\n",
    "Python, permite asignar varios valores a múltiples variables en una sola línea de acuerdo al orden de asignación.\n",
    "\n",
    "</p>"
   ]
  },
  {
   "cell_type": "code",
   "execution_count": 34,
   "metadata": {
    "colab": {
     "base_uri": "https://localhost:8080/"
    },
    "executionInfo": {
     "elapsed": 337,
     "status": "ok",
     "timestamp": 1694470211773,
     "user": {
      "displayName": "JUAN CAMILO HENAO CARO",
      "userId": "11825490046934558373"
     },
     "user_tz": 300
    },
    "id": "UbClMZtj8YQi",
    "outputId": "ab57e4b8-07e0-42ab-a521-e58b5e0edbc9"
   },
   "outputs": [
    {
     "name": "stdout",
     "output_type": "stream",
     "text": [
      "Batman\n",
      "Superman\n",
      "WonderWoman\n"
     ]
    }
   ],
   "source": [
    "x, y, z = \"Batman\", \"Superman\", \"WonderWoman\"\n",
    "print(x)\n",
    "print(y)\n",
    "print(z)\n",
    "\n",
    "#La asignacion es de derecha a izquierda\n"
   ]
  },
  {
   "cell_type": "markdown",
   "metadata": {
    "id": "Lfc6P5FH8ikD"
   },
   "source": [
    "<p>\n",
    "\n",
    "## **Un valor a múltiples variables**\n",
    "\n",
    "Python, permite asignar el mismo valor a múltiples variables en una sola línea.\n",
    "\n",
    "</p>"
   ]
  },
  {
   "cell_type": "code",
   "execution_count": 35,
   "metadata": {
    "colab": {
     "base_uri": "https://localhost:8080/"
    },
    "executionInfo": {
     "elapsed": 306,
     "status": "ok",
     "timestamp": 1694470224620,
     "user": {
      "displayName": "JUAN CAMILO HENAO CARO",
      "userId": "11825490046934558373"
     },
     "user_tz": 300
    },
    "id": "iVTKkZXb8qkm",
    "outputId": "3313e420-66a2-4903-b2c1-a4af6d37e6cb"
   },
   "outputs": [
    {
     "name": "stdout",
     "output_type": "stream",
     "text": [
      "Batman\n",
      "Batman\n",
      "Batman\n"
     ]
    }
   ],
   "source": [
    "x = y = z = \"Batman\"\n",
    "print(x)\n",
    "print(y)\n",
    "print(z)"
   ]
  },
  {
   "cell_type": "markdown",
   "metadata": {
    "id": "mxuqdZat-T1L"
   },
   "source": [
    "<p>\n",
    "\n",
    "## **Desempaquetar una colección**\n",
    "\n",
    "Si tiene una colección de valores en una lista, tupla, etc. Python le permite extraer los valores en variables. A esto se le llama `unpacking`.\n",
    "\n",
    "</p>"
   ]
  },
  {
   "cell_type": "code",
   "execution_count": 36,
   "metadata": {
    "colab": {
     "base_uri": "https://localhost:8080/"
    },
    "executionInfo": {
     "elapsed": 295,
     "status": "ok",
     "timestamp": 1694470232103,
     "user": {
      "displayName": "JUAN CAMILO HENAO CARO",
      "userId": "11825490046934558373"
     },
     "user_tz": 300
    },
    "id": "ezHzWDGg-sTb",
    "outputId": "cb9b1977-2001-4710-9cff-a64eb7927f2c"
   },
   "outputs": [
    {
     "name": "stdout",
     "output_type": "stream",
     "text": [
      "Batman\n",
      "Superman\n",
      "WonderWoman\n"
     ]
    }
   ],
   "source": [
    "superheroes = [\"Batman\", \"Superman\", \"WonderWoman\"]\n",
    "x, y, z = superheroes\n",
    "print(x)\n",
    "print(y)\n",
    "print(z)"
   ]
  },
  {
   "cell_type": "markdown",
   "metadata": {
    "id": "VxMpQy57OxtT"
   },
   "source": [
    "<p><a name=\"s8\"></a></p>\n",
    "\n",
    "# **8. Tipos de Datos**\n",
    "[[Contenidos]](#contents)\n",
    "<p>En programación, el tipo de datos es un concepto importante.</p>"
   ]
  },
  {
   "cell_type": "markdown",
   "metadata": {
    "id": "gxU-VPXnLwTw"
   },
   "source": [
    "<p>\n",
    "\n",
    "## **Tipo de datos en Python**\n",
    "\n",
    "En programación, el tipo de datos es un concepto importante.\n",
    "Las variables pueden almacenar datos de diferentes tipos y los diferentes tipos pueden hacer cosas diferentes.\n",
    "Python tiene los siguientes tipos de datos integrados de forma predeterminada, en estas categorías:\n",
    "\n",
    "\n",
    "\n",
    "*   Tipos Texto (Text):\n",
    ">*   `str`\n",
    "\n",
    "*   Tipos Numéricos (Numeric):\n",
    ">*   `int, float, complex`\n",
    "\n",
    "*   Tipos Secuencias (Sequence):\n",
    ">*   `list, tuple, range`\n",
    "\n",
    "*   Tipos Mapeados (Mapping):\n",
    ">*   `dict`\n",
    "\n",
    "*   Tipos Conjuntos (Set):\n",
    ">*   `set, frozenset`\n",
    "\n",
    "*   Tipos Boleanos (Boolean):\n",
    ">*   `bool`\n",
    "\n",
    "*   Tipos Binarios (Binary):\n",
    ">*   `bytes, bytearray, memoryview`\n",
    "\n",
    "</p>"
   ]
  },
  {
   "cell_type": "markdown",
   "metadata": {
    "id": "Kxx2xwnETq5A"
   },
   "source": [
    "<p>\n",
    "\n",
    "## **Tipo de datos Numéricos**\n",
    "\n",
    "Existen tres tipos de datos numéricos en Python, los cuales son:\n",
    "\n",
    ">*   `int`\n",
    ">>*  `int`, o entero, es un número entero, positivo o negativo, sin decimales, de longitud ilimitada.\n",
    "\n",
    ">*   `float`\n",
    ">>*  `float`, o \"número de coma flotante\" es un número, positivo o negativo, que contiene uno o más decimales.\n",
    "\n",
    ">*   `complex`\n",
    ">>*  Los números complejos se escriben con una $j$ como parte imaginaria.\n",
    "\n",
    "Las variables de tipos numéricos se crean cuando les asigna un valor.\n",
    "\n",
    "\n",
    "</p>"
   ]
  },
  {
   "cell_type": "markdown",
   "metadata": {
    "id": "aFMG3t2znHpN"
   },
   "source": [
    "\n",
    "### **Conversiones entre números**\n",
    "<p>\n",
    "Puede convertir de un tipo a otro con los métodos `int()`, `float()` y `complex()`:</p>\n"
   ]
  },
  {
   "cell_type": "code",
   "execution_count": 37,
   "metadata": {
    "colab": {
     "base_uri": "https://localhost:8080/"
    },
    "executionInfo": {
     "elapsed": 272,
     "status": "ok",
     "timestamp": 1694470660539,
     "user": {
      "displayName": "JUAN CAMILO HENAO CARO",
      "userId": "11825490046934558373"
     },
     "user_tz": 300
    },
    "id": "VihV297TUYvy",
    "outputId": "776ef844-c583-438e-b138-86ea03f8b4f2"
   },
   "outputs": [
    {
     "name": "stdout",
     "output_type": "stream",
     "text": [
      "<class 'int'> <class 'float'> <class 'complex'>\n"
     ]
    }
   ],
   "source": [
    "x = 1    # int\n",
    "y = 2.8  # float\n",
    "z = 1j   # complex\n",
    "print(type(x), type(y),type(z))"
   ]
  },
  {
   "cell_type": "code",
   "execution_count": 38,
   "metadata": {
    "colab": {
     "base_uri": "https://localhost:8080/"
    },
    "executionInfo": {
     "elapsed": 376,
     "status": "ok",
     "timestamp": 1694470669123,
     "user": {
      "displayName": "JUAN CAMILO HENAO CARO",
      "userId": "11825490046934558373"
     },
     "user_tz": 300
    },
    "id": "51kx8JbRVlaB",
    "outputId": "3c442114-b941-470f-b810-59a1066f28a5"
   },
   "outputs": [
    {
     "name": "stdout",
     "output_type": "stream",
     "text": [
      "1.0\n",
      "2\n",
      "(1+0j)\n",
      "<class 'float'>\n",
      "<class 'int'>\n",
      "<class 'complex'>\n"
     ]
    }
   ],
   "source": [
    "x = 1    # int\n",
    "y = 2.8  # float\n",
    "z = 1j   # complex\n",
    "\n",
    "#Convertir int a float:\n",
    "a = float(x)\n",
    "\n",
    "#Convertir de float a int:\n",
    "b = int(y)\n",
    "\n",
    "#Convertir de int a complex:\n",
    "c = complex(x)\n",
    "\n",
    "print(a)\n",
    "print(b)\n",
    "print(c)\n",
    "\n",
    "print(type(a))\n",
    "print(type(b))\n",
    "print(type(c))"
   ]
  },
  {
   "cell_type": "code",
   "execution_count": 39,
   "metadata": {
    "colab": {
     "base_uri": "https://localhost:8080/"
    },
    "executionInfo": {
     "elapsed": 257,
     "status": "ok",
     "timestamp": 1694470695798,
     "user": {
      "displayName": "JUAN CAMILO HENAO CARO",
      "userId": "11825490046934558373"
     },
     "user_tz": 300
    },
    "id": "fJpMFYsGKMps",
    "outputId": "357d9f7c-3a95-48d3-bc3a-1650ed134267"
   },
   "outputs": [
    {
     "name": "stdout",
     "output_type": "stream",
     "text": [
      "64.0\n"
     ]
    }
   ],
   "source": [
    "#Ejercicios de conversiones.\n",
    "q = 16 + int('16') + float('16') + int(16.6)\n",
    "print(q)"
   ]
  },
  {
   "cell_type": "markdown",
   "metadata": {
    "id": "yNyIEX4wnZ_S"
   },
   "source": [
    "<p>\n",
    "\n",
    "## **Cadenas de texto**\n",
    "\n",
    "Las cadenas en Python están rodeadas por comillas simples o comillas dobles.\n",
    "'hola' es lo mismo que \"hola\".\n",
    "Puede mostrar una cadena literal con la función `print()`.\n",
    "\n",
    "Python denota los más conocidos `strings` como **Text Sequence Type — str**\n",
    "\n",
    "Los datos textuales en Python se manejan con objetos `str` o `string`. Los `strings` o cadenas de texto son secuencias inmutables Unicode. Los strings se escriben de diversas formas:\n",
    "\n",
    "Comillas simples: `'permite comillas \"dobles\" incrustadas'`\n",
    "\n",
    "Comillas dobles: `\"permite comillas 'simples' incrustadas\"`\n",
    "\n",
    "Entre comillas triples: `'''Tres comillas simples''', \"\"\"Tres comillas dobles\"\"\"`\n",
    "\n",
    "Las cadenas entre comillas triples pueden abarcar varias líneas; todos los espacios en blanco asociados se incluirán en el literal de cadena.\n",
    "\n",
    "Las cadenas de texto que forman parte de una sola expresión y solo tienen espacios en blanco entre ellos se convertirán implícitamente en un solo literal de cadena. Es decir, `(\"batman\" \"superman\") == \"batman superman\"`.\n",
    "\n",
    "Las cadenas también se pueden crear a partir de otros objetos utilizando el constructor `str`.\n",
    "\n",
    "Dado que no hay un tipo de datos “carácter” separado, indexar una cadena produce cadenas de longitud 1. Es decir, para una cadena no vacía $s, s [0] == s [0: 1]$.\n",
    "\n",
    "Tampoco hay un tipo de cadena mutable, pero `str.join()` o `io.StringIO` se pueden usar para construir cadenas de manera eficiente a partir de múltiples fragmentos.\n",
    "\n",
    "Ejemplos\n",
    "</p>"
   ]
  },
  {
   "cell_type": "code",
   "execution_count": 40,
   "metadata": {
    "colab": {
     "base_uri": "https://localhost:8080/"
    },
    "executionInfo": {
     "elapsed": 230,
     "status": "ok",
     "timestamp": 1694470865508,
     "user": {
      "displayName": "JUAN CAMILO HENAO CARO",
      "userId": "11825490046934558373"
     },
     "user_tz": 300
    },
    "id": "6zk2q5i_pX9g",
    "outputId": "843158fb-306d-4e0d-fe49-c8d31d26cf77"
   },
   "outputs": [
    {
     "name": "stdout",
     "output_type": "stream",
     "text": [
      "Hola Carola\n"
     ]
    }
   ],
   "source": [
    "a = \"Hola Carola\"\n",
    "print(a)"
   ]
  },
  {
   "cell_type": "code",
   "execution_count": 41,
   "metadata": {
    "colab": {
     "base_uri": "https://localhost:8080/"
    },
    "executionInfo": {
     "elapsed": 357,
     "status": "ok",
     "timestamp": 1694470869107,
     "user": {
      "displayName": "JUAN CAMILO HENAO CARO",
      "userId": "11825490046934558373"
     },
     "user_tz": 300
    },
    "id": "dktUx7mjpmR1",
    "outputId": "2b976236-8926-4b7f-b408-a1ebb863acdc"
   },
   "outputs": [
    {
     "name": "stdout",
     "output_type": "stream",
     "text": [
      "In brightest day, in blackest night,\n",
      "No evil shall escape my sight.\n",
      "Let those who worship evil's might\n",
      "Beware my power--Green Lantern's light!\n"
     ]
    }
   ],
   "source": [
    "b = \"\"\"In brightest day, in blackest night,\n",
    "No evil shall escape my sight.\n",
    "Let those who worship evil's might\n",
    "Beware my power--Green Lantern's light!\"\"\"\n",
    "print(b)"
   ]
  },
  {
   "cell_type": "code",
   "execution_count": null,
   "metadata": {
    "colab": {
     "base_uri": "https://localhost:8080/"
    },
    "executionInfo": {
     "elapsed": 6,
     "status": "ok",
     "timestamp": 1692123119298,
     "user": {
      "displayName": "JUAN CAMILO HENAO CARO",
      "userId": "11825490046934558373"
     },
     "user_tz": 300
    },
    "id": "8sHFyXAqpvAH",
    "outputId": "d2982bc6-08f0-4393-ae1a-6f06d85bc862"
   },
   "outputs": [
    {
     "name": "stdout",
     "output_type": "stream",
     "text": [
      "In brightest day, in blackest night,\n",
      "No evil shall escape my sight.\n",
      "Let those who worship evil's might\n",
      "Beware my power--Green Lantern's light!\n"
     ]
    }
   ],
   "source": [
    "b = '''In brightest day, in blackest night,\n",
    "No evil shall escape my sight.\n",
    "Let those who worship evil's might\n",
    "Beware my power--Green Lantern's light!'''\n",
    "print(b)"
   ]
  },
  {
   "cell_type": "markdown",
   "metadata": {
    "id": "nVpfGdeUp425"
   },
   "source": [
    "\n",
    "### **Las Cadenas de Texto son Vectorizadas**\n",
    "<p>\n",
    "\n",
    "Como muchos otros lenguajes de programación populares, las cadenas en Python son matrices de bytes que representan caracteres [Unicode](https://es.wikipedia.org/wiki/Unicode).\n",
    "\n",
    "Sin embargo, Python no tiene un tipo de datos de carácter, un solo carácter es simplemente una cadena con una longitud de $1$. Se pueden usar corchetes para acceder a elementos de la cadena.\n",
    "Para obtener el carácter en la posición 1 de una cadena de texto se puede hacer lo siguiente:\n",
    "Recuerda que el primer carácter de las cadenas de texto es cero.\n",
    "\n",
    "```python\n",
    "a = \"Batman\"\n",
    "print(a[1])\n",
    "```\n",
    "\n",
    "\n",
    "</p>"
   ]
  },
  {
   "cell_type": "code",
   "execution_count": 42,
   "metadata": {
    "colab": {
     "base_uri": "https://localhost:8080/"
    },
    "executionInfo": {
     "elapsed": 304,
     "status": "ok",
     "timestamp": 1694470908036,
     "user": {
      "displayName": "JUAN CAMILO HENAO CARO",
      "userId": "11825490046934558373"
     },
     "user_tz": 300
    },
    "id": "iYHvo_0eRUFZ",
    "outputId": "5e776348-5bf6-4ac9-846a-e2d32f84142e"
   },
   "outputs": [
    {
     "name": "stdout",
     "output_type": "stream",
     "text": [
      "t\n"
     ]
    }
   ],
   "source": [
    "#----012345\n",
    "a = \"Batman\"\n",
    "print(a[2])"
   ]
  },
  {
   "cell_type": "code",
   "execution_count": 43,
   "metadata": {
    "colab": {
     "base_uri": "https://localhost:8080/"
    },
    "executionInfo": {
     "elapsed": 316,
     "status": "ok",
     "timestamp": 1694470912642,
     "user": {
      "displayName": "JUAN CAMILO HENAO CARO",
      "userId": "11825490046934558373"
     },
     "user_tz": 300
    },
    "id": "8lXlQXy1RW7b",
    "outputId": "53190faa-a347-4100-da17-66926035e07f"
   },
   "outputs": [
    {
     "name": "stdout",
     "output_type": "stream",
     "text": [
      "B\n"
     ]
    }
   ],
   "source": [
    "a = \"Batman\"\n",
    "print(a[0])"
   ]
  },
  {
   "cell_type": "markdown",
   "metadata": {
    "id": "pwlMYo6XR6HB"
   },
   "source": [
    "### **Un Ciclo sobre una Cadena de Texto**\n",
    "<p>\n",
    "\n",
    "Dado que las cadenas son matrices, podemos recorrer los caracteres de una cadena, con un ciclo `for`.\n",
    "\n",
    "```python\n",
    "for x in \"batman\":\n",
    "    print(x)\n",
    "```\n",
    "Vamos a aprender sobre ciclos a fondo en la seccion Ciclos\n",
    "\n",
    "</p>"
   ]
  },
  {
   "cell_type": "code",
   "execution_count": 46,
   "metadata": {
    "colab": {
     "base_uri": "https://localhost:8080/"
    },
    "executionInfo": {
     "elapsed": 289,
     "status": "ok",
     "timestamp": 1694470962270,
     "user": {
      "displayName": "JUAN CAMILO HENAO CARO",
      "userId": "11825490046934558373"
     },
     "user_tz": 300
    },
    "id": "_AQNWMo7Sz32",
    "outputId": "2640d81b-0a1a-4e94-cff6-730382ea16e0"
   },
   "outputs": [
    {
     "name": "stdout",
     "output_type": "stream",
     "text": [
      "batman"
     ]
    }
   ],
   "source": [
    "for x in \"batman\":\n",
    "    print(x,end = \"\")"
   ]
  },
  {
   "cell_type": "markdown",
   "metadata": {
    "id": "W7Lr5vRoTBni"
   },
   "source": [
    "### **Funciones Sobre Cadenas de Texto**\n",
    "<p>\n",
    "\n",
    "Muchas funciones integradas de Python se pueden aplicar a cadenas de texto, a continuación veremos las más utilizadas.\n",
    "\n",
    "*   Detallar el Largo de una cadena de texto:\n",
    ">*   `len()` retorna el largo de una cadena de texto\n",
    "\n",
    "*   Comprobar si un carácter se encuentra en una cadena de texto:\n",
    ">*   `in`\n",
    "\n",
    "*   Comprobar si un carácter no se encuentra en una cadena de texto:\n",
    ">*   `not in`\n",
    "\n",
    "A continuación veremos un ejemplo de cada uno:\n",
    "\n",
    "</p>"
   ]
  },
  {
   "cell_type": "code",
   "execution_count": null,
   "metadata": {
    "colab": {
     "base_uri": "https://localhost:8080/"
    },
    "executionInfo": {
     "elapsed": 330,
     "status": "ok",
     "timestamp": 1692123283220,
     "user": {
      "displayName": "JUAN CAMILO HENAO CARO",
      "userId": "11825490046934558373"
     },
     "user_tz": 300
    },
    "id": "Izq1ibA_VAvl",
    "outputId": "92cfa9c1-37d4-470d-9d07-3228fb90d330"
   },
   "outputs": [
    {
     "name": "stdout",
     "output_type": "stream",
     "text": [
      "42\n",
      "o\n"
     ]
    }
   ],
   "source": [
    "texto = \"Batman no vuela pero es todo un filántropo\"\n",
    "print(len(texto))\n",
    "print(texto[42-1])\n",
    "\n",
    "#posición es n menos 1"
   ]
  },
  {
   "cell_type": "code",
   "execution_count": null,
   "metadata": {
    "id": "7KURwd64UfTM"
   },
   "outputs": [],
   "source": [
    "texto = \"Batman no vuela pero es todo un filántropo\"\n",
    "print(\"ba\" in texto)# Funciones de texto son sensibles a mayusculas y minusculas"
   ]
  },
  {
   "cell_type": "code",
   "execution_count": null,
   "metadata": {
    "id": "f-HcsgRPUUI9"
   },
   "outputs": [],
   "source": [
    "texto = \"Batman no vuela pero es todo un filántropo\"\n",
    "print(\"Batman\" not in texto) #operadores de membresia los veremos mas adelante en profundidad"
   ]
  },
  {
   "cell_type": "code",
   "execution_count": null,
   "metadata": {
    "id": "SZCUAtauUC1E"
   },
   "outputs": [],
   "source": [
    "texto = \"Batman no vuela pero es todo un filántropo\"\n",
    "if \"Superman\" not in texto:\n",
    "  print(\"Superman no está presente\") #ejemplo y lo profundizaremos en el cuaderno 4"
   ]
  },
  {
   "cell_type": "markdown",
   "metadata": {
    "id": "sNYkqPegWNS1"
   },
   "source": [
    "### **Slicing (Rebanar)**\n",
    "<p>\n",
    "\n",
    "Python tinen en su repertorio de acciones una muy poderosa característica y es la de devolver un rango de caracteres utilizando la sintaxis denominada \"Slicing\" o de rebanado.\n",
    "Se debe especificar el inicio y el final con el símbolo de dos puntos `:` para devolver una parte de la cadena de texto.\n",
    "\n",
    "*   Especificando el inicio y el final, por ejemplo comenzando en la posición 2 y terminando en la posición 5 sin incluirla, nótese que el primer carácter es cero.\n",
    ">*   ```python\n",
    "texto = \"Batman no vuela pero es todo un filántropo\"\n",
    "print(texto[2:5])\n",
    "```\n",
    "\n",
    "*   No especificando el inicio y detallando el final, obtiene los datos desde el inicio hasta el valor especificado sin incluirlo.\n",
    ">*   ```python\n",
    "texto = \"Batman no vuela pero es todo un filántropo\"\n",
    "print(texto[:5])\n",
    "```\n",
    "\n",
    "*   No especificando el final y detallando el inicio, obtiene los datos desde el valor especificado hasta el final.\n",
    ">*   ```python\n",
    "texto = \"Batman no vuela pero es todo un filántropo\"\n",
    "print(texto[2:])\n",
    "```\n",
    "\n",
    "*   El indexado negativo detalla el comienzo desde el final hacia el inicio utilizando números negativos. Nótese que el slicing negativo comienza en -1, siendo esta la penúltima posición o la segunda de atrás hacia adelante. Para realizar un slicing negativo desde el final, no registrar el final como el último ejemplo.\n",
    ">*   ```python\n",
    "texto = \"Batman no vuela pero es todo un filántropo\"\n",
    "print(texto[-5:-2])\n",
    "Desde el final hasta la posicion -5\n",
    "texto = \"Batman no vuela pero es todo un filántropo\"\n",
    "print(texto[-5:])\n",
    "```\n",
    "</p>"
   ]
  },
  {
   "cell_type": "code",
   "execution_count": null,
   "metadata": {
    "colab": {
     "base_uri": "https://localhost:8080/"
    },
    "executionInfo": {
     "elapsed": 333,
     "status": "ok",
     "timestamp": 1692123407625,
     "user": {
      "displayName": "JUAN CAMILO HENAO CARO",
      "userId": "11825490046934558373"
     },
     "user_tz": 300
    },
    "id": "LtrJJPpcXRt5",
    "outputId": "0aaed41b-8c04-44f2-e82d-397a495eb43b"
   },
   "outputs": [
    {
     "name": "stdout",
     "output_type": "stream",
     "text": [
      "tma\n"
     ]
    }
   ],
   "source": [
    "texto = \"Batman no vuela pero es todo un filántropo\"\n",
    "       # 012345678901234567890123456789012345678901\n",
    "print(texto[2:5])"
   ]
  },
  {
   "cell_type": "code",
   "execution_count": null,
   "metadata": {
    "colab": {
     "base_uri": "https://localhost:8080/"
    },
    "executionInfo": {
     "elapsed": 337,
     "status": "ok",
     "timestamp": 1692123412489,
     "user": {
      "displayName": "JUAN CAMILO HENAO CARO",
      "userId": "11825490046934558373"
     },
     "user_tz": 300
    },
    "id": "9djUZoFqaqY0",
    "outputId": "d576d095-5253-4520-9f6e-ffea22f44714"
   },
   "outputs": [
    {
     "name": "stdout",
     "output_type": "stream",
     "text": [
      "Batman n\n",
      "Batman \n"
     ]
    }
   ],
   "source": [
    "texto = \"Batman no vuela pero es todo un filántropo\"\n",
    "print(texto[0:8])\n",
    "print(texto[:7])"
   ]
  },
  {
   "cell_type": "code",
   "execution_count": null,
   "metadata": {
    "colab": {
     "base_uri": "https://localhost:8080/"
    },
    "executionInfo": {
     "elapsed": 337,
     "status": "ok",
     "timestamp": 1692123443920,
     "user": {
      "displayName": "JUAN CAMILO HENAO CARO",
      "userId": "11825490046934558373"
     },
     "user_tz": 300
    },
    "id": "6jqUxW2xatGF",
    "outputId": "94383896-2c4a-4cd5-a07e-bb369a42d0c9"
   },
   "outputs": [
    {
     "name": "stdout",
     "output_type": "stream",
     "text": [
      "tman no vuela pero es todo un filántropo\n"
     ]
    }
   ],
   "source": [
    "texto = \"Batman no vuela pero es todo un filántropo\"\n",
    "print(texto[2:])"
   ]
  },
  {
   "cell_type": "code",
   "execution_count": null,
   "metadata": {
    "colab": {
     "base_uri": "https://localhost:8080/"
    },
    "executionInfo": {
     "elapsed": 358,
     "status": "ok",
     "timestamp": 1692123477736,
     "user": {
      "displayName": "JUAN CAMILO HENAO CARO",
      "userId": "11825490046934558373"
     },
     "user_tz": 300
    },
    "id": "gWFjz_uYaup-",
    "outputId": "d7c8de89-9176-423f-9bc8-6338e280e5d7"
   },
   "outputs": [
    {
     "name": "stdout",
     "output_type": "stream",
     "text": [
      "Batman no vuela pero es todo un filántropo\n"
     ]
    }
   ],
   "source": [
    "texto = \"Batman no vuela pero es todo un filántropo\"\n",
    "#---------------------------------------09876543210\n",
    "print(texto[:])"
   ]
  },
  {
   "cell_type": "code",
   "execution_count": null,
   "metadata": {
    "colab": {
     "base_uri": "https://localhost:8080/"
    },
    "executionInfo": {
     "elapsed": 340,
     "status": "ok",
     "timestamp": 1692123486385,
     "user": {
      "displayName": "JUAN CAMILO HENAO CARO",
      "userId": "11825490046934558373"
     },
     "user_tz": 300
    },
    "id": "1EfBw7hva753",
    "outputId": "c4c89d01-e298-4538-c30d-a696c05f6e78"
   },
   "outputs": [
    {
     "name": "stdout",
     "output_type": "stream",
     "text": [
      "f nu odot se orep aleuv on namtaB\n",
      "********************\n",
      "Batman no vuela pero es todo un \n",
      "********************\n",
      "oportnálif nu odot se orep aleuv on namtaB\n"
     ]
    }
   ],
   "source": [
    "texto = \"Batman no vuela pero es todo un filántropo\"\n",
    "print(texto[-10::-1])\n",
    "print('*'*20)\n",
    "print(texto[:-10])\n",
    "print('*'*20)\n",
    "print(texto[::-1])"
   ]
  },
  {
   "cell_type": "code",
   "execution_count": null,
   "metadata": {
    "colab": {
     "base_uri": "https://localhost:8080/"
    },
    "executionInfo": {
     "elapsed": 337,
     "status": "ok",
     "timestamp": 1692123587773,
     "user": {
      "displayName": "JUAN CAMILO HENAO CARO",
      "userId": "11825490046934558373"
     },
     "user_tz": 300
    },
    "id": "7oIAI8E3rbrE",
    "outputId": "a380802f-88e2-44f6-98c1-b5b5a4e354aa"
   },
   "outputs": [
    {
     "name": "stdout",
     "output_type": "stream",
     "text": [
      "567890\n"
     ]
    }
   ],
   "source": [
    "texto='1234567890'\n",
    "print(texto[-6:])"
   ]
  },
  {
   "cell_type": "code",
   "execution_count": null,
   "metadata": {
    "id": "3FRAdThhrl9x"
   },
   "outputs": [],
   "source": [
    "texto='0123456789'\n",
    "print(texto[:8])\n"
   ]
  },
  {
   "cell_type": "markdown",
   "metadata": {
    "id": "iUhug6oi_F6m"
   },
   "source": [
    "### **Modificaciones sobre Strings**\n",
    "<p>\n",
    "\n",
    "Las cadenas de texto (strings) son inmutables en Python, hacer modificaciones sobre las variables debemos reasingar su valor. Adicionalmente Python y las variables de texto tienen funciones para formatear y editar el texto, es de anotar que las funciones son relacionadas a la variable y se detallan con un punto luego de la variable tipo string y estas funciones se detallan a continuación:\n",
    "\n",
    "*   Mayúsculas, convertir todo el texto de un string a mayúsculas usando la función `upper()`.\n",
    ">*   ```python\n",
    "texto = \"Batman no vuela pero es todo un filántropo\"\n",
    "print(texto.upper())\n",
    "```\n",
    "\n",
    "*   Minúsculas, convertir todo el texto de un string a minúsculas usando la función `lower()`.\n",
    ">*   ```python\n",
    "texto = \"Batman no vuela pero es todo un filántropo\"\n",
    "print(texto.lower())\n",
    "```\n",
    "*   Espacios en blanco, para remover los espacios en blanco utilizamos la función `strip()`.\n",
    ">*   ```python\n",
    "texto = \"Batman no vuela pero es todo un filántropo\"\n",
    "print(texto.strip())\n",
    "```\n",
    "\n",
    "*   Reemplazar un carácter, para reemplazar un carácter se usa la función  `replace()` en donde recibe dos parámetros, el primero es el carácter a buscar y el segundo el nuevo valor a reemplazar.\n",
    ">*   ```python\n",
    "texto = \"Batman no vuela pero es todo un filántropo\"\n",
    "print(texto.replace('B', 'V'))\n",
    "```\n",
    "\n",
    "*   Dividir un string, usando la función `split()` y detallando el carácter de separación como un parámetro se realiza la división en $n$ cantidades las cuales se asignan a una lista.\n",
    ">*   ```python\n",
    "texto = \"Batman no vuela, pero es todo un filántropo\"\n",
    "print(texto.split(','))\n",
    "```\n",
    "\n",
    "Estas funciones detalladas previamente son los más utilizados, las variables tipo texto presentan las siguientes funciones para utilizar.\n",
    "\n",
    "<table>\n",
    "   <tbody>\n",
    "      <tr>\n",
    "         <th>Método</th>\n",
    "         <th>Descripción</th>\n",
    "      </tr>\n",
    "      <tr>\n",
    "         <td><a href=\"https://docs.python.org/3.9/library/stdtypes.html#text-sequence-type-str\">capitalize()</a></td>\n",
    "         <td>Convierte el primer\n",
    "             carácter a mayúsculas\n",
    "         </td>\n",
    "      </tr>\n",
    "      <tr>\n",
    "         <td><a href=\"https://docs.python.org/3.9/library/stdtypes.html#text-sequence-type-str\">casefold()</a></td>\n",
    "         <td>Convierte el string en\n",
    "             minúsculas\n",
    "         </td>\n",
    "      </tr>\n",
    "      <tr>\n",
    "         <td><a href=\"https://docs.python.org/3.9/library/stdtypes.html#text-sequence-type-str\">center()</a></td>\n",
    "         <td>Retorna un string centrado\n",
    "         </td>\n",
    "      </tr>\n",
    "      <tr>\n",
    "         <td><a href=\"https://docs.python.org/3.9/library/stdtypes.html#text-sequence-type-str\">count()</a></td>\n",
    "         <td>Devuelve el número de\n",
    "             veces que ocurre un carácter en un string\n",
    "         </td>\n",
    "      </tr>\n",
    "      <tr>\n",
    "         <td><a href=\"https://docs.python.org/3.9/library/stdtypes.html#text-sequence-type-str\">encode()</a></td>\n",
    "         <td>Retorna un string codificado\n",
    "         </td>\n",
    "      </tr>\n",
    "      <tr>\n",
    "         <td><a href=\"https://docs.python.org/3.9/library/stdtypes.html#text-sequence-type-str\">endswith()</a></td>\n",
    "         <td>Retorna verdadero si el string termina\n",
    "\t\t en un carácter especificado\n",
    "         </td>\n",
    "      </tr>\n",
    "      <tr>\n",
    "         <td><a href=\"https://docs.python.org/3.9/library/stdtypes.html#text-sequence-type-str\">expandtabs()</a></td>\n",
    "         <td>Determina el tamaño\n",
    "            del string\n",
    "         </td>\n",
    "      </tr>\n",
    "      <tr>\n",
    "         <td><a href=\"https://docs.python.org/3.9/library/stdtypes.html#text-sequence-type-str\">find()</a></td>\n",
    "         <td>Busca en la cadena un\n",
    "             valor especificado y devuelve la posición en donde se encontró\n",
    "         </td>\n",
    "      </tr>\n",
    "      <tr>\n",
    "         <td><a href=\"https://docs.python.org/3.9/library/stdtypes.html#text-sequence-type-str\">format()</a></td>\n",
    "         <td>Formatea valores específicos\n",
    "             en el string\n",
    "         </td>\n",
    "      </tr>\n",
    "      <tr>\n",
    "         <td><a href=\"https://docs.python.org/3.9/library/stdtypes.html#text-sequence-type-str\">format_map()</a></td>\n",
    "         <td>Formatea valores específicos\n",
    "             en el string\n",
    "         </td>\n",
    "      </tr>\n",
    "      <tr>\n",
    "         <td><a href=\"https://docs.python.org/3.9/library/stdtypes.html#text-sequence-type-str\">index()</a></td>\n",
    "         <td>Busca en el string\n",
    "             para un valor especifico y devuelve la posición de donde se encontró\n",
    "         </td>\n",
    "      </tr>\n",
    "      <tr>\n",
    "         <td><a href=\"https://docs.python.org/3.9/library/stdtypes.html#text-sequence-type-str\">isalnum()</a></td>\n",
    "         <td>Devuelve Verdadero si todo\n",
    "             los caracteres de la cadena son alfanuméricos\n",
    "         </td>\n",
    "      </tr>\n",
    "      <tr>\n",
    "         <td><a href=\"https://docs.python.org/3.9/library/stdtypes.html#text-sequence-type-str\">isalpha()</a></td>\n",
    "         <td>Devuelve Verdadero si todos\n",
    "             los caracteres de la cadena son alfabéticos\n",
    "         </td>\n",
    "      </tr>\n",
    "      <tr>\n",
    "         <td><a href=\"https://docs.python.org/3.9/library/stdtypes.html#text-sequence-type-str\">isdecimal()</a></td>\n",
    "         <td>Devuelve Verdadero si todos\n",
    "             los caracteres de la cadena son decimales\n",
    "         </td>\n",
    "      </tr>\n",
    "      <tr>\n",
    "         <td><a href=\"https://docs.python.org/3.9/library/stdtypes.html#text-sequence-type-str\">isdigit()</a></td>\n",
    "         <td>Devuelve Verdadero si todos\n",
    "             los caracteres de la cadena son dígitos\n",
    "         </td>\n",
    "      </tr>\n",
    "      <tr>\n",
    "         <td><a href=\"https://docs.python.org/3.9/library/stdtypes.html#text-sequence-type-str\">isidentifier()</a></td>\n",
    "         <td>Devuelve Verdadero si todos\n",
    "            los caracteres de la cadena son [identifier](https://docs.python.org/3.9/reference/lexical_analysis.html#identifiers)\n",
    "         </td>\n",
    "      </tr>\n",
    "      <tr>\n",
    "         <td><a href=\"https://docs.python.org/3.9/library/stdtypes.html#text-sequence-type-str\">islower()</a></td>\n",
    "         <td>Devuelve Verdadero si todos\n",
    "             los caracteres de la cadena son minúsculas\n",
    "         </td>\n",
    "      </tr>\n",
    "      <tr>\n",
    "         <td><a href=\"https://docs.python.org/3.9/library/stdtypes.html#text-sequence-type-str\">isnumeric()</a></td>\n",
    "         <td>Devuelve Verdadero si todos\n",
    "             los caracteres de la cadena son números\n",
    "         </td>\n",
    "      </tr>\n",
    "      <tr>\n",
    "         <td><a href=\"https://docs.python.org/3.9/library/stdtypes.html#text-sequence-type-str\">isprintable()</a></td>\n",
    "         <td>Devuelve Verdadero si todos\n",
    "             los caracteres de la cadena son imprimibles\n",
    "         </td>\n",
    "      </tr>\n",
    "      <tr>\n",
    "         <td><a href=\"https://docs.python.org/3.9/library/stdtypes.html#text-sequence-type-str\">isspace()</a></td>\n",
    "         <td>Devuelve Verdadero si todos\n",
    "             los caracteres de la cadena son espacios en blanco\n",
    "         </td>\n",
    "      </tr>\n",
    "      <tr>\n",
    "         <td><a href=\"https://docs.python.org/3.9/library/stdtypes.html#text-sequence-type-str\">istitle()</a></td>\n",
    "         <td>Retorna Verdadero si el string sigue las\n",
    "            reglas de un titulo\n",
    "         </td>\n",
    "      </tr>\n",
    "      <tr>\n",
    "         <td><a href=\"https://docs.python.org/3.9/library/stdtypes.html#text-sequence-type-str\">isupper()</a></td>\n",
    "         <td>Devuelve Verdadero si todos\n",
    "             los caracteres de la cadena son mayúsculas\n",
    "         </td>\n",
    "      </tr>\n",
    "      <tr>\n",
    "         <td><a href=\"https://docs.python.org/3.9/library/stdtypes.html#text-sequence-type-str\">join()</a></td>\n",
    "         <td>Une los elementos de\n",
    "             un elemento iterable hasta el final del string\n",
    "         </td>\n",
    "      </tr>\n",
    "      <tr>\n",
    "         <td><a href=\"https://docs.python.org/3.9/library/stdtypes.html#text-sequence-type-str\">ljust()</a></td>\n",
    "         <td>Devuelve un justificado a la izquierda\n",
    "             del string\n",
    "         </td>\n",
    "      </tr>\n",
    "      <tr>\n",
    "         <td><a href=\"https://docs.python.org/3.9/library/stdtypes.html#text-sequence-type-str\">lower()</a></td>\n",
    "         <td>Convierte el string a minúsculas\n",
    "         </td>\n",
    "      </tr>\n",
    "      <tr>\n",
    "         <td><a href=\"https://docs.python.org/3.9/library/stdtypes.html#text-sequence-type-str\">lstrip()</a></td>\n",
    "         <td>Retorna un corte a la izquierda\n",
    "            del string\n",
    "         </td>\n",
    "      </tr>\n",
    "      <tr>\n",
    "         <td><a href=\"https://docs.python.org/3.9/library/stdtypes.html#text-sequence-type-str\">maketrans()</a></td>\n",
    "         <td>Retorna una tabla usable con la función str.translate()\n",
    "         </td>\n",
    "      </tr>\n",
    "      <tr>\n",
    "         <td><a href=\"https://docs.python.org/3.9/library/stdtypes.html#text-sequence-type-str\">partition()</a></td>\n",
    "         <td>Retorna una tupla\n",
    "            en donde un string es partido en tres\n",
    "         </td>\n",
    "      </tr>\n",
    "      <tr>\n",
    "         <td><a href=\"https://docs.python.org/3.9/library/stdtypes.html#text-sequence-type-str\">replace()</a></td>\n",
    "         <td>Retorna un string\n",
    "            en donde se especifica el valor a reemplazar\n",
    "         </td>\n",
    "      </tr>\n",
    "      <tr>\n",
    "         <td><a href=\"https://docs.python.org/3.9/library/stdtypes.html#text-sequence-type-str\">rfind()</a></td>\n",
    "         <td>Busca en el string un valor especifico\n",
    "            y retorna la posición en donde se encuentra\n",
    "         </td>\n",
    "      </tr>\n",
    "      <tr>\n",
    "         <td><a href=\"https://docs.python.org/3.9/library/stdtypes.html#text-sequence-type-str\">rindex()</a></td>\n",
    "         <td>Busca en el string un valor especifico\n",
    "            y retorna la última posición donde se ubica\n",
    "         </td>\n",
    "      </tr>\n",
    "      <tr>\n",
    "         <td><a href=\"https://docs.python.org/3.9/library/stdtypes.html#text-sequence-type-str\">rjust()</a></td>\n",
    "         <td>Devuelve un justificado a la derecha\n",
    "             del string\n",
    "         </td>\n",
    "      </tr>\n",
    "      <tr>\n",
    "         <td><a href=\"https://docs.python.org/3.9/library/stdtypes.html#text-sequence-type-str\">rpartition()</a></td>\n",
    "         <td>Retorna una tupla\n",
    "            en donde un string es partido en tres, las dos primeras en blanco y la última con el string\n",
    "         </td>\n",
    "      </tr>\n",
    "      <tr>\n",
    "         <td><a href=\"https://docs.python.org/3.9/library/stdtypes.html#text-sequence-type-str\">rsplit()</a></td>\n",
    "         <td>Divide el string\n",
    "            en el separador y devuelve una lista\n",
    "         </td>\n",
    "      </tr>\n",
    "      <tr>\n",
    "         <td><a href=\"https://docs.python.org/3.9/library/stdtypes.html#text-sequence-type-str\">rstrip()</a></td>\n",
    "         <td>Retorna un corte a la derecha\n",
    "            del string\n",
    "         </td>\n",
    "      </tr>\n",
    "      <tr>\n",
    "         <td><a href=\"https://docs.python.org/3.9/library/stdtypes.html#text-sequence-type-str\">split()</a></td>\n",
    "         <td>Divide el string\n",
    "            en el separador especifico y retorna una lista\n",
    "         </td>\n",
    "      </tr>\n",
    "      <tr>\n",
    "         <td><a href=\"https://docs.python.org/3.9/library/stdtypes.html#text-sequence-type-str\">splitlines()</a></td>\n",
    "         <td>Divide el string\n",
    "            en particiones de línea y devuelve una lista\n",
    "         </td>\n",
    "      </tr>\n",
    "      <tr>\n",
    "         <td><a href=\"https://docs.python.org/3.9/library/stdtypes.html#text-sequence-type-str\">startswith()</a></td>\n",
    "         <td>Retorna Verdadero si  \n",
    "            la cadena comienza con el valor especificado\n",
    "         </td>\n",
    "      </tr>\n",
    "      <tr>\n",
    "         <td><a href=\"https://docs.python.org/3.9/library/stdtypes.html#text-sequence-type-str\">strip()</a></td>\n",
    "         <td>Retorna una versión sin espacios del string</td>\n",
    "      </tr>\n",
    "      <tr>\n",
    "         <td><a href=\"https://docs.python.org/3.9/library/stdtypes.html#text-sequence-type-str\">swapcase()</a></td>\n",
    "         <td>Invierte la condición\n",
    "            de mayúsculas y minúsculas\n",
    "         </td>\n",
    "      </tr>\n",
    "      <tr>\n",
    "         <td><a href=\"https://docs.python.org/3.9/library/stdtypes.html#text-sequence-type-str\">title()</a></td>\n",
    "         <td>Convierte a formato título un string\n",
    "         </td>\n",
    "      </tr>\n",
    "      <tr>\n",
    "         <td><a href=\"https://docs.python.org/3.9/library/stdtypes.html#text-sequence-type-str\">translate()</a></td>\n",
    "         <td>Retorna un string traducido\n",
    "         </td>\n",
    "      </tr>\n",
    "      <tr>\n",
    "         <td><a href=\"https://docs.python.org/3.9/library/stdtypes.html#text-sequence-type-str\">upper()</a></td>\n",
    "         <td>Convierte un string a mayúsculas\n",
    "         </td>\n",
    "      </tr>\n",
    "      <tr>\n",
    "         <td><a href=\"https://docs.python.org/3.9/library/stdtypes.html#text-sequence-type-str\">zfill()</a></td>\n",
    "         <td>Rellena el string\n",
    "            con un valor especificado de números de 0 valores al inicio\n",
    "         </td>\n",
    "      </tr>\n",
    "   </tbody>\n",
    "</table>\n",
    "\n",
    "</p>"
   ]
  },
  {
   "cell_type": "code",
   "execution_count": null,
   "metadata": {
    "id": "D9PNqsty9WP3"
   },
   "outputs": [],
   "source": [
    "texto = \"Batman no vuela pero es todo un filántropo\"\n",
    "print(texto.upper()) #no convierte la cadena de texto, solo muestra el resultado en mayusculas, el espacio en memoria permance igual\n",
    "print(texto)\n",
    "texto = texto.upper()\n",
    "print('post conversion a mayusculas')\n",
    "print(texto)"
   ]
  },
  {
   "cell_type": "code",
   "execution_count": null,
   "metadata": {
    "id": "H8_TIB9w9a-x"
   },
   "outputs": [],
   "source": [
    "texto = \"Batman no vuela pero es todo un filántropo\"\n",
    "print(texto.lower()) #in place --> en su ubicacion - upper como lower no son <in place>\n",
    "print(texto)"
   ]
  },
  {
   "cell_type": "code",
   "execution_count": null,
   "metadata": {
    "id": "K4PC8inK9fgO"
   },
   "outputs": [],
   "source": [
    "texto = \" Batman   no vuela pero es todo un filántropo\"\n",
    "print(texto)\n",
    "print(texto.strip())\n",
    "#65->A\n",
    "#97->a\n",
    "#32 caracteres de diferencia\n",
    "#66 + 32"
   ]
  },
  {
   "cell_type": "code",
   "execution_count": null,
   "metadata": {
    "id": "xPoNNoL-9hg8"
   },
   "outputs": [],
   "source": [
    "texto = \"Batman no vuela pero es todo un filántropo\"\n",
    "print(texto.replace('a', '$')) # No --> IN-PLACE - No modifica los valores de la variable\n",
    "texto = texto.replace('a', '$')\n",
    "print(texto)"
   ]
  },
  {
   "cell_type": "code",
   "execution_count": null,
   "metadata": {
    "id": "Vgce4QN49jLu"
   },
   "outputs": [],
   "source": [
    "encanbezados = \"Nombre|edad|sexo|estatura|masacorporal|colordepelo|colordepiel|legustaempanada|gustabuñuelo|videojuegos\"\n",
    "dato1= \"julian|41|m|185|mucha|poco|medioblanco|si|si|mucho\"\n",
    "dato2= \"julian|041|m|185|mucha|poco|medioblanco|si|si|mucho\"\n",
    "print(encanbezados)\n",
    "print(dato1)\n",
    "encabezadosvectorizados = encanbezados.split('|')\n",
    "dato1vectorizado = dato1.split('|')\n",
    "dato2vectorizado = dato2.split('|')\n",
    "print('----------------------------------')\n",
    "print(encabezadosvectorizados)\n",
    "print('----------------------------------')\n",
    "print(dato1vectorizado)\n",
    "print('-'*34) #Esto que ?\n",
    "print(dato1vectorizado[1])\n",
    "print(int(dato2vectorizado[1]))"
   ]
  },
  {
   "cell_type": "markdown",
   "metadata": {
    "id": "NcXLsnhXQ9EL"
   },
   "source": [
    "### **La Función `format()`**\n",
    "<p>\n",
    "\n",
    "Realiza una operación de formato a variables tipo string. La cadena en la que se llama a este método puede contener texto literal o campos de reemplazo delimitados por llaves `{}`. Cada campo de reemplazo contiene el índice numérico de un argumento posicional o el nombre de un argumento de palabra clave. Devuelve una copia de la cadena donde cada campo de reemplazo se reemplaza con el valor de cadena del argumento correspondiente.\n",
    "\n",
    "El método `format()` toma los argumentos pasados, los formatea y los coloca en la cadena donde están los marcadores de posición `{}`\n",
    "\n",
    "*   Insertar variables no string en cadenas de texto usando `format()`.\n",
    ">*   ```python\n",
    "num = 25\n",
    "texto = \"Superman tiene 33 años y Batman tiene {}\"\n",
    "print(texto.format(num))\n",
    "```\n",
    "\n",
    "*   El método `format()` toma un número ilimitado de argumentos y se colocan en los respectivos marcadores de posición:\n",
    ">*   ```python\n",
    "batimovil = 3\n",
    "capas = 16\n",
    "botas = 22\n",
    "texto = \"Batman tiene un total de {} batimoviles, {} capas y {} botas para vigilar por la noche.\"\n",
    "print(texto.format(batimovil, capas,botas))\n",
    "```\n",
    "\n",
    "*   Se pueden utilizar números de índice {0} para asegurarse de que los argumentos se coloquen en los marcadores de posición correctos:\n",
    ">*   ```python\n",
    "batimovil = 3\n",
    "capas = 16\n",
    "botas = 22\n",
    "texto = \"Batman tiene un total de {2} batimoviles, {1} capas y {0} botas para vigilar por la noche.\"\n",
    "print(texto.format(batimovil, capas, botas))\n",
    "```\n",
    "\n",
    "*   Se pueden utilizar números de índice {0} para asegurarse de que los argumentos se coloquen en los marcadores de posición correctos y se permite repetir:\n",
    ">*   ```python\n",
    "batimovil = 3\n",
    "capas = 16\n",
    "botas = 22\n",
    "texto = \"Batman tiene un total de {0} batimoviles, {1} capas y {1} botas para vigilar por la noche.\"\n",
    "print(texto.format(batimovil, capas, botas))\n",
    "```\n",
    "\n",
    "*   El formato numérico se describe en la siguiente tabla:\n",
    "<table>\n",
    "\t<tbody>\n",
    "\t\t<tr>\n",
    "\t\t\t<th>Número</th>\n",
    "\t\t\t<th>Formato</th>\n",
    "\t\t\t<th>Salida</th>\n",
    "\t\t\t<th>Descripción</th>\n",
    "\t\t</tr>\n",
    "\t\t<tr>\n",
    "\t\t\t<td>3.1415926</td>\n",
    "\t\t\t<td>{:.2f}</td>\n",
    "\t\t\t<td>3.14</td>\n",
    "\t\t\t<td>Formato con dos posiciones decimales</td>\n",
    "\t\t</tr>\n",
    "\t\t<tr>\n",
    "\t\t\t<td>3.1415926</td>\n",
    "\t\t\t<td>`{:+.2f}`</td>\n",
    "\t\t\t<td>+3.14</td>\n",
    "\t\t\t<td>Formato con dos posiciones decimales y signo</td>\n",
    "\t\t</tr>\n",
    "\t\t<tr>\n",
    "\t\t\t<td>-1</td>\n",
    "\t\t\t<td>`{:+.2f}`</td>\n",
    "\t\t\t<td>-1.00</td>\n",
    "\t\t\t<td>Formato con dos posiciones decimales y signo</td>\n",
    "\t\t</tr>\n",
    "\t\t<tr>\n",
    "\t\t\t<td>2.71828</td>\n",
    "\t\t\t<td>`{:.0f}`</td>\n",
    "\t\t\t<td>3</td>\n",
    "\t\t\t<td>Formato con dos posiciones decimales y signo</td>\n",
    "\t\t</tr>\n",
    "\t\t<tr>\n",
    "\t\t\t<td>5</td>\n",
    "\t\t\t<td>`{:0>2d}`</td>\n",
    "\t\t\t<td>05</td>\n",
    "\t\t\t<td>Ajustar con ceros (Izquierda, total de 2 dígitos)</td>\n",
    "\t\t</tr>\n",
    "\t\t<tr>\n",
    "\t\t\t<td>5</td>\n",
    "\t\t\t<td>`{:x<4d}`</td>\n",
    "\t\t\t<td>5xxx</td>\n",
    "\t\t\t<td>Ajustar con x (Derecha, total de 4 carácteres)</td>\n",
    "\t\t</tr>\n",
    "\t\t<tr>\n",
    "\t\t\t<td>10</td>\n",
    "\t\t\t<td>`{:x<4d}`</td>\n",
    "\t\t\t<td>10xx</td>\n",
    "\t\t\t<td>Ajustar con x (Derecha, total de 4 carácteres)</td>\n",
    "\t\t</tr>\n",
    "\t\t<tr>\n",
    "\t\t\t<td>1000000</td>\n",
    "\t\t\t<td>`{:,}`</td>\n",
    "\t\t\t<td>1,000,000</td>\n",
    "\t\t\t<td>Formato numérico con separador de coma</td>\n",
    "\t\t</tr>\n",
    "\t\t<tr>\n",
    "\t\t\t<td>1000000.25</td>\n",
    "\t\t\t<td>`{:,.2f}`</td>\n",
    "\t\t\t<td>1,000,000.25</td>\n",
    "\t\t\t<td>Formato numérico con separador de coma y decimales</td>\n",
    "\t\t</tr>\n",
    "\t\t<tr>\n",
    "\t\t\t<td>0.25</td>\n",
    "\t\t\t<td>`{:.2%}`</td>\n",
    "\t\t\t<td>25.00%</td>\n",
    "\t\t\t<td>Formato porcentaje con dos decimales</td>\n",
    "\t\t</tr>\n",
    "\t\t<tr>\n",
    "\t\t\t<td>1000000000</td>\n",
    "\t\t\t<td>`{:.2e}`</td>\n",
    "\t\t\t<td>1.00e+09</td>\n",
    "\t\t\t<td>Notación exponencial</td>\n",
    "\t\t</tr>\n",
    "\t\t<tr>\n",
    "\t\t\t<td>13</td>\n",
    "\t\t\t<td>`{:10d}`</td>\n",
    "\t\t\t<td>13</td>\n",
    "\t\t\t<td>Alineación derecha (por defecto, ancho 10)</td>\n",
    "\t\t</tr>\n",
    "\t\t<tr>\n",
    "\t\t\t<td>13</td>\n",
    "\t\t\t<td>`{:<10d}`</td>\n",
    "\t\t\t<td>13</td>\n",
    "\t\t\t<td>Alineación izquierda (ancho 10)</td>\n",
    "\t\t</tr>\n",
    "\t\t<tr>\n",
    "\t\t\t<td>13</td>\n",
    "\t\t\t<td>`{:^10d}`</td>\n",
    "\t\t\t<td>13</td>\n",
    "\t\t\t<td>Alineación centro (ancho 10)</td>\n",
    "\t\t</tr>\n",
    "\t</tbody>\n",
    "</table>\n",
    "\n",
    "</p>"
   ]
  },
  {
   "cell_type": "code",
   "execution_count": null,
   "metadata": {
    "colab": {
     "base_uri": "https://localhost:8080/"
    },
    "executionInfo": {
     "elapsed": 472,
     "status": "ok",
     "timestamp": 1692123799388,
     "user": {
      "displayName": "JUAN CAMILO HENAO CARO",
      "userId": "11825490046934558373"
     },
     "user_tz": 300
    },
    "id": "QZopM35aSsdW",
    "outputId": "74c01514-534a-4ea8-db03-6809f12e3087"
   },
   "outputs": [
    {
     "name": "stdout",
     "output_type": "stream",
     "text": [
      "Superman tiene 33 años y Batman tiene {}\n",
      "Superman tiene 33 años y Batman tiene 25\n"
     ]
    }
   ],
   "source": [
    "num = 25\n",
    "texto = \"Superman tiene 33 años y Batman tiene {}\"\n",
    "#funcion format(argumentos posicionales, indexados, 0,1,2,3,...,n)\n",
    "print(texto)\n",
    "print(texto.format(num))"
   ]
  },
  {
   "cell_type": "code",
   "execution_count": null,
   "metadata": {
    "colab": {
     "base_uri": "https://localhost:8080/"
    },
    "executionInfo": {
     "elapsed": 362,
     "status": "ok",
     "timestamp": 1692123875789,
     "user": {
      "displayName": "JUAN CAMILO HENAO CARO",
      "userId": "11825490046934558373"
     },
     "user_tz": 300
    },
    "id": "uT_rs3AzTXK4",
    "outputId": "d6eba4ed-de39-4562-9f33-14b82f15f0b7"
   },
   "outputs": [
    {
     "name": "stdout",
     "output_type": "stream",
     "text": [
      "Batman tiene un total de 3 batimoviles, 16 capas y 22 botas para vigilar por la noche.\n"
     ]
    }
   ],
   "source": [
    "batimovil = 3\n",
    "capas = 16\n",
    "botas = 22\n",
    "texto = \"Batman tiene un total de {} batimoviles, {} capas y {} botas para vigilar por la noche.\"\n",
    "print(texto.format(batimovil, capas,botas))"
   ]
  },
  {
   "cell_type": "code",
   "execution_count": null,
   "metadata": {
    "id": "JDlz85MrTts0"
   },
   "outputs": [],
   "source": [
    "batimovil = 3\n",
    "capas = 16\n",
    "botas = 22\n",
    "texto = \"Batman tiene un total de {2} batimoviles, {1} capas y {0} botas para vigilar por la noche.\"\n",
    "print(texto.format(batimovil, capas, botas))"
   ]
  },
  {
   "cell_type": "code",
   "execution_count": null,
   "metadata": {
    "colab": {
     "base_uri": "https://localhost:8080/"
    },
    "executionInfo": {
     "elapsed": 332,
     "status": "ok",
     "timestamp": 1692123954466,
     "user": {
      "displayName": "JUAN CAMILO HENAO CARO",
      "userId": "11825490046934558373"
     },
     "user_tz": 300
    },
    "id": "zMnl3ac2T7qp",
    "outputId": "1a3951bf-db45-4d8d-ee09-01ca018cf6f2"
   },
   "outputs": [
    {
     "name": "stdout",
     "output_type": "stream",
     "text": [
      "His name is John. John is 36 years old.\n"
     ]
    }
   ],
   "source": [
    "age = 36\n",
    "name = \"John\"\n",
    "txt = \"His name is {1}. {1} is {0} years old.\"\n",
    "print(txt.format(age, name))\n",
    "#                 0     1"
   ]
  },
  {
   "cell_type": "code",
   "execution_count": null,
   "metadata": {
    "colab": {
     "base_uri": "https://localhost:8080/"
    },
    "executionInfo": {
     "elapsed": 340,
     "status": "ok",
     "timestamp": 1692123961599,
     "user": {
      "displayName": "JUAN CAMILO HENAO CARO",
      "userId": "11825490046934558373"
     },
     "user_tz": 300
    },
    "id": "8SrMYdmuUKal",
    "outputId": "a4ff84f1-7238-4f01-f43f-3019e4206810"
   },
   "outputs": [
    {
     "name": "stdout",
     "output_type": "stream",
     "text": [
      "Batman tiene un total de 3 batimoviles, 16 capas y 16 botas para vigilar por la noche.\n"
     ]
    }
   ],
   "source": [
    "batimovil = 3\n",
    "capas = 16\n",
    "botas = 22\n",
    "texto = \"Batman tiene un total de {0} batimoviles, {1} capas y {1} botas para vigilar por la noche.\"\n",
    "print(texto.format(batimovil, capas, botas))"
   ]
  },
  {
   "cell_type": "code",
   "execution_count": null,
   "metadata": {
    "colab": {
     "base_uri": "https://localhost:8080/"
    },
    "executionInfo": {
     "elapsed": 362,
     "status": "ok",
     "timestamp": 1692123968971,
     "user": {
      "displayName": "JUAN CAMILO HENAO CARO",
      "userId": "11825490046934558373"
     },
     "user_tz": 300
    },
    "id": "aTsCgUY6RBoK",
    "outputId": "cf5238a8-1961-49be-9fa7-912e0a1c7d42"
   },
   "outputs": [
    {
     "name": "stdout",
     "output_type": "stream",
     "text": [
      "value1 = 3.14, value2 = 7.9, 1.500000001\n"
     ]
    },
    {
     "data": {
      "text/plain": [
       "str"
      ]
     },
     "execution_count": 73,
     "metadata": {},
     "output_type": "execute_result"
    }
   ],
   "source": [
    "s3 = 'value1 = {0:.2f}, value2 = {2}, {1}'.format(3.1415, 1.500000001, 7.9)\n",
    "\n",
    "print(s3)\n",
    "type(s3)"
   ]
  },
  {
   "cell_type": "code",
   "execution_count": null,
   "metadata": {
    "colab": {
     "base_uri": "https://localhost:8080/"
    },
    "executionInfo": {
     "elapsed": 354,
     "status": "ok",
     "timestamp": 1692123993537,
     "user": {
      "displayName": "JUAN CAMILO HENAO CARO",
      "userId": "11825490046934558373"
     },
     "user_tz": 300
    },
    "id": "RPu-dRzqRNeQ",
    "outputId": "06d0417c-6a74-482e-d241-fcbdd78b7393"
   },
   "outputs": [
    {
     "name": "stdout",
     "output_type": "stream",
     "text": [
      "Valor = 3.14, value2 = 7.90000, 1.50000\n"
     ]
    },
    {
     "data": {
      "text/plain": [
       "str"
      ]
     },
     "execution_count": 74,
     "metadata": {},
     "output_type": "execute_result"
    }
   ],
   "source": [
    "Variable3 = 'Valor = {0:.2f}, value2 = {2:.5f}, {1:.5f}'.format(3.1415, 1.5, 7.9)\n",
    "print(Variable3)\n",
    "type(Variable3)"
   ]
  },
  {
   "cell_type": "code",
   "execution_count": null,
   "metadata": {
    "id": "BDSRQY-pSVSS"
   },
   "outputs": [],
   "source": [
    "print(\"Las líneas nuevas son indicadas / por \\nlos espacios por \\t. Los Unicode con  \\u0021 \\t. \\u0022 \\t. \\u0023 \\t. \\u0024 \\t. \\u0025 \\t. \\u0026 \\t. \\u0027 \\t. \\u0028\")\n",
    "print('------------------------- SEPARADOR --------------------------')\n",
    "print(r\"Las líneas nuevas son indicada por \\n y los espacios por \\t. r indica raw string \\u0026\")\n",
    "#https://www.fileformat.info/info/unicode/char/1234/index.htm"
   ]
  },
  {
   "cell_type": "code",
   "execution_count": null,
   "metadata": {
    "id": "8HlrneKkcxt4"
   },
   "outputs": [],
   "source": [
    "variable4=\"Nombre: {}\\nNúmero: {}\\nString: {}\".format(\"Python\", 2021, 4 * \"s\")\n",
    "print(variable4)"
   ]
  },
  {
   "cell_type": "code",
   "execution_count": null,
   "metadata": {
    "id": "eEpqn5bujv0b"
   },
   "outputs": [],
   "source": [
    "print(\"Esto {verbo} una {sujeto}.\".format(sujeto = \"prueba\", verbo = \"es\"))"
   ]
  },
  {
   "cell_type": "markdown",
   "metadata": {
    "id": "HU2dohIhbrRY"
   },
   "source": [
    "### **Caracteres de Escape**\n",
    "<p>\n",
    "\n",
    "Para insertar caracteres que son ilegales en una cadena, se deben usar caracteres de escape. Un carácter de escape es una barra invertida `\\` seguida del carácter que desea insertar.\n",
    "Un ejemplo de un carácter ilegal es una comilla doble dentro de una cadena que está rodeada por comillas dobles:\n",
    "\n",
    "*   El siguiente caso presenta un error al tratar de especificar algo en un texto usando comillas dobles.\n",
    ">*   ```python\n",
    "texto = \"Batman \"no vuela\", pero es todo un filantropo\"\n",
    "print(texto)\n",
    "```\n",
    "\n",
    "*   Para solucionar el problema anterior utilizamos el carácter especial `\\`\n",
    ">*   ```python\n",
    "texto = \"Batman \\\"no vuela\\\", pero es todo un filantropo\"\n",
    "print(texto)\n",
    "```\n",
    "\n",
    "<br>\n",
    "\n",
    "<p align=\"center\">\n",
    "\n",
    "\n",
    "Código | Resultado\n",
    "--- | ---\n",
    "`\\'` | Comilla sencilla\n",
    "`\\\\` | Backslash o barra invertida\n",
    "`\\n` | Nueva Linea\n",
    "`\\r` | Carriage Return o Retorno de carro\n",
    "`\\t` | Tabulador\n",
    "`\\b` | Backspace\n",
    "`\\f` | Form Feed\n",
    "`\\ooo` | Valor Octal\n",
    "`\\xhh` | Valor Hexadecimal\n",
    "\n",
    "\n",
    "</p>"
   ]
  },
  {
   "cell_type": "code",
   "execution_count": null,
   "metadata": {
    "colab": {
     "base_uri": "https://localhost:8080/"
    },
    "executionInfo": {
     "elapsed": 472,
     "status": "ok",
     "timestamp": 1692124128604,
     "user": {
      "displayName": "JUAN CAMILO HENAO CARO",
      "userId": "11825490046934558373"
     },
     "user_tz": 300
    },
    "id": "CL36a18KAJck",
    "outputId": "1de254d6-1008-431d-97ed-1af1ac3b2185"
   },
   "outputs": [
    {
     "name": "stdout",
     "output_type": "stream",
     "text": [
      "Vamos pa' tu casa\n",
      "Vamos pa' tu casa\n"
     ]
    }
   ],
   "source": [
    "#frase = 'Vamos pa' tu casa'\n",
    "frase = \"Vamos pa' tu casa\"\n",
    "print(frase)\n",
    "\n",
    "frase2 = 'Vamos pa\\' tu casa' #alt+92\n",
    "print(frase2)"
   ]
  },
  {
   "cell_type": "markdown",
   "metadata": {
    "id": "ZFmz9D0dBRe4"
   },
   "source": [
    "<p>\n",
    "\n",
    "## **Boleanos - Bool**\n",
    "\n",
    "Los booleanos representan uno de dos valores: `True` o `False`.\n",
    "\n",
    "</p>"
   ]
  },
  {
   "cell_type": "markdown",
   "metadata": {
    "id": "zQwV-fp1LC_G"
   },
   "source": [
    "### **Valores booleanos**\n",
    "<p>\n",
    "En programación, a menudo necesita se saber si una expresión es Verdadera o Falsa. Se puede evaluar cualquier expresión en Python y obtener una de dos respuestas, Verdadero o Falso. Cuando se comparan dos valores, la expresión se evalúa y Python devuelve la respuesta booleana.</p>"
   ]
  },
  {
   "cell_type": "code",
   "execution_count": null,
   "metadata": {
    "id": "--eCvX-HJ3jR"
   },
   "outputs": [],
   "source": [
    "print(666 > 6)\n",
    "print(10 == 9)\n",
    "print(10 < 9)"
   ]
  },
  {
   "cell_type": "markdown",
   "metadata": {
    "id": "CfwqAV8ZLKQD"
   },
   "source": [
    "### **La gran mayoría es verdadera**\n",
    "<p>\n",
    "La mayoría de los valores son verdaderos, casi cualquier valor se evalúa como Verdadero si tiene algún tipo de contenido. Cualquier cadena es verdadera, excepto las cadenas vacías. Cualquier número es verdadero, excepto 0. Cualquier lista, tupla, conjunto y diccionario son verdaderos, excepto los vacíos.</p>"
   ]
  },
  {
   "cell_type": "code",
   "execution_count": null,
   "metadata": {
    "id": "P-J0dOyrMqca"
   },
   "outputs": [],
   "source": [
    "print(bool(\"abc\"), bool(123), bool([\"apple\", \"cherry\", \"banana\"]))"
   ]
  },
  {
   "cell_type": "markdown",
   "metadata": {
    "id": "Ba6Wp0WsM24c"
   },
   "source": [
    "### **Algunos valores son falsos**\n",
    "<p>\n",
    "\n",
    "De hecho, no hay muchos valores que se evalúen como Falso, excepto los valores vacíos, como `()`, `[]`,` {}`,` \"\"`, el número `0` y el valor `None`. Y, por supuesto, el valor `False` se evalúa como Falso.\n",
    "\n",
    "</p>\n"
   ]
  },
  {
   "cell_type": "code",
   "execution_count": null,
   "metadata": {
    "id": "0eGu6DnoNKvl"
   },
   "outputs": [],
   "source": [
    "print(bool(False), bool(None), bool(0), bool(\"\"), bool(()), bool([]), bool({}))"
   ]
  },
  {
   "cell_type": "code",
   "execution_count": null,
   "metadata": {
    "id": "4sLx8QvNhXff"
   },
   "outputs": [],
   "source": [
    "if 'algo':\n",
    "    print('algo es verdadero')\n",
    "\n",
    "if '':\n",
    "    print('algo es verdadero')\n",
    "else:\n",
    "    print('', 'no es algo')"
   ]
  },
  {
   "cell_type": "markdown",
   "metadata": {
    "id": "A0jWGo2xQO3g"
   },
   "source": [
    "<p><a name=\"s9\"></a></p>\n",
    "\n",
    "# **9. Operadores**\n",
    "[[Contenidos]](#contents)\n",
    "\n",
    "<p>\n",
    "Los operadores se utilizan para realizar operaciones sobre variables y valores. En el siguiente ejemplo, usamos el operador + para sumar dos valores:\n",
    "\n",
    "```python\n",
    "a = 1\n",
    "b = 2\n",
    "c = a + b\n",
    "print (c)\n",
    "```\n",
    "\n",
    "Python divide los operadores en los siguientes grupos:\n",
    "\n",
    "\n",
    "*   Operadores aritméticos\n",
    "*   Operadores de Asignación\n",
    "*   Operadores de comparación\n",
    "*   Operadores lógicos\n",
    "*   Operadores de identidad\n",
    "*   Operadores de membresía o de presencia\n",
    "\n",
    "</p>"
   ]
  },
  {
   "cell_type": "markdown",
   "metadata": {
    "id": "8pSRmmQRU0Bl"
   },
   "source": [
    "## **Operadores Aritméticos**\n",
    "<p>\n",
    "Los operadores aritméticos se utilizan con valores numéricos para realizar operaciones matemáticas comunes:\n",
    "\n",
    "Operador | Nombre | Ejemplo\n",
    "--- | ---  | ---\n",
    "`+` | Adición  | `x + y`\n",
    "`-` | Sustracción  | `x - y`\n",
    "`*` | Multiplicación  | `x * y`\n",
    "`/` | División  | `x / y`\n",
    "`%` | Módulo  | `x % y`\n",
    "`**` | Potenciación  | `x ** y`\n",
    "`//` | División Entera  | `x // y`\n",
    "\n",
    "</p>"
   ]
  },
  {
   "cell_type": "code",
   "execution_count": null,
   "metadata": {
    "id": "UWzy5nJMWevI"
   },
   "outputs": [],
   "source": [
    "x = 6.66\n",
    "y = 7.77\n",
    "print(x + y)\n",
    "print(x - y)\n",
    "print(x * y)\n",
    "print(x / y)\n",
    "print(x % y)\n",
    "print(x ** y)\n",
    "print(x // y)"
   ]
  },
  {
   "cell_type": "markdown",
   "metadata": {
    "id": "6T204AJqW0lN"
   },
   "source": [
    "## **Operadores de asignación de Python**\n",
    "<p>\n",
    "\n",
    "Los operadores de asignación se utilizan para asignar valores a las variables (valga la redundancia algorítmica).\n",
    "\n",
    "<table>\n",
    "   <tbody>\n",
    "      <tr>\n",
    "         <th>Operador</th>\n",
    "         <th>Ejemplo</th>\n",
    "         <th>Camino Largo</th>\n",
    "      </tr>\n",
    "      <tr>\n",
    "         <td>=</td>\n",
    "         <td>x = 5</td>\n",
    "         <td>x = 5</td>\n",
    "      </tr>\n",
    "      <tr>\n",
    "         <td>+=</td>\n",
    "         <td>x += 3</td>\n",
    "         <td>x = x + 3</td>\n",
    "      </tr>\n",
    "      <tr>\n",
    "         <td>-=</td>\n",
    "         <td>x -= 3</td>\n",
    "         <td>x = x - 3</td>\n",
    "      </tr>\n",
    "      <tr>\n",
    "         <td>*=</td>\n",
    "         <td>x *= 3</td>\n",
    "         <td>x = x * 3</td>\n",
    "      </tr>\n",
    "      <tr>\n",
    "         <td>/=</td>\n",
    "         <td>x /= 3</td>\n",
    "         <td>x = x / 3</td>\n",
    "      </tr>\n",
    "      <tr>\n",
    "         <td>%=</td>\n",
    "         <td>x %= 3</td>\n",
    "         <td>x = x % 3</td>\n",
    "      </tr>\n",
    "      <tr>\n",
    "         <td>//=</td>\n",
    "         <td>x //= 3</td>\n",
    "         <td>x = x // 3</td>\n",
    "      </tr>\n",
    "      <tr>\n",
    "         <td>**=</td>\n",
    "         <td>x **= 3</td>\n",
    "         <td>x = x ** 3</td>\n",
    "      </tr>\n",
    "   </tbody>\n",
    "</table>\n",
    "\n",
    "</p>"
   ]
  },
  {
   "cell_type": "code",
   "execution_count": null,
   "metadata": {
    "id": "raje6WloWz9v"
   },
   "outputs": [],
   "source": [
    "x = 666\n",
    "x += 3\n",
    "print(x)\n",
    "x = x + 3\n",
    "print(x)\n",
    "x -= 1\n",
    "print(x)\n",
    "x = x - 1\n",
    "print(x)\n",
    "x *= 3\n",
    "print(x)\n",
    "x = x * 3\n",
    "print(x)\n",
    "x /= 3\n",
    "print(x)\n",
    "x = x / 3\n",
    "print(x)\n",
    "x %= 3\n",
    "print(x, \"Reestablecemos x para poder continuar con los ejercicios\")\n",
    "x = 12\n",
    "x = x % 7\n",
    "print(x)\n",
    "x = 666\n",
    "x //= 2\n",
    "print(x)\n",
    "x = 666\n",
    "x = x // 3\n",
    "x = 666\n",
    "print(x)\n",
    "x **= 3\n",
    "x = 666\n",
    "print(x)\n",
    "x = 666\n",
    "x = x ** 3"
   ]
  },
  {
   "cell_type": "markdown",
   "metadata": {
    "id": "HM2yhdYcrAyQ"
   },
   "source": [
    "## **Operadores de comparación (relacionales) de Python**\n",
    "<p>\n",
    "\n",
    "Los operadores de comparación o más conocidos como operadores relacionales se utilizan para comparar valores de las variables y tiene como respuesta una variable booleana de Falso o Verdadero, se debe interpretar siempre como una respuesta de este tipo.\n",
    "\n",
    "Operador | Nombre | Ejemplo\n",
    "--- | ---  | ---\n",
    "`==` | Igual | `x == y`\n",
    "`!=` | No Igual | `x != y`\n",
    "`>` | Mayor que | `x > y`\n",
    "`<` | Menor que | `x < y`\n",
    "`>=` | Mayor o igual que | `x >= y`\n",
    "`<=` | Menor o igual que | `x <= y`\n",
    "\n",
    "</p>"
   ]
  },
  {
   "cell_type": "code",
   "execution_count": null,
   "metadata": {
    "id": "sP8gsPaDuaQr"
   },
   "outputs": [],
   "source": [
    "x = 1\n",
    "y = 2\n",
    "print(x == y)\n",
    "print(x != y)\n",
    "print(x > y)\n",
    "print(x < y)\n",
    "print(x >= y)\n",
    "print(x <= y)"
   ]
  },
  {
   "cell_type": "markdown",
   "metadata": {
    "id": "At1VqzGIuwzX"
   },
   "source": [
    "## **Operadores Lógicos de Python**\n",
    "<p>\n",
    "\n",
    "Los operadores lógicos son operadores que permiten formular condiciones complejas a partir de condicionales simples. Los operadores lógicos son de conjunción (`and`), disyunción (`or`) y negación (`not`), estos se utilizan para combinar declaraciones condicionales o relacionales:\n",
    "\n",
    "Operador | Descripción | Ejemplo\n",
    "--- | ---  | ---\n",
    "`and` | Retorna True si ambos son True | `x < 5 and  x < 10`\n",
    "`or` | Retorna True si alguno es True | `x < 5 or x < 4`\n",
    "`not` | Revierte el resultado, si es True retorna False y viceversa | `not(x < 5 and x < 10)`\n",
    "\n",
    "</p>"
   ]
  },
  {
   "cell_type": "code",
   "execution_count": null,
   "metadata": {
    "id": "dSRZyDvavf_4"
   },
   "outputs": [],
   "source": [
    "print(x < 5 and x < 10)\n",
    "print(x < 5 or x < 4)\n",
    "print(not(x < 5 and x < 10))"
   ]
  },
  {
   "cell_type": "markdown",
   "metadata": {
    "id": "0jiPObZEtBgK"
   },
   "source": [
    "## **Tabla de verdad de los Operadores Lógicos de Python**\n",
    "<p>\n",
    "\n",
    "Los operadores lógicos se utilizan para combinar declaraciones condicionales o relacionales:\n",
    "\n",
    "**P** | **Q** | **not P** | **not Q** | **P or Q** | **P and Q**\n",
    "--- | ---  | ---   | ---  | ---  | ---\n",
    "**True** | **True** | False | False | True | True\n",
    "**True** | **False** | False | True | True | False\n",
    "**False** | **True** | True | False | True | False\n",
    "**False** | **False** | True | True | False | False\n",
    "\n",
    "\n",
    "\n",
    "\n",
    "</p>"
   ]
  },
  {
   "cell_type": "markdown",
   "metadata": {
    "id": "9YomgeRev5w2"
   },
   "source": [
    "## **Operadores de identidad de Python**\n",
    "<p>\n",
    "\n",
    "Los operadores de identidad se utilizan para comparar objetos, no si son iguales, sino si en realidad son el mismo objeto, con la misma ubicación de memoria.\n",
    "\n",
    "Operador | Descripción | Ejemplo\n",
    "--- | ---  | ---\n",
    "`is` | Retorna True si ambos objetos son el mismo | `x is y`\n",
    "`is not` | Retorna True si ambos objetos no son el mismo | `x is not y`\n",
    "\n",
    "</p>"
   ]
  },
  {
   "cell_type": "code",
   "execution_count": null,
   "metadata": {
    "id": "RHTlLvZqwWZK"
   },
   "outputs": [],
   "source": [
    "x = [\"batman\", \"superman\"]\n",
    "y = [\"batman\", \"superman\"]\n",
    "z = x\n"
   ]
  },
  {
   "cell_type": "code",
   "execution_count": null,
   "metadata": {
    "colab": {
     "base_uri": "https://localhost:8080/"
    },
    "executionInfo": {
     "elapsed": 7,
     "status": "ok",
     "timestamp": 1692125099731,
     "user": {
      "displayName": "JUAN CAMILO HENAO CARO",
      "userId": "11825490046934558373"
     },
     "user_tz": 300
    },
    "id": "3fZQ9x-SwfS_",
    "outputId": "047485a0-a21b-4458-f913-4d0d346eb56e"
   },
   "outputs": [
    {
     "name": "stdout",
     "output_type": "stream",
     "text": [
      "x | ['batman', 'superman']\n",
      "y | ['batman', 'superman']\n",
      "z | ['batman', 'superman']\n"
     ]
    }
   ],
   "source": [
    "print('x','|',x)\n",
    "print('y','|',y)\n",
    "print('z','|',z)"
   ]
  },
  {
   "cell_type": "code",
   "execution_count": null,
   "metadata": {
    "colab": {
     "base_uri": "https://localhost:8080/"
    },
    "executionInfo": {
     "elapsed": 463,
     "status": "ok",
     "timestamp": 1692125117798,
     "user": {
      "displayName": "JUAN CAMILO HENAO CARO",
      "userId": "11825490046934558373"
     },
     "user_tz": 300
    },
    "id": "VCKDLPCL1iaI",
    "outputId": "5acae7c5-0e31-4ec3-c0b5-8fba26a582e3"
   },
   "outputs": [
    {
     "name": "stdout",
     "output_type": "stream",
     "text": [
      "++++++++++++++++++++++++++++++++++++++++++++++++++\n",
      "x is z | True\n",
      "++++++++++++++++++++++++++++++++++++++++++++++++++\n",
      "x is y | False\n",
      "++++++++++++++++++++++++++++++++++++++++++++++++++\n",
      "x == y | True\n",
      "++++++++++++++++++++++++++++++++++++++++++++++++++\n"
     ]
    }
   ],
   "source": [
    "print('+'*50)\n",
    "print('x is z','|', x is z)\n",
    "print('+'*50)\n",
    "print('x is y','|',x is y)\n",
    "print('+'*50)\n",
    "print('x == y','|',x == y)\n",
    "print('+'*50)"
   ]
  },
  {
   "cell_type": "code",
   "execution_count": null,
   "metadata": {
    "id": "Q2xoW-fw1j7r"
   },
   "outputs": [],
   "source": [
    "print('')\n",
    "print('x is not z','|',x is not z)\n",
    "print('x is not y','|',x is not y)\n",
    "print('x != y','|',x != y)"
   ]
  },
  {
   "cell_type": "markdown",
   "metadata": {
    "id": "bZDei9C7xZFh"
   },
   "source": [
    "## **Operadores de membresía de Python**\n",
    "<p>\n",
    "\n",
    "Los operadores de pertenencia o membresía se utilizan para probar si se presenta una secuencia en un objeto.\n",
    "\n",
    "Operador | Descripción | Ejemplo\n",
    "--- | ---  | ---\n",
    "`in` | Retorna True si el valor se encuentra en la secuencia | `x in y`\n",
    "`not in` | Retorna True si el valor no se encuentra en la secuencia | `x not in y`\n",
    "\n",
    "</p>"
   ]
  },
  {
   "cell_type": "code",
   "execution_count": null,
   "metadata": {
    "id": "2bXq0lhVzVUD"
   },
   "outputs": [],
   "source": [
    "x = [\"Batman\", \"Superman\"]\n",
    "\n",
    "print(\"Superman\" in x)\n",
    "print(\"WonderWoman\" in x)"
   ]
  },
  {
   "cell_type": "markdown",
   "metadata": {
    "id": "alZhEZg_fwBZ"
   },
   "source": [
    "## **Jeraquía de los operadores de Python**\n",
    "<p>\n",
    "\n",
    "Los operadores tienen una jerarquía de operación cuando están involucrados en operaciones conjuntas, la siguiente tabla muestra la jerarquía de ejecución.\n",
    "\n",
    "Prioridad | Operador | Descripción\n",
    "--- | ---  | ---\n",
    "1 | `(expressions...),[expressions...], {key: value...}, {expressions...}` | Parentesis, listas, diccionarios o conjuntos\n",
    "2 | `x[index], x[index:index], x(arguments...), x.attribute` | Suscripcion, slicing, llamadas, atributos de referencia\n",
    "4 | `**` | Potenciación\n",
    "5 | `*, @, /, //, %` | Multiplicación, multiplicación matricial, división, división entera, módulo\n",
    "6 | `+, -` | Suma y resta\n",
    "7 | `in, not in, is, is not, <, <=, >, >=, !=, ==` | Comparisons, including membership tests and identity tests\n",
    "8 | `not x` | Expresion Booleana Negación\n",
    "9 | `and` | Expresion Booleana Y\n",
    "10 | `or` | Expresion Booleana O\n",
    "11 | `if – else` | Expresion condicional\n",
    "12 | `:=` | Expresion de asignacion\n",
    "\n",
    "</p>"
   ]
  },
  {
   "cell_type": "code",
   "execution_count": null,
   "metadata": {
    "colab": {
     "base_uri": "https://localhost:8080/"
    },
    "executionInfo": {
     "elapsed": 24,
     "status": "ok",
     "timestamp": 1692292280123,
     "user": {
      "displayName": "JUAN CAMILO HENAO CARO",
      "userId": "11825490046934558373"
     },
     "user_tz": 300
    },
    "id": "HR3BzpOv19oA",
    "outputId": "35cdd6f1-975d-40e8-8fd7-95725f0816c1"
   },
   "outputs": [
    {
     "name": "stdout",
     "output_type": "stream",
     "text": [
      "1.0601082388670306e+73 True 15.666666666666666 2 8.140274938683976e+22 41.0\n"
     ]
    }
   ],
   "source": [
    "a = 2**3**5*3/4+3**2**5/6\n",
    "b = 16 + 3 / 2 > 16**1 + 2 /20\n",
    "c = 5 + 3 + 2 + 8 + 9 - 1 - 3 - 5 - 7 / 3 % 4\n",
    "d = 16 // 3 % 3\n",
    "e = 11 / 11 * (11 * 11) ** 11\n",
    "f = 5 + 3 * ( 81 % 4 ) / 3 + 55 - 20\n",
    "print(a,b,c,d,e,f)"
   ]
  },
  {
   "cell_type": "code",
   "execution_count": null,
   "metadata": {
    "colab": {
     "base_uri": "https://localhost:8080/"
    },
    "executionInfo": {
     "elapsed": 30,
     "status": "ok",
     "timestamp": 1692292280121,
     "user": {
      "displayName": "JUAN CAMILO HENAO CARO",
      "userId": "11825490046934558373"
     },
     "user_tz": 300
    },
    "id": "35BzDo2k2vPb",
    "outputId": "a3756e39-649b-4fe3-8e96-019a81a34102"
   },
   "outputs": [
    {
     "name": "stdout",
     "output_type": "stream",
     "text": [
      "False True True False\n"
     ]
    }
   ],
   "source": [
    "g = (2 ** 2) > (11 * 2)\n",
    "h = (3 + 5 / (3 ** 3) ) != (4 + 5 / (8 ** 8))\n",
    "i = (8 * 5 + 2 ** 3 / 4 ) <= 9 ** 3 // 6\n",
    "j = ((49 % 6 * 2 ** 7) > (7 + 8 * 3 ** 4) )> ((15 * 2) == (60 * 2 / 4))\n",
    "print(g,h,i,j)"
   ]
  },
  {
   "cell_type": "markdown",
   "metadata": {
    "id": "jBPOU-l9jLb_"
   },
   "source": [
    "# **Volvemos a las 8:01 PM**"
   ]
  },
  {
   "cell_type": "markdown",
   "metadata": {
    "id": "BLqn1S-dzjq-"
   },
   "source": [
    "<p><a name=\"s10\"></a></p>\n",
    "\n",
    "# **10. Listas, tuplas, diccionarios y conjuntos**\n",
    "\n",
    "## **Conocidos como Python Collections (Arrays)**\n",
    "\n",
    "[[Contenidos]](#contents)\n",
    "\n",
    "\n",
    "<p>\n",
    "Hay cuatro tipos de datos de datos vectorizados en el lenguaje de programación Python:\n",
    "\n",
    "\n",
    "\n",
    "*   List (Lista) es una colección ordenada y modificable. Permite miembros duplicados.\n",
    "*   Tuple (Tupla) es una colección ordenada e inmutable. Permite miembros duplicados.\n",
    "*   Set (Conjunto) es una colección que no está ordenada ni indexada. No hay miembros duplicados.\n",
    "*   Dictionary (Diccionario) es una colección ordenada y modificable. No hay miembros duplicados en sus llaves.\n",
    "\n",
    "Al elegir un tipo de colección, es útil conocer y comprender las propiedades de ese. Elegir el tipo correcto para un conjunto de datos podría significar un aumento en la eficiencia o la seguridad de los algoritmos. Seleccionar el tipo inadecuado casi siempre conlleva a subprocesos y largos tiempos de ejecución y en la mayoría de los casos código adicional no necesario.\n",
    "\n",
    "</p>"
   ]
  },
  {
   "cell_type": "markdown",
   "metadata": {
    "id": "mZ99q7PW0zwE"
   },
   "source": [
    "## **List (Listas)**\n",
    "[[Contenidos]](#contents)\n",
    "<p>\n",
    "\n",
    "Las listas se utilizan para almacenar varios elementos en una sola variable.\n",
    "\n",
    "Las listas se crean utilizando corchetes.\n",
    "Los elementos de las listas están ordenados, se pueden cambiar y permiten valores duplicados.\n",
    "\n",
    "Los elementos de la lista están indexados, el primer elemento tiene índice `[0]`, el segundo elemento tiene índice `[1]`, etc.\n",
    "\n",
    "</p>"
   ]
  },
  {
   "cell_type": "code",
   "execution_count": null,
   "metadata": {
    "colab": {
     "base_uri": "https://localhost:8080/"
    },
    "executionInfo": {
     "elapsed": 18,
     "status": "ok",
     "timestamp": 1692292601971,
     "user": {
      "displayName": "JUAN CAMILO HENAO CARO",
      "userId": "11825490046934558373"
     },
     "user_tz": 300
    },
    "id": "sUGOvBVC1DkC",
    "outputId": "4f2481f1-db40-4567-afb2-0d28bd9ddd03"
   },
   "outputs": [
    {
     "name": "stdout",
     "output_type": "stream",
     "text": [
      "['Batman', 'SuperMan', 'WonderWoman']\n"
     ]
    }
   ],
   "source": [
    "superheroes = [\"Batman\", \"SuperMan\", \"WonderWoman\"]\n",
    "print(superheroes)"
   ]
  },
  {
   "cell_type": "markdown",
   "metadata": {
    "id": "g4DF1q6l1e-w"
   },
   "source": [
    "### **Ordenada**\n",
    "<p>\n",
    "Cuando decimos que las listas están ordenadas, significa que los artículos tienen un orden definido y ese orden no cambiará. Si agrega nuevos elementos a una lista, los nuevos elementos se colocarán al final de la lista.\n",
    "\n",
    "</p>"
   ]
  },
  {
   "cell_type": "markdown",
   "metadata": {
    "id": "nOWj9_hS1wyi"
   },
   "source": [
    "### **Cambiable**\n",
    "<p>\n",
    "La lista se puede cambiar, lo que significa que podemos cambiar, agregar y eliminar elementos en una lista después de que se haya creado.\n",
    "</p>"
   ]
  },
  {
   "cell_type": "markdown",
   "metadata": {
    "id": "TEdn4QTd1xcP"
   },
   "source": [
    "### **Permitir duplicados**\n",
    "<p>\n",
    "Dado que las listas están indexadas, las listas pueden tener elementos con el mismo valor.\n",
    "</p>"
   ]
  },
  {
   "cell_type": "markdown",
   "metadata": {
    "id": "-KEqohNP2LS6"
   },
   "source": [
    "### **Largo o tamaño de una Lista**\n",
    "<p>\n",
    "\n",
    "Para determinar cuántos elementos tiene una lista, use la función `len()`.\n",
    "</p>"
   ]
  },
  {
   "cell_type": "code",
   "execution_count": null,
   "metadata": {
    "colab": {
     "base_uri": "https://localhost:8080/"
    },
    "executionInfo": {
     "elapsed": 244,
     "status": "ok",
     "timestamp": 1692292754694,
     "user": {
      "displayName": "JUAN CAMILO HENAO CARO",
      "userId": "11825490046934558373"
     },
     "user_tz": 300
    },
    "id": "Mljj5L9R2Zz6",
    "outputId": "5236cbf9-7477-4b74-9981-9519d8c70e22"
   },
   "outputs": [
    {
     "name": "stdout",
     "output_type": "stream",
     "text": [
      "3\n"
     ]
    }
   ],
   "source": [
    "# superheroes = [\"Batman\", \"SuperMan\", \"WonderWoman\"] ## Recordad oh queridos alumnos, la variable ya fue creada.\n",
    "print(len(superheroes))"
   ]
  },
  {
   "cell_type": "markdown",
   "metadata": {
    "id": "2rFMQ49w2oK2"
   },
   "source": [
    "### **Ítems de una lista y tipos de datos**\n",
    "<p>\n",
    "\n",
    "Los elementos de una lista pueden ser de cualquier tipo de datos.\n",
    "Podemos determinar el tipo de una lista usando la funcion `type()`\n",
    "</p>"
   ]
  },
  {
   "cell_type": "code",
   "execution_count": null,
   "metadata": {
    "colab": {
     "base_uri": "https://localhost:8080/"
    },
    "executionInfo": {
     "elapsed": 202,
     "status": "ok",
     "timestamp": 1692292769507,
     "user": {
      "displayName": "JUAN CAMILO HENAO CARO",
      "userId": "11825490046934558373"
     },
     "user_tz": 300
    },
    "id": "IoQ_mGUP9gxP",
    "outputId": "16f190d0-7cbe-4d68-c49e-fd31a7a99382"
   },
   "outputs": [
    {
     "name": "stdout",
     "output_type": "stream",
     "text": [
      "['Superman', 'Batman', 'WonderWoman']\n",
      "[6, 5, 4, 3, 2, 1]\n",
      "[True, True, False, False, True]\n",
      "['Superman', 4, 4.0, True]\n"
     ]
    }
   ],
   "source": [
    "lista1 = [\"Superman\",\"Batman\",\"WonderWoman\"]\n",
    "lista2 = [6, 5, 4, 3, 2, 1]\n",
    "lista3 = [True, True, False, False, True]\n",
    "lista4 = [\"Superman\", 4, 4.0, True] #Nótese que la lista puede tener todo tipo de datos.\n",
    "print(lista1)\n",
    "print(lista2)\n",
    "print(lista3)\n",
    "print(lista4)"
   ]
  },
  {
   "cell_type": "code",
   "execution_count": null,
   "metadata": {
    "id": "yvAyJLlg-GdJ"
   },
   "outputs": [],
   "source": [
    "#podemos determinar el tipo\n",
    "type(lista1)"
   ]
  },
  {
   "cell_type": "code",
   "execution_count": null,
   "metadata": {
    "id": "4HSZ5xYaUGv2"
   },
   "outputs": [],
   "source": [
    "type(lista1[0])"
   ]
  },
  {
   "cell_type": "markdown",
   "metadata": {
    "id": "l9dQzeUf-c9F"
   },
   "source": [
    "### **Usando el constructor de la clase `list()`**\n",
    "<p>\n",
    "\n",
    "También es posible utilizar el constructor `list()` al crear una nueva lista.\n",
    "Debe notarse que se deben tener doble paréntesis, uno para el constructor y otro para identificar la lista y sus objetos.\n",
    "\n",
    "```python\n",
    "batilista = list((\"Batman\", \"No Es\", \"Bruce Wayne\"))\n",
    "print(batilista)\n",
    "```\n",
    "\n",
    "</p>"
   ]
  },
  {
   "cell_type": "code",
   "execution_count": null,
   "metadata": {
    "colab": {
     "base_uri": "https://localhost:8080/"
    },
    "executionInfo": {
     "elapsed": 247,
     "status": "ok",
     "timestamp": 1692292789995,
     "user": {
      "displayName": "JUAN CAMILO HENAO CARO",
      "userId": "11825490046934558373"
     },
     "user_tz": 300
    },
    "id": "aKbblrTC-qxz",
    "outputId": "132740ff-1a38-415d-92b1-6159a823b302"
   },
   "outputs": [
    {
     "name": "stdout",
     "output_type": "stream",
     "text": [
      "['Batman', 'No Es', 'Bruce Wayne']\n",
      "<class 'list'>\n"
     ]
    }
   ],
   "source": [
    "batilista = list((\"Batman\", \"No Es\", \"Bruce Wayne\"))\n",
    "print(batilista)\n",
    "print(type(batilista))"
   ]
  },
  {
   "cell_type": "code",
   "execution_count": null,
   "metadata": {
    "colab": {
     "base_uri": "https://localhost:8080/"
    },
    "executionInfo": {
     "elapsed": 200,
     "status": "ok",
     "timestamp": 1692292797776,
     "user": {
      "displayName": "JUAN CAMILO HENAO CARO",
      "userId": "11825490046934558373"
     },
     "user_tz": 300
    },
    "id": "8s6iQfNlUdIr",
    "outputId": "d8a50ba6-c842-4321-dfb2-fb258ca58cc1"
   },
   "outputs": [
    {
     "data": {
      "text/plain": [
       "list"
      ]
     },
     "execution_count": 7,
     "metadata": {},
     "output_type": "execute_result"
    }
   ],
   "source": [
    "type(batilista)"
   ]
  },
  {
   "cell_type": "markdown",
   "metadata": {
    "id": "3Qwuc7FQ_a98"
   },
   "source": [
    "### **Acceder a los ítems de una lista (Indexado)**\n",
    "<p>\n",
    "\n",
    "Los elementos de la lista están indexados y puede acceder a ellos consultando el número de índice.\n",
    "\n",
    "Nota: El primer ítem de una lista tiene índice cero.\n",
    "Para acceder a los valores se debe utilizar corchetes `[]`\n",
    "\n",
    "</p>"
   ]
  },
  {
   "cell_type": "code",
   "execution_count": null,
   "metadata": {
    "colab": {
     "base_uri": "https://localhost:8080/"
    },
    "executionInfo": {
     "elapsed": 217,
     "status": "ok",
     "timestamp": 1692292865025,
     "user": {
      "displayName": "JUAN CAMILO HENAO CARO",
      "userId": "11825490046934558373"
     },
     "user_tz": 300
    },
    "id": "rHA-uIJB_oW5",
    "outputId": "0c9be2e8-6806-43ab-9e41-2b8147386b59"
   },
   "outputs": [
    {
     "name": "stdout",
     "output_type": "stream",
     "text": [
      "Batman | Indice 0\n",
      "No Es | Indice 1\n",
      "Bruce Wayne | Indice 2\n"
     ]
    }
   ],
   "source": [
    "batilista = [\"Batman\", \"No Es\", \"Bruce Wayne\"]\n",
    "print(batilista[0], \"|\",  \"Indice 0\")\n",
    "print(batilista[1], \"|\",   \"Indice 1\")\n",
    "print(batilista[2], \"|\",   \"Indice 2\")"
   ]
  },
  {
   "cell_type": "code",
   "execution_count": null,
   "metadata": {
    "colab": {
     "base_uri": "https://localhost:8080/"
    },
    "executionInfo": {
     "elapsed": 262,
     "status": "ok",
     "timestamp": 1692293114342,
     "user": {
      "displayName": "JUAN CAMILO HENAO CARO",
      "userId": "11825490046934558373"
     },
     "user_tz": 300
    },
    "id": "2D7c0w1RUujY",
    "outputId": "595fcdd0-892a-44ca-e49a-36817eb808fe"
   },
   "outputs": [
    {
     "name": "stdout",
     "output_type": "stream",
     "text": [
      "Bruce Wayne | Indice 3\n"
     ]
    }
   ],
   "source": [
    "print(batilista[-1], \"|\",   \"Indice 3\")"
   ]
  },
  {
   "cell_type": "code",
   "execution_count": null,
   "metadata": {
    "id": "cs86qOFVVLtw"
   },
   "outputs": [],
   "source": [
    "# [-3,-2,-1,0,1,2,3]\n",
    "#   0  1  2 3 4 5 6"
   ]
  },
  {
   "cell_type": "markdown",
   "metadata": {
    "id": "3RhSj-IGASei"
   },
   "source": [
    "### **Indexado Negativo**\n",
    "<p>\n",
    "\n",
    "La indexación negativa significa comenzar desde el final\n",
    "\n",
    "-1 se refiere al último elemento, -2 se refiere al penúltimo elemento, etc.\n",
    "\n",
    "</p>"
   ]
  },
  {
   "cell_type": "code",
   "execution_count": null,
   "metadata": {
    "colab": {
     "base_uri": "https://localhost:8080/"
    },
    "executionInfo": {
     "elapsed": 230,
     "status": "ok",
     "timestamp": 1692293119913,
     "user": {
      "displayName": "JUAN CAMILO HENAO CARO",
      "userId": "11825490046934558373"
     },
     "user_tz": 300
    },
    "id": "46pj_4BiAd4R",
    "outputId": "fa434d90-2717-44a1-c49d-e8d710c0c54a"
   },
   "outputs": [
    {
     "name": "stdout",
     "output_type": "stream",
     "text": [
      "Bruce Wayne | Indice 2\n",
      "No Es | Indice 1\n",
      "Batman | Indice 0\n"
     ]
    }
   ],
   "source": [
    "print(batilista[-1], \"|\",  \"Indice 2\")\n",
    "print(batilista[-2], \"|\",   \"Indice 1\")\n",
    "print(batilista[-3], \"|\",   \"Indice 0\")"
   ]
  },
  {
   "cell_type": "code",
   "execution_count": null,
   "metadata": {
    "id": "iIa3fnKBCKZ_"
   },
   "outputs": [],
   "source": [
    "#print(batilista[-4], \"|\",   \"Indice 0\")"
   ]
  },
  {
   "cell_type": "markdown",
   "metadata": {
    "id": "ObQKCEslCL_D"
   },
   "source": [
    "### **Slicing (Rebanar) - Rango de índices**\n",
    "<p>\n",
    "\n",
    "En la clase 2 explicamos el slicing o rebanado como una técnica de acceso a las variables tipo `string`, este método también aplica a listas.\n",
    "Se puede especificar un rango de índices indicando dónde comenzar y dónde terminar el rango. Al especificar un rango, el valor de retorno será una nueva lista con los elementos especificados.\n",
    "Nota: La búsqueda comenzará en el primer índice (incluido) y terminará en el último índice 5 (no incluido). Recuerde que el primer elemento tiene índice 0.\n",
    "Al omitir el valor inicial, el rango comenzará en el primer elemento. También aplican los índices negativos detallados previamente.\n",
    "También se puede especificar si un elemento específico está presente en una lista, use la palabra clave in de los operadores de membresía detallados previamente.\n",
    "\n",
    "</p>"
   ]
  },
  {
   "cell_type": "code",
   "execution_count": null,
   "metadata": {
    "colab": {
     "base_uri": "https://localhost:8080/"
    },
    "executionInfo": {
     "elapsed": 7,
     "status": "ok",
     "timestamp": 1692293128619,
     "user": {
      "displayName": "JUAN CAMILO HENAO CARO",
      "userId": "11825490046934558373"
     },
     "user_tz": 300
    },
    "id": "B2BE9OeMDcFh",
    "outputId": "676f3371-a494-40db-d0c6-8128c1ba1a97"
   },
   "outputs": [
    {
     "name": "stdout",
     "output_type": "stream",
     "text": [
      "Imprimir toda la lista ['Batman', 'es', 'un', 'personaje', 'creado', 'por', 'los', 'estadounidenses', 'Bob', 'Kane', 'y', 'Bill Finger', 'y', 'propiedad', 'de', 'DC', 'Comics.']\n",
      "Imprimir del indice 2 al 7 ['un', 'personaje', 'creado', 'por', 'los', 'estadounidenses']\n",
      "Imprimir del inicio al 7 ['Batman', 'es', 'un', 'personaje', 'creado', 'por', 'los', 'estadounidenses']\n",
      "Imprimir del penultimo al quinto item de atras hacia adelante ['y', 'propiedad', 'de', 'DC']\n",
      "Imprimir del ultimo (no especificar el ultimo indice) al quinto item de atras hacia adelante ['y', 'propiedad', 'de', 'DC', 'Comics.']\n",
      "Si Batman se encuentra en la batilista imprime True |  True\n"
     ]
    }
   ],
   "source": [
    "batilista2 = [\"Batman\", \"es\", \"un\", \"personaje\", \"creado\", \"por\", \"los\", \"estadounidenses\", \"Bob\", \"Kane\", \"y\", \"Bill Finger\", \"y\", \"propiedad\", \"de\", \"DC\", \"Comics.\"]\n",
    "print(\"Imprimir toda la lista\", batilista2)\n",
    "print(\"Imprimir del indice 2 al 7\", batilista2[2:8])\n",
    "print(\"Imprimir del inicio al 7\", batilista2[:8])\n",
    "print(\"Imprimir del penultimo al quinto item de atras hacia adelante\", batilista2[-5:-1])\n",
    "print(\"Imprimir del ultimo (no especificar el ultimo indice) al quinto item de atras hacia adelante\", batilista2[-5:])\n",
    "print(\"Si Batman se encuentra en la batilista imprime True | \",\"Batman\" in batilista2)"
   ]
  },
  {
   "cell_type": "markdown",
   "metadata": {
    "id": "vN8iANI1GjF8"
   },
   "source": [
    "### **Modificar valores de una lista**\n",
    "<p>\n",
    "\n",
    "Para modificar el valor de un índice especifico se debe utilizar este y realizar una operación de asignación.\n",
    "\n",
    "</p>"
   ]
  },
  {
   "cell_type": "code",
   "execution_count": null,
   "metadata": {
    "colab": {
     "base_uri": "https://localhost:8080/"
    },
    "executionInfo": {
     "elapsed": 215,
     "status": "ok",
     "timestamp": 1692293142628,
     "user": {
      "displayName": "JUAN CAMILO HENAO CARO",
      "userId": "11825490046934558373"
     },
     "user_tz": 300
    },
    "id": "0wXJzMfrWL4X",
    "outputId": "67a38a7f-9f60-4b96-e586-a4c87ae52722"
   },
   "outputs": [
    {
     "name": "stdout",
     "output_type": "stream",
     "text": [
      "['Batman', 'es', 'un', 'personaje', 'creado', 'por', 'los', 'estadounidenses', 'Bob', 'Kane', 'y', 'Bill Finger', 'y', 'propiedad', 'de', 'DC', 'Comics.']\n"
     ]
    }
   ],
   "source": [
    "print(batilista2)"
   ]
  },
  {
   "cell_type": "code",
   "execution_count": null,
   "metadata": {
    "colab": {
     "base_uri": "https://localhost:8080/"
    },
    "executionInfo": {
     "elapsed": 189,
     "status": "ok",
     "timestamp": 1692293146078,
     "user": {
      "displayName": "JUAN CAMILO HENAO CARO",
      "userId": "11825490046934558373"
     },
     "user_tz": 300
    },
    "id": "AwUS2FGwIM2F",
    "outputId": "2de14b0f-1e0b-4e2d-de1c-f124e748de36"
   },
   "outputs": [
    {
     "name": "stdout",
     "output_type": "stream",
     "text": [
      "['El Hombre Murcielago, conocido como BatMan en Inglés,', 'es', 'un', 'personaje', 'creado', 'por', 'los', 'estadounidenses', 'Bob', 'Kane', 'y', 'Bill Finger', 'y', 'propiedad', 'de', 'DC', 'Comics.']\n"
     ]
    }
   ],
   "source": [
    "batilista2[0] = \"El Hombre Murcielago, conocido como BatMan en Inglés,\"\n",
    "print(batilista2)"
   ]
  },
  {
   "cell_type": "code",
   "execution_count": null,
   "metadata": {
    "colab": {
     "base_uri": "https://localhost:8080/",
     "height": 35
    },
    "executionInfo": {
     "elapsed": 232,
     "status": "ok",
     "timestamp": 1692293149457,
     "user": {
      "displayName": "JUAN CAMILO HENAO CARO",
      "userId": "11825490046934558373"
     },
     "user_tz": 300
    },
    "id": "3CumLSc_mc5A",
    "outputId": "6cee3401-2bb2-4e18-e8b5-347a05c7c2e1"
   },
   "outputs": [
    {
     "data": {
      "application/vnd.google.colaboratory.intrinsic+json": {
       "type": "string"
      },
      "text/plain": [
       "'El Hombre Murcielago, conocido como BatMan en Inglés,'"
      ]
     },
     "execution_count": 22,
     "metadata": {},
     "output_type": "execute_result"
    }
   ],
   "source": [
    "batilista2[0]"
   ]
  },
  {
   "cell_type": "markdown",
   "metadata": {
    "id": "Ssn0ecnDIeBI"
   },
   "source": [
    "### **Modificar un rango de valores de una lista**\n",
    "<p>\n",
    "\n",
    "Para cambiar el valor de los elementos dentro de un rango específico, se define una lista con los nuevos valores y consulte el rango de números de índice donde desea insertar los nuevos valores.\n",
    "Nota: La longitud de la lista cambiará cuando el número de elementos insertados no coincida con el número de elementos reemplazados.\n",
    "Si inserta menos elementos de los que reemplaza, los elementos nuevos se insertarán donde haya especificado y los elementos restantes se moverán consecuentemente.\n",
    "</p>"
   ]
  },
  {
   "cell_type": "code",
   "execution_count": null,
   "metadata": {
    "colab": {
     "base_uri": "https://localhost:8080/"
    },
    "executionInfo": {
     "elapsed": 201,
     "status": "ok",
     "timestamp": 1692293173595,
     "user": {
      "displayName": "JUAN CAMILO HENAO CARO",
      "userId": "11825490046934558373"
     },
     "user_tz": 300
    },
    "id": "sgxwfuPQJAM1",
    "outputId": "739ca4c4-0336-43f0-ce68-85a316470f90"
   },
   "outputs": [
    {
     "name": "stdout",
     "output_type": "stream",
     "text": [
      "['Batman', 'SuperMan', 'WonderWoman', 'GreenLantern', 'MartianManhunter', 'Flash', 'GreenArrow', 'AquaMan']\n",
      "['Bruce Wayne', 'Clark Kent', 'Diana Prince', 'Hal Jordan', \"J'onn J'onzz\", 'Barry Allen', 'Oliver Queen', 'Arthur Curry']\n"
     ]
    }
   ],
   "source": [
    "superheroes = [\"Batman\", \"SuperMan\", \"WonderWoman\", \"GreenLantern\", \"MartianManhunter\", \"Flash\", \"GreenArrow\", \"AquaMan\"]\n",
    "sereshumanos = [\"Bruce Wayne\", \"Clark Kent\", \"Diana Prince\", \"Hal Jordan\", \"J'onn J'onzz\", \"Barry Allen\", \"Oliver Queen\", \"Arthur Curry\"]\n",
    "print(superheroes)\n",
    "print(sereshumanos)"
   ]
  },
  {
   "cell_type": "code",
   "execution_count": null,
   "metadata": {
    "colab": {
     "base_uri": "https://localhost:8080/"
    },
    "executionInfo": {
     "elapsed": 221,
     "status": "ok",
     "timestamp": 1692293176626,
     "user": {
      "displayName": "JUAN CAMILO HENAO CARO",
      "userId": "11825490046934558373"
     },
     "user_tz": 300
    },
    "id": "QYT80z3kDqEo",
    "outputId": "90df4c6e-f9af-49f9-c7e7-4feb080b5c5f"
   },
   "outputs": [
    {
     "name": "stdout",
     "output_type": "stream",
     "text": [
      "['SuperMan', 'WonderWoman', 'GreenLantern', 'MartianManhunter']\n",
      "['Super Man', 'Wonder Woman', 'Green Lantern', 'Martian Manhunter']\n"
     ]
    }
   ],
   "source": [
    "print(superheroes[1:5])\n",
    "superheroes[1:5] = [\"Super Man\", \"Wonder Woman\", \"Green Lantern\", \"Martian Manhunter\"]\n",
    "\n",
    "print(superheroes[1:5])"
   ]
  },
  {
   "cell_type": "code",
   "execution_count": null,
   "metadata": {
    "colab": {
     "base_uri": "https://localhost:8080/"
    },
    "executionInfo": {
     "elapsed": 340,
     "status": "ok",
     "timestamp": 1692293179444,
     "user": {
      "displayName": "JUAN CAMILO HENAO CARO",
      "userId": "11825490046934558373"
     },
     "user_tz": 300
    },
    "id": "JcOMdxPEFMva",
    "outputId": "5d2b88de-4797-46a3-e72f-8c55f7d4f278"
   },
   "outputs": [
    {
     "name": "stdout",
     "output_type": "stream",
     "text": [
      "['Super Man', 'Wonder Woman', 'Green Lantern', 'Martian Manhunter']\n",
      "['Batman', 'Super Man', 'Wonder Woman', 'Flash', 'GreenArrow', 'AquaMan']\n"
     ]
    }
   ],
   "source": [
    "print(superheroes[1:5])\n",
    "superheroes[1:5] = [\"Super Man\", \"Wonder Woman\"]\n",
    "print(superheroes) # Nótese que recorta la lista"
   ]
  },
  {
   "cell_type": "markdown",
   "metadata": {
    "id": "smUSe6O2FflV"
   },
   "source": [
    "### **Insertar datos en una lista**\n",
    "<p>\n",
    "\n",
    "Para insertar un nuevo elemento de la lista, sin reemplazar ninguno de los valores existentes, podemos usar el método `insert()`. Este inserta un elemento en el índice especificado.\n",
    "La función `insert()` necesita dos argumentos, en el siguiente orden.\n",
    "\n",
    "\n",
    "1.   El numero (entero) de la posición a insertar.\n",
    "2.   El valor por insertar en el formato específico.\n",
    "\n",
    "`insert(posicion,valor)`\n",
    "\n",
    "Nota: La longitud de la lista incrementará\n",
    "\n",
    "</p>"
   ]
  },
  {
   "cell_type": "code",
   "execution_count": null,
   "metadata": {
    "id": "9UfnUR8UFu7r"
   },
   "outputs": [],
   "source": [
    "superheroes2 = [\"Batman\", \"SuperMan\", \"WonderWoman\", \"GreenLantern\", \"MartianManhunter\", \"Flash\", \"GreenArrow\", \"AquaMan\"]\n",
    "sereshumanos2 = [\"Bruce Wayne\", \"Clark Kent\", \"Diana Prince\", \"Hal Jordan\", \"J'onn J'onzz\", \"Barry Allen\", \"Oliver Queen\", \"Arthur Curry\"]\n"
   ]
  },
  {
   "cell_type": "code",
   "execution_count": null,
   "metadata": {
    "colab": {
     "base_uri": "https://localhost:8080/"
    },
    "executionInfo": {
     "elapsed": 255,
     "status": "ok",
     "timestamp": 1692293493327,
     "user": {
      "displayName": "JUAN CAMILO HENAO CARO",
      "userId": "11825490046934558373"
     },
     "user_tz": 300
    },
    "id": "6sNQ5VZjHRdR",
    "outputId": "9085ab9b-52ff-4c23-8850-22011a6dca29"
   },
   "outputs": [
    {
     "name": "stdout",
     "output_type": "stream",
     "text": [
      "['Batman', 'SuperMan', 'WonderWoman', 'GreenLantern', 'MartianManhunter', 'Shazam', 'Flash', 'GreenArrow', 'AquaMan', 'Cyborg']\n",
      "['Batman', 'SuperMan', 'WonderWoman', 'GreenLantern', 'MartianManhunter', 'Shazam', 'Shazam', 'Flash', 'GreenArrow', 'AquaMan', 'Cyborg']\n",
      "---------------------------\n",
      "['Bruce Wayne', 'Clark Kent', 'Diana Prince', 'Hal Jordan', \"J'onn J'onzz\", 'William Joseph \"Billy\" Batson', 'Barry Allen', 'Oliver Queen', 'Arthur Curry', 'Victor Stone']\n",
      "['Bruce Wayne', 'Clark Kent', 'Diana Prince', 'Hal Jordan', \"J'onn J'onzz\", 'William Joseph \"Billy\" Batson', 'William Joseph \"Billy\" Batson', 'Barry Allen', 'Oliver Queen', 'Arthur Curry', 'Victor Stone']\n"
     ]
    }
   ],
   "source": [
    "print(superheroes2)\n",
    "superheroes2.insert(5,\"Shazam\")\n",
    "print(superheroes2)\n",
    "print(\"---------------------------\")\n",
    "print(sereshumanos2)\n",
    "sereshumanos2.insert(5,\"William Joseph \\\"Billy\\\" Batson\")\n",
    "print(sereshumanos2)"
   ]
  },
  {
   "cell_type": "markdown",
   "metadata": {
    "id": "o5_dhcfMJcjD"
   },
   "source": [
    "### **Adicionar datos en una lista**\n",
    "<p>\n",
    "\n",
    "Para agregar un elemento al final de la lista, use el método `append()`\n",
    "La función `append()` necesita un argumento y es el valor a adicionar.\n",
    "\n",
    "`append(valor)`\n",
    "\n",
    "Nota: La longitud de la lista incrementará\n",
    "\n",
    "</p>"
   ]
  },
  {
   "cell_type": "code",
   "execution_count": null,
   "metadata": {
    "colab": {
     "base_uri": "https://localhost:8080/"
    },
    "executionInfo": {
     "elapsed": 241,
     "status": "ok",
     "timestamp": 1692293337781,
     "user": {
      "displayName": "JUAN CAMILO HENAO CARO",
      "userId": "11825490046934558373"
     },
     "user_tz": 300
    },
    "id": "WyssQr9TJy8h",
    "outputId": "f0e1a9c8-6b95-47b7-f4ff-5a543f520e9f"
   },
   "outputs": [
    {
     "name": "stdout",
     "output_type": "stream",
     "text": [
      "['Batman', 'SuperMan', 'WonderWoman', 'GreenLantern', 'MartianManhunter', 'Shazam', 'Flash', 'GreenArrow', 'AquaMan', 'Cyborg']\n",
      "['Bruce Wayne', 'Clark Kent', 'Diana Prince', 'Hal Jordan', \"J'onn J'onzz\", 'William Joseph \"Billy\" Batson', 'Barry Allen', 'Oliver Queen', 'Arthur Curry', 'Victor Stone']\n",
      "---------------------------\n",
      "Cyborg\n",
      "Victor Stone\n"
     ]
    }
   ],
   "source": [
    "superheroes2.append(\"Cyborg\")\n",
    "sereshumanos2.append(\"Victor Stone\")\n",
    "print(superheroes2)\n",
    "print(sereshumanos2)\n",
    "print(\"---------------------------\")\n",
    "print(superheroes2[9])\n",
    "print(sereshumanos2[9])"
   ]
  },
  {
   "cell_type": "markdown",
   "metadata": {
    "id": "gYR0arFpKsBc"
   },
   "source": [
    "### **Extender datos en una lista**\n",
    "<p>\n",
    "\n",
    "Para agregar elementos de otra lista a la lista actual, use el método `extend()`.\n",
    "\n",
    "`extend(valor)`\n",
    "\n",
    "Nota: La longitud de la lista incrementará\n",
    "\n",
    "</p>"
   ]
  },
  {
   "cell_type": "code",
   "execution_count": null,
   "metadata": {
    "colab": {
     "base_uri": "https://localhost:8080/"
    },
    "executionInfo": {
     "elapsed": 217,
     "status": "ok",
     "timestamp": 1692293509208,
     "user": {
      "displayName": "JUAN CAMILO HENAO CARO",
      "userId": "11825490046934558373"
     },
     "user_tz": 300
    },
    "id": "jK4MrNHEK-Vr",
    "outputId": "cdf39ae0-c814-42ab-88f2-c230864276b9"
   },
   "outputs": [
    {
     "name": "stdout",
     "output_type": "stream",
     "text": [
      "['Batman', 'SuperMan', 'WonderWoman', 'GreenLantern', 'MartianManhunter'] ['Flash', 'GreenArrow', 'AquaMan']\n",
      "['Bruce Wayne', 'Clark Kent', 'Diana Prince', 'Hal Jordan', \"J'onn J'onzz\"] ['Barry Allen', 'Oliver Queen', 'Arthur Curry']\n"
     ]
    }
   ],
   "source": [
    "superheroes_a = [\"Batman\", \"SuperMan\", \"WonderWoman\", \"GreenLantern\", \"MartianManhunter\"]\n",
    "superheroes_b = [\"Flash\", \"GreenArrow\", \"AquaMan\"]\n",
    "sereshumanos_a = [\"Bruce Wayne\", \"Clark Kent\", \"Diana Prince\", \"Hal Jordan\", \"J'onn J'onzz\"]\n",
    "sereshumanos_b = [\"Barry Allen\", \"Oliver Queen\", \"Arthur Curry\"]\n",
    "print(superheroes_a, superheroes_b)\n",
    "print(sereshumanos_a, sereshumanos_b)"
   ]
  },
  {
   "cell_type": "code",
   "execution_count": null,
   "metadata": {
    "colab": {
     "base_uri": "https://localhost:8080/"
    },
    "executionInfo": {
     "elapsed": 209,
     "status": "ok",
     "timestamp": 1692293511282,
     "user": {
      "displayName": "JUAN CAMILO HENAO CARO",
      "userId": "11825490046934558373"
     },
     "user_tz": 300
    },
    "id": "MCs8-y2hLdTp",
    "outputId": "2b6c7c84-af7e-4ab8-8d08-09e90ebd6aff"
   },
   "outputs": [
    {
     "name": "stdout",
     "output_type": "stream",
     "text": [
      "['Batman', 'SuperMan', 'WonderWoman', 'GreenLantern', 'MartianManhunter', 'Flash', 'GreenArrow', 'AquaMan']\n",
      "['Bruce Wayne', 'Clark Kent', 'Diana Prince', 'Hal Jordan', \"J'onn J'onzz\", 'Barry Allen', 'Oliver Queen', 'Arthur Curry']\n"
     ]
    }
   ],
   "source": [
    "superheroes_a.extend(superheroes_b)\n",
    "sereshumanos_a.extend(sereshumanos_b)\n",
    "print(superheroes_a)\n",
    "print(sereshumanos_a)"
   ]
  },
  {
   "cell_type": "markdown",
   "metadata": {
    "id": "UJ_Pa500NVSQ"
   },
   "source": [
    "### **Eliminar un ítem especifico**\n",
    "<p>\n",
    "\n",
    "Para eliminar un elemento especifico se utiliza el método `remove()` el cual recibe un argumento el cual relaciona al valor especifico.\n",
    "\n",
    "`remove(valor)`\n",
    "\n",
    "Nota: La longitud de la lista decrementa\n",
    "\n",
    "</p>"
   ]
  },
  {
   "cell_type": "code",
   "execution_count": null,
   "metadata": {
    "colab": {
     "base_uri": "https://localhost:8080/"
    },
    "executionInfo": {
     "elapsed": 222,
     "status": "ok",
     "timestamp": 1692293529121,
     "user": {
      "displayName": "JUAN CAMILO HENAO CARO",
      "userId": "11825490046934558373"
     },
     "user_tz": 300
    },
    "id": "BNB_-ov-N4F_",
    "outputId": "8de42485-84ec-4790-8406-3dc55fe1034f"
   },
   "outputs": [
    {
     "name": "stdout",
     "output_type": "stream",
     "text": [
      "[0, 1, 2, 3, 4, 5, 6, 7, 8, 9, 10]\n"
     ]
    }
   ],
   "source": [
    "eliminarlista = [0, 1, 2, 3, 4, 5, 6, 7 ,8, 9, 10]\n",
    "print(eliminarlista)"
   ]
  },
  {
   "cell_type": "code",
   "execution_count": null,
   "metadata": {
    "colab": {
     "base_uri": "https://localhost:8080/"
    },
    "executionInfo": {
     "elapsed": 226,
     "status": "ok",
     "timestamp": 1692293533757,
     "user": {
      "displayName": "JUAN CAMILO HENAO CARO",
      "userId": "11825490046934558373"
     },
     "user_tz": 300
    },
    "id": "7Tp6LLptOHap",
    "outputId": "9723a5e4-7c7e-4ab6-8e6c-8a4ed19fbb8c"
   },
   "outputs": [
    {
     "name": "stdout",
     "output_type": "stream",
     "text": [
      "[0, 2, 3, 4, 5, 6, 7, 8, 9, 10]\n"
     ]
    }
   ],
   "source": [
    "eliminarlista.remove(1)\n",
    "print(eliminarlista)"
   ]
  },
  {
   "cell_type": "code",
   "execution_count": null,
   "metadata": {
    "colab": {
     "base_uri": "https://localhost:8080/"
    },
    "executionInfo": {
     "elapsed": 3,
     "status": "ok",
     "timestamp": 1692293539023,
     "user": {
      "displayName": "JUAN CAMILO HENAO CARO",
      "userId": "11825490046934558373"
     },
     "user_tz": 300
    },
    "id": "7T73s5AzONc2",
    "outputId": "6f06aedd-db66-428a-f86c-763f4cda9f00"
   },
   "outputs": [
    {
     "name": "stdout",
     "output_type": "stream",
     "text": [
      "[0, 1, 2, 3, 4, 5, 6, 7, 8, 9, 10, 0, 1, 2, 3, 4, 5, 6, 7, 8, 9, 10]\n"
     ]
    }
   ],
   "source": [
    "eliminarlista = [0, 1, 2, 3, 4, 5, 6, 7 ,8, 9, 10, 0, 1, 2, 3, 4, 5, 6, 7, 8, 9, 10]\n",
    "print(eliminarlista)"
   ]
  },
  {
   "cell_type": "code",
   "execution_count": null,
   "metadata": {
    "colab": {
     "base_uri": "https://localhost:8080/"
    },
    "executionInfo": {
     "elapsed": 242,
     "status": "ok",
     "timestamp": 1692293551903,
     "user": {
      "displayName": "JUAN CAMILO HENAO CARO",
      "userId": "11825490046934558373"
     },
     "user_tz": 300
    },
    "id": "8ZRvJgbzOVXh",
    "outputId": "6b70e842-a6cb-4f52-c04e-0dd64b3561d9"
   },
   "outputs": [
    {
     "name": "stdout",
     "output_type": "stream",
     "text": [
      "[0, 2, 3, 4, 5, 6, 7, 8, 9, 10, 0, 1, 2, 3, 4, 5, 6, 7, 8, 9, 10]\n",
      "[0, 2, 3, 4, 5, 6, 7, 8, 9, 10, 0, 2, 3, 4, 5, 6, 7, 8, 9, 10]\n"
     ]
    }
   ],
   "source": [
    "eliminarlista.remove(1)\n",
    "print(eliminarlista)\n",
    "eliminarlista.remove(1)\n",
    "print(eliminarlista)"
   ]
  },
  {
   "cell_type": "markdown",
   "metadata": {
    "id": "okxmrSrBOpoI"
   },
   "source": [
    "### **Eliminar un índice especifico**\n",
    "<p>\n",
    "\n",
    "Para eliminar un índice especifico se utiliza el método `pop()` el cual recibe un argumento el cual relaciona al índice especifico.\n",
    "\n",
    "`pop(índice)`\n",
    "\n",
    "*   Nota 1: Si se utiliza la función `pop()` y no se especifica un argumento, se elimina la ultima posición de la lista.\n",
    "*   Nota 2: La longitud de la lista decrementa.\n",
    "\n",
    "</p>"
   ]
  },
  {
   "cell_type": "code",
   "execution_count": null,
   "metadata": {
    "id": "Swnr_pzTOz0j"
   },
   "outputs": [],
   "source": [
    "eliminarlista2 = [\"a\", \"b\", \"c\", \"d\", \"e\", \"f\"]\n",
    "print(eliminarlista2)"
   ]
  },
  {
   "cell_type": "code",
   "execution_count": null,
   "metadata": {
    "id": "JgPMhFhoO11l"
   },
   "outputs": [],
   "source": [
    "eliminarlista2.pop(3)\n",
    "print(eliminarlista2)"
   ]
  },
  {
   "cell_type": "code",
   "execution_count": null,
   "metadata": {
    "id": "qrpns_byRj2U"
   },
   "outputs": [],
   "source": [
    "listanumeros = [10, 11, 12, 13, 14, 15, 16]\n",
    "print(listanumeros)\n",
    "listanumeros.pop(1)\n",
    "print(listanumeros)"
   ]
  },
  {
   "cell_type": "markdown",
   "metadata": {
    "id": "dlOiclbLp45J"
   },
   "source": [
    "### **Eliminar un índice o lista**\n",
    "<p>\n",
    "\n",
    "Para eliminar un índice especifico se utiliza también la instrucción `del` el cual recibe un argumento el cual relaciona al índice especifico.\n",
    "\n",
    "`del lista[indice]`\n",
    "\n",
    "*   Nota 1: Si se utiliza la instrucción `del` antecedida de la lista, se eliminan todos los elementos de la lista.\n",
    "*   Nota 2: La longitud de la lista decrementa.\n",
    "\n",
    "</p>"
   ]
  },
  {
   "cell_type": "code",
   "execution_count": null,
   "metadata": {
    "colab": {
     "base_uri": "https://localhost:8080/"
    },
    "executionInfo": {
     "elapsed": 7,
     "status": "ok",
     "timestamp": 1692293630654,
     "user": {
      "displayName": "JUAN CAMILO HENAO CARO",
      "userId": "11825490046934558373"
     },
     "user_tz": 300
    },
    "id": "mwNNB1bb_k4P",
    "outputId": "1797b97a-89e0-49f1-e416-304e81aa8ebf"
   },
   "outputs": [
    {
     "name": "stdout",
     "output_type": "stream",
     "text": [
      "['a', 'b', 'c', 'd', 'e', 'f']\n"
     ]
    }
   ],
   "source": [
    "eliminarlista3 = [\"a\", \"b\", \"c\", \"d\", \"e\", \"f\"]\n",
    "print(eliminarlista3)"
   ]
  },
  {
   "cell_type": "code",
   "execution_count": null,
   "metadata": {
    "colab": {
     "base_uri": "https://localhost:8080/"
    },
    "executionInfo": {
     "elapsed": 203,
     "status": "ok",
     "timestamp": 1692293639913,
     "user": {
      "displayName": "JUAN CAMILO HENAO CARO",
      "userId": "11825490046934558373"
     },
     "user_tz": 300
    },
    "id": "lVlggybM_nMw",
    "outputId": "e942498c-b142-41a9-b4a2-7ad39431880d"
   },
   "outputs": [
    {
     "name": "stdout",
     "output_type": "stream",
     "text": [
      "['a', 'b', 'd', 'e', 'f']\n"
     ]
    }
   ],
   "source": [
    "eliminarlista3 = [\"a\", \"b\", \"c\", \"d\", \"e\", \"f\"]\n",
    "del eliminarlista3[2]\n",
    "print(eliminarlista3)"
   ]
  },
  {
   "cell_type": "code",
   "execution_count": null,
   "metadata": {
    "id": "hon6MgdW_xnZ"
   },
   "outputs": [],
   "source": [
    "del eliminarlista3 #Adios lista"
   ]
  },
  {
   "cell_type": "code",
   "execution_count": null,
   "metadata": {
    "colab": {
     "base_uri": "https://localhost:8080/",
     "height": 176
    },
    "executionInfo": {
     "elapsed": 199,
     "status": "error",
     "timestamp": 1692293677662,
     "user": {
      "displayName": "JUAN CAMILO HENAO CARO",
      "userId": "11825490046934558373"
     },
     "user_tz": 300
    },
    "id": "XrJDF21hkBDi",
    "outputId": "75406e95-06de-4a80-88e2-d701b89a2587"
   },
   "outputs": [
    {
     "ename": "NameError",
     "evalue": "ignored",
     "output_type": "error",
     "traceback": [
      "\u001b[0;31m---------------------------------------------------------------------------\u001b[0m",
      "\u001b[0;31mNameError\u001b[0m                                 Traceback (most recent call last)",
      "\u001b[0;32m<ipython-input-39-3d4d994b9e51>\u001b[0m in \u001b[0;36m<cell line: 1>\u001b[0;34m()\u001b[0m\n\u001b[0;32m----> 1\u001b[0;31m \u001b[0melimininarlista3\u001b[0m\u001b[0;34m\u001b[0m\u001b[0;34m\u001b[0m\u001b[0m\n\u001b[0m",
      "\u001b[0;31mNameError\u001b[0m: name 'elimininarlista3' is not defined"
     ]
    }
   ],
   "source": [
    "elimininarlista3"
   ]
  },
  {
   "cell_type": "markdown",
   "metadata": {
    "id": "NK8uwMioFwCs"
   },
   "source": [
    "### **Limpiar una lista**\n",
    "<p>\n",
    "\n",
    "El método `clear()` vacía la lista. La lista permanece, pero no tiene contenido.\n",
    "\n",
    "`lista.clear()`\n",
    "\n",
    "*   Nota: La longitud de la lista decrementa.\n",
    "\n",
    "</p>"
   ]
  },
  {
   "cell_type": "code",
   "execution_count": null,
   "metadata": {
    "colab": {
     "base_uri": "https://localhost:8080/"
    },
    "executionInfo": {
     "elapsed": 340,
     "status": "ok",
     "timestamp": 1692293683594,
     "user": {
      "displayName": "JUAN CAMILO HENAO CARO",
      "userId": "11825490046934558373"
     },
     "user_tz": 300
    },
    "id": "3flDwigwHK5K",
    "outputId": "dc67f6b0-e2a5-4ab7-e162-0ac7b9a1d5c8"
   },
   "outputs": [
    {
     "name": "stdout",
     "output_type": "stream",
     "text": [
      "['a', 'b', 'c', 'd', 'e', 'f']\n"
     ]
    }
   ],
   "source": [
    "eliminarlista4 = [\"a\", \"b\", \"c\", \"d\", \"e\", \"f\"]\n",
    "print(eliminarlista4)"
   ]
  },
  {
   "cell_type": "code",
   "execution_count": null,
   "metadata": {
    "colab": {
     "base_uri": "https://localhost:8080/"
    },
    "executionInfo": {
     "elapsed": 216,
     "status": "ok",
     "timestamp": 1692293686228,
     "user": {
      "displayName": "JUAN CAMILO HENAO CARO",
      "userId": "11825490046934558373"
     },
     "user_tz": 300
    },
    "id": "tCvDoYrtHP93",
    "outputId": "0583f9a9-8449-409d-905d-aa0bf368946f"
   },
   "outputs": [
    {
     "name": "stdout",
     "output_type": "stream",
     "text": [
      "[]\n",
      "0\n"
     ]
    }
   ],
   "source": [
    "eliminarlista4.clear()\n",
    "print(eliminarlista4)\n",
    "print(len(eliminarlista4))"
   ]
  },
  {
   "cell_type": "markdown",
   "metadata": {
    "id": "jxMI1dvoKQTN"
   },
   "source": [
    "### **Ordenado de listas**\n",
    "<p>\n",
    "\n",
    "Los objetos de las listas tienen un método sort () que ordenará la lista alfanuméricamente, de forma ascendente, por defecto. El ordenado es 'InPlace', es decir, se realiza sobre el objeto.\n",
    "\n",
    "*   Orden alfabeético y numérico.\n",
    ">*   Orden alfabético\n",
    ">>```python\n",
    "lali = [\"Batman\", \"SuperMan\", \"WonderWoman\", \"GreenLantern\", \"Flash\"]\n",
    "lali.sort()\n",
    "```\n",
    ">*   Orden numérico\n",
    ">>```python\n",
    "lalis = [5, 1, 6, 8, 11, 3, 1, 99]\n",
    "lalis.sort()\n",
    "```\n",
    "*   Orden descendente, para ordernar de forma descendente se debe agregar el argumento `reverse = True`.\n",
    ">*   Orden alfabético\n",
    ">>```python\n",
    "lalist = [\"Batman\", \"SuperMan\", \"WonderWoman\", \"GreenLantern\", \"Flash\"]\n",
    "lalist.sort(reverse = True)\n",
    "```\n",
    ">*   Orden numérico\n",
    ">>```python\n",
    "lalista = [5, 1, 6, 8, 11, 3, 1, 99]\n",
    "lalista.sort(reverse = True)\n",
    "```\n",
    "*   Orden inverso, El método `reverse()` invierte el orden de clasificación actual de los elementos.\n",
    ">*   Orden alfabético\n",
    ">>```python\n",
    "lalistas = [\"Batman\", \"SuperMan\", \"WonderWoman\", \"GreenLantern\", \"Flash\"]\n",
    "lalistas.reverse()\n",
    "```\n",
    ">*   Orden numérico\n",
    ">>```python\n",
    "lalistas = [5, 1, 6, 8, 11, 3, 1, 99]\n",
    "lalistas.reverse()\n",
    "```\n",
    "\n",
    "</p>"
   ]
  },
  {
   "cell_type": "code",
   "execution_count": null,
   "metadata": {
    "id": "RvG0NMAi7SqX"
   },
   "outputs": [],
   "source": [
    "lali = [\"Batman\", \"SuperMan\", \"WonderWoman\", \"GreenLantern\", \"Flash\"]\n",
    "print(lali)\n",
    "lali.sort()\n",
    "print(lali)"
   ]
  },
  {
   "cell_type": "code",
   "execution_count": null,
   "metadata": {
    "id": "DML2V7SC7Uw5"
   },
   "outputs": [],
   "source": [
    "lalis = [5, 1, 6, 8, 11, 3, 1, 99]\n",
    "lalis.sort()\n",
    "print(lalis)"
   ]
  },
  {
   "cell_type": "code",
   "execution_count": null,
   "metadata": {
    "id": "UQqdeiDJ7W0P"
   },
   "outputs": [],
   "source": [
    "lalist = [\"Batman\", \"SuperMan\", \"WonderWoman\", \"GreenLantern\", \"Flash\"]\n",
    "lalist.sort(reverse = True)\n",
    "print(lalist)"
   ]
  },
  {
   "cell_type": "code",
   "execution_count": null,
   "metadata": {
    "id": "mxKiODW07ZYS"
   },
   "outputs": [],
   "source": [
    "lalista = [5, 1, 6, 8, 11, 3, 1, 99]\n",
    "lalista.sort(reverse = True)\n",
    "print(lalista)"
   ]
  },
  {
   "cell_type": "code",
   "execution_count": null,
   "metadata": {
    "id": "youynQqq7brk"
   },
   "outputs": [],
   "source": [
    "lalistas = [\"Batman\", \"SuperMan\", \"WonderWoman\", \"GreenLantern\", \"Flash\"]\n",
    "lalistas.reverse()\n",
    "print(lalistas)"
   ]
  },
  {
   "cell_type": "code",
   "execution_count": null,
   "metadata": {
    "id": "1q-ZTRfZ7cym"
   },
   "outputs": [],
   "source": [
    "lalistas = [5, 1, 6, 8, 11, 3, 1, 99]\n",
    "lalistas.reverse()\n",
    "print(lalistas)"
   ]
  },
  {
   "cell_type": "markdown",
   "metadata": {
    "id": "g7nJ1YchS9mp"
   },
   "source": [
    "### **Copias a una lista**\n",
    "<p>\n",
    "\n",
    "No puede copiar una lista simplemente escribiendo `list2 = list1`, porque: `list2` solo será una referencia a `list1`, y los cambios realizados en `list1` también se realizarán automáticamente en `list2`. Hay formas de hacer una copia, una forma es usar el método de lista incorporado `copy()`.\n",
    "\n",
    "</p>"
   ]
  },
  {
   "cell_type": "code",
   "execution_count": null,
   "metadata": {
    "colab": {
     "base_uri": "https://localhost:8080/"
    },
    "executionInfo": {
     "elapsed": 210,
     "status": "ok",
     "timestamp": 1692293748160,
     "user": {
      "displayName": "JUAN CAMILO HENAO CARO",
      "userId": "11825490046934558373"
     },
     "user_tz": 300
    },
    "id": "2pOwLkU9Tf6v",
    "outputId": "850e238c-d0d6-4e93-ec1f-95df088bf3d8"
   },
   "outputs": [
    {
     "name": "stdout",
     "output_type": "stream",
     "text": [
      "['Batman', 'SuperMan', 'WonderWoman', 'GreenLantern', 'Flash']\n"
     ]
    }
   ],
   "source": [
    "thelista = [\"Batman\", \"SuperMan\", \"WonderWoman\", \"GreenLantern\", \"Flash\"]\n",
    "print(thelista)"
   ]
  },
  {
   "cell_type": "code",
   "execution_count": null,
   "metadata": {
    "id": "WF3wxgrxTniH"
   },
   "outputs": [],
   "source": [
    "thelista2 = thelista"
   ]
  },
  {
   "cell_type": "code",
   "execution_count": null,
   "metadata": {
    "colab": {
     "base_uri": "https://localhost:8080/"
    },
    "executionInfo": {
     "elapsed": 293,
     "status": "ok",
     "timestamp": 1692293783455,
     "user": {
      "displayName": "JUAN CAMILO HENAO CARO",
      "userId": "11825490046934558373"
     },
     "user_tz": 300
    },
    "id": "es6IR5MLTtZc",
    "outputId": "e3233009-31ae-4a71-f3d2-d50cd94d42e3"
   },
   "outputs": [
    {
     "name": "stdout",
     "output_type": "stream",
     "text": [
      "La lista original ********************\n",
      "['Batman', 'SuperMan', 'Wonder_Woman', 'GreenLantern', 'Flash']\n",
      "La lista segunda ********************\n",
      "['Batman', 'SuperMan', 'Wonder_Woman', 'GreenLantern', 'Flash']\n"
     ]
    }
   ],
   "source": [
    "thelista[2] = \"Wonder_Woman\"\n",
    "print('La lista original','*'*20)\n",
    "print(thelista)\n",
    "print('La lista segunda','*'*20)\n",
    "print(thelista2)\n",
    "#Notese que se actualizan las dos listas."
   ]
  },
  {
   "cell_type": "code",
   "execution_count": null,
   "metadata": {
    "id": "7QlHbqWTT9A6"
   },
   "outputs": [],
   "source": [
    "del thelista2"
   ]
  },
  {
   "cell_type": "code",
   "execution_count": null,
   "metadata": {
    "id": "o_wUeFo9UAlX"
   },
   "outputs": [],
   "source": [
    "thelista2 = thelista.copy()"
   ]
  },
  {
   "cell_type": "code",
   "execution_count": null,
   "metadata": {
    "colab": {
     "base_uri": "https://localhost:8080/"
    },
    "executionInfo": {
     "elapsed": 7,
     "status": "ok",
     "timestamp": 1692293789821,
     "user": {
      "displayName": "JUAN CAMILO HENAO CARO",
      "userId": "11825490046934558373"
     },
     "user_tz": 300
    },
    "id": "BL0USDoNUIBj",
    "outputId": "38cf0e0e-a09d-40dd-d5dd-d0c4aebfcb98"
   },
   "outputs": [
    {
     "name": "stdout",
     "output_type": "stream",
     "text": [
      "['Batman', 'SuperMan', 'Wonder_Woman', 'GreenLantern', 'Flash']\n",
      "['Batman', 'SuperMan', 'Wonder Woman', 'GreenLantern', 'Flash']\n"
     ]
    }
   ],
   "source": [
    "thelista[2] = \"Wonder_Woman\"\n",
    "print(thelista)\n",
    "thelista2[2] = \"Wonder Woman\"\n",
    "print(thelista2)"
   ]
  },
  {
   "cell_type": "markdown",
   "metadata": {
    "id": "pSCal9d5Vj1n"
   },
   "source": [
    "### **Métodos de las listas**\n",
    "<p>\n",
    "\n",
    "Python tiene un conjunto de métodos integrados que puede usar en listas.\n",
    "\n",
    "Method | Description\n",
    "--- | ---\n",
    "append()  |  Agrega un elemento al final de la lista.\n",
    "clear()  |  Elimina todos los elementos de la lista.\n",
    "copy()  |  Devuelve una copia de la lista\n",
    "count()  |  Devuelve el número de elementos con el valor especificado.\n",
    "extend()  |  Agregue los elementos de una lista (o cualquier iterable), al final de la lista actual\n",
    "index()  |  Devuelve el índice del primer elemento con el valor especificado.\n",
    "insert()  |  Agrega un elemento en la posición especificada\n",
    "pop()  |  Elimina el elemento en la posición especificada\n",
    "remove()  |  Elimina el artículo con el valor especificado\n",
    "reverse()  |  Invierte el orden de la lista\n",
    "sort()  |  Ordena la lista\n",
    "\n",
    "</p>"
   ]
  },
  {
   "cell_type": "markdown",
   "metadata": {
    "id": "Td8DMzRDV1cr"
   },
   "source": [
    "## **Tuplas (Listas)**\n",
    "[[Contenidos]](#contents)\n",
    "<p>\n",
    "\n",
    "Las tuplas son secuencias inmutables, normalmente utilizadas para almacenar colecciones de datos heterogéneos. Las tuplas también se utilizan para casos en los que se necesita una secuencia inmutable de datos homogéneos, es decir no pueden ser modificadas una vez se han creado. Si tratamos de asignar un valor a una tupla luego de ser creada nos registra error.\n",
    "\n",
    "Las tuplas se pueden construir de varias formas:\n",
    "\n",
    "*   Usando un par de paréntesis para denotar la tupla vacía: `()`\n",
    "*   Usando una coma final para una tupla singleton: `a,` o `(a,)`\n",
    "*   Separar elementos con comas: `a, b, c` o `(a, b, c)`\n",
    "*   Usando la clase `tuple()` incorporada: `tuple()` o `tuple(iterable)`\n",
    "\n",
    "</p>"
   ]
  },
  {
   "cell_type": "markdown",
   "metadata": {
    "id": "BvrOUT1QX0la"
   },
   "source": [
    "### **Pack y UnPack Tuplas**\n",
    "<p>\n",
    "\n",
    "Cuando se crea una tupla y se asignan valores se denomina \"packing\" empacado de una tupla.\n",
    "Las tuplas también se pueden desempacar o \"unpacking\" pasando los valores de la tupla a variables.\n",
    "\n",
    "Para crear una tupla se hace lo siguiente.\n",
    "\n",
    "\n",
    "\n",
    "*   Packing\n",
    ">```python\n",
    "superheroes = (\"Batman\", \"SuperMan\", \"WonderWoman\", \"GreenLantern\")\n",
    "```\n",
    "\n",
    "*   Unpacking\n",
    ">```python\n",
    "(b, s, w, g) = superheroes\n",
    "```\n",
    "\n",
    "Nota: Si el número de variables es menor que el número de valores, puede agregar un * al nombre de la variable y los valores se asignarán a la variable como una lista. Si el asterisco se agrega a otro nombre de variable, Python asignará valores a la variable hasta que el número de valores restantes coincida con el número de variables restantes.\n",
    "\n",
    "</p>"
   ]
  },
  {
   "cell_type": "code",
   "execution_count": null,
   "metadata": {
    "colab": {
     "base_uri": "https://localhost:8080/"
    },
    "executionInfo": {
     "elapsed": 213,
     "status": "ok",
     "timestamp": 1692293898623,
     "user": {
      "displayName": "JUAN CAMILO HENAO CARO",
      "userId": "11825490046934558373"
     },
     "user_tz": 300
    },
    "id": "XuJ2IUPEZUDq",
    "outputId": "871c65ad-bcc8-4d09-de92-78383c4660f0"
   },
   "outputs": [
    {
     "name": "stdout",
     "output_type": "stream",
     "text": [
      "<class 'tuple'>\n",
      "('Batman', 'SuperMan', 'WonderWoman', 'GreenLantern')\n",
      "Batman SuperMan WonderWoman GreenLantern\n",
      "Batman SuperMan ['WonderWoman', 'GreenLantern']\n",
      "Batman ['SuperMan', 'WonderWoman'] GreenLantern\n"
     ]
    }
   ],
   "source": [
    "superheroes = (\"Batman\", \"SuperMan\", \"WonderWoman\", \"GreenLantern\")\n",
    "print(type(superheroes))\n",
    "print(superheroes)\n",
    "(b, s, w, g) = superheroes\n",
    "print(b, s, w, g)\n",
    "(a, b, *c) = superheroes\n",
    "print(a, b, c)\n",
    "(d, *e, f) = superheroes\n",
    "print(d, e, f)"
   ]
  },
  {
   "cell_type": "code",
   "execution_count": null,
   "metadata": {
    "id": "AE6foLcOaEiJ"
   },
   "outputs": [],
   "source": [
    "# quitar comillas y evaluar\n",
    "#superheroes[1] = \"Super_Man\""
   ]
  },
  {
   "cell_type": "markdown",
   "metadata": {
    "id": "DQpH7--ybvVb"
   },
   "source": [
    "### **Unir o multiplicar tuplas**\n",
    "<p>\n",
    "\n",
    "Para unir dos o más tuplas, puede usar el operador `+`.\n",
    "Si desea multiplicar el contenido de una tupla un número determinado de veces, puede usar el operador `*`.\n",
    "\n",
    "```python\n",
    "tupla1 = (\"Batman\", \"SuperMan\", \"WonderWoman\", \"GreenLantern\")\n",
    "tupla2 = (1, 2, 3, 4)\n",
    "\n",
    "tupla3 = tupla1 + tupla2\n",
    "print(tupla3)\n",
    "```\n",
    "\n",
    "```python\n",
    "tuplauno = (\"Batman\", \"SuperMan\", \"WonderWoman\", \"GreenLantern\")\n",
    "tuplados = tuplauno * 3\n",
    "\n",
    "print(tuplados)\n",
    "```\n",
    "\n",
    "\n",
    "\n",
    "</p>"
   ]
  },
  {
   "cell_type": "code",
   "execution_count": null,
   "metadata": {
    "id": "yxlUa7uVc8rl"
   },
   "outputs": [],
   "source": [
    "tupla1 = (\"Batman\", \"SuperMan\", \"WonderWoman\", \"GreenLantern\")\n",
    "tupla2 = (1, 2, 3, 4)\n",
    "\n",
    "tupla3 = tupla1 + tupla2\n",
    "print(tupla3)"
   ]
  },
  {
   "cell_type": "code",
   "execution_count": null,
   "metadata": {
    "id": "5cohDAoec-0F"
   },
   "outputs": [],
   "source": [
    "tuplauno = (\"Batman\", \"SuperMan\", \"WonderWoman\", \"GreenLantern\")\n",
    "tuplados = tuplauno * 3\n",
    "\n",
    "print(tuplados)"
   ]
  },
  {
   "cell_type": "markdown",
   "metadata": {
    "id": "tP782TEpdb5y"
   },
   "source": [
    "### **Métodos de las tuplas**\n",
    "<p>\n",
    "\n",
    "Python tiene un conjunto (2) de métodos integrados que puede usar en tuplas.\n",
    "\n",
    "Método | Descripción\n",
    "--- | ---\n",
    "count() | Devuelve el número de veces que ocurre un valor especificado en una tupla.\n",
    "index() | Busca en la tupla un valor especificado y devuelve la posición donde se encontró\n",
    "\n",
    "</p>"
   ]
  },
  {
   "cell_type": "markdown",
   "metadata": {
    "id": "XXXOOHRYp7Pg"
   },
   "source": [
    "## **Set (Conjuntos)**\n",
    "[[Contenidos]](#contents)\n",
    "<p>\n",
    "\n",
    "Un set o en español se relaciona con 'conjunto', es una colección desordenada de elementos. Cada elemento del conjunto es único (sin duplicados) y debe ser inmutable (no se puede cambiar). Sin embargo, un conjunto en sí mismo es mutable. Podemos agregarle o quitarle elementos. Los conjuntos también se pueden utilizar para realizar operaciones de conjuntos matemáticos como unión, intersección, diferencia simétrica, etc.\n",
    "Las características principales de los Sets son los siguientes:\n",
    "\n",
    "\n",
    "*   Ítems del Set: Los elementos del conjunto están desordenados, no se pueden cambiar y no permiten valores duplicados.\n",
    "*   Desordenado: Desordenado significa que los elementos de un conjunto no tienen un orden definido. Los ítems pueden aparecer en un orden diferente cada vez que los use y no se puede hacer referencia a ellos por índice o clave.\n",
    "*   Inmutable: Los conjuntos no se pueden cambiar, lo que significa que no podemos cambiar los elementos una vez creado el conjunto. Una vez que se crea un conjunto, no puede cambiar sus elementos, pero puede agregar elementos nuevos.\n",
    "*   No se permiten duplicados: Los conjuntos no pueden tener dos elementos con el mismo valor.\n",
    "\n",
    "Los conjuntos se utilizan para almacenar varios elementos en una sola variable. Set es uno de los 4 tipos de datos integrados en Python que se utilizan para almacenar colecciones de datos, los otros 3 son List, Tuple y Dictionary, todos con diferentes calidades y usos.\n",
    "Los sets se escriben con llaves, como se muestra a continuación.\n",
    "\n",
    "```python\n",
    "superset = {\"Batman\", \"SuperMan\", \"WonderWoman\", \"GreenLantern\"}\n",
    "print(superset)\n",
    "```\n",
    "Nota: Los conjuntos están desordenados, por lo que no puede estar seguro en qué orden aparecerán los elementos.\n",
    "\n",
    "</p>"
   ]
  },
  {
   "cell_type": "code",
   "execution_count": null,
   "metadata": {
    "colab": {
     "base_uri": "https://localhost:8080/"
    },
    "executionInfo": {
     "elapsed": 217,
     "status": "ok",
     "timestamp": 1692294042960,
     "user": {
      "displayName": "JUAN CAMILO HENAO CARO",
      "userId": "11825490046934558373"
     },
     "user_tz": 300
    },
    "id": "WTtaVV3csk2k",
    "outputId": "3531b579-8632-4ec0-88f0-64c72903952b"
   },
   "outputs": [
    {
     "name": "stdout",
     "output_type": "stream",
     "text": [
      "{'Batman', 'WonderWoman', 'GreenLantern', 'SuperMan'}\n",
      "Largo del superset es:  4\n"
     ]
    }
   ],
   "source": [
    "superset = {\"Batman\", \"SuperMan\", \"WonderWoman\", \"GreenLantern\"}\n",
    "print(superset)\n",
    "print('Largo del superset es: ', len(superset))"
   ]
  },
  {
   "cell_type": "markdown",
   "metadata": {
    "id": "zV3jUZxiDYhU"
   },
   "source": [
    "### **Sets y tipos de datos**\n",
    "<p>\n",
    "\n",
    "Los sets permiten cualquier tipo de datos, por ejemplo:\n",
    "\n",
    "\n",
    "```python\n",
    "set1 = {\"ajo\", \"cebolla\", \"tomate\"}\n",
    "set2 = {1, 3, 5, 7, 9}\n",
    "set3 = {True, False, False}\n",
    "```\n",
    "Los sets tambieén permiten cualquier tipo de datos de forma mixta, por ejemplo:\n",
    "\n",
    "```python\n",
    "set4 = {\"ajo\", \"cebolla\", \"tomate\", 1, 2, 3, True, False, True}\n",
    "```\n",
    "La función type aplica para sets.\n",
    "```python\n",
    "set4 = {\"ajo\", \"cebolla\", \"tomate\", 1, 2, 3, True, False, True}\n",
    "print(type(set4))\n",
    "```\n",
    "\n",
    "</p>"
   ]
  },
  {
   "cell_type": "code",
   "execution_count": null,
   "metadata": {
    "colab": {
     "base_uri": "https://localhost:8080/"
    },
    "executionInfo": {
     "elapsed": 274,
     "status": "ok",
     "timestamp": 1692294104204,
     "user": {
      "displayName": "JUAN CAMILO HENAO CARO",
      "userId": "11825490046934558373"
     },
     "user_tz": 300
    },
    "id": "_DUs5omeGBqN",
    "outputId": "193bc833-d368-494f-d14c-36cd9a0d8268"
   },
   "outputs": [
    {
     "name": "stdout",
     "output_type": "stream",
     "text": [
      "<class 'set'>\n"
     ]
    }
   ],
   "source": [
    "set1 = {\"ajo\", \"cebolla\", \"tomate\"}\n",
    "set2 = {1, 3, 5, 7, 9}\n",
    "set3 = {True, False, False}\n",
    "set4 = {\"ajo\", \"cebolla\", \"tomate\", 1, 2, 3, True, False, True}\n",
    "print(type(set4))"
   ]
  },
  {
   "cell_type": "code",
   "execution_count": null,
   "metadata": {
    "id": "cQ4sQePJF6xZ"
   },
   "outputs": [],
   "source": [
    "#Crear e imprimir al menos 5 sets de diferentes tipos\n",
    "conjunto1 = {1, 'k', 12.2}"
   ]
  },
  {
   "cell_type": "markdown",
   "metadata": {
    "id": "QvbbwtebGUHo"
   },
   "source": [
    "### **Crear sets con el constructor**\n",
    "<p>\n",
    "\n",
    "Los sets se pueden crear utilizando el constructor de la clase Set usando: `set()`\n",
    "\n",
    "\n",
    "```python\n",
    "otroset = set((\"morita\", \"manzanita\", \"arrocito\"))\n",
    "# Se deben usar dos parentesis, uno del constructor y otro para los valores\n",
    "print(otroset)\n",
    "```\n",
    "\n",
    "</p>"
   ]
  },
  {
   "cell_type": "code",
   "execution_count": null,
   "metadata": {
    "id": "etgH40AEI7tA"
   },
   "outputs": [],
   "source": [
    "otroset = set((\"morita\", \"manzanita\", \"arrocito\", \"arrocito\"))\n",
    "# Se deben usar dos parentesis, uno del constructor y otro para los valores\n",
    "print(otroset)"
   ]
  },
  {
   "cell_type": "markdown",
   "metadata": {
    "id": "ReGP1ur7JFeF"
   },
   "source": [
    "### **Acceder a los datos de un Set**\n",
    "<p>\n",
    "\n",
    "No se puede acceder a los elementos de un conjunto consultando un índice o una clave, pero si se puede recorrer los elementos del conjunto usando un ciclo for, o preguntar si un valor específico está presente en un conjunto, usando la palabra clave `in`.\n",
    "\n",
    "No importa si no identificas algunos elementos del siguiente bloque de código, más adelante los veremos pero se puede ver que con estructuras repetitivas se puede acceder a los datos de un set.\n",
    "\n",
    ">Usando un ciclo\n",
    "```python\n",
    "unsetmas = {\"morita\", \"manzanita\", \"arrocito\"}\n",
    "for x in unsetmas:\n",
    "  print(x)\n",
    "```\n",
    ">Usando un operador de membresía\n",
    "```python\n",
    "unsetmas = {\"morita\", \"manzanita\", \"arrocito\"}\n",
    "print(\"morita\" in unsetmas)\n",
    "```\n",
    "**Nota: Una vez que se crea un set, no puede cambiar sus elementos, pero puede agregar elementos nuevos.**\n",
    "\n",
    "</p>"
   ]
  },
  {
   "cell_type": "code",
   "execution_count": null,
   "metadata": {
    "colab": {
     "base_uri": "https://localhost:8080/"
    },
    "executionInfo": {
     "elapsed": 238,
     "status": "ok",
     "timestamp": 1692294116917,
     "user": {
      "displayName": "JUAN CAMILO HENAO CARO",
      "userId": "11825490046934558373"
     },
     "user_tz": 300
    },
    "id": "ob6_J7x-OIMc",
    "outputId": "153618e3-42f5-4248-e6e6-df31ffa2ac00"
   },
   "outputs": [
    {
     "name": "stdout",
     "output_type": "stream",
     "text": [
      "morita\n",
      "manzanita\n",
      "arrocito\n",
      "__________________\n",
      "True\n"
     ]
    }
   ],
   "source": [
    "unsetmas = {\"morita\", \"manzanita\", \"arrocito\"}\n",
    "for x in unsetmas:\n",
    "  print(x)\n",
    "print('__________________')\n",
    "unsetmas = {\"morita\", \"manzanita\", \"arrocito\"}\n",
    "print(\"morita\" in unsetmas)"
   ]
  },
  {
   "cell_type": "markdown",
   "metadata": {
    "id": "3zOwD86kg2Lt"
   },
   "source": [
    "### **Agregar datos a un Set**\n",
    "<p>\n",
    "\n",
    "Una vez que se crea un set, no puede cambiar sus elementos, pero se pueden agregar elementos nuevos.\n",
    "\n",
    "Para agregar un elemento a un conjunto, use el método `add()`.\n",
    "\n",
    ">Usando `add()`\n",
    "```python\n",
    "superset1 = {\"Batman\", \"SuperMan\", \"WonderWoman\", \"GreenLantern\"}\n",
    "superset1.add(\"Flash\")\n",
    "print(superset2)\n",
    "```\n",
    ">Para agregar elementos de otro conjunto al conjunto actual, utilice el método `update()`.\n",
    "```python\n",
    "superset2 = {\"Batman\", \"SuperMan\", \"WonderWoman\", \"GreenLantern\",\"Flash\"}\n",
    "villainset2 = {\"Joker\", \"LexLuthor\", \"Cheetah\", \"Sinestro\",\"ReverseFlash\"}\n",
    "superset2.update(villainset)\n",
    "print(superset)\n",
    "```\n",
    ">Para agregar elementos de otro objeto iterable al conjunto actual, utilice el método `update()`.\n",
    "```python\n",
    "superset3 = {\"Batman\", \"SuperMan\", \"WonderWoman\", \"GreenLantern\",\"Flash\"}\n",
    "listavillanos3 = [\"Joker\", \"LexLuthor\", \"Cheetah\", \"Sinestro\",\"ReverseFlash\"]\n",
    "superset3.update(listavillanos3)\n",
    "print(superset3)\n",
    "```\n",
    "**Nota: Una vez que se crea un set, no puede cambiar sus elementos, pero puede agregar elementos nuevos.**\n",
    "\n",
    "</p>"
   ]
  },
  {
   "cell_type": "code",
   "execution_count": null,
   "metadata": {
    "id": "hRtpbgW5ij-v"
   },
   "outputs": [],
   "source": [
    "superset2 = {\"Batman\", \"SuperMan\", \"WonderWoman\", \"GreenLantern\"}\n",
    "superset2.add(\"Flash\")\n",
    "print(superset2)"
   ]
  },
  {
   "cell_type": "code",
   "execution_count": null,
   "metadata": {
    "id": "14ise0o8impH"
   },
   "outputs": [],
   "source": [
    "superset = {\"Batman\", \"SuperMan\", \"WonderWoman\", \"GreenLantern\",\"Flash\"}\n",
    "villainset = {\"Joker\", \"LexLuthor\", \"Cheetah\", \"Sinestro\",\"ReverseFlash\"}\n",
    "superset.update(villainset)\n",
    "print(superset)"
   ]
  },
  {
   "cell_type": "code",
   "execution_count": null,
   "metadata": {
    "id": "WlWIbha0jiaD"
   },
   "outputs": [],
   "source": [
    "superset3 = {\"Batman\", \"SuperMan\", \"WonderWoman\", \"GreenLantern\",\"Flash\"}\n",
    "listavillanos3 = [\"Joker\", \"LexLuthor\", \"Cheetah\", \"Sinestro\",\"ReverseFlash\"]\n",
    "superset3.update(listavillanos3)\n",
    "print(superset3)"
   ]
  },
  {
   "cell_type": "markdown",
   "metadata": {
    "id": "uz-Aq671j39u"
   },
   "source": [
    "### **Remover datos de un Set**\n",
    "<p>\n",
    "\n",
    "Para eliminar un elemento de un set, utilice el método `remove()` o `discard()`.\n",
    "\n",
    ">Usando `remove()`\n",
    "```python\n",
    "superset_a = {\"Batman\", \"SuperMan\", \"WonderWoman\", \"GreenLantern\",\"Flash\"}\n",
    "print(superset_a)\n",
    "superset_a.remove(\"Flash\")\n",
    "print(superset_a)\n",
    "```\n",
    ">**Nota: Si el elemento a eliminar no existe, `remove()` generará un error.**<br><br>\n",
    ">Usando `discard()`\n",
    "```python\n",
    "superset_a = {\"Batman\", \"SuperMan\", \"WonderWoman\", \"GreenLantern\",\"Flash\"}\n",
    "print(superset_a)\n",
    "superset_a.discard(\"Flash\")\n",
    "print(superset_a)\n",
    "```\n",
    ">**Nota: Si el elemento a eliminar no existe, `discard()` NO generará un error.**<br><br>\n",
    ">Usando `pop()`.\n",
    ">También puede utilizar el método `pop()` para eliminar un elemento, pero este método eliminará el último elemento. Recuerde que los conjuntos están desordenados, por lo que no sabrá qué elemento se quita. El valor de retorno del método `pop()` es el elemento eliminado.\n",
    "```python\n",
    "fruticas = {\"Manzana\", \"Tomate\", \"Durazno\"}\n",
    "x = fruticas.pop()\n",
    "print(x)\n",
    "print(fruticas)\n",
    "```\n",
    ">**Nota: Los conjuntos están desordenados, por lo que cuando utiliza el método `pop()`, no sabe qué elemento se elimina.**<br><br>\n",
    ">Usando `clear()`.\n",
    ">El método clear() elimina todos los objetos del set\n",
    "```python\n",
    "fruticas = {\"Manzana\", \"Tomate\", \"Durazno\"}\n",
    "x = fruticas.clear()\n",
    "print(x)\n",
    "print(fruticas)\n",
    "```\n",
    "<br><br>\n",
    ">Usando la instrucción `del`.\n",
    ">La instrucción `del` elimina el objeto set.\n",
    "```python\n",
    "fruticas2 = {\"Manzana\", \"Tomate\", \"Durazno\"}\n",
    "del fruticas2\n",
    "```\n",
    ">**Nota: Imprimir un objeto eliminado usando la instrucción `del` genera un error debido a que el objeto no existe.**<br><br>\n",
    "\n",
    "</p>"
   ]
  },
  {
   "cell_type": "code",
   "execution_count": null,
   "metadata": {
    "id": "iII2844skfQU"
   },
   "outputs": [],
   "source": [
    "superset_a = {\"Batman\", \"SuperMan\", \"WonderWoman\", \"GreenLantern\",\"Flash\"}\n",
    "print(superset_a)\n",
    "superset_a.remove(\"Flash\")\n",
    "print(superset_a)"
   ]
  },
  {
   "cell_type": "code",
   "execution_count": null,
   "metadata": {
    "id": "F8dOliv8m-zi"
   },
   "outputs": [],
   "source": [
    "fruticas = {\"Manzana\", \"Tomate\", \"Durazno\"}\n",
    "x = fruticas.pop()\n",
    "print(x)\n",
    "print(fruticas)"
   ]
  },
  {
   "cell_type": "code",
   "execution_count": null,
   "metadata": {
    "id": "7vZT2WxmoUzS"
   },
   "outputs": [],
   "source": [
    "fruticas2 = {\"Manzana2\", \"Tomate2\", \"Durazno2\"}\n",
    "x2 = fruticas2.clear()\n",
    "print(x2)\n",
    "print(fruticas2)"
   ]
  },
  {
   "cell_type": "code",
   "execution_count": null,
   "metadata": {
    "id": "aKUNwb7opR1h"
   },
   "outputs": [],
   "source": [
    "fruticas2 = {\"Manzana\", \"Tomate\", \"Durazno\"}\n",
    "del fruticas2"
   ]
  },
  {
   "cell_type": "markdown",
   "metadata": {
    "id": "wOrygN85phB-"
   },
   "source": [
    "### **Unir Sets**\n",
    "<p>\n",
    "\n",
    "Hay varias formas de unir dos o más sets en Python.\n",
    "Puede usar el método `union()` que devuelve un nuevo conjunto que contiene todos los elementos de ambos conjuntos, o el método `update()` que inserta todos los elementos de un conjunto en otro este último fue explicado previamente.\n",
    "\n",
    ">Usando `union()`\n",
    "```python\n",
    "letras = {\"a\", \"b\", \"c\", \"d\",\"e\"}\n",
    "numeros = {1,2,3,4}\n",
    "letrasnumeros = letras.union(numeros)\n",
    "print(letrasnumeros)\n",
    "```\n",
    ">**Nota: Tanto `union()` como `update()` excluirán cualquier elemento duplicado.**<br>\n",
    ">Usando `intersection_update()`. Este método conservará solo los elementos que están presentes en ambos conjuntos.\n",
    "```python\n",
    "letras2 = {\"a\", \"b\", \"c\", \"d\",\"e\"}\n",
    "letras3 = {\"a\", \"f\", \"g\", \"h\",\"e\"} #Nótese que a y e estan duplicados.\n",
    "letras2.intersection_update(letras3)\n",
    "print(letras2)\n",
    "```\n",
    "<br><br>\n",
    ">Usando `intersection()`. Este método  devolverá un **nuevo** conjunto, que solo contiene los elementos que están presentes en ambos conjuntos.\n",
    "```python\n",
    "letras4 = {\"a\", \"b\", \"c\", \"d\",\"e\"}\n",
    "letras5 = {\"a\", \"f\", \"g\", \"h\",\"e\"} #Nótese que a y e estan duplicados.\n",
    "letras6 = letras4.intersection(letras5)\n",
    "print(letras6)\n",
    "```\n",
    "<br><br>\n",
    ">Usando `symmetric_difference_update()`. Este método mantendrá solo los elementos que NO están presentes en ambos conjuntos.\n",
    "```python\n",
    "letras7 = {\"a\", \"b\", \"c\", \"d\",\"e\"}\n",
    "letras8 = {\"a\", \"f\", \"g\", \"h\",\"e\"} #Nótese que a y e estan duplicados.\n",
    "letras7.symmetric_difference_update(letras8)\n",
    "print(letras7)\n",
    "```\n",
    "<br><br>\n",
    "\n",
    "</p>"
   ]
  },
  {
   "cell_type": "code",
   "execution_count": null,
   "metadata": {
    "id": "fHLRiyQDqUYh"
   },
   "outputs": [],
   "source": [
    "letras = {\"a\", \"b\", \"c\", \"d\",\"e\"}\n",
    "numeros = {1,2,3,4}\n",
    "letrasnumeros = letras.union(numeros)\n",
    "print(letrasnumeros)"
   ]
  },
  {
   "cell_type": "code",
   "execution_count": null,
   "metadata": {
    "id": "LqL-5G3lqjVk"
   },
   "outputs": [],
   "source": [
    "letras = {\"a\", \"b\", \"c\", \"d\",\"e\"}\n",
    "letras2 = {\"a\", \"f\", \"g\", \"h\",\"e\"} #Nótese que a y e estan duplicados.\n",
    "letas3 = letras.union(letras2)\n",
    "print(letas3)"
   ]
  },
  {
   "cell_type": "code",
   "execution_count": null,
   "metadata": {
    "id": "AYMmMb_RrL4H"
   },
   "outputs": [],
   "source": [
    "letras2 = {\"a\", \"b\", \"c\", \"d\",\"e\"}\n",
    "letras3 = {\"a\", \"f\", \"g\", \"h\",\"e\"} #Nótese que a y e estan duplicados.\n",
    "letras2.intersection_update(letras3)\n",
    "print(letras2)"
   ]
  },
  {
   "cell_type": "code",
   "execution_count": null,
   "metadata": {
    "id": "Zn6IfSSgr6Jg"
   },
   "outputs": [],
   "source": [
    "letras4 = {\"a\", \"b\", \"f\", \"d\",\"e\"}\n",
    "letras5 = {\"a\", \"f\", \"g\", \"h\",\"e\"} #Nótese que a y e estan duplicados.\n",
    "letras6 = letras4.intersection(letras5)\n",
    "print(letras6)"
   ]
  },
  {
   "cell_type": "code",
   "execution_count": null,
   "metadata": {
    "id": "SDVF3Z4ftbRN"
   },
   "outputs": [],
   "source": [
    "letras7 = {\"a\", \"b\", \"c\", \"d\",\"e\"}\n",
    "letras8 = {\"a\", \"f\", \"g\", \"h\",\"e\"} #Nótese que a y e estan duplicados.\n",
    "letras7.symmetric_difference_update(letras8)\n",
    "print(letras7)"
   ]
  },
  {
   "cell_type": "code",
   "execution_count": null,
   "metadata": {
    "id": "xxee7nFavPiL"
   },
   "outputs": [],
   "source": [
    "letras9 = {\"a\", \"b\", \"c\", \"d\",\"e\"}\n",
    "letras10 = {\"a\", \"f\", \"g\", \"h\",\"e\"} #Nótese que a y e estan duplicados.\n",
    "letras11 = letras9.symmetric_difference(letras10)\n",
    "print(letras11)"
   ]
  },
  {
   "cell_type": "markdown",
   "metadata": {
    "id": "RtinomXIxOS7"
   },
   "source": [
    "### **Métodos de los Sets**\n",
    "<p>\n",
    "\n",
    "Python tiene un conjunto de métodos integrados que puede usar en sets.\n",
    "\n",
    "Metodo | Descripción\n",
    "--- | ---\n",
    "`add()` | Agrega un elemento al conjunto\n",
    "`clear()` | Elimina todos los elementos del conjunto\n",
    "`copy()` | Devuelve una copia del conjunto\n",
    "`difference()` | Devuelve un conjunto que contiene la diferencia entre dos o más conjuntos\n",
    "`difference_update()` | Elimina los elementos de este conjunto que también están incluidos en otro conjunto especificado\n",
    "`discard()` | Eliminar el elemento especificado\n",
    "`intersection()` | Devuelve un conjunto, que es la intersección de otros dos conjuntos\n",
    "`intersection_update()` | Elimina los elementos de este conjunto que no están presentes en otros conjuntos especificados\n",
    "`isdisjoint()` | Devuelve si dos conjuntos tienen una intersección o no\n",
    "`issubset()` | Devuelve si otro conjunto contiene este conjunto o no\n",
    "`issuperset()` | Devuelve si este conjunto contiene otro conjunto o no\n",
    "`pop()` | Elimina un elemento del conjunto\n",
    "`remove()` | Elimina el elemento especificado\n",
    "`symmetric_difference()` | Devuelve un conjunto con las diferencias simétricas de dos conjuntos\n",
    "`symmetric_difference_update()` | inserta las diferencias simétricas de este conjunto y otro\n",
    "`union()` | Devuelve un conjunto que contiene la unión de conjuntos\n",
    "`update()` | Actualiza el conjunto con la unión de este conjunto y otros\n",
    "\n",
    "</p>"
   ]
  },
  {
   "cell_type": "markdown",
   "metadata": {
    "id": "1E9L8wZUxY3e"
   },
   "source": [
    "## **Diccionarios**\n",
    "[[Contenidos]](#contents)\n",
    "<p>\n",
    "\n",
    "Los diccionarios se utilizan para almacenar valores de datos en pares *clave: valor*.\n",
    "\n",
    "Un diccionario es una colección ordenada, modificable y que no admite duplicados. Los diccionarios se escriben con llaves y tienen claves y valores.\n",
    "\n",
    ">Crear un Diccionario\n",
    "```python\n",
    "undiccionario = {\n",
    "  \"Arroz\": \"Cereal\",\n",
    "  \"Papa\": \"Tuberculo\",\n",
    "  \"CantArroz\": 1000,\n",
    "  \"CantPapa\": 2000\n",
    "}\n",
    "print(undiccionario)\n",
    "```\n",
    "\n",
    "\n",
    "\n",
    "\n",
    "\n",
    "</p>"
   ]
  },
  {
   "cell_type": "code",
   "execution_count": null,
   "metadata": {
    "colab": {
     "base_uri": "https://localhost:8080/"
    },
    "executionInfo": {
     "elapsed": 238,
     "status": "ok",
     "timestamp": 1692294331665,
     "user": {
      "displayName": "JUAN CAMILO HENAO CARO",
      "userId": "11825490046934558373"
     },
     "user_tz": 300
    },
    "id": "mVEoTm1MC9Mm",
    "outputId": "4684346f-f50c-4bad-ae7f-e8cb3fe5b006"
   },
   "outputs": [
    {
     "name": "stdout",
     "output_type": "stream",
     "text": [
      "{'Arroz': 'Cereal', 'Papa': 'Tuberculo', 'CantArroz': 1000, 'CantPapa': 2000}\n"
     ]
    }
   ],
   "source": [
    "undiccionario = {\n",
    "  \"Arroz\": \"Cereal\",\n",
    "  \"Papa\": \"Tuberculo\",\n",
    "  \"CantArroz\": 1000,\n",
    "  \"CantPapa\": 2000\n",
    "}\n",
    "print(undiccionario)"
   ]
  },
  {
   "cell_type": "markdown",
   "metadata": {
    "id": "m2pnwdizDHeq"
   },
   "source": [
    "### **Ítems de un Diccionario**\n",
    "<p>\n",
    "\n",
    "Los elementos del diccionario están ordenados, se pueden cambiar y no permiten duplicados. Los elementos del diccionario se presentan en pares clave: valor y se puede hacer referencia a ellos mediante el nombre de la clave.\n",
    "\n",
    "</p>"
   ]
  },
  {
   "cell_type": "code",
   "execution_count": null,
   "metadata": {
    "colab": {
     "base_uri": "https://localhost:8080/"
    },
    "executionInfo": {
     "elapsed": 252,
     "status": "ok",
     "timestamp": 1692294372970,
     "user": {
      "displayName": "JUAN CAMILO HENAO CARO",
      "userId": "11825490046934558373"
     },
     "user_tz": 300
    },
    "id": "kIqO7FL8DTAJ",
    "outputId": "13fabad1-84ab-4e22-912f-e45dfdb3856c"
   },
   "outputs": [
    {
     "name": "stdout",
     "output_type": "stream",
     "text": [
      "Cereal\n",
      "1000\n"
     ]
    }
   ],
   "source": [
    "undiccionario = {\n",
    "  \"Arroz\": \"Cereal\",\n",
    "  \"Papa\": \"Tuberculo\",\n",
    "  \"CantArroz\": 1000,\n",
    "  \"CantPapa\": 2000\n",
    "}\n",
    "print(undiccionario[\"Arroz\"])\n",
    "print(undiccionario[\"CantArroz\"])"
   ]
  },
  {
   "cell_type": "markdown",
   "metadata": {
    "id": "kxrVprquDgRF"
   },
   "source": [
    "### **Ítems de un Diccionario**\n",
    "<p>\n",
    "\n",
    "**¿Ordenado o desordenado?**\n",
    "A partir de la versión 3.7 de Python, los diccionarios están ordenados. En Python 3.6 y versiones anteriores, los diccionarios están desordenados. Cuando decimos que los diccionarios están ordenados, significa que los elementos tienen un orden definido y ese orden no cambiará. Desordenado significa que los artículos no tienen un orden definido, no puede hacer referencia a un artículo usando un índice.\n",
    "\n",
    "**Cambiable o mutable**\n",
    "Los diccionarios se pueden cambiar o mutar o modificar, lo que significa que podemos cambiar, agregar o eliminar elementos después de que se haya creado el diccionario.\n",
    "\n",
    "**No se permiten duplicados**\n",
    "Los diccionarios no pueden tener dos elementos con la misma clave, en caso de duplicar una clave conserva la última ingresada.\n",
    "\n",
    "</p>"
   ]
  },
  {
   "cell_type": "code",
   "execution_count": null,
   "metadata": {
    "colab": {
     "base_uri": "https://localhost:8080/"
    },
    "executionInfo": {
     "elapsed": 193,
     "status": "ok",
     "timestamp": 1692294418528,
     "user": {
      "displayName": "JUAN CAMILO HENAO CARO",
      "userId": "11825490046934558373"
     },
     "user_tz": 300
    },
    "id": "uglfi-9YDf6X",
    "outputId": "b1babcb2-c8c5-472c-8ef2-e10fa077664d"
   },
   "outputs": [
    {
     "name": "stdout",
     "output_type": "stream",
     "text": [
      "{'Arroz': 'Cereal', 'Papa': 'Tuberculo', 'CantArroz': 2000, 'CantPapa': 2000}\n"
     ]
    }
   ],
   "source": [
    "undiccionario = {\n",
    "  \"Arroz\": \"Cereal\",\n",
    "  \"Papa\": \"Tuberculo\",\n",
    "  \"CantArroz\": 1000,\n",
    "  \"CantArroz\": 1500,\n",
    "  \"CantArroz\": 2000,\n",
    "  \"CantPapa\": 2000\n",
    "}\n",
    "print(undiccionario)"
   ]
  },
  {
   "cell_type": "markdown",
   "metadata": {
    "id": "_PLE6g1wErOM"
   },
   "source": [
    "### **Diccionarios y funciones**\n",
    "<p>\n",
    "\n",
    "**Longitud del diccionario**\n",
    "Para determinar cuántos elementos tiene un diccionario, se usa la función `len()`:\n",
    "\n",
    "```python\n",
    "print(len(undiccionario))\n",
    "```\n",
    "\n",
    "**Ítem y tipos de datos del diccionario**\n",
    "Los valores de los elementos del diccionario pueden ser de cualquier tipo de datos:\n",
    "\n",
    "```python\n",
    "undiccionario = {\n",
    "  \"Arroz\": \"Cereal\",\n",
    "  \"Papa\": \"Tuberculo\",\n",
    "  \"CantArroz\": 1000,\n",
    "  \"CantArroz\": 1500,\n",
    "  \"CantArroz\": 2000,\n",
    "  \"CantPapa\": 2000,\n",
    "  \"Vendedores\": [\"Dario Gomez\", \"Michael Jackson\", \"Metallica\"]\n",
    "}\n",
    "print(undiccionario)\n",
    "```\n",
    "**Data Type del diccionario**\n",
    "Desde la perspectiva de Python, los diccionarios se definen como objetos con el tipo de datos 'dict':\n",
    "\n",
    "```python\n",
    "print(type(undiccionario))\n",
    "```\n",
    "</p>"
   ]
  },
  {
   "cell_type": "code",
   "execution_count": null,
   "metadata": {
    "colab": {
     "base_uri": "https://localhost:8080/"
    },
    "executionInfo": {
     "elapsed": 227,
     "status": "ok",
     "timestamp": 1692294426225,
     "user": {
      "displayName": "JUAN CAMILO HENAO CARO",
      "userId": "11825490046934558373"
     },
     "user_tz": 300
    },
    "id": "yNoPuF8zFbNk",
    "outputId": "f6d42f94-1ba6-48e4-f4cb-72c72fa98bf0"
   },
   "outputs": [
    {
     "name": "stdout",
     "output_type": "stream",
     "text": [
      "5\n",
      "{'Arroz': 'Cereal', 'Papa': 'Tuberculo', 'CantArroz': 2000, 'CantPapa': 2000, 'Vendedores': ['Dario Gomez', 'Michael Jackson', 'Metallica']}\n",
      "<class 'dict'>\n"
     ]
    }
   ],
   "source": [
    "undiccionario = {\n",
    "  \"Arroz\": \"Cereal\",\n",
    "  \"Papa\": \"Tuberculo\",\n",
    "  \"CantArroz\": 1000,\n",
    "  \"CantArroz\": 1500,\n",
    "  \"CantArroz\": 2000,\n",
    "  \"CantPapa\": 2000,\n",
    "  \"Vendedores\": [\"Dario Gomez\", \"Michael Jackson\", \"Metallica\"]\n",
    "}\n",
    "print(len(undiccionario))\n",
    "print(undiccionario)\n",
    "print(type(undiccionario))"
   ]
  },
  {
   "cell_type": "markdown",
   "metadata": {
    "id": "vIbiG3OLF6F1"
   },
   "source": [
    "### **Acceder a los datos de un Diccionario**\n",
    "<p>\n",
    "\n",
    "**Acceder a elementos**\n",
    "\n",
    "Puede acceder a los elementos de un diccionario haciendo referencia a su clave, entre corchetes, este contexto retorna el valor, el método `get()` tiene los mismos resultados:\n",
    "\n",
    "```python\n",
    "undiccionario = {\n",
    "  \"Arroz\": \"Cereal\",\n",
    "  \"Papa\": \"Tuberculo\",\n",
    "  \"CantArroz\": 1000,\n",
    "  \"CantArroz\": 1500,\n",
    "  \"CantArroz\": 2000,\n",
    "  \"CantPapa\": 2000,\n",
    "  \"Vendedores\": [\"Dario Gomez\", \"Michael Jackson\", \"Metallica\"]\n",
    "}\n",
    "x = undiccionario[\"Arroz\"]\n",
    "print(x)\n",
    "y = undiccionario.get(\"Papa\")\n",
    "print(y)\n",
    "```\n",
    "\n",
    "\n",
    "</p>"
   ]
  },
  {
   "cell_type": "code",
   "execution_count": null,
   "metadata": {
    "colab": {
     "base_uri": "https://localhost:8080/"
    },
    "executionInfo": {
     "elapsed": 209,
     "status": "ok",
     "timestamp": 1692294439075,
     "user": {
      "displayName": "JUAN CAMILO HENAO CARO",
      "userId": "11825490046934558373"
     },
     "user_tz": 300
    },
    "id": "SYJqrdhBGfR9",
    "outputId": "1cffd41c-702b-4256-ff62-30f70f70798e"
   },
   "outputs": [
    {
     "name": "stdout",
     "output_type": "stream",
     "text": [
      "Cereal\n",
      "Tuberculo\n"
     ]
    }
   ],
   "source": [
    "undiccionario = {\n",
    "  \"Arroz\": \"Cereal\",\n",
    "  \"Papa\": \"Tuberculo\",\n",
    "  \"CantArroz\": 1000,\n",
    "  \"CantArroz\": 1500,\n",
    "  \"CantArroz\": 2000,\n",
    "  \"CantPapa\": 2000,\n",
    "  \"Vendedores\": [\"Dario Gomez\", \"Michael Jackson\", \"Metallica\"]\n",
    "}\n",
    "\n",
    "x = undiccionario[\"Arroz\"]\n",
    "print(x)\n",
    "y = undiccionario.get(\"Papa\")\n",
    "print(y)"
   ]
  },
  {
   "cell_type": "markdown",
   "metadata": {
    "id": "reSo2VdVHJZi"
   },
   "source": [
    "### **Acceder a las llaves o claves de un Diccionario**\n",
    "<p>\n",
    "\n",
    "**Acceder o modificar claves y valores de un Diccionario**\n",
    "\n",
    "El método `keys()` devolverá una lista de todas las claves del diccionario.\n",
    "La lista de claves es una vista del diccionario, lo que significa que cualquier cambio realizado en el diccionario se reflejará en la lista de claves.\n",
    "\n",
    "```python\n",
    "empanadas = {\"masa\": \"maiz\",\"nombre\": \"empanada\",\"cantidad\": 100}\n",
    "x = empanadas.keys()\n",
    "print(x)  #Agregamos una nueva clave\n",
    "empanadas[\"color\"] = \"amarillito\"\n",
    "print(x)\n",
    "```\n",
    "\n",
    "---\n",
    "\n",
    "**Acceder a los valores**\n",
    "\n",
    "El método `values()` devolverá una lista de todos los valores en el diccionario.\n",
    "La lista de valores es una vista del diccionario, lo que significa que cualquier cambio realizado en el diccionario se reflejará en la lista de valores.\n",
    "```python\n",
    "empanadas = {\"masa\": \"maiz\",\"nombre\": \"empanada\",\"cantidad\": 100}\n",
    "y = empanadas.values()\n",
    "print(y)  #Agregamos una nueva clave\n",
    "empanadas[\"color\"] = \"amarillito\"\n",
    "print(y)\n",
    "```\n",
    "\n",
    "---\n",
    "\n",
    "**Acceder a los ítems**\n",
    "\n",
    "El método `items()` devolverá cada elemento en un diccionario, como tuplas en una lista. La lista devuelta es una vista de los elementos del diccionario, lo que significa que cualquier cambio realizado en el diccionario se reflejará en la lista de elementos.\n",
    "```python\n",
    "empanadas = {\"masa\": \"maiz\",\"nombre\": \"empanada\",\"cantidad\": 100, \"color\":\"amarillito\"}\n",
    "z = empanadas.items()\n",
    "print(z)  #Actualizamos el color y se refleja en la vista\n",
    "empanadas[\"color\"] = \"amarillo\"\n",
    "print(z)\n",
    "```\n",
    "---\n",
    "\n",
    "**Verificar si una clave existe**\n",
    "\n",
    "Para determinar si una clave existe en un diccionario, utilizamos el operadore de membresía `in`.\n",
    "```python\n",
    "empanadas = {\"masa\": \"maiz\",\"nombre\": \"empanada\",\"cantidad\": 100, \"color\":\"amarillito\"}\n",
    "z = empanadas.items()\n",
    "print(\"masa\" in empanadas)\n",
    "print(\"arroz\" in empanadas)\n",
    "```\n",
    "---\n",
    "\n",
    "**Cambiar valores**\n",
    "\n",
    "Se puede cambiar el valor de un ítem especifico haciendo uso de la clave.\n",
    "```python\n",
    "empanadas = {\"masa\": \"maiz\",\"nombre\": \"empanada\",\"cantidad\": 100, \"color\":\"amarillito\"}\n",
    "empanadas[\"cantidad\"] = 200\n",
    "print(empanadas)\n",
    "```\n",
    "---\n",
    "\n",
    "**Actualizar el Diccionario**\n",
    "\n",
    "El método `update()` actualizará el diccionario con los elementos del argumento dado. El argumento debe ser un diccionario o un objeto iterable con pares clave: valor. Este método permite ingresar nuevos valores de clave y valor.\n",
    "```python\n",
    "empanadas = {\"masa\": \"maiz\",\"nombre\": \"empanada\",\"cantidad\": 100, \"color\":\"amarillito\"}\n",
    "empanadas.update({\"cantidad\":300})\n",
    "empanadas.update({\"comprador\":\"Lionel Messi\"})\n",
    "print(empanadas)\n",
    "```\n",
    "</p>"
   ]
  },
  {
   "cell_type": "code",
   "execution_count": null,
   "metadata": {
    "colab": {
     "base_uri": "https://localhost:8080/"
    },
    "executionInfo": {
     "elapsed": 248,
     "status": "ok",
     "timestamp": 1692294512381,
     "user": {
      "displayName": "JUAN CAMILO HENAO CARO",
      "userId": "11825490046934558373"
     },
     "user_tz": 300
    },
    "id": "hDyehVO3Hy1r",
    "outputId": "539d8dff-b4ec-4439-eff4-4a14a6eae986"
   },
   "outputs": [
    {
     "name": "stdout",
     "output_type": "stream",
     "text": [
      "dict_keys(['masa', 'nombre', 'cantidad'])\n",
      "dict_keys(['masa', 'nombre', 'cantidad', 'color'])\n",
      "dict_values(['maiz', 'empanada', 100, 'amarillito'])\n",
      "dict_items([('masa', 'maiz'), ('nombre', 'empanada'), ('cantidad', 100), ('color', 'amarillito')])\n",
      "dict_items([('masa', 'maiz'), ('nombre', 'empanada'), ('cantidad', 100), ('color', 'amarillo')])\n",
      "True\n",
      "False\n",
      "{'masa': 'maiz', 'nombre': 'empanada', 'cantidad': 200, 'color': 'amarillo'}\n",
      "{'masa': 'maiz', 'nombre': 'empanada', 'cantidad': 300, 'color': 'amarillo'}\n",
      "{'masa': 'maiz', 'nombre': 'empanada', 'cantidad': 300, 'color': 'amarillo', 'comprador': 'Lionel Messi'}\n"
     ]
    }
   ],
   "source": [
    "empanadas = {\n",
    "\"masa\": \"maiz\",\n",
    "\"nombre\": \"empanada\",\n",
    "\"cantidad\": 100\n",
    "}\n",
    "x = empanadas.keys()\n",
    "print(x)\n",
    "empanadas[\"color\"] = \"amarillito\"\n",
    "print(x)\n",
    "y = empanadas.values()\n",
    "print(y)\n",
    "z = empanadas.items()\n",
    "print(z)  #Actualizamos el color y se refleja en la vista\n",
    "empanadas[\"color\"] = \"amarillo\"\n",
    "print(z)\n",
    "print(\"masa\" in empanadas)\n",
    "print(\"arroz\" in empanadas)\n",
    "empanadas[\"cantidad\"] = 200\n",
    "print(empanadas)\n",
    "empanadas.update({\"cantidad\":300})\n",
    "print(empanadas)\n",
    "empanadas.update({\"comprador\":\"Lionel Messi\"})\n",
    "print(empanadas)"
   ]
  },
  {
   "cell_type": "markdown",
   "metadata": {
    "id": "xNlfwA-dLtFJ"
   },
   "source": [
    "### **Eliminar llaves o claves de un Diccionario**\n",
    "<p>\n",
    "\n",
    "**Eliminar elementos**\n",
    "\n",
    "Existen varios métodos para eliminar elementos de un diccionario:\n",
    "El método `pop()` elimina el elemento con el nombre de clave especificado:\n",
    "\n",
    "```python\n",
    "empanadas = {\"masa\": \"maiz\",\"nombre\": \"empanada\",\"cantidad\": 100, \"color\":\"amarillito\", \"comprador\":\"Liones Messi\"}\n",
    "print(empanadas)\n",
    "empanadas.pop(\"comprador\")\n",
    "print(empanadas)\n",
    "```\n",
    "---\n",
    "**Eliminar ítems**\n",
    "\n",
    "El método `popitem()` elimina el último elemento insertado (en las versiones anteriores a la 3.7, se elimina un elemento aleatorio):\n",
    "\n",
    "```python\n",
    "empanadas = {\"masa\": \"maiz\",\"nombre\": \"empanada\",\"cantidad\": 100, \"color\":\"amarillito\", \"comprador\":\"Liones Messi\"}\n",
    "print(empanadas)\n",
    "empanadas.popitem()\n",
    "print(empanadas)\n",
    "```\n",
    "---\n",
    "**Eliminar Diccionarios**\n",
    "\n",
    "La palabra clave `del` elimina completamente\n",
    "**Nota: Acceder a un objeto eliminado usando la instrucción `del` genera un error debido a que el objeto no existe.**\n",
    "\n",
    "```python\n",
    "empanadas = {\"masa\": \"maiz\",\"nombre\": \"empanada\",\"cantidad\": 100, \"color\":\"amarillito\", \"comprador\":\"Liones Messi\"}\n",
    "\n",
    "del empanadas\n",
    "```\n",
    "---\n",
    "**Limpiar Diccionarios**\n",
    "\n",
    "Usando el método `clear()` se eliminan todos los objetos del diccionario.\n",
    "\n",
    "```python\n",
    "empanadas = {\"masa\": \"maiz\",\"nombre\": \"empanada\",\"cantidad\": 100, \"color\":\"amarillito\", \"comprador\":\"Liones Messi\"}\n",
    "empanadas.clear()\n",
    "print(empanadas)\n",
    "```\n",
    "---\n",
    "\n",
    "</p>"
   ]
  },
  {
   "cell_type": "code",
   "execution_count": null,
   "metadata": {
    "id": "gCWZURdnMSYU"
   },
   "outputs": [],
   "source": [
    "empanadas = {\"masa\": \"maiz\",\"nombre\": \"empanada\",\"cantidad\": 100, \"color\":\"amarillito\", \"comprador\":\"Liones Messi\"}\n",
    "print(empanadas)\n",
    "empanadas.pop(\"comprador\")\n",
    "print(empanadas)\n",
    "empanadas.popitem()\n",
    "print(empanadas)\n",
    "empanadas.clear()\n",
    "print(empanadas)"
   ]
  },
  {
   "cell_type": "markdown",
   "metadata": {
    "id": "lg-Mx6kaOTKK"
   },
   "source": [
    "### **Métodos de los Diccionarios**\n",
    "<p>\n",
    "\n",
    "Python tiene un conjunto de métodos integrados que puede usar en diccionarios.\n",
    "\n",
    "Metodo | Descripción\n",
    "--- | ---\n",
    "`clear(`) | Elimina todos los elementos del diccionario\n",
    "`copy(`) | Devuelve una copia del diccionario\n",
    "`fromkeys(`) | Devuelve un diccionario con las claves y el valor especificados\n",
    "`get(`) | Devuelve el valor de la clave especificada\n",
    "`items()`| Devuelve una lista que contiene una tupla para cada par clave-valor\n",
    "`keys()` | Devuelve una lista que contiene las claves del diccionario\n",
    "`pop()` | Elimina el elemento con la clave especificada\n",
    "`popitem()` | Elimina el último par clave-valor insertado\n",
    "`setdefault()` | Devuelve el valor de la clave especificada. Si la clave no existe: inserte la clave, con el valor especificado\n",
    "`update()` | Actualiza el diccionario con los pares clave-valor especificados\n",
    "`values()` | Devuelve una lista de todos los valores en el diccionario.\n",
    "\n",
    "</p>"
   ]
  },
  {
   "cell_type": "markdown",
   "metadata": {
    "id": "x7RmYrkoLipv"
   },
   "source": [
    "<p><a name=\"s11\"></a></p>\n",
    "\n",
    "# **11. Estructuras de Selección (Condicionales)**\n",
    "\n",
    "\n",
    "[[Contenidos]](#contents)\n",
    "\n",
    "\n",
    "<p>\n",
    "En cada ejercicio de la vida diaria existe una toma de decisión, esta toma de decisiones infiere en los algoritmos, cada algoritmo de un nivel de complejidad relativamente mínimo tiene una toma de decisión.\n",
    "\n",
    "Las estructuras algorítmicas selectivas se utilizan para la toma de decisiones lógicas las podemos clasificar de la siguiente forma.\n",
    "\n",
    "\n",
    "*   Si Entonces\n",
    "*   Si Entonces / Sino\n",
    "\n",
    "</p>"
   ]
  },
  {
   "cell_type": "markdown",
   "metadata": {
    "id": "ZSTz1_gUL18I"
   },
   "source": [
    "## **Si Entonces**\n",
    "<p>\n",
    "La estructura selectiva simple permite el flujo del diagrama continúe un flujo específico si se cumple una condición.\n",
    "Si el resultado es negativo se continúa el flujo normal del programa.\n",
    "\n",
    "![Si entonces](https://i.imgur.com/BuWNkj1.png)\n",
    "\n",
    "</p>"
   ]
  },
  {
   "cell_type": "markdown",
   "metadata": {
    "id": "hA-e0hOeNirq"
   },
   "source": [
    "## **Si Entonces / Sino**\n",
    "<p>\n",
    "La estructura selectiva doble permite el flujo del diagrama se bifurque en dos opciones.\n",
    "Si el resultado es negativo se realiza otra operación y luego continua el flujo normal del programa.\n",
    "\n",
    "![Si entonces sino](https://i.imgur.com/DPQXVvd.png)\n",
    "\n",
    "</p>"
   ]
  },
  {
   "cell_type": "markdown",
   "metadata": {
    "id": "z0n4E7tENz5I"
   },
   "source": [
    "## **Estructuras selectivas en cascada (Anidadas)**\n",
    "<p>\n",
    "Encontramos numerosos casos en el que se deben tomar varias decisiones, e incluso algunas decisiones son consecuencia de las anteriores. En este caso, para resolver el problema, estamos aplicando estructuras selectivas en cascada o anidadas.\n",
    "\n",
    "![Cascada](https://i.imgur.com/LVygrUk.png)\n",
    "\n",
    "</p>"
   ]
  },
  {
   "cell_type": "markdown",
   "metadata": {
    "id": "UKtax7J0Bpgs"
   },
   "source": [
    "## **Estructuras de selección**\n",
    "\n",
    "<p>\n",
    "Las estructuras lógicas selectivas se encuentran en la solución algorítmica de casi todo tipo de problemas. Las utilizamos cuando en el desarrollo de la solución de un problema debemos tomar una decisión, para establecer un proceso o señalar un camino alternativo a seguir. Esta toma de decisión se basa en la evaluación de una o más condiciones que nos señalarán como alternativa o consecuencia, la rama a seguir. Hay situaciones en las que la toma de decisiones se realiza en cascada. Es decir, se toma una decisión, se marca la rama correspondiente a seguir, se vuelve a tomar otra decisión y así sucesivamente. Por lo que para alcanzar la solución de un problema o subproblema debemos aplicar prácticamente un árbol de decisión.\n",
    "Las estructuras algorítmicas selectivas que se utilizan para La toma de decisiones lógicas las podemos clasificar de la siguiente forma:\n",
    "\n",
    "1.   Si Entonces → Estructura selectiva simple\n",
    "2.   Si Entonces Sino → Estructura selectiva doble\n",
    "3.   Si Entonces Si Sino → Estructura selectiva anidada\n",
    "\n",
    "</p>"
   ]
  },
  {
   "cell_type": "markdown",
   "metadata": {
    "id": "cKzlQoab6vlO"
   },
   "source": [
    "## **Estructura selectiva simple**\n",
    "\n",
    "<p>\n",
    "La estructura selectiva si entonces permite que el flujo del algoritmo siga por un camino especifico si se cumple una condición o conjunto de condiciones. Si al evaluar la condición (o condiciones) el resultado es verdadero, entonces se ejecutan ciertas operaciones. Luego se continúa con la secuencia normal del programa.\n",
    "\n",
    "![Simple](https://i.imgur.com/BuWNkj1.png)\n",
    "\n",
    "![Simple](https://files.realpython.com/media/t.78f3bacaa261.png)\n",
    "\n",
    "</p>"
   ]
  },
  {
   "cell_type": "markdown",
   "metadata": {
    "id": "-hj9gOZnNizK"
   },
   "source": [
    "## **Usando `if`**\n",
    "<p>\n",
    "\n",
    "La condición `if` se considera la más simple de las tres y toma una decisión en función de si la condición es verdadera o no. Si la condición es verdadera, imprime la expresión con sangría. Si la condición es falsa, omite la impresión de la expresión con sangría.\n",
    "Es muy importante detallar que al terminar la condición debemos escribir dos puntos `:` indicando la finalización de la condición.\n",
    "La sangría o el sangrado indica que las expresiones detalladas se realizan en el entorno de la condición verdadera.\n",
    "\n",
    "\n",
    "```python\n",
    "if (condición):\n",
    "    expresión\n",
    "```\n",
    "\n",
    "\n",
    "\n",
    "</p>"
   ]
  },
  {
   "cell_type": "code",
   "execution_count": null,
   "metadata": {
    "colab": {
     "base_uri": "https://localhost:8080/"
    },
    "executionInfo": {
     "elapsed": 9844,
     "status": "ok",
     "timestamp": 1692295008793,
     "user": {
      "displayName": "JUAN CAMILO HENAO CARO",
      "userId": "11825490046934558373"
     },
     "user_tz": 300
    },
    "id": "bVj9--aNOztR",
    "outputId": "43088613-dd13-479f-eec9-5fb0885b0d5f"
   },
   "outputs": [
    {
     "name": "stdout",
     "output_type": "stream",
     "text": [
      "Ingresar el valor de a: 5\n",
      "Ingresar el valor de b: 2\n",
      "Validador de a mayor que b\n",
      "a (5) es mayor que (2) b\n",
      "Fin\n"
     ]
    }
   ],
   "source": [
    "#Ejemplo de if\n",
    "# Validar si a es mayor que b, ambos ingresados por teclado\n",
    "a = int(input('Ingresar el valor de a: '))\n",
    "b = int(input('Ingresar el valor de b: '))\n",
    "print('Validador de a mayor que b')\n",
    "if a > b:\n",
    "    print('a ({}) es mayor que ({}) b'.format(a, b))\n",
    "print('Fin')"
   ]
  },
  {
   "cell_type": "markdown",
   "metadata": {
    "id": "-KGQbOqrPqLe"
   },
   "source": [
    "### Ejercicio 1\n",
    "\n",
    "Ingresar la calificación de un estudiante, si la nota es mayor o igual a 3 imprimir aprobado."
   ]
  },
  {
   "cell_type": "code",
   "execution_count": null,
   "metadata": {
    "colab": {
     "base_uri": "https://localhost:8080/"
    },
    "executionInfo": {
     "elapsed": 5506,
     "status": "ok",
     "timestamp": 1692295057748,
     "user": {
      "displayName": "JUAN CAMILO HENAO CARO",
      "userId": "11825490046934558373"
     },
     "user_tz": 300
    },
    "id": "XXRMaHjb0a0j",
    "outputId": "3642fcd1-4118-4416-e9d9-b2a8450b53c4"
   },
   "outputs": [
    {
     "name": "stdout",
     "output_type": "stream",
     "text": [
      "Ingresar el valor de la Nota: 4\n",
      "Aprobado\n",
      "Fin del algoritmo\n"
     ]
    }
   ],
   "source": [
    "a = int(input('Ingresar el valor de la Nota: '))\n",
    "if a >= 3:\n",
    "    print('Aprobado')\n",
    "print('Fin del algoritmo')"
   ]
  },
  {
   "cell_type": "markdown",
   "metadata": {
    "id": "Bbk6c_CGXy4j"
   },
   "source": [
    "### Ejercicio 2\n",
    "\n",
    "Ingresar el sueldo de un trabajador, si este es inferior al salario mínimo para el año 2023, aplicarle un incremento del 10% e imprimir el nuevo salario. (Consultar el [salario Mínimo](https://www.mintrabajo.gov.co/prensa/comunicados/2022/diciembre/-1.160.000-ser%C3%A1-el-salario-minimo-para-2023-y-auxilio-de-transporte-por-140.606))"
   ]
  },
  {
   "cell_type": "code",
   "execution_count": null,
   "metadata": {
    "colab": {
     "base_uri": "https://localhost:8080/"
    },
    "executionInfo": {
     "elapsed": 6492,
     "status": "ok",
     "timestamp": 1692295096831,
     "user": {
      "displayName": "JUAN CAMILO HENAO CARO",
      "userId": "11825490046934558373"
     },
     "user_tz": 300
    },
    "id": "pXzTfYxjORRx",
    "outputId": "55e48e96-b0bd-4806-d15b-6b3130b5b18e"
   },
   "outputs": [
    {
     "name": "stdout",
     "output_type": "stream",
     "text": [
      "Ingresar el valor del salario: 300000\n",
      "330000.0\n"
     ]
    }
   ],
   "source": [
    "SALARIO_MINIMO = 1160000\n",
    "SalarioTrabajador = float(input('Ingresar el valor del salario: '))\n",
    "if SalarioTrabajador < SALARIO_MINIMO:\n",
    "    SalarioTrabajador *= 1.1\n",
    "print(SalarioTrabajador)"
   ]
  },
  {
   "cell_type": "markdown",
   "metadata": {
    "id": "NZpacW1JD3pj"
   },
   "source": [
    "## **Estructura selectiva doble**\n",
    "\n",
    "<p>\n",
    "\n",
    "La estructura selectiva si entonces/sino permite que el flujo del algoritmo se bifurque por dos ramas diferentes en el punto de la toma de decisión o decisiones. Si al evaluar la condición o condiciones el resultado es verdadero `True`, entonces se sigue por un camino especifico y se ejecutan ciertas operaciones. Por otra parte, si el resultado es falso `False` se sigue por otro camino y se ejecutan otras operaciones. En ambos casos luego de ejecutarse las operaciones indicadas, se continua con la secuencia normal del algoritmo.\n",
    "\n",
    "![Si entonces sino](https://i.imgur.com/DPQXVvd.png)\n",
    "\n",
    "</p>"
   ]
  },
  {
   "cell_type": "markdown",
   "metadata": {
    "id": "oFCYBqaunb5G"
   },
   "source": [
    "## **Usando `if-else`**\n",
    "<p>\n",
    "\n",
    "La condición `if-else` agrega un paso adicional en el proceso de toma de decisiones en comparación con la declaración `if` simple. El comienzo de una instrucción `if-else` funciona de manera similar a una instrucción `if` simple; sin embargo, si la condición es falsa, en lugar de no imprimir nada, se imprimirá la expresión con sangría debajo de else. Es muy importante detallar que al terminar la condición debemos escribir dos puntos `:` indicando la finalización de la condición, tanto para el `if` como para el `else`.\n",
    "La sangría o el sangrado indica que las expresiones detalladas se realizan en el entorno de la condición verdadera y falsa de acuerdo con el flujo del algoritmo.\n",
    "\n",
    "```python\n",
    "if (condición):\n",
    "    expresión True\n",
    "else:\n",
    "    expresión False\n",
    "```\n",
    "\n",
    "</p>"
   ]
  },
  {
   "cell_type": "markdown",
   "metadata": {
    "id": "G7ZxxyEWoI_0"
   },
   "source": [
    "### Ejercicio 1\n",
    "\n",
    "Ingresar la calificación de un estudiante, si la nota es mayor o igual a 3 imprimir aprobado, de lo contrario imprimir reprobado."
   ]
  },
  {
   "cell_type": "code",
   "execution_count": null,
   "metadata": {
    "colab": {
     "base_uri": "https://localhost:8080/"
    },
    "executionInfo": {
     "elapsed": 3704,
     "status": "ok",
     "timestamp": 1692295722557,
     "user": {
      "displayName": "JUAN CAMILO HENAO CARO",
      "userId": "11825490046934558373"
     },
     "user_tz": 300
    },
    "id": "EzwOdc82oI_3",
    "outputId": "92cfc6a5-ce32-48ed-83a5-d46fc5125ea0"
   },
   "outputs": [
    {
     "name": "stdout",
     "output_type": "stream",
     "text": [
      "Ingresar la nota de JCAMILO: 1.0\n",
      "malo\n",
      "Eres feo\n"
     ]
    }
   ],
   "source": [
    "#Ejecutar la solución aquí\n",
    "nota = float(input(\"Ingresar la nota de JCAMILO: \"))\n",
    "if nota >= 3:\n",
    "    print(\"Creido\")\n",
    "else:\n",
    "    print(\"malo\")\n",
    "print(\"Eres feo\")"
   ]
  },
  {
   "cell_type": "markdown",
   "metadata": {
    "id": "CbpHyDPnoXNm"
   },
   "source": [
    "### Ejercicio 2\n",
    "\n",
    "Ingresar el sueldo de un trabajador, si este es inferior al salario mínimo para el año 2023, aplicarle un incremento del 10% e imprimir el nuevo salario, de lo contrario aplicarle un incremento del 5%. (Consultar el [salario Mínimo](https://www.mintrabajo.gov.co/prensa/comunicados/2021/diciembre/acuerdo-historico-en-colombia-se-fijo-en-un-millon-de-pesos-el-salario-minimo-para-el-2022-y-auxilio-de-transporte-por-117.172).)"
   ]
  },
  {
   "cell_type": "code",
   "execution_count": null,
   "metadata": {
    "colab": {
     "base_uri": "https://localhost:8080/"
    },
    "executionInfo": {
     "elapsed": 4616,
     "status": "ok",
     "timestamp": 1692296491507,
     "user": {
      "displayName": "JUAN CAMILO HENAO CARO",
      "userId": "11825490046934558373"
     },
     "user_tz": 300
    },
    "id": "iLltzd2HoXNn",
    "outputId": "a04099bf-66a5-4f29-818d-9904a5f54318"
   },
   "outputs": [
    {
     "name": "stdout",
     "output_type": "stream",
     "text": [
      "Ingresar el valor del salario: 500000\n",
      "El salario del trabajador es el siguiente: {0} 550000.0\n"
     ]
    }
   ],
   "source": [
    "#Ejecutar la solución aquí\n",
    "SALARIO_MINIMO = 1160000\n",
    "SalarioTrabajador = float(input('Ingresar el valor del salario: '))\n",
    "if SalarioTrabajador < SALARIO_MINIMO:\n",
    "    SalarioTrabajador *= 1.1\n",
    "else:\n",
    "    SalarioTrabajador *=1.05\n",
    "print(\"El salario del trabajador es el siguiente: {0}\",format(SalarioTrabajador))\n"
   ]
  },
  {
   "cell_type": "markdown",
   "metadata": {
    "id": "nGSRI1x_JPMv"
   },
   "source": [
    "## **Estructura selectiva anidada o en cascada**\n",
    "\n",
    "<p>\n",
    "\n",
    "Encontramos numerosos casos en el desarrollo de la solución de problemas en el que luego de tomar una decisión y marcar el camino correspondiente a seguir, es necesario tomar otra decisión. Se señala, luego de evaluar las condiciones, la rama correspondiente a seguir, y nuevamente podemos tener que tomar otra decisión. El proceso puede repetirse numerosas veces. En este caso, para resolver el problema, estamos aplicando estructuras selectivas en cascada o anidadas.\n",
    "\n",
    "![Cascada](https://i.imgur.com/LVygrUk.png)\n",
    "\n",
    "</p>"
   ]
  },
  {
   "cell_type": "markdown",
   "metadata": {
    "id": "BXZPspiMpPmv"
   },
   "source": [
    "## **Usando `if-elif-else`**\n",
    "<p>\n",
    "\n",
    "La más compleja de estas condiciones es la condición `if-elif-else`. Cuando se encuentra en una situación en la que tiene varias condiciones, puede colocar tantas condiciones `elif` como sea necesario entre la condición `if` y la condición `else`. Es muy importante detallar que al terminar la condición debemos escribir dos puntos `:` indicando la finalización de la condición, tanto para el `if` como para `elif` y `else`.\n",
    "La sangría o el sangrado indica que las expresiones detalladas se realizan en el entorno de la condición verdadera y falsa de acuerdo con el flujo del algoritmo.\n",
    "\n",
    "```python\n",
    "if (condición 1):\n",
    "    expresión True de condición 1\n",
    "elif (condición 2)\n",
    "    expresión True de condición 2\n",
    "else:\n",
    "    expresión False\n",
    "```\n",
    "\n",
    "</p>"
   ]
  },
  {
   "cell_type": "markdown",
   "metadata": {
    "id": "rUPXBCrYrF-i"
   },
   "source": [
    "### Ejercicio 1\n",
    "\n",
    "Ingresados por teclado los valores enteros a, b y c que representan números enteros diferentes, construya un algoritmo para escribir estos en forma descendente."
   ]
  },
  {
   "cell_type": "code",
   "execution_count": null,
   "metadata": {
    "colab": {
     "base_uri": "https://localhost:8080/"
    },
    "executionInfo": {
     "elapsed": 6600,
     "status": "ok",
     "timestamp": 1692296804611,
     "user": {
      "displayName": "JUAN CAMILO HENAO CARO",
      "userId": "11825490046934558373"
     },
     "user_tz": 300
    },
    "id": "HLHsQ-5CrF-l",
    "outputId": "0cdc1bd4-8d0a-4b00-9feb-3ba470a1b3f7"
   },
   "outputs": [
    {
     "name": "stdout",
     "output_type": "stream",
     "text": [
      "Ingresar el valor de a: 9\n",
      "Ingresar el valor de b: 6\n",
      "Ingresar el valor de c: 3\n",
      "9 6 3\n",
      "Fin\n"
     ]
    }
   ],
   "source": [
    "#Ejecutar la solución aquí\n",
    "a = int(input('Ingresar el valor de a: '))\n",
    "b = int(input('Ingresar el valor de b: '))\n",
    "c = int(input('Ingresar el valor de c: '))\n",
    "if a > b:\n",
    "    #De acá en adelante siempre a va a ser mayor que b\n",
    "    if a > c:\n",
    "        #De aca en adelante a sera el gandor\n",
    "        if b > c:\n",
    "            print(a,b,c)\n",
    "        else:\n",
    "            print(a,c,b)\n",
    "    else:\n",
    "        #de aca en adelante el ganador sera c\n",
    "        print(c,a,b)\n",
    "else:\n",
    "    #De acá en adelante siempre b va a ser mayor que a\n",
    "    if b > c:\n",
    "        #b es mayor que a y que c, que tengo que hacer? desempatar a , a y c\n",
    "        if a > c:\n",
    "            print(b,a,c)\n",
    "        else:\n",
    "            print(b,c,a)\n",
    "    else:\n",
    "        print(c,b,a)\n",
    "print('Fin')"
   ]
  },
  {
   "cell_type": "markdown",
   "metadata": {
    "id": "kIqzN7aHtCs9"
   },
   "source": [
    "\n",
    "### Ejercicio 2\n",
    "\n",
    "Ingresar por teclado un numero entero y determinar si es positivo, negativo o cero."
   ]
  },
  {
   "cell_type": "code",
   "execution_count": null,
   "metadata": {
    "colab": {
     "base_uri": "https://localhost:8080/"
    },
    "executionInfo": {
     "elapsed": 36762,
     "status": "ok",
     "timestamp": 1692297190254,
     "user": {
      "displayName": "JUAN CAMILO HENAO CARO",
      "userId": "11825490046934558373"
     },
     "user_tz": 300
    },
    "id": "fW4rCO2PtCs-",
    "outputId": "d34d0355-19b0-4970-cb0c-7d840c4beba3"
   },
   "outputs": [
    {
     "name": "stdout",
     "output_type": "stream",
     "text": [
      "Ingrese un numero entero: 0\n",
      "El número ingresado es cero\n",
      "Gracias por utilizar nuestros servicios 👌 Fernando\n"
     ]
    }
   ],
   "source": [
    "#Ejecutar la solución aquí\n",
    "numero = int(input(\"Ingrese un numero entero: \"))\n",
    "if numero > 0:\n",
    "    print(\"El número ingresado es mayor que cero\")\n",
    "elif numero == 0:\n",
    "    print(\"El número ingresado es cero\")\n",
    "else:\n",
    "    print(\"El valor ingresado es menor que cero\")\n",
    "print(\"Gracias por utilizar nuestros servicios 👌 Fernando\")"
   ]
  },
  {
   "cell_type": "markdown",
   "metadata": {
    "id": "e-OsBSwpuVHt"
   },
   "source": [
    "### Ejercicio 3\n",
    "\n",
    "Ingresar por teclado un numero entero y determinar si es par, impar o cero. Usar módulo para solucionar el presente ejercicio."
   ]
  },
  {
   "cell_type": "code",
   "execution_count": null,
   "metadata": {
    "id": "yI_zGBBsuVHu"
   },
   "outputs": [],
   "source": [
    "#Ejecutar la solución aquí\n"
   ]
  },
  {
   "cell_type": "code",
   "execution_count": null,
   "metadata": {
    "id": "GFE1TuazxvVp"
   },
   "outputs": [],
   "source": [
    "numero1 = 20 # @param {type:\"number\"}\n"
   ]
  },
  {
   "cell_type": "code",
   "execution_count": null,
   "metadata": {
    "colab": {
     "base_uri": "https://localhost:8080/"
    },
    "executionInfo": {
     "elapsed": 238,
     "status": "ok",
     "timestamp": 1692297900422,
     "user": {
      "displayName": "JUAN CAMILO HENAO CARO",
      "userId": "11825490046934558373"
     },
     "user_tz": 300
    },
    "id": "WF4cUBlHyCn0",
    "outputId": "2c604f47-b214-479c-baae-b502779cf348"
   },
   "outputs": [
    {
     "name": "stdout",
     "output_type": "stream",
     "text": [
      "El valor ingredado es cero Fernado\n",
      "Gracias por nada\n"
     ]
    }
   ],
   "source": [
    "if numero1 == 0:\n",
    "    print(\"El valor ingresado es cero Fernando\")\n",
    "elif numero1 % 2 == 0:\n",
    "    print(\"El valor ingredado es cero Fernado\")\n",
    "else:\n",
    "    print(\"El valor {} ingresado es impar Fernando\".format(numero1))\n",
    "print(\"Gracias por nada\")"
   ]
  },
  {
   "cell_type": "markdown",
   "metadata": {
    "id": "R_J-eJ0X2IdW"
   },
   "source": [
    "### Ejercicio 5\n",
    "\n",
    "En una tienda efectúan un descuento a los clientes dependiendo del monto de la compra. El descuento se efectúa con base en la siguiente tabla:\n",
    "\n",
    "Valor | Descuento  | Límites\n",
    "---|---|---\n",
    "Entre 1 y 50.000 | <center>0%</center> | 50.000 Inclusive\n",
    "Entre 50.000 y 100.000 | <center>5%</center> | 100.000 Inclusive\n",
    "Entre 100.000 y 700.000 | <center>11% </center>| 700.000 Inclusive\n",
    "Entre 700.000 y 1.500.000 | <center>18%</center> | 1.500.000 Inclusive\n",
    "Mayor a 1.500.000 | <center>25%</center> | Solo Mayor a 1.500.000\n",
    "\n",
    "Construya un algoritmo que imprima el valor a pagar incluyendo el descuento.\n",
    "Nota: Usar operadores lógicos"
   ]
  },
  {
   "cell_type": "code",
   "execution_count": null,
   "metadata": {
    "colab": {
     "base_uri": "https://localhost:8080/"
    },
    "executionInfo": {
     "elapsed": 2664,
     "status": "ok",
     "timestamp": 1692724327855,
     "user": {
      "displayName": "JUAN CAMILO HENAO CARO",
      "userId": "11825490046934558373"
     },
     "user_tz": 300
    },
    "id": "oRaPzqNL2IdX",
    "outputId": "4f1baf33-efaa-432b-e5d5-9885bf8660ad"
   },
   "outputs": [
    {
     "name": "stdout",
     "output_type": "stream",
     "text": [
      "ingrese por favor el valor de la compra: \n",
      "1\n",
      "El valor a pagar es 1.0,  Gracias por gastar\n",
      "Vuelva pronto\n"
     ]
    }
   ],
   "source": [
    "#Ejecutar la solución aquí\n",
    "print(\"ingrese por favor el valor de la compra: \")\n",
    "valor = float(input())\n",
    "\n",
    "if (valor > 0 and valor <= 50000):\n",
    "    valor = valor*1\n",
    "    print(\"El valor a pagar es {},\".format(valor),\" Gracias por gastar\")\n",
    "\n",
    "elif (valor > 50000 and valor <= 100000):\n",
    "    valor = valor - valor*0.05\n",
    "    print(\"El valor a pagar es {},\".format(valor),\" Gracias por gastar\")\n",
    "\n",
    "elif (valor > 100000 and valor <= 700000):\n",
    "    valor = valor - valor*0.11\n",
    "    print(\"El valor a pagar es {},\".format(valor),\"Gracias por gastar\")\n",
    "\n",
    "elif (valor > 700000 and valor <= 1500000):\n",
    "    valor = valor - valor*0.18\n",
    "    print(\"El valor a pagar es {},\".format(valor),\" Gracias por gastar\")\n",
    "\n",
    "elif:\n",
    "    valor = valor - valor*0.25\n",
    "    print(\"El valor a pagar es {},\".format(valor),\" Gracias por gastar\")\n",
    "\n",
    "print(\"Vuelva pronto\")"
   ]
  },
  {
   "cell_type": "code",
   "execution_count": null,
   "metadata": {
    "colab": {
     "base_uri": "https://localhost:8080/"
    },
    "executionInfo": {
     "elapsed": 3635,
     "status": "ok",
     "timestamp": 1692725233919,
     "user": {
      "displayName": "JUAN CAMILO HENAO CARO",
      "userId": "11825490046934558373"
     },
     "user_tz": 300
    },
    "id": "kYlMgRd7PS9a",
    "outputId": "31c7edb3-4cdf-4a69-8576-d02da533da0d"
   },
   "outputs": [
    {
     "name": "stdout",
     "output_type": "stream",
     "text": [
      "Favor ingresar el valor pagado😊: -5\n",
      "Error en el valor a descontar, revisa el valor ingresado\n",
      "El valor total a pagar es de: 0\n"
     ]
    }
   ],
   "source": [
    "compra =int(input(\"Favor ingresar el valor pagado😊: \"))\n",
    "if (compra > 0) and (compra <= 50000):\n",
    "    d = 1\n",
    "elif (compra > 50000) and (compra <= 100000):\n",
    "    d = 0.95\n",
    "elif (compra > 100000) and (compra <= 700000):\n",
    "    d = 0.89\n",
    "elif (compra > 700000) and (compra <= 1500000):\n",
    "    d = 0.82\n",
    "elif (compra >1500000):\n",
    "    d= 0.75\n",
    "else:\n",
    "    d = 0\n",
    "    print(\"Error en el valor a descontar, revisa el valor ingresado\")\n",
    "total = compra*d\n",
    "print(\"El valor total a pagar es de: {:,.0f}\".format(total))"
   ]
  },
  {
   "cell_type": "markdown",
   "metadata": {
    "id": "iirH34gA8svn"
   },
   "source": [
    "### Ejercicio 6\n",
    "\n",
    "En una tienda efectúan un descuento a los clientes dependiendo del monto de la compra. El descuento se efectúa con base en la siguiente tabla:\n",
    "\n",
    "Valor | Descuento  | Límites\n",
    "---|---|---\n",
    "Entre 1 y 50.000 | <center>0%</center> | 50.000 Inclusive\n",
    "Entre 50.000 y 100.000 | <center>5%</center> | 100.000 Inclusive\n",
    "Entre 100.000 y 700.000 | <center>11% </center>| 700.000 Inclusive\n",
    "Entre 700.000 y 1.500.000 | <center>18%</center> | 1.500.000 Inclusive\n",
    "Mayor a 1.500.000 | <center>25%</center> | Solo Mayor a 1.500.000\n",
    "\n",
    "Construya un algoritmo que imprima el valor a pagar incluyendo el descuento.\n",
    "Nota: Usar eliminación por comprensión."
   ]
  },
  {
   "cell_type": "code",
   "execution_count": null,
   "metadata": {
    "colab": {
     "base_uri": "https://localhost:8080/"
    },
    "executionInfo": {
     "elapsed": 5720,
     "status": "ok",
     "timestamp": 1692725536784,
     "user": {
      "displayName": "JUAN CAMILO HENAO CARO",
      "userId": "11825490046934558373"
     },
     "user_tz": 300
    },
    "id": "KdSse3Ac8svv",
    "outputId": "b2d89b67-1b4a-46b6-e074-ee54a43c9f33"
   },
   "outputs": [
    {
     "name": "stdout",
     "output_type": "stream",
     "text": [
      "Favor ingresar el valor pagado😊: 200000\n",
      "Error en el valor a descontar, revisa el valor ingresado\n",
      "El valor total a pagar es de: 178,000\n"
     ]
    }
   ],
   "source": [
    "#Ejecutar la solución aquí\n",
    "compra =int(input(\"Favor ingresar el valor pagado😊: \"))\n",
    "if compra > 1500000:\n",
    "    d = 0.75\n",
    "elif compra > 700000:\n",
    "    d = 0.82\n",
    "elif compra > 100000:\n",
    "    d = 0.89\n",
    "elif compra > 50000:\n",
    "    d = 0.95\n",
    "elif compra > 0:\n",
    "    d = 1\n",
    "else:\n",
    "    d = 0\n",
    "print(\"Error en el valor a descontar, revisa el valor ingresado\")\n",
    "total = compra*d\n",
    "print(\"El valor total a pagar es de: {:,.0f}\".format(total))"
   ]
  },
  {
   "cell_type": "markdown",
   "metadata": {
    "id": "amk9B8U2oX9E"
   },
   "source": [
    "## **La instrucción `pass`**\n",
    "<p>\n",
    "\n",
    "Las instrucciones if no pueden estar vacías, pero si por alguna razón tiene una declaración if sin contenido, coloque la instrucción `pass` para evitar errores.\n",
    "\n",
    "![](https://c.tenor.com/uUnfd6BfpEgAAAAC/you-shall-not-pass.gif)\n",
    "\n",
    "```python\n",
    "a = 33\n",
    "b = 200\n",
    "if b > a:\n",
    "    pass\n",
    "```"
   ]
  },
  {
   "cell_type": "code",
   "execution_count": null,
   "metadata": {
    "colab": {
     "base_uri": "https://localhost:8080/",
     "height": 141
    },
    "executionInfo": {
     "elapsed": 226,
     "status": "error",
     "timestamp": 1692725562052,
     "user": {
      "displayName": "JUAN CAMILO HENAO CARO",
      "userId": "11825490046934558373"
     },
     "user_tz": 300
    },
    "id": "opdTuHgR19-q",
    "outputId": "7a48c685-e75c-4d29-aae1-14e7260eeaea"
   },
   "outputs": [
    {
     "ename": "SyntaxError",
     "evalue": "ignored",
     "output_type": "error",
     "traceback": [
      "\u001b[0;36m  File \u001b[0;32m\"<ipython-input-9-23b60f3e4f99>\"\u001b[0;36m, line \u001b[0;32m6\u001b[0m\n\u001b[0;31m    #continuo aca despues del pass\u001b[0m\n\u001b[0m                                  ^\u001b[0m\n\u001b[0;31mSyntaxError\u001b[0m\u001b[0;31m:\u001b[0m incomplete input\n"
     ]
    }
   ],
   "source": [
    "if edad > 60:\n",
    "    print('Estoy en la edad mayor a 60, esto falta')\n",
    "    pass #el trabajo de tu compañero\n",
    "elif edad > 18:\n",
    "    #tu trabajo sería aqui\n",
    "#continuo aca despues del pass"
   ]
  },
  {
   "cell_type": "markdown",
   "metadata": {
    "id": "7cQ4pjiIpc-o"
   },
   "source": [
    "<p><a name=\"s12\"></a></p>\n",
    "\n",
    "# **12. Estructura repetitivas**\n",
    "[[Contenidos]](#contents)\n",
    "\n",
    "## **Ciclos | Estructuras repetitivas**\n",
    "<p>\n",
    "Es muy común encontrar en la práctica algoritmos cuyas operaciones se deben ejecutar un número repetido de veces.\n",
    "El conjunto de instrucciones que se ejecuta repetidamente se llama ciclo.\n",
    "\n",
    "Todo ciclo debe terminar de ejecutarse luego de un número finito de veces, por lo que es necesario en cada iteración del mismo, evaluar las condiciones necesarias para decidir si se debe seguir ejecutando o si debe detenerse.\n",
    "**En todo ciclo, siempre debe existir una condición de parada o fin de ciclo.**\n",
    "\n",
    "Las estructuras lógicas repetitivas se utilizan cuando necesitamos realizar un algoritmo en el cual haya que repetir un proceso un número $n$ de veces, las estructuras repetitivas se pueden mezclar con las estructuras selectivas si el problema lo necesita, también se hará uso de expresiones lógicas y operadores relacionales.\n",
    "\n",
    "\n",
    "</p>"
   ]
  },
  {
   "cell_type": "markdown",
   "metadata": {
    "id": "sZWRIyFgxCuy"
   },
   "source": [
    "## **Contadores**\n",
    "<p>\n",
    "La construcción de un contador es una de las técnicas más comunes en la realización de algoritmos.\n",
    "Es una variable en la memoria que se incrementará en una unidad cada vez que se ejecute el proceso.\n",
    "El contador se utiliza para llevar la cuenta de determinadas acciones que se pueden solicitar durante la resolución de un problema.\n",
    "En las instrucciones de preparación se realiza la inicialización del contador o contadores. La inicialización consiste en poner el valor inicial de la variable que representa al contador.\n",
    "Generalmente se inicializa con el valor 0 para operaciones de suma y en 1 para operaciones de multiplicación.\n",
    "\n",
    "</p>"
   ]
  },
  {
   "cell_type": "markdown",
   "metadata": {
    "id": "bLquH8tCxUd1"
   },
   "source": [
    "## **Acumuladores**\n",
    "<p>\n",
    "Un acumulador  es una variable en la memoria cuya misión es almacenar cantidades variables.\n",
    "Se utiliza para efectuar sumas sucesivas. La principal diferencia con el contador es que el incremento o decremento de cada suma es variable en lugar de constante como en el caso del contador.\n",
    "\n",
    "\n",
    "</p>"
   ]
  },
  {
   "cell_type": "markdown",
   "metadata": {
    "id": "QiY76emAxeai"
   },
   "source": [
    "## **Contadores y Acumuladores**\n",
    "<p>\n",
    "El ejemplo más sencillo para explicar contadores y acumuladores detalla el promedio de n números ingresados a un sistema.\n",
    "Un contador debe llevar cuenta de la cantidad de números ingresados y el acumulador debe llevar la suma de todos los valores ingresados, al final del procedimiento realizamos la siguiente operación,\n",
    "<h1>\n",
    "${promedio} = \\frac{acumulador}{contador}$\n",
    "</h1>\n",
    "</p>"
   ]
  },
  {
   "cell_type": "markdown",
   "metadata": {
    "id": "UQWz_cTBxz4m"
   },
   "source": [
    "## **Ciclo FOR (Para)**\n",
    "<p>\n",
    "El ciclo 'Para', también llamado FOR (del inglés), es la estructura algorítmica adecuada para utilizar en un ciclo que se ejecutará un número definido de veces. El número de veces del ciclo no depende de las proposiciones dentro de el mismo. El número de veces se obtiene del planteamiento del problema o de una lectura que indica que el número de iteraciones se debe realizar para $n$ ocurrencias\n",
    "\n",
    "\n",
    "</p>"
   ]
  },
  {
   "cell_type": "markdown",
   "metadata": {
    "id": "eMQVgjiDyLNQ"
   },
   "source": [
    "<p>\n",
    "\n",
    "Para los ciclos Para (FOR) en teoría se definen las siguientes variables:\n",
    "\n",
    "---\n",
    "*   `V`: \tes la variable de control del ciclo.\n",
    "*   `VI`: \tes el valor inicial.\n",
    "*   `VF`:\tes el valor final.\n",
    "*   `ID`:\tes el incremento o decremento, según sea la estructura ascendente o descendente.\n",
    "---\n",
    "`V`, contador del ciclo normalmente es representado por las letras “`i`, `j`, `k`”  \n",
    "El ciclo se ejecuta mientras `V` es menor, menor igual, mayor o mayor igual al valor de `VF`, el valor de `V` se incrementa o disminuye en cada iteración. Cuando `V` supera el valor de `VF` el ciclo se detiene.\n",
    "\n",
    "\n",
    "```\n",
    "PARA V desde VI hasta VF\n",
    "    Cuerpo/Operaciones\n",
    "FIN PARA\n",
    "```\n",
    "![Para](https://i.imgur.com/AHCDvi8.png)\n",
    "</p>"
   ]
  },
  {
   "cell_type": "code",
   "execution_count": null,
   "metadata": {
    "id": "VOGtno4gVbJW"
   },
   "outputs": [],
   "source": []
  },
  {
   "cell_type": "markdown",
   "metadata": {
    "id": "GcCn9q2pD-9X"
   },
   "source": [
    "## **Ciclo While (Mientras)**\n",
    "<p>\n",
    "Mientras, también llamado WHILE (del inglés), es la estructura adecuada para utilizar en un ciclo cuando no sabemos el número de veces que este se ha de repetir.\n",
    "Dicho número depende de las proposiciones dentro del ciclo.\n",
    "En el ciclo mientras (WHILE)  se distinguen dos partes:\n",
    "**Ciclo:** \tConjunto de instrucciones que se ejecutarán repetidamente.\n",
    "**Condición de terminación:** La evaluación de esta condición permite decidir cuándo finalizará la ejecución del ciclo. La condición se evalúa al inicio del mismo.\n",
    "Para los ciclos Mientras (WHILE) se definen las siguientes variables:\n",
    "\n",
    "\n",
    "*   `PI`: \tLa proposición inicial, debe tener un valor verdadero inicialmente, si el valor de PI es falso, entonces el ciclo no se ejecutará.\n",
    "*   `Evaluación o Modificación de PI`: Debe existir también un enunciado dentro del ciclo que afecte la condición, para evitar que el ciclo se ejecute indefinidamente.\n",
    "\n",
    "```\n",
    "MIENTRAS  PI\n",
    "    Cuerpo / Operaciones\n",
    "    PI = Validaciones\n",
    "FIN MIENTRAS\n",
    "```\n",
    "\n",
    "![Mientras](https://i.imgur.com/BbXDH4t.png)\n",
    "\n",
    "</p>"
   ]
  },
  {
   "cell_type": "markdown",
   "metadata": {
    "id": "-XYRvM6KFPgN"
   },
   "source": [
    "## **Ciclos Anidados**\n",
    "<p>\n",
    "\n",
    "Es posible insertar un ciclo dentro de otro si todas las instrucciones del ciclo interno están contenidas en el externo.\n",
    "En el esquema podemos observar que `j` varía más rápidamente que `k`; es decir, el ciclo interno varía más rápido que el ciclo externo. Es posible combinar estructuras como Para y Mientras, Mientras y Hasta Que, Para y Para, etcétera.\n",
    "Se pueden anidar tantas estructuras como sea necesario, pero debemos recordar que se debe incluir un ciclo dentro del otro y no solaparlos.\n",
    "\n",
    "![Anidado](https://i.imgur.com/D3KM7aj.png)\n",
    "\n",
    "![Anidado](https://github.com/juliancastillo-iudigital/FundamentosProgramacionPosgrados2021-1/blob/main/ciclografico.gif?raw=true)\n",
    "</p>"
   ]
  },
  {
   "cell_type": "markdown",
   "metadata": {
    "id": "TqVQhTBWJ19d"
   },
   "source": [
    "## **Estructura repetitiva FOR**\n",
    "\n",
    "<p>\n",
    "\n",
    "Un ciclo `for` se utiliza para iterar sobre una secuencia (que es una lista, una tupla, un diccionario, un conjunto o una cadena).\n",
    "Esto es menos parecido a la palabra clave `for` en otros lenguajes de programación y funciona más como un método iterador que se encuentra en otros lenguajes de programación orientados a objetos. Con el ciclo `for` podemos ejecutar un conjunto de declaraciones, una vez para cada elemento de una lista, tupla, conjunto, etc.\n",
    "\n",
    "Python solo implementa la iteración basada en colecciones. A primera vista, puede parecer poco, pero la implementación de la iteración definida es tan versátil que será suficiente.\n",
    "\n",
    "El ciclo for tiene dos características muy importantes, los dos puntos al final de la primera instrucción y la sangría.\n",
    "\n",
    "El ciclo `for` de Python se ve así:\n",
    "\n",
    "```python\n",
    "for <variable> in <iterable>:\n",
    "    <instrucciones>\n",
    "```\n",
    "\n",
    "`<iterable>` es una colección de objetos, por ejemplo, una lista o tupla. Las `<instrucciones>` en el cuerpo del ciclo se indican con sangría, como con todas las estructuras de control de Python, y se ejecutan una vez para cada elemento en `<iterable>`. La variable de ciclo `<variable>` toma el valor del siguiente elemento en `<iterable>` cada vez que pasa por el ciclo.\n",
    "\n",
    "A continuación un ejemplo:\n",
    "\n",
    "</p>"
   ]
  },
  {
   "cell_type": "code",
   "execution_count": null,
   "metadata": {
    "colab": {
     "base_uri": "https://localhost:8080/"
    },
    "executionInfo": {
     "elapsed": 240,
     "status": "ok",
     "timestamp": 1692726065829,
     "user": {
      "displayName": "JUAN CAMILO HENAO CARO",
      "userId": "11825490046934558373"
     },
     "user_tz": 300
    },
    "id": "VFvV94bBlpPO",
    "outputId": "3ad83b87-1863-42bd-e9ac-2bec2ca3badb"
   },
   "outputs": [
    {
     "name": "stdout",
     "output_type": "stream",
     "text": [
      "posicion0\n",
      "posicion1\n",
      "posicion2\n"
     ]
    }
   ],
   "source": [
    "a = ['posicion0', 'posicion1', 'posicion2']\n",
    "for i in a:\n",
    "    print(i)"
   ]
  },
  {
   "cell_type": "markdown",
   "metadata": {
    "id": "Yb_mJGYqoxh3"
   },
   "source": [
    "### **Iterables en Python**\n",
    "<p>\n",
    "\n",
    "En Python, iterable significa que un objeto se puede usar en iteración. El término se usa como:\n",
    "\n",
    "*   Un adjetivo: un objeto puede describirse como iterable.\n",
    "*   Un sustantivo: un objeto puede caracterizarse como iterable.\n",
    "\n",
    "Si un objeto es iterable, se puede pasar a la función incorporada de Python `iter()`, que devuelve algo llamado iterador.\n",
    "\n",
    "Cada uno de los objetos en el siguiente ejemplo es iterable y devuelve algún tipo de iterador cuando se pasa a la función `iter()`:"
   ]
  },
  {
   "cell_type": "code",
   "execution_count": null,
   "metadata": {
    "colab": {
     "base_uri": "https://localhost:8080/"
    },
    "executionInfo": {
     "elapsed": 209,
     "status": "ok",
     "timestamp": 1692726108666,
     "user": {
      "displayName": "JUAN CAMILO HENAO CARO",
      "userId": "11825490046934558373"
     },
     "user_tz": 300
    },
    "id": "5fO4XxvWtJca",
    "outputId": "735f4cef-ece5-4d16-c15d-efea90b68ad9"
   },
   "outputs": [
    {
     "data": {
      "text/plain": [
       "<str_iterator at 0x7bd037a1bb80>"
      ]
     },
     "execution_count": 11,
     "metadata": {},
     "output_type": "execute_result"
    }
   ],
   "source": [
    "iter('empanada')         #devuelve un error controlado                      # String"
   ]
  },
  {
   "cell_type": "code",
   "execution_count": null,
   "metadata": {
    "colab": {
     "base_uri": "https://localhost:8080/"
    },
    "executionInfo": {
     "elapsed": 230,
     "status": "ok",
     "timestamp": 1692726111956,
     "user": {
      "displayName": "JUAN CAMILO HENAO CARO",
      "userId": "11825490046934558373"
     },
     "user_tz": 300
    },
    "id": "QvaVzJeitO2e",
    "outputId": "ad216884-935c-4a3b-ecc0-0e6e334cf6db"
   },
   "outputs": [
    {
     "data": {
      "text/plain": [
       "<list_iterator at 0x7bd037a1b340>"
      ]
     },
     "execution_count": 12,
     "metadata": {},
     "output_type": "execute_result"
    }
   ],
   "source": [
    "iter(['papa', 'yuca', 'arroz'])                # Lista"
   ]
  },
  {
   "cell_type": "code",
   "execution_count": null,
   "metadata": {
    "colab": {
     "base_uri": "https://localhost:8080/"
    },
    "executionInfo": {
     "elapsed": 218,
     "status": "ok",
     "timestamp": 1692726118505,
     "user": {
      "displayName": "JUAN CAMILO HENAO CARO",
      "userId": "11825490046934558373"
     },
     "user_tz": 300
    },
    "id": "VNDn2mg4tR5c",
    "outputId": "48545ec2-e14f-4ee0-ad2a-0d1c17fef667"
   },
   "outputs": [
    {
     "data": {
      "text/plain": [
       "<tuple_iterator at 0x7bd037a1a770>"
      ]
     },
     "execution_count": 13,
     "metadata": {},
     "output_type": "execute_result"
    }
   ],
   "source": [
    "iter(('papa', 'yuca', 'arroz'))                # Tupla"
   ]
  },
  {
   "cell_type": "code",
   "execution_count": null,
   "metadata": {
    "id": "cLif8VNQtUi9"
   },
   "outputs": [],
   "source": [
    "iter({'papa', 'yuca', 'arroz'})                # Set"
   ]
  },
  {
   "cell_type": "code",
   "execution_count": null,
   "metadata": {
    "id": "WsnDmuJ4tXGO"
   },
   "outputs": [],
   "source": [
    "iter({'papa': 1, 'yuca': 2, 'arroz': 3})       # Diccionario"
   ]
  },
  {
   "cell_type": "markdown",
   "metadata": {
    "id": "I-lOwARstx0z"
   },
   "source": [
    "Cada uno de los objetos en el siguiente ejemplo **no** es iterable y devuelve algún tipo de error de iterador cuando se pasa a la función `iter()`:"
   ]
  },
  {
   "cell_type": "code",
   "execution_count": null,
   "metadata": {
    "id": "1s3I2jnUt5Zn"
   },
   "outputs": [],
   "source": [
    "#iter(42)                                   # Entero"
   ]
  },
  {
   "cell_type": "code",
   "execution_count": null,
   "metadata": {
    "id": "uPLq45sEt8Kr"
   },
   "outputs": [],
   "source": [
    "#iter(3.1)                                  # Flotante"
   ]
  },
  {
   "cell_type": "code",
   "execution_count": null,
   "metadata": {
    "id": "VUU7wz1RuBvD"
   },
   "outputs": [],
   "source": [
    "iter(len)                                  # Built-in function"
   ]
  },
  {
   "cell_type": "markdown",
   "metadata": {
    "id": "em1re4EHuW0S"
   },
   "source": [
    "### **Iterables en Python (2)**\n",
    "<p>\n",
    "\n",
    "Todos los tipos de datos que ha encontrado hasta ahora que son tipos de colección o contenedores son iterables. Estos incluyen los tipos string, list, tuple, dict, set y frozenset.\n",
    "\n",
    "Pero estos no son de ninguna manera los únicos tipos sobre los que puede iterar. Muchos objetos que están integrados en Python o definidos en módulos están diseñados para ser iterables. Por ejemplo, los archivos abiertos en Python son iterables.\n",
    "\n",
    "De hecho, casi cualquier objeto en Python se puede hacer iterable. Incluso los objetos definidos por el usuario se pueden diseñar de tal manera que se puedan iterar."
   ]
  },
  {
   "cell_type": "markdown",
   "metadata": {
    "id": "5j-EQNPLvI_m"
   },
   "source": [
    "### **Iteradores**\n",
    "<p>\n",
    "\n",
    "Bien, ahora sabe lo que significa que un objeto sea iterable y sabes cómo usar `iter()` para obtener un iterador de él. Una vez que tenga un iterador, ¿qué puedo hacer con él?\n",
    "\n",
    "Un iterador es esencialmente un productor de valor que produce valores sucesivos de su objeto iterable asociado. La función incorporada `next()` se usa para obtener el siguiente valor del iterador."
   ]
  },
  {
   "cell_type": "code",
   "execution_count": null,
   "metadata": {
    "colab": {
     "base_uri": "https://localhost:8080/"
    },
    "executionInfo": {
     "elapsed": 244,
     "status": "ok",
     "timestamp": 1692726190225,
     "user": {
      "displayName": "JUAN CAMILO HENAO CARO",
      "userId": "11825490046934558373"
     },
     "user_tz": 300
    },
    "id": "C7B1vHitvZRO",
    "outputId": "7c319e40-e58f-432f-8f3a-625bf6bf7855"
   },
   "outputs": [
    {
     "data": {
      "text/plain": [
       "<list_iterator at 0x7bd037a1ac20>"
      ]
     },
     "execution_count": 14,
     "metadata": {},
     "output_type": "execute_result"
    }
   ],
   "source": [
    "a = ['papa', 'yuca', 'arroz']\n",
    "itr = iter(a)\n",
    "itr"
   ]
  },
  {
   "cell_type": "code",
   "execution_count": null,
   "metadata": {
    "colab": {
     "base_uri": "https://localhost:8080/",
     "height": 35
    },
    "executionInfo": {
     "elapsed": 248,
     "status": "ok",
     "timestamp": 1692726228720,
     "user": {
      "displayName": "JUAN CAMILO HENAO CARO",
      "userId": "11825490046934558373"
     },
     "user_tz": 300
    },
    "id": "PWCGRem6vizv",
    "outputId": "47379688-e107-420f-af6e-df3ca6612592"
   },
   "outputs": [
    {
     "data": {
      "application/vnd.google.colaboratory.intrinsic+json": {
       "type": "string"
      },
      "text/plain": [
       "'papa'"
      ]
     },
     "execution_count": 15,
     "metadata": {},
     "output_type": "execute_result"
    }
   ],
   "source": [
    "next(itr) #FIFO First In First Out Primero en llegar es el primero en salir, esto lo vieron con Boris (70%) en el segundo semestre."
   ]
  },
  {
   "cell_type": "code",
   "execution_count": null,
   "metadata": {
    "colab": {
     "base_uri": "https://localhost:8080/",
     "height": 35
    },
    "executionInfo": {
     "elapsed": 227,
     "status": "ok",
     "timestamp": 1692726231569,
     "user": {
      "displayName": "JUAN CAMILO HENAO CARO",
      "userId": "11825490046934558373"
     },
     "user_tz": 300
    },
    "id": "xKV49VJ8vmfn",
    "outputId": "a70c00e3-4d35-469f-e388-ad4b57968ade"
   },
   "outputs": [
    {
     "data": {
      "application/vnd.google.colaboratory.intrinsic+json": {
       "type": "string"
      },
      "text/plain": [
       "'yuca'"
      ]
     },
     "execution_count": 16,
     "metadata": {},
     "output_type": "execute_result"
    }
   ],
   "source": [
    "next(itr)"
   ]
  },
  {
   "cell_type": "code",
   "execution_count": null,
   "metadata": {
    "colab": {
     "base_uri": "https://localhost:8080/",
     "height": 35
    },
    "executionInfo": {
     "elapsed": 10,
     "status": "ok",
     "timestamp": 1692726236344,
     "user": {
      "displayName": "JUAN CAMILO HENAO CARO",
      "userId": "11825490046934558373"
     },
     "user_tz": 300
    },
    "id": "p2ToW1sKvnS2",
    "outputId": "7ad433f3-6108-42a8-ada3-d34bdadcedce"
   },
   "outputs": [
    {
     "data": {
      "application/vnd.google.colaboratory.intrinsic+json": {
       "type": "string"
      },
      "text/plain": [
       "'arroz'"
      ]
     },
     "execution_count": 17,
     "metadata": {},
     "output_type": "execute_result"
    }
   ],
   "source": [
    "next(itr)"
   ]
  },
  {
   "cell_type": "code",
   "execution_count": null,
   "metadata": {
    "colab": {
     "base_uri": "https://localhost:8080/",
     "height": 176
    },
    "executionInfo": {
     "elapsed": 244,
     "status": "error",
     "timestamp": 1692726239018,
     "user": {
      "displayName": "JUAN CAMILO HENAO CARO",
      "userId": "11825490046934558373"
     },
     "user_tz": 300
    },
    "id": "AHKO4pmLvoFF",
    "outputId": "5ebe23dd-521e-4be1-b533-fed7dda15a1c"
   },
   "outputs": [
    {
     "ename": "StopIteration",
     "evalue": "ignored",
     "output_type": "error",
     "traceback": [
      "\u001b[0;31m---------------------------------------------------------------------------\u001b[0m",
      "\u001b[0;31mStopIteration\u001b[0m                             Traceback (most recent call last)",
      "\u001b[0;32m<ipython-input-18-d9396153a6ed>\u001b[0m in \u001b[0;36m<cell line: 1>\u001b[0;34m()\u001b[0m\n\u001b[0;32m----> 1\u001b[0;31m \u001b[0mnext\u001b[0m\u001b[0;34m(\u001b[0m\u001b[0mitr\u001b[0m\u001b[0;34m)\u001b[0m          \u001b[0;31m#Presenta error, se me acabaron los iterables\u001b[0m\u001b[0;34m\u001b[0m\u001b[0;34m\u001b[0m\u001b[0m\n\u001b[0m",
      "\u001b[0;31mStopIteration\u001b[0m: "
     ]
    }
   ],
   "source": [
    "next(itr)          #Presenta error, se me acabaron los iterables"
   ]
  },
  {
   "cell_type": "markdown",
   "metadata": {
    "id": "N0cqUDWxv4TV"
   },
   "source": [
    "### **Python y ciclos**\n",
    "\n",
    "Ahora tenemos todo lo necesario para comprender completamente cómo funciona el ciclo `for` de Python. Antes de continuar, revisemos los términos relevantes:\n",
    "\n",
    "Término | Significado\n",
    "---|---\n",
    "Iteración | El proceso de recorrer los objetos o elementos de una colección.\n",
    "Iterable | Un objeto (o el adjetivo utilizado para describir un objeto) que se puede iterar\n",
    "Iterador | El objeto que produce elementos o valores sucesivos a partir de su iterable asociado.\n",
    "`iter()` | La función incorporada utilizada para obtener un iterador de un iterable\n",
    "\n",
    "Ahora, veamos el primer ciclo realizado en clase.\n",
    "```python\n",
    "a = ['posicion0', 'posicion1', 'posicion2']\n",
    "for i in a:\n",
    "    print(i)\n",
    "```\n",
    "Este ciclo se puede describir completamente en términos de los conceptos que acabamos de aprender. Para llevar a cabo la iteración que describe este ciclo `for`, Python hace lo siguiente:\n",
    "\n",
    "*   Llama a `iter()` para obtener un iterador para `a`\n",
    "*   Llama a `next()` repetidamente para obtener cada elemento del iterador a su vez\n",
    "*   Termina el ciclo cuando `next()` genera la excepción `StopIteration`\n",
    "\n",
    "El cuerpo del ciclo se ejecuta una vez para cada elemento que `next()` devuelve, con la variable de ciclo `i` establecida en el elemento dado para cada iteración.\n",
    "\n",
    "Esta secuencia de eventos se resume en el siguiente diagrama:\n",
    "\n",
    "<img alt=\"CC\" height=\"300px\" src=\"https://files.realpython.com/media/t.ba63222d63f5.png\" align=\"left\" hspace=\"0px\">\n"
   ]
  },
  {
   "cell_type": "code",
   "execution_count": null,
   "metadata": {
    "id": "FZ0ai9fVwdl_"
   },
   "outputs": [],
   "source": [
    "a = ['posicion0', 'posicion1', 'posicion2']\n",
    "for i in a:\n",
    "    print(i)"
   ]
  },
  {
   "cell_type": "code",
   "execution_count": null,
   "metadata": {
    "id": "Eb0pOglNyMpA"
   },
   "outputs": [],
   "source": [
    "#Ejemplo de la imagen\n",
    "a = ['foo', 'bar', 'baz']\n",
    "for i in a:\n",
    "    print(i)"
   ]
  },
  {
   "cell_type": "markdown",
   "metadata": {
    "id": "raLA_l2vyVqR"
   },
   "source": [
    "### **La función `range()`**\n",
    "\n",
    "Si quisiéramos iterar a través de los valores de 0 a 4, podríamos hacer esto:\n",
    "\n",
    "\n",
    "```python\n",
    "for n in (0, 1, 2, 3, 4):\n",
    "    print(n)\n",
    "```\n",
    "Esta solución no es tan mala cuando solo hay unos pocos números. Pero si el rango de números fuera mucho mayor, rápidamente se volvería tedioso.\n",
    "\n",
    "Python ofrece una mejor opción: la función incorporada `range()`, que devuelve un iterable que produce una secuencia de números enteros.\n",
    "\n",
    "`range(<end>)` devuelve un iterable que produce números enteros que comienzan con `0`, hasta pero sin incluir `<end>`:\n"
   ]
  },
  {
   "cell_type": "code",
   "execution_count": null,
   "metadata": {
    "colab": {
     "base_uri": "https://localhost:8080/"
    },
    "executionInfo": {
     "elapsed": 247,
     "status": "ok",
     "timestamp": 1692726271985,
     "user": {
      "displayName": "JUAN CAMILO HENAO CARO",
      "userId": "11825490046934558373"
     },
     "user_tz": 300
    },
    "id": "iCIqZYWbzFQT",
    "outputId": "c34245e4-9057-42ba-c857-fdd7254f0e91"
   },
   "outputs": [
    {
     "data": {
      "text/plain": [
       "range(0, 5)"
      ]
     },
     "execution_count": 19,
     "metadata": {},
     "output_type": "execute_result"
    }
   ],
   "source": [
    "x = range(5)\n",
    "x"
   ]
  },
  {
   "cell_type": "code",
   "execution_count": null,
   "metadata": {
    "colab": {
     "base_uri": "https://localhost:8080/"
    },
    "executionInfo": {
     "elapsed": 209,
     "status": "ok",
     "timestamp": 1692726274954,
     "user": {
      "displayName": "JUAN CAMILO HENAO CARO",
      "userId": "11825490046934558373"
     },
     "user_tz": 300
    },
    "id": "orYXQSQ9zINm",
    "outputId": "c0c98752-deac-40fd-9d27-bebe9ba03b4f"
   },
   "outputs": [
    {
     "name": "stdout",
     "output_type": "stream",
     "text": [
      "<class 'range'>\n"
     ]
    }
   ],
   "source": [
    "print(type(x))"
   ]
  },
  {
   "cell_type": "markdown",
   "metadata": {
    "id": "ixxhb62nzU7A"
   },
   "source": [
    "### **La función `range()` (2)**\n",
    "\n",
    "Tenga en cuenta que `range()` devuelve un objeto de clase range, no una lista o tupla de los valores. Debido a que un objeto de rango es iterable, puede obtener los valores iterando sobre ellos con un ciclo `for`:\n",
    "\n",
    "```python\n",
    "for n in x:\n",
    "    print(n)\n",
    "```\n",
    "También puede relacionar todos los valores a la vez con `list()` o `tuple()`. En una sesión [REPL](https://en.wikipedia.org/wiki/Read%E2%80%93eval%E2%80%93print_loop), esa puede ser una forma conveniente de mostrar rápidamente cuáles son los valores:\n"
   ]
  },
  {
   "cell_type": "code",
   "execution_count": null,
   "metadata": {
    "id": "TYZ-oXVZze7Q"
   },
   "outputs": [],
   "source": [
    "list(x)"
   ]
  },
  {
   "cell_type": "code",
   "execution_count": null,
   "metadata": {
    "id": "c8yqMz2X0fpI"
   },
   "outputs": [],
   "source": [
    "tuple(x)"
   ]
  },
  {
   "cell_type": "markdown",
   "metadata": {
    "id": "LtNENE360mMD"
   },
   "source": [
    "### **La función `range()` (3)**\n",
    "\n",
    "Sin embargo, cuando se usa `range()` en código que es parte de una aplicación más grande, generalmente se considera una mala práctica usar `list()` o `tuple()` de esta manera. Los valores en el rango especificado no se generan hasta que se solicitan. El uso de `list()` o `tuple()` en un objeto `range` obliga a que todos los valores se devuelvan a la vez. Esto rara vez es necesario y, si la lista es larga, se pierde tiempo y memoria.\n",
    "\n",
    "Es muy importante tener claro que la funcion `range()` no toma el valor final.\n",
    "\n",
    "![](https://github.com/juliancastillo-iudigital/Varios/blob/main/ForCursoRapidol1.jpg?raw=true)\n",
    "\n",
    "`range(<inicio>, <fin>, <paso>)` devuelve un iterable que produce enteros que comienzan con `<inicio>`, hasta pero sin incluir `<fin>`. Si se especifica, `<paso>` indica una cantidad para omitir entre valores:\n",
    "\n",
    "\n",
    "```python\n",
    "list(range(1, 10, 2))\n",
    ">>>[1, 3, 5, 7, 9]\n",
    "```\n",
    "\n",
    "Si se omite <paso>, el valor predeterminado es 1:\n",
    "```python\n",
    "list(range(5, 10, 1))\n",
    ">>>[5, 6, 7, 8, 9]\n",
    "list(range(5, 10))\n",
    ">>>[5, 6, 7, 8, 9]\n",
    "```\n",
    "Todos los parámetros especificados en `range()` deben ser números enteros, pero cualquiera de ellos puede ser negativo. Naturalmente, si <inicio> es mayor que <fin>, <paso> debe ser negativo si quieres algún resultado:\n",
    "\n",
    "\n",
    "\n",
    "```python\n",
    "list(range(-5, 5))\n",
    ">>> [-5, -4, -3, -2, -1, 0, 1, 2, 3, 4]\n",
    "\n",
    "list(range(5, -5))\n",
    ">>> []\n",
    "\n",
    "list(range(5, -5, -1))\n",
    ">>> [5, 4, 3, 2, 1, 0, -1, -2, -3, -4]\n",
    "```\n",
    "\n"
   ]
  },
  {
   "cell_type": "code",
   "execution_count": null,
   "metadata": {
    "id": "_7uC3trK1_Bm"
   },
   "outputs": [],
   "source": [
    "list(range(1, 10, 2))"
   ]
  },
  {
   "cell_type": "code",
   "execution_count": null,
   "metadata": {
    "id": "w16ldKyb29Am"
   },
   "outputs": [],
   "source": [
    "list(range(5, 10, 1))"
   ]
  },
  {
   "cell_type": "code",
   "execution_count": null,
   "metadata": {
    "id": "sk8LAKL528ul"
   },
   "outputs": [],
   "source": [
    "list(range(5, 10))"
   ]
  },
  {
   "cell_type": "code",
   "execution_count": null,
   "metadata": {
    "colab": {
     "base_uri": "https://localhost:8080/"
    },
    "executionInfo": {
     "elapsed": 221,
     "status": "ok",
     "timestamp": 1692726444021,
     "user": {
      "displayName": "JUAN CAMILO HENAO CARO",
      "userId": "11825490046934558373"
     },
     "user_tz": 300
    },
    "id": "etFF0iEt3DOH",
    "outputId": "1c17da11-2378-4452-fc9e-281d7ac72d23"
   },
   "outputs": [
    {
     "data": {
      "text/plain": [
       "[-5, -4, -3, -2, -1, 0, 1, 2, 3, 4]"
      ]
     },
     "execution_count": 21,
     "metadata": {},
     "output_type": "execute_result"
    }
   ],
   "source": [
    "list(range(-5, 5))"
   ]
  },
  {
   "cell_type": "code",
   "execution_count": null,
   "metadata": {
    "colab": {
     "base_uri": "https://localhost:8080/"
    },
    "executionInfo": {
     "elapsed": 3,
     "status": "ok",
     "timestamp": 1692726446631,
     "user": {
      "displayName": "JUAN CAMILO HENAO CARO",
      "userId": "11825490046934558373"
     },
     "user_tz": 300
    },
    "id": "EE_8Q5QS3EkY",
    "outputId": "166da3a8-f7a5-40b8-f491-a6f262436ff0"
   },
   "outputs": [
    {
     "data": {
      "text/plain": [
       "[]"
      ]
     },
     "execution_count": 22,
     "metadata": {},
     "output_type": "execute_result"
    }
   ],
   "source": [
    "list(range(5, -5))"
   ]
  },
  {
   "cell_type": "code",
   "execution_count": null,
   "metadata": {
    "colab": {
     "base_uri": "https://localhost:8080/"
    },
    "executionInfo": {
     "elapsed": 247,
     "status": "ok",
     "timestamp": 1692726451883,
     "user": {
      "displayName": "JUAN CAMILO HENAO CARO",
      "userId": "11825490046934558373"
     },
     "user_tz": 300
    },
    "id": "6wsRcbH63GZA",
    "outputId": "a29cdd91-179a-4537-981d-6ee152db73d2"
   },
   "outputs": [
    {
     "data": {
      "text/plain": [
       "[5, 4, 3, 2, 1, 0, -1, -2, -3, -4]"
      ]
     },
     "execution_count": 23,
     "metadata": {},
     "output_type": "execute_result"
    }
   ],
   "source": [
    "list(range(5, -5, -1))"
   ]
  },
  {
   "cell_type": "markdown",
   "metadata": {
    "id": "e8HBnAvV3YYe"
   },
   "source": [
    "### **Alteración del comportamiento de los ciclos**\n",
    "#### **Las instrucciones `break` y `continue`**\n",
    "\n",
    "La instrucción `break` termina el ciclo por completo y procede a la primera declaración que sigue al ciclo y `continue` termina la iteración actual y pasa a la siguiente iteración.\n",
    "\n",
    "##### **`break`**\n",
    "\n",
    "```python\n",
    "for i in ['a', 'b', 'c', 'd']:\n",
    "    if 'b' in i:\n",
    "        break\n",
    "    print(i)\n",
    "```\n",
    "\n",
    "##### **`continue`**\n",
    "\n",
    "```python\n",
    "for i in ['a', 'b', 'c', 'd']:\n",
    "    if 'b' in i:\n",
    "        continue\n",
    "    print(i)\n",
    "```\n"
   ]
  },
  {
   "cell_type": "code",
   "execution_count": null,
   "metadata": {
    "colab": {
     "base_uri": "https://localhost:8080/"
    },
    "executionInfo": {
     "elapsed": 226,
     "status": "ok",
     "timestamp": 1692726468444,
     "user": {
      "displayName": "JUAN CAMILO HENAO CARO",
      "userId": "11825490046934558373"
     },
     "user_tz": 300
    },
    "id": "quNZEQQZ43nz",
    "outputId": "33b5a2c7-7b10-4e4e-910a-6f38f8bd7274"
   },
   "outputs": [
    {
     "name": "stdout",
     "output_type": "stream",
     "text": [
      "a\n"
     ]
    }
   ],
   "source": [
    "for i in ['a', 'b', 'c', 'd']:\n",
    "    if 'b' in i:\n",
    "        break\n",
    "    print(i)"
   ]
  },
  {
   "cell_type": "code",
   "execution_count": null,
   "metadata": {
    "colab": {
     "base_uri": "https://localhost:8080/"
    },
    "executionInfo": {
     "elapsed": 214,
     "status": "ok",
     "timestamp": 1692726474949,
     "user": {
      "displayName": "JUAN CAMILO HENAO CARO",
      "userId": "11825490046934558373"
     },
     "user_tz": 300
    },
    "id": "qID9WDCv46FJ",
    "outputId": "464a11fc-e74f-44af-ea35-b06a77e982bf"
   },
   "outputs": [
    {
     "name": "stdout",
     "output_type": "stream",
     "text": [
      "a\n",
      "c\n",
      "d\n"
     ]
    }
   ],
   "source": [
    "for i in ['a', 'b', 'c', 'd']:\n",
    "    if 'b' in i:\n",
    "        continue\n",
    "    print(i)"
   ]
  },
  {
   "cell_type": "markdown",
   "metadata": {
    "id": "z8or4gAB5Bny"
   },
   "source": [
    "### **La Clausula `else` del ciclo `for`**\n",
    "![What](https://media1.tenor.com/images/531494c16b3a7077599c0a712120c599/tenor.gif?itemid=9850721)\n",
    "\n",
    "Un ciclo `for` también puede tener una cláusula `else`. La cláusula `else` se ejecutará si el ciclo termina por agotamiento del iterable (es decir, el ciclo se ejecuta sin interrupciones):\n",
    "\n",
    "\n",
    "\n",
    "```python\n",
    "for i in ['a', 'b', 'c', 'd']:\n",
    "    print(i)\n",
    "else:\n",
    "    print('Bien hecho ciclo for')\n",
    "```\n",
    "La cláusula `else` no se ejecutará si la lista se termina con una declaración de interrupción:\n",
    "```python\n",
    "for i in ['a', 'b', 'c', 'd']:\n",
    "    if i == 'c':\n",
    "        break\n",
    "    print(i)\n",
    "else:\n",
    "    print('Bien hecho ciclo for')\n",
    "```\n"
   ]
  },
  {
   "cell_type": "code",
   "execution_count": null,
   "metadata": {
    "colab": {
     "base_uri": "https://localhost:8080/"
    },
    "executionInfo": {
     "elapsed": 228,
     "status": "ok",
     "timestamp": 1692726558672,
     "user": {
      "displayName": "JUAN CAMILO HENAO CARO",
      "userId": "11825490046934558373"
     },
     "user_tz": 300
    },
    "id": "qB2KTvuk5063",
    "outputId": "1ac02723-f3a4-4e72-8482-19c22082bede"
   },
   "outputs": [
    {
     "name": "stdout",
     "output_type": "stream",
     "text": [
      "a\n",
      "b\n",
      "c\n",
      "d\n",
      "Bien hecho ciclo for\n"
     ]
    }
   ],
   "source": [
    "for i in ['a', 'b', 'c', 'd']:\n",
    "    print(i)\n",
    "else:\n",
    "    print('Bien hecho ciclo for')"
   ]
  },
  {
   "cell_type": "code",
   "execution_count": null,
   "metadata": {
    "id": "za5jG-am6VJt"
   },
   "outputs": [],
   "source": [
    "for i in ['a', 'b', 'c', 'd']:\n",
    "    if i == 'a':\n",
    "        break\n",
    "    print(i)\n",
    "else:\n",
    "    print('Bien hecho ciclo for')"
   ]
  },
  {
   "cell_type": "markdown",
   "metadata": {
    "id": "QLTJyaNd6_bN"
   },
   "source": [
    "### **Ejemplos del ciclo `for`**\n",
    "![Ejemplos](https://www.codesdope.com/pa-images-bucket/courses/python/l3.gif)\n",
    "\n",
    "#### Iterar --> `string`\n",
    "```python\n",
    "for x in \"empanada\":\n",
    "  print(x)\n",
    "```\n",
    "\n",
    "#### Iterar --> `list`\n",
    "```python\n",
    "fritos = [\"empanada\", \"buñuelo\", \"pastel\"]\n",
    "for x in fritos:\n",
    "    print(x)\n",
    "```\n",
    "\n",
    "#### Iterar --> `tuple`\n",
    "```python\n",
    "fritos = (\"empanada\", \"buñuelo\", \"pastel\")\n",
    "for x in fritos:\n",
    "  print(x)\n",
    "```\n",
    "\n",
    "#### Iterar --> `set`\n",
    "```python\n",
    "fritos = {\"empanada\", \"buñuelo\", \"pastel\"}\n",
    "for x in fritos:\n",
    "  print(x)\n",
    "```\n",
    "\n",
    "#### Iterar --> `dict`\n",
    "Al recorrer un diccionario, el valor de retorno son las claves del diccionario, pero también existen métodos para devolver los valores.\n",
    "```python\n",
    "fritos = {'empanada': 1, 'buñuelo': 2, 'pastel': 3}\n",
    "# Imprimir llave\n",
    "for x in fritos:\n",
    "  print(x)\n",
    "# Imprimir valores\n",
    "for x in fritos:\n",
    "  print(fritos[x])\n",
    "```\n",
    "\n",
    "#### Iterar un ciclo anidado --> `list`\n",
    "```python\n",
    "fritos = [\"empanada\", \"buñuelo\", \"pastel\"]\n",
    "tamanio = [\"pequeño\", \"mediano\", \"grande\"]\n",
    "for x in fritos:\n",
    "  for y in tamanio:\n",
    "    print(x, y)\n",
    "```"
   ]
  },
  {
   "cell_type": "code",
   "execution_count": null,
   "metadata": {
    "colab": {
     "base_uri": "https://localhost:8080/"
    },
    "executionInfo": {
     "elapsed": 253,
     "status": "ok",
     "timestamp": 1692726611520,
     "user": {
      "displayName": "JUAN CAMILO HENAO CARO",
      "userId": "11825490046934558373"
     },
     "user_tz": 300
    },
    "id": "-50J9iGw8JF9",
    "outputId": "e5ee3966-e189-43e0-9094-e97d241a1eee"
   },
   "outputs": [
    {
     "name": "stdout",
     "output_type": "stream",
     "text": [
      "e\n",
      "m\n",
      "p\n",
      "a\n",
      "n\n",
      "a\n",
      "d\n",
      "a\n"
     ]
    }
   ],
   "source": [
    "for x in \"empanada\":\n",
    "  print(x)"
   ]
  },
  {
   "cell_type": "code",
   "execution_count": null,
   "metadata": {
    "id": "va5_5FnA-I-U"
   },
   "outputs": [],
   "source": [
    "fritos = [\"empanada\", \"buñuelo\", \"pastel\"]\n",
    "for x in fritos:\n",
    "    print(x)"
   ]
  },
  {
   "cell_type": "code",
   "execution_count": null,
   "metadata": {
    "colab": {
     "base_uri": "https://localhost:8080/"
    },
    "executionInfo": {
     "elapsed": 206,
     "status": "ok",
     "timestamp": 1692726614995,
     "user": {
      "displayName": "JUAN CAMILO HENAO CARO",
      "userId": "11825490046934558373"
     },
     "user_tz": 300
    },
    "id": "6YzqEXtt-Nhm",
    "outputId": "bffcdd3f-48d5-498c-ed0b-2822bee651dd"
   },
   "outputs": [
    {
     "name": "stdout",
     "output_type": "stream",
     "text": [
      "empanada\n",
      "buñuelo\n",
      "pastel\n"
     ]
    }
   ],
   "source": [
    "fritos = (\"empanada\", \"buñuelo\", \"pastel\")\n",
    "for x in fritos:\n",
    "  print(x)"
   ]
  },
  {
   "cell_type": "code",
   "execution_count": null,
   "metadata": {
    "colab": {
     "base_uri": "https://localhost:8080/"
    },
    "executionInfo": {
     "elapsed": 201,
     "status": "ok",
     "timestamp": 1692726621959,
     "user": {
      "displayName": "JUAN CAMILO HENAO CARO",
      "userId": "11825490046934558373"
     },
     "user_tz": 300
    },
    "id": "vIvmW0do-O5V",
    "outputId": "9541f45f-7acb-4c5a-f5fe-566827e79a01"
   },
   "outputs": [
    {
     "name": "stdout",
     "output_type": "stream",
     "text": [
      "buñuelo\n",
      "empanada\n",
      "pastel\n"
     ]
    }
   ],
   "source": [
    "fritos = {\"empanada\", \"buñuelo\", \"pastel\"}\n",
    "for x in fritos:\n",
    "  print(x)"
   ]
  },
  {
   "cell_type": "code",
   "execution_count": null,
   "metadata": {
    "id": "k6LTc0F4-REH"
   },
   "outputs": [],
   "source": [
    "fritos = {'empanada': 1, 'buñuelo': 2, 'pastel': 3}\n",
    "# Imprimir llave\n",
    "for x in fritos:\n",
    "  print(x)\n",
    "# Imprimir valores\n",
    "for x in fritos:\n",
    "  print(fritos[x])"
   ]
  },
  {
   "cell_type": "code",
   "execution_count": null,
   "metadata": {
    "colab": {
     "base_uri": "https://localhost:8080/"
    },
    "executionInfo": {
     "elapsed": 223,
     "status": "ok",
     "timestamp": 1692726639373,
     "user": {
      "displayName": "JUAN CAMILO HENAO CARO",
      "userId": "11825490046934558373"
     },
     "user_tz": 300
    },
    "id": "H6os4u4_-Toy",
    "outputId": "a666ab8a-f53c-4add-faf4-e6f7a7f4f4b3"
   },
   "outputs": [
    {
     "name": "stdout",
     "output_type": "stream",
     "text": [
      "empanada pequeño\n",
      "empanada mediano\n",
      "empanada grande\n",
      "buñuelo pequeño\n",
      "buñuelo mediano\n",
      "buñuelo grande\n",
      "pastel pequeño\n",
      "pastel mediano\n",
      "pastel grande\n"
     ]
    }
   ],
   "source": [
    "fritos = [\"empanada\", \"buñuelo\", \"pastel\"]\n",
    "tamanio = [\"pequeño\", \"mediano\", \"grande\"]\n",
    "for x in fritos:\n",
    "  for y in tamanio:\n",
    "    print(x, y)"
   ]
  },
  {
   "cell_type": "markdown",
   "metadata": {
    "id": "6RJi-KdQj5SD"
   },
   "source": [
    "### **Ejercicios del ciclo `for`**"
   ]
  },
  {
   "cell_type": "markdown",
   "metadata": {
    "id": "7DEKHkdkyX11"
   },
   "source": [
    "#### Ejercicio 1\n",
    "Ingresar por teclado 10 números, sumar los pares y multiplicar los impares.\n",
    "\n",
    "\n",
    "Nivel de dificultad:★★☆☆☆\n",
    "\n"
   ]
  },
  {
   "cell_type": "code",
   "execution_count": null,
   "metadata": {
    "colab": {
     "base_uri": "https://localhost:8080/"
    },
    "executionInfo": {
     "elapsed": 10647,
     "status": "ok",
     "timestamp": 1692727009924,
     "user": {
      "displayName": "JUAN CAMILO HENAO CARO",
      "userId": "11825490046934558373"
     },
     "user_tz": 300
    },
    "id": "umgFrwj8wf8o",
    "outputId": "fcc2973e-74ea-4af4-f998-567bffd020df"
   },
   "outputs": [
    {
     "name": "stdout",
     "output_type": "stream",
     "text": [
      "Ingresa el valor númerico: 5\n",
      "Ingresa el valor númerico: 5\n",
      "Ingresa el valor númerico: 5\n",
      "Ingresa el valor númerico: 5\n",
      "Ingresa el valor númerico: 5\n",
      "Ingresa el valor númerico: 5\n",
      "Ingresa el valor númerico: 5\n",
      "Ingresa el valor númerico: 5\n",
      "Ingresa el valor númerico: 5\n",
      "Ingresa el valor númerico: 5\n",
      "25 3125\n"
     ]
    }
   ],
   "source": [
    "#Ejecutar la solución aquí\n",
    "suma = 0 #operador neurtro de la suma es cero\n",
    "multi = 1 # operador neutro de la multiplicacion es 1\n",
    "\n",
    "for i in range(10):\n",
    "    valor = int(input(\"Ingresa el valor númerico: \"))\n",
    "    if i % 2 == 0:\n",
    "        #numero es par\n",
    "        suma += valor\n",
    "    else:\n",
    "        multi *= valor\n",
    "print(suma, multi)\n",
    "\n"
   ]
  },
  {
   "cell_type": "markdown",
   "metadata": {
    "id": "YJpqkjfwyZG8"
   },
   "source": [
    "#### Ejercicio 2\n",
    "Elaborar un algoritmo que lea un número $n$ y calcule el resultado de la siguiente serie:\n",
    "\n",
    "$ +\\frac{1}{1} - \\frac{1}{2}+\\frac{1}{3}-\\frac{1}{4}+\\frac{1}{5}-\\frac{1}{6}+...\\pm\\frac{1}{n}$\n",
    "\n",
    "\n",
    "\n",
    "Nivel de dificultad:★★★☆☆\n",
    "\n"
   ]
  },
  {
   "cell_type": "code",
   "execution_count": null,
   "metadata": {
    "colab": {
     "base_uri": "https://localhost:8080/",
     "height": 141
    },
    "executionInfo": {
     "elapsed": 225,
     "status": "error",
     "timestamp": 1692728030177,
     "user": {
      "displayName": "JUAN CAMILO HENAO CARO",
      "userId": "11825490046934558373"
     },
     "user_tz": 300
    },
    "id": "BiA8_YMlyYi9",
    "outputId": "e52a33e9-23e5-4b18-f148-a44800fdbbb3"
   },
   "outputs": [
    {
     "ename": "SyntaxError",
     "evalue": "ignored",
     "output_type": "error",
     "traceback": [
      "\u001b[0;36m  File \u001b[0;32m\"<ipython-input-44-6bfcffd03896>\"\u001b[0;36m, line \u001b[0;32m4\u001b[0m\n\u001b[0;31m    sumatoria = 0\u001b[0m\n\u001b[0m    ^\u001b[0m\n\u001b[0;31mSyntaxError\u001b[0m\u001b[0;31m:\u001b[0m invalid non-printable character U+00A0\n"
     ]
    }
   ],
   "source": [
    "#Ejecutar la solución aquí\n",
    "n = int(input('Ingresar un valor positivo: '))\n",
    "if n > 0:\n",
    "    sumatoria = 0\n",
    "    #OK algoritmo\n",
    "    for i in range(1, n+1):\n",
    "        if i % 2 == 0:\n",
    "            sumatoria = sumatoria - 1/i\n",
    "        else:\n",
    "            #sumar\n",
    "            sumatoria = sumatoria + 1/i\n",
    "        print('\\t {:,.4f}'.format(sumatoria))\n",
    "else:\n",
    "    print('Error, no puedo procesar el algoritmo con numeros negativos.')\n",
    "print('El resultado es: ', sumatoria)"
   ]
  },
  {
   "cell_type": "markdown",
   "metadata": {
    "id": "Z5UuvJhJOzkc"
   },
   "source": [
    "#### Ejercicio 3\n",
    "Dados $n$ números enteros realizar un algoritmo que realice:\n",
    "\n",
    "1.   ¿Cuántos números son mayores a cero?\n",
    "2.   Calcular el promedio de los números positivos\n",
    "3.   Calcular el promedio de todos los números\n",
    "\n",
    "\n",
    "Nivel de dificultad:★★★☆☆\n",
    "\n"
   ]
  },
  {
   "cell_type": "code",
   "execution_count": null,
   "metadata": {
    "id": "1_E1cO63PUI7"
   },
   "outputs": [],
   "source": [
    "#Ejecutar la solución aquí"
   ]
  },
  {
   "cell_type": "markdown",
   "metadata": {
    "id": "_93ON7LRR3qi"
   },
   "source": [
    "#### Ejercicio 4\n",
    "Construya un algoritmo que dados $n$ números enteros, calcule el mayor y el menor de estos números.\n",
    "\n",
    "\n",
    "Nivel de dificultad:★★★★☆\n",
    "\n"
   ]
  },
  {
   "cell_type": "code",
   "execution_count": null,
   "metadata": {
    "id": "LesxcJzXSBM_"
   },
   "outputs": [],
   "source": [
    "#Ejecutar la solución aquí"
   ]
  },
  {
   "cell_type": "markdown",
   "metadata": {
    "id": "ouHAMmLwT8I5"
   },
   "source": [
    "#### Ejercicio 5\n",
    "Un vendedor ha hecho una serie de ventas y desea conocer aquellas de \\$200.000 o menos, las mayores a \\$200.000 pero inferiores a \\$400.000 y el número de ventas superiores a \\$400.000. Realizar un algoritmo que permita saber la cantidad de ventas que detalla el vendedor.\n",
    "\n",
    "\n",
    "Nivel de dificultad:★★★★☆\n",
    "\n"
   ]
  },
  {
   "cell_type": "code",
   "execution_count": null,
   "metadata": {
    "id": "OOWBf51RU95D"
   },
   "outputs": [],
   "source": [
    "#Ejecutar la solución aquí"
   ]
  },
  {
   "cell_type": "markdown",
   "metadata": {
    "id": "Yp6IDfMk8JQO"
   },
   "source": [
    "## **Estructura repetitiva \"WHILE\"**\n",
    "\n",
    "\n",
    "Con el ciclo while podemos ejecutar un conjunto de declaraciones siempre que una condición sea verdadera.\n",
    "\n",
    "El ciclo `while` de Python se ve así:\n",
    "\n",
    "```python\n",
    "while <expr>:\n",
    "    <instrucciones>\n",
    "```\n",
    "`<instrucciones>` representa el bloque que se ejecutará repetidamente, a menudo denominado el cuerpo del ciclo. Este se denota con sangría, al igual que en una declaración `if`.\n",
    "\n",
    "La expresión de control, `<expr>`, normalmente involucra una o más variables que se inicializan antes de iniciar el ciclo y luego se modifican en algún lugar del cuerpo del ciclo.\n",
    "\n",
    "Cuando se encuentra un ciclo while, `<expr>` se evalúa primero en un contexto booleano. Si es cierto, se ejecuta el cuerpo del bucle. Luego, se vuelve a comprobar `<expr>` y, si sigue siendo cierto, el cuerpo se ejecuta de nuevo. Esto continúa hasta que `<expr>` se vuelve falso, momento en el que la ejecución del programa procede a la primera declaración más allá del cuerpo del bucle.\n",
    "\n",
    "</p>"
   ]
  },
  {
   "cell_type": "markdown",
   "metadata": {
    "id": "2M92T3vUtTo4"
   },
   "source": [
    "```python\n",
    "while <expresión lógica>:\n",
    "    <instrucciones>\n",
    "```\n",
    "\n",
    "```python\n",
    "while <expr>:\n",
    "    <expresión lógica>\n",
    "```\n",
    "\n",
    "```python\n",
    "while <for>:\n",
    "    <instrucciones>\n",
    "```\n",
    "\n",
    "```python\n",
    "<expresión lógica> <while>:\n",
    "    <instrucciones>\n",
    "```"
   ]
  },
  {
   "cell_type": "markdown",
   "metadata": {
    "id": "hbc8hA908JQO"
   },
   "source": [
    "### **¿Qué pasa en un ciclo While?**\n",
    "\n",
    "<p>\n",
    "\n",
    "Teniendo en cuento el siguiente ciclo:\n",
    "\n",
    "```python\n",
    "n = 5\n",
    "while n > 0:\n",
    "    n -= 1\n",
    "    print(n)\n",
    "```\n",
    "Esto es lo que sucede en este ejemplo:\n",
    "\n",
    "*   `n` es inicialmente `5`. La expresión en el encabezado de la instrucción `while` en la línea 2 es `n > 0`, lo cual es verdadero, por lo que se ejecuta el cuerpo del ciclo. Dentro del cuerpo del ciclo en la línea 3, `n` se reduce de 1 a 4 y luego se imprime.\n",
    "*   Cuando el cuerpo del ciclo ha terminado, la ejecución del programa vuelve al principio del ciclo en la línea 2 y la expresión se evalúa nuevamente. Sigue siendo cierto, por lo que el cuerpo se ejecuta de nuevo y se imprime 3.\n",
    "*   Esto continúa hasta que `n` se convierte en `0`. En ese punto, cuando se prueba la expresión, y es falsa el ciclo termina. La ejecución se reanudaría en la primera declaración que sigue al cuerpo del ciclo, pero no hay ninguna en este caso.\n",
    "\n",
    "Tenga en cuenta que la expresión de control del ciclo `while` se prueba primero, antes de que suceda cualquier otra cosa. Si es falso al iniciar, el cuerpo del ciclo nunca se ejecutará:\n",
    "\n",
    "```python\n",
    "n = 0\n",
    "while n > 0:\n",
    "    n -= 1\n",
    "    print(n)\n",
    "```\n",
    "En el ejemplo anterior, cuando se evalúa el ciclo, n es 0. La expresión de control `n > 0` ya es falsa, por lo que el cuerpo del bucle nunca se ejecuta.\n",
    "\n",
    "\n",
    "</p>"
   ]
  },
  {
   "cell_type": "code",
   "execution_count": null,
   "metadata": {
    "colab": {
     "base_uri": "https://localhost:8080/"
    },
    "executionInfo": {
     "elapsed": 213,
     "status": "ok",
     "timestamp": 1692728138108,
     "user": {
      "displayName": "JUAN CAMILO HENAO CARO",
      "userId": "11825490046934558373"
     },
     "user_tz": 300
    },
    "id": "w1W8Bfr5c1SK",
    "outputId": "b19c9133-9fb4-4f66-e4f3-6eb60d560e81"
   },
   "outputs": [
    {
     "name": "stdout",
     "output_type": "stream",
     "text": [
      "4\n",
      "3\n",
      "2\n",
      "1\n",
      "0\n"
     ]
    }
   ],
   "source": [
    "n = 5\n",
    "while n > 0:\n",
    "    n -= 1\n",
    "    print(n)"
   ]
  },
  {
   "cell_type": "code",
   "execution_count": null,
   "metadata": {
    "id": "mALxMlPzcwwD"
   },
   "outputs": [],
   "source": [
    "n = 0\n",
    "while n > 0:\n",
    "    n -= 1\n",
    "    print(n)"
   ]
  },
  {
   "cell_type": "markdown",
   "metadata": {
    "id": "rAVGuB3vcOS6"
   },
   "source": [
    "### **While con una lista**\n",
    "\n",
    "<p>\n",
    "Aquí hay otro ciclo while que involucra una lista, en lugar de una comparación numérica:\n",
    "\n",
    "```python\n",
    "a = ['a', 'b', 'c']\n",
    "while a:\n",
    "    print(a.pop(-1))\n",
    "```\n",
    "Cuando una lista se evalúa en contexto booleano, es verdadera si tiene elementos y falsa si está vacía. En este ejemplo, `a` es verdadero siempre que tenga elementos. Una vez que se han eliminado todos los elementos con el método `.pop()` y la lista está vacía, `a` es falso y el ciclo termina."
   ]
  },
  {
   "cell_type": "code",
   "execution_count": null,
   "metadata": {
    "id": "uCiDAKlrfDFs"
   },
   "outputs": [],
   "source": []
  },
  {
   "cell_type": "code",
   "execution_count": null,
   "metadata": {
    "colab": {
     "base_uri": "https://localhost:8080/"
    },
    "executionInfo": {
     "elapsed": 249,
     "status": "ok",
     "timestamp": 1692728262156,
     "user": {
      "displayName": "JUAN CAMILO HENAO CARO",
      "userId": "11825490046934558373"
     },
     "user_tz": 300
    },
    "id": "tZe9XGCacyB0",
    "outputId": "bad51ca9-0a3b-40ad-b739-680f61954408"
   },
   "outputs": [
    {
     "name": "stdout",
     "output_type": "stream",
     "text": [
      "c\n",
      "b\n",
      "a\n"
     ]
    }
   ],
   "source": [
    "a = ['a', 'b', 'c']\n",
    "while a:\n",
    "    print(a.pop(-1))"
   ]
  },
  {
   "cell_type": "markdown",
   "metadata": {
    "id": "jQ8ixx2qdBOR"
   },
   "source": [
    "### **Alteración del comportamiento de los ciclos `while`**\n",
    "#### **Las instrucciones `break` y `continue`**\n",
    "\n",
    "En cada ejemplo que ha visto hasta ahora, todo el cuerpo del ciclo while se ejecuta en cada iteración. Python proporciona dos palabras clave que terminan prematuramente una iteración de ciclo:\n",
    "\n",
    "La declaración `break` de Python termina inmediatamente un ciclo por completo. La ejecución del programa procede a la primera instrucción que sigue al cuerpo del ciclo.\n",
    "\n",
    "La instrucción `continue` de Python termina inmediatamente la iteración del ciclo actual. La ejecución salta al principio del ciclo y la expresión de control se vuelve a evaluar para determinar si el ciclo se ejecutará de nuevo o terminará.\n",
    "\n",
    "La distinción entre `break` y `continue` se demuestra en la siguiente imagen.\n",
    "\n",
    "<img alt=\"CC\" height=\"300px\" src=\"https://files.realpython.com/media/t.899f357dd948.png\" align=\"left\" hspace=\"0px\">\n"
   ]
  },
  {
   "cell_type": "markdown",
   "metadata": {
    "id": "atEJPmbIvm2T"
   },
   "source": [
    "#### **La instrucción `break`**\n",
    "El siguiente código muestra la interrupción usando `break` para declarar una terminación de un ciclo `while`:\n",
    "\n",
    "```python\n",
    "n = 5\n",
    "while n > 0:\n",
    "    n -= 1\n",
    "    if n == 2:\n",
    "        break\n",
    "    print(n)\n",
    "print('Loop ended.')\n",
    "```\n",
    "Cuando `n` se convierte en 2, se ejecuta la instrucción break. El ciclo finaliza por completo y la ejecución del programa salta a la instrucción `print('Loop ended.')`.\n"
   ]
  },
  {
   "cell_type": "markdown",
   "metadata": {
    "id": "62-p_rqAS1IH"
   },
   "source": [
    "#### **La instrucción `continue`**\n",
    "El siguiente código muestra la interrupción usando `continue` para declarar un salto de una iteración de un ciclo `while`:\n",
    "```python\n",
    "n = 5\n",
    "while n > 0:\n",
    "    n -= 1\n",
    "    if n == 2:\n",
    "        continue\n",
    "    print(n)\n",
    "print('Loop ended.')\n",
    "```\n",
    "Esta vez, cuando `n` es 2, la instrucción `continue` provoca la terminación de esa iteración. Por lo tanto, no se imprime 2. La ejecución vuelve a la parte superior del ciclo, la condición se vuelve a evaluar y sigue siendo verdadera. El ciclo se reanuda y termina cuando `n` se convierte en 0, como antes.\n"
   ]
  },
  {
   "cell_type": "code",
   "execution_count": null,
   "metadata": {
    "id": "NLSIKpJe49Ud"
   },
   "outputs": [],
   "source": [
    "n = 5\n",
    "while n > 0:\n",
    "    n -= 1\n",
    "    if n == 2:\n",
    "        break\n",
    "    print(n)\n",
    "print('Loop ended.')"
   ]
  },
  {
   "cell_type": "code",
   "execution_count": null,
   "metadata": {
    "id": "WHTOttJg49LM"
   },
   "outputs": [],
   "source": [
    "n = 5\n",
    "while n > 0:\n",
    "    n -= 1\n",
    "    if n == 2:\n",
    "        continue\n",
    "    print(n)\n",
    "print('Loop ended.')"
   ]
  },
  {
   "cell_type": "markdown",
   "metadata": {
    "id": "jOLMm8fb49ys"
   },
   "source": [
    "### **La Clausula `else` del ciclo `while`**\n",
    "![What](https://thumbs.gfycat.com/DishonestSpanishGrosbeak-size_restricted.gif)\n",
    "\n",
    "El ciclo `while` también puede tener una cláusula `else`. La cláusula `else` se ejecutará si el ciclo termina por agotamiento del iterable (es decir, el ciclo se ejecuta sin interrupciones):\n",
    "\n",
    "```python\n",
    "while <expr>:\n",
    "    <instrucciones>\n",
    "else:\n",
    "    <instrucciones adicionales>\n",
    "```\n",
    "Las `<instrucciones adicionales>` especificadas en la cláusula `else` se ejecutarán cuando finalice el ciclo while.\n",
    "\n",
    "---\n",
    "```python\n",
    "while <expr>:\n",
    "    <instrucciones>\n",
    "<instrucciones adicionales>\n",
    "```\n",
    "En el último caso, sin la cláusula else, `<instrucciones adicionales>` se ejecutará después de que termine el ciclo while, pase lo que pase.\n",
    "\n",
    "Cuando se colocan `<instrucciones adicionales>` en una cláusula `else`, se ejecutarán solo si el ciclo termina \"por agotamiento\", es decir, si el ciclo se repite hasta que la condición de control se vuelve falsa. Si se sale del ciclo mediante una declaración de interrupción, la cláusula `else` no se ejecutará.\n",
    "\n",
    "Considere el siguiente ejemplo en donde el ciclo se repitió hasta que se agotó la condición: n y se convirtió en 0, por lo que `n > 0` se convirtió en falso. Debido a que el ciclo vivió su vida natural, por así decirlo, se ejecutó la cláusula `else`.\n",
    "```python\n",
    "n = 5\n",
    "while n > 0:\n",
    "    n -= 1\n",
    "    print(n)\n",
    "else:\n",
    "    print('Listo el ciclo.')\n",
    "```\n",
    "Para el siguiente caso identifique la diferencia.\n",
    "\n",
    "\n",
    "```python\n",
    "n = 5\n",
    "while n > 0:\n",
    "    n -= 1\n",
    "    print(n)\n",
    "    if n == 2:\n",
    "        break\n",
    "else:\n",
    "    print('Listo el ciclo.')\n",
    "```\n",
    "Este ciclo finaliza prematuramente con una interrupción, por lo que la cláusula `else` no se ejecuta.\n",
    "\n",
    "Puede parecer que el significado de la palabra `else` no encaja tan bien con el ciclo `while` como con la instrucción `if`. Guido van Rossum, el creador de Python, ha dicho que, si tuviera que hacerlo de nuevo, dejaría la cláusula `else` del ciclo `while` fuera del lenguaje.\n",
    "\n",
    "Una de las siguientes interpretaciones podría ayudar a hacerlo más intuitivo:\n",
    "*   Piense en el encabezado del ciclo [`while n> 0`] como una instrucción `if` `[if n > 0]` que se ejecuta una y otra vez, y la cláusula `else` finalmente se ejecuta cuando la condición se vuelve falsa.\n",
    "*   Piense como si no fuera un quiebre o una salida, en el sentido de que el bloque que sigue se ejecuta si no hay un quiebre o salida.\n",
    "\n",
    "Si no encuentra útil ninguna de estas interpretaciones, no dude en ignorarlas.\n",
    "\n",
    "¿Cuándo podría ser útil una cláusula else en un bucle while? Una situación común es si está buscando en una lista un artículo específico. Puede usar break para salir del bucle si se encuentra el elemento, y la cláusula else puede contener código que debe ejecutarse si no se encuentra el elemento:\n",
    "\n",
    "\n",
    "```python\n",
    "a = ['empanada', 'buñuelo', 'pastelpollo', 'palitoqueso']\n",
    "s = 'papasfritas'\n",
    "i = 0\n",
    "while i < len(a):\n",
    "    if a[i] == s:\n",
    "        # Se encontraron las papas fritas\n",
    "        break\n",
    "    i += 1\n",
    "else:\n",
    "    # No tienen papitas fritas\n",
    "    print(s, 'no hay del producto.')\n",
    "```\n",
    "\n",
    "\n",
    "\n"
   ]
  },
  {
   "cell_type": "code",
   "execution_count": null,
   "metadata": {
    "id": "7S3hIdGbNHHR"
   },
   "outputs": [],
   "source": [
    "n = 5\n",
    "while n > 0:\n",
    "    n -= 1\n",
    "    print(n)\n",
    "else:\n",
    "    print('Listo el ciclo.')"
   ]
  },
  {
   "cell_type": "code",
   "execution_count": null,
   "metadata": {
    "id": "GDb_p0B0NJli"
   },
   "outputs": [],
   "source": [
    "n = 5\n",
    "while n > 0:\n",
    "    n -= 1\n",
    "    print(n)\n",
    "    if n == 2:\n",
    "        break\n",
    "else:\n",
    "    print('Listo el ciclo.')"
   ]
  },
  {
   "cell_type": "code",
   "execution_count": null,
   "metadata": {
    "id": "2F7tJlSRNTe_"
   },
   "outputs": [],
   "source": [
    "a = ['empanada', 'buñuelo', 'pastelpollo', 'palitoqueso']\n",
    "s = 'papasfritas'\n",
    "i = 0\n",
    "while i < len(a):\n",
    "    if a[i] == s:\n",
    "        # Se encontraron las papas fritas\n",
    "        break\n",
    "    i += 1\n",
    "else:\n",
    "    # No tienen papitas fritas\n",
    "    print('no hay del producto, ', s)"
   ]
  },
  {
   "cell_type": "markdown",
   "metadata": {
    "id": "2oJKzrtSNnUL"
   },
   "source": [
    "### **Ciclos infinitos**\n",
    "<p>\n",
    "\n",
    "\n",
    "</p>\n",
    "\n",
    "<table>\n",
    "<thead>\n",
    "  <tr>\n",
    "    <th>\n",
    "    Definir mal un ciclo --->\n",
    "    </th>\n",
    "    <th>\n",
    "    <img alt=\"dormamu\" height=\"200px\" src=\"https://pa1.narvii.com/7147/16ee5068677503506f5cdef8953b2f6ffed55d00r1-480-200_hq.gif\" hspace=\"0px\">\n",
    "    </th>\n",
    "  </tr>\n",
    "  <tr>\n",
    "    <th>\n",
    "    El algoritmo --->\n",
    "    </th>\n",
    "    <th>\n",
    "    <img alt=\"dormamu\" height=\"200px\" src=\"https://i.pinimg.com/originals/1f/69/be/1f69bed36a33bd7c98fd4e9fdebf6dcf.gif\" hspace=\"0px\"  align=\"right\">\n",
    "    </th>\n",
    "  </tr>\n",
    "</thead>\n",
    "</table>\n",
    "\n",
    "Suponga que escribe un ciclo `while` que teóricamente nunca termina. Suena raro, ¿verdad?\n",
    "Considere este ejemplo:\n",
    "\n",
    "```python\n",
    "while True:\n",
    "    print('Infinito')\n",
    "```\n",
    "Este código se puede terminar desde la misma instrucción de la celda presionando ■ o la combinación de teclas `Ctrl + C` en un IDE, lo que genera una interrupción desde el entorno de ejecución o desde el teclado. De lo contrario, habría continuado interminablemente.\n",
    "\n",
    "Claramente, `True` nunca será falso, o todos estaremos en un gran problema. Por lo tanto, `while True:` inicia un bucle infinito que, teóricamente, se ejecutará para siempre.\n",
    "\n",
    "Tal vez eso no suene como algo que le gustaría hacer, pero este patrón es bastante común. Por ejemplo, puede escribir código para un servicio que se inicia y se ejecuta para siempre aceptando solicitudes de servicio. \"Para siempre\" en este contexto significa hasta que lo apague, o hasta que se vaya la luz, lo que ocurra primero.\n",
    "\n",
    "Más prosaicamente, recuerde que los ciclos se pueden romper con la declaración de ruptura. Puede ser más sencillo terminar un ciclo en función de las condiciones reconocidas dentro del cuerpo del ciclo, en lugar de una condición evaluada en la parte superior.\n",
    "\n",
    "También se pueden especificar múltiples tipos de finalización de un ciclo.\n",
    "\n",
    "\n",
    "```python\n",
    "while True:\n",
    "    if <expr1>:  # Primera condición de terminación\n",
    "        break\n",
    "    ...\n",
    "    if <expr2>:  # Segunda condición de terminación\n",
    "        break\n",
    "    ...\n",
    "    if <expr3>:  # Siguiente condición de terminación\n",
    "        break\n",
    "```\n",
    "En casos como este, donde hay múltiples razones para finalizar el ciclo, a menudo es más limpio salir de varias ubicaciones diferentes, en lugar de intentar especificar todas las condiciones de terminación en el encabezado del ciclo.\n",
    "\n",
    "Los bucles infinitos pueden resultar muy útiles. Solo recuerde que debe asegurarse de que el ciclo se rompa en algún momento, para que no se vuelva realmente infinito.\n"
   ]
  },
  {
   "cell_type": "markdown",
   "metadata": {
    "id": "cIlNhmXxS6gJ"
   },
   "source": [
    "### **Ciclos anidados**\n",
    "\n",
    "Suponga que escribe un ciclo `while` en el cual en un momento de su ejecución se escribe un segundo ciclo en su cuerpo. Esto se puede visualizar en el siguiente ejemplo:\n",
    "\n",
    "```python\n",
    "a = ['empanada', 'buñuelo']\n",
    "while len(a):\n",
    "    print(a.pop(0))\n",
    "    b = ['pastelpollo', 'tortacarne']\n",
    "    while len(b):\n",
    "        print('>', b.pop(0))\n",
    "```\n",
    "Una instrucción `break` o `continue` encontrada dentro de los ciclos anidados se aplica al ciclo en ejecución más cercano:\n",
    "\n",
    "\n",
    "```python\n",
    "while <expr1>:\n",
    "    <Instrucción1>\n",
    "    <Instrucción2>\n",
    "    while <expr2>:\n",
    "        <Instrucción3>\n",
    "        <Instrucción4>\n",
    "        break  # Aplica para la expresión 2, cierra el ciclo 2\n",
    "    break  # Aplica para la expresión 1, cierra el ciclo 1\n",
    "```\n",
    "Además, los ciclos `while` se pueden anidar dentro de las declaraciones `if` / `elif` / `else`, y viceversa:\n",
    "\n",
    "\n",
    "```python\n",
    "if <expr>:\n",
    "    <Instrucción>\n",
    "    while <expr>:\n",
    "        <Instrucción>\n",
    "else:\n",
    "    while <expr>:\n",
    "        <Instrucción>\n",
    "    <Instrucción>\n",
    "```\n",
    "```python\n",
    "while <expr>:\n",
    "    if <expr>:\n",
    "        <Instrucción>\n",
    "    elif <expr>:\n",
    "        <Instrucción>\n",
    "    else:\n",
    "        <Instrucción>\n",
    "    if <expr>:\n",
    "        <Instrucción>\n",
    "```\n",
    "\n",
    "\n",
    "\n",
    "\n"
   ]
  },
  {
   "cell_type": "code",
   "execution_count": null,
   "metadata": {
    "id": "O2VbaKshTcZY"
   },
   "outputs": [],
   "source": [
    "a = ['productos 1', 'productos 2']\n",
    "while len(a):\n",
    "    print(a.pop(0))\n",
    "    b = ['empanada','pastelpollo', 'tortacarne']\n",
    "    while len(b):\n",
    "        print('-->', b.pop(-1))"
   ]
  },
  {
   "cell_type": "markdown",
   "metadata": {
    "id": "dKVToE5HWncO"
   },
   "source": [
    "### **Ejemplos del ciclo `while`**\n",
    "![Ejemplos](https://www.codesdope.com/pa-images-bucket/courses/python/w3.gif)\n",
    "\n",
    "#### Iterar --> `string`\n",
    "```python\n",
    "i = 0\n",
    "s = 'empanada'\n",
    "while i < len(empanada):\n",
    "    print(s[i])\n",
    "    i += 1\n",
    "```\n",
    "\n",
    "#### Iterar --> `list`\n",
    "```python\n",
    "fritos = [\"empanada\", \"buñuelo\", \"pastel\"]\n",
    "i = 0\n",
    "while i < len(fritos):\n",
    "    print(fritos[i])\n",
    "    i += 1\n",
    "```\n",
    "\n",
    "#### Iterar --> `tuple`\n",
    "```python\n",
    "fritos = (\"empanada\", \"buñuelo\", \"pastel\")\n",
    "i = 0\n",
    "while i < len(fritos):\n",
    "  print(fritos[i])\n",
    "  i += 1\n",
    "```"
   ]
  },
  {
   "cell_type": "code",
   "execution_count": null,
   "metadata": {
    "id": "jTGmuO11f6kl"
   },
   "outputs": [],
   "source": [
    "i = 0\n",
    "s = 'empanada'\n",
    "while i < len(s):\n",
    "    print(s[i])\n",
    "    i += 1"
   ]
  },
  {
   "cell_type": "code",
   "execution_count": null,
   "metadata": {
    "id": "y5c94D6lf7ll"
   },
   "outputs": [],
   "source": [
    "fritos = [\"empanada\", \"buñuelo\", \"pastel\"]\n",
    "i = 0\n",
    "while i < len(fritos):\n",
    "    print(fritos[i])\n",
    "    i += 1"
   ]
  },
  {
   "cell_type": "code",
   "execution_count": null,
   "metadata": {
    "id": "zFHdIrhTf7f-"
   },
   "outputs": [],
   "source": [
    "fritos = (\"empanada\", \"buñuelo\", \"pastel\")\n",
    "i = 0\n",
    "while i < len(fritos):\n",
    "  print(fritos[i])\n",
    "  i += 1"
   ]
  },
  {
   "cell_type": "markdown",
   "metadata": {
    "id": "h4jPl8bxguaH"
   },
   "source": [
    "### **Ejercicios del ciclo `while`**"
   ]
  },
  {
   "cell_type": "markdown",
   "metadata": {
    "id": "-itjrTw3gxwN"
   },
   "source": [
    "#### Ejercicio 1\n",
    "Realizar un algoritmo que relice la suma e imprima la siguiente serie:\n",
    "$2, 5, 7, 10, 12, 15, 17,..., 1800 $\n",
    "\n",
    "\n",
    "Nivel de dificultad:★★☆☆☆\n",
    "\n"
   ]
  },
  {
   "cell_type": "code",
   "execution_count": null,
   "metadata": {
    "colab": {
     "base_uri": "https://localhost:8080/"
    },
    "executionInfo": {
     "elapsed": 8,
     "status": "ok",
     "timestamp": 1692728833725,
     "user": {
      "displayName": "JUAN CAMILO HENAO CARO",
      "userId": "11825490046934558373"
     },
     "user_tz": 300
    },
    "id": "4rMZqYlXhIQZ",
    "outputId": "7a2b3c2b-1cb2-4025-83e1-682269596577"
   },
   "outputs": [
    {
     "name": "stdout",
     "output_type": "stream",
     "text": [
      "[2, 5, 7, 10, 12, 15, 17, 20, 22, 25, 27, 30, 32, 35, 37, 40, 42, 45, 47, 50, 52, 55, 57, 60, 62, 65, 67, 70, 72, 75, 77, 80, 82, 85, 87, 90, 92, 95, 97, 100, 102, 105, 107, 110, 112, 115, 117, 120, 122, 125, 127, 130, 132, 135, 137, 140, 142, 145, 147, 150, 152, 155, 157, 160, 162, 165, 167, 170, 172, 175, 177, 180, 182, 185, 187, 190, 192, 195, 197, 200, 202, 205, 207, 210, 212, 215, 217, 220, 222, 225, 227, 230, 232, 235, 237, 240, 242, 245, 247, 250, 252, 255, 257, 260, 262, 265, 267, 270, 272, 275, 277, 280, 282, 285, 287, 290, 292, 295, 297, 300, 302, 305, 307, 310, 312, 315, 317, 320, 322, 325, 327, 330, 332, 335, 337, 340, 342, 345, 347, 350, 352, 355, 357, 360, 362, 365, 367, 370, 372, 375, 377, 380, 382, 385, 387, 390, 392, 395, 397, 400, 402, 405, 407, 410, 412, 415, 417, 420, 422, 425, 427, 430, 432, 435, 437, 440, 442, 445, 447, 450, 452, 455, 457, 460, 462, 465, 467, 470, 472, 475, 477, 480, 482, 485, 487, 490, 492, 495, 497, 500, 502, 505, 507, 510, 512, 515, 517, 520, 522, 525, 527, 530, 532, 535, 537, 540, 542, 545, 547, 550, 552, 555, 557, 560, 562, 565, 567, 570, 572, 575, 577, 580, 582, 585, 587, 590, 592, 595, 597, 600, 602, 605, 607, 610, 612, 615, 617, 620, 622, 625, 627, 630, 632, 635, 637, 640, 642, 645, 647, 650, 652, 655, 657, 660, 662, 665, 667, 670, 672, 675, 677, 680, 682, 685, 687, 690, 692, 695, 697, 700, 702, 705, 707, 710, 712, 715, 717, 720, 722, 725, 727, 730, 732, 735, 737, 740, 742, 745, 747, 750, 752, 755, 757, 760, 762, 765, 767, 770, 772, 775, 777, 780, 782, 785, 787, 790, 792, 795, 797, 800, 802, 805, 807, 810, 812, 815, 817, 820, 822, 825, 827, 830, 832, 835, 837, 840, 842, 845, 847, 850, 852, 855, 857, 860, 862, 865, 867, 870, 872, 875, 877, 880, 882, 885, 887, 890, 892, 895, 897, 900, 902, 905, 907, 910, 912, 915, 917, 920, 922, 925, 927, 930, 932, 935, 937, 940, 942, 945, 947, 950, 952, 955, 957, 960, 962, 965, 967, 970, 972, 975, 977, 980, 982, 985, 987, 990, 992, 995, 997, 1000, 1002, 1005, 1007, 1010, 1012, 1015, 1017, 1020, 1022, 1025, 1027, 1030, 1032, 1035, 1037, 1040, 1042, 1045, 1047, 1050, 1052, 1055, 1057, 1060, 1062, 1065, 1067, 1070, 1072, 1075, 1077, 1080, 1082, 1085, 1087, 1090, 1092, 1095, 1097, 1100, 1102, 1105, 1107, 1110, 1112, 1115, 1117, 1120, 1122, 1125, 1127, 1130, 1132, 1135, 1137, 1140, 1142, 1145, 1147, 1150, 1152, 1155, 1157, 1160, 1162, 1165, 1167, 1170, 1172, 1175, 1177, 1180, 1182, 1185, 1187, 1190, 1192, 1195, 1197, 1200, 1202, 1205, 1207, 1210, 1212, 1215, 1217, 1220, 1222, 1225, 1227, 1230, 1232, 1235, 1237, 1240, 1242, 1245, 1247, 1250, 1252, 1255, 1257, 1260, 1262, 1265, 1267, 1270, 1272, 1275, 1277, 1280, 1282, 1285, 1287, 1290, 1292, 1295, 1297, 1300, 1302, 1305, 1307, 1310, 1312, 1315, 1317, 1320, 1322, 1325, 1327, 1330, 1332, 1335, 1337, 1340, 1342, 1345, 1347, 1350, 1352, 1355, 1357, 1360, 1362, 1365, 1367, 1370, 1372, 1375, 1377, 1380, 1382, 1385, 1387, 1390, 1392, 1395, 1397, 1400, 1402, 1405, 1407, 1410, 1412, 1415, 1417, 1420, 1422, 1425, 1427, 1430, 1432, 1435, 1437, 1440, 1442, 1445, 1447, 1450, 1452, 1455, 1457, 1460, 1462, 1465, 1467, 1470, 1472, 1475, 1477, 1480, 1482, 1485, 1487, 1490, 1492, 1495, 1497, 1500, 1502, 1505, 1507, 1510, 1512, 1515, 1517, 1520, 1522, 1525, 1527, 1530, 1532, 1535, 1537, 1540, 1542, 1545, 1547, 1550, 1552, 1555, 1557, 1560, 1562, 1565, 1567, 1570, 1572, 1575, 1577, 1580, 1582, 1585, 1587, 1590, 1592, 1595, 1597, 1600, 1602, 1605, 1607, 1610, 1612, 1615, 1617, 1620, 1622, 1625, 1627, 1630, 1632, 1635, 1637, 1640, 1642, 1645, 1647, 1650, 1652, 1655, 1657, 1660, 1662, 1665, 1667, 1670, 1672, 1675, 1677, 1680, 1682, 1685, 1687, 1690, 1692, 1695, 1697, 1700, 1702, 1705, 1707, 1710, 1712, 1715, 1717, 1720, 1722, 1725, 1727, 1730, 1732, 1735, 1737, 1740, 1742, 1745, 1747, 1750, 1752, 1755, 1757, 1760, 1762, 1765, 1767, 1770, 1772, 1775, 1777, 1780, 1782, 1785, 1787, 1790, 1792, 1795, 1797, 1800]\n"
     ]
    }
   ],
   "source": [
    "#Ejecutar la solución aquí\n",
    "suma = 2\n",
    "numeros = []\n",
    "bandera = True\n",
    "\n",
    "while suma <= 1800:\n",
    "    if bandera:\n",
    "        numeros.append(suma)\n",
    "        suma = suma + 3\n",
    "        bandera = False\n",
    "    else:\n",
    "        numeros.append(suma)\n",
    "        suma = suma + 2\n",
    "        bandera = True\n",
    "print(numeros)\n"
   ]
  },
  {
   "cell_type": "markdown",
   "metadata": {
    "id": "g3E0Ml9eiA72"
   },
   "source": [
    "#### Ejercicio 2\n",
    "Calcule el aumento de sueldo para un grupo de empleados de una empresa teniendo en cuenta el siguiente criterio:\n",
    "*    Si el sueldo es inferior a \\$1.000.000\n",
    ">*    Aumento del 15%\n",
    "*    Si el sueldo es mayor o igual a \\$1.000.000\n",
    ">*    Aumento del 12%\n",
    "\n",
    "Imprimir el nuevo sueldo del trabajador y el total de nómina de la empresa, considerando el nuevo valor. Para terminar de ingresar salarios ingrese una letra.\n",
    "\n",
    "Nota: Opcional, calcular el incremento promedio porcentual de los empleados y el crecimiento de nómina para los nuevos salarios.\n",
    "\n",
    "\n",
    "Nivel de dificultad:★★☆☆☆\n",
    "\n"
   ]
  },
  {
   "cell_type": "code",
   "execution_count": null,
   "metadata": {
    "colab": {
     "base_uri": "https://localhost:8080/"
    },
    "id": "kjamlFtNo5pW",
    "outputId": "18932303-6522-41c2-ef66-69e7ed52142c"
   },
   "outputs": [
    {
     "name": "stdout",
     "output_type": "stream",
     "text": [
      "ingresar el salario: 900000\n"
     ]
    }
   ],
   "source": [
    "#Ejecutar la solución aquí\n",
    "\n",
    "nominahoy = []\n",
    "nominamanan = []\n",
    "\n",
    "\n",
    "salario = input(\"ingresar el salario: \")\n",
    "if salario.isnumeric():\n",
    "\n",
    "    while (True):\n",
    "        valor = int(salario)\n",
    "        nominahoy.append(valor)\n",
    "    if valor > 100000:\n",
    "        valor *= 1.12\n",
    "    else:\n",
    "        valor *= 1.15\n",
    "        nominamanana.append(valor)\n",
    "        salario = input(\"Ingrese el salario: \")\n",
    "    print(\"Proceso terminado\")\n",
    "else:\n",
    "    print(\"El valor ingresado no permite iniciar el algoritmo\")\n",
    "salariohoy = sum(nominahoy)\n",
    "salariomanana = sum(nominamanana)\n",
    "print(salariohoy)\n",
    "print(salariomanana)\n",
    "\n"
   ]
  },
  {
   "cell_type": "markdown",
   "metadata": {
    "id": "2-B_bGWMrm70"
   },
   "source": [
    "#### Ejercicio 3\n",
    "La siguiente se llama la conjetura de Collatz/Ulam y detalla lo siguiente:\n",
    "\n",
    "\n",
    "*   Iniciar con cualquier número entero positivo.\n",
    "*   Si es par, divídalo entre 2; si es impar, multiplíquelo por 3 y agréguele  1.\n",
    "*   Obtenga números enteros sucesivamente repitiendo el proceso.\n",
    "\n",
    "Al final, obtendrá el número 1, independientemente del número inicial.\n",
    "Construya un algoritmo que desarrolle la presente conjetura.\n",
    "\n",
    "\n",
    "![CollatzUlam](https://wikimedia.org/api/rest_v1/media/math/render/svg/7b147b5cbbe5500935e400de4db5bc7b2eba817d)\n",
    "\n",
    "[La conjetura de Collatz](https://www.youtube.com/watch?v=HpcYW08Ug7g)\n",
    "\n",
    "\n",
    "Nivel de dificultad:★★★☆☆\n",
    "\n"
   ]
  },
  {
   "cell_type": "code",
   "execution_count": null,
   "metadata": {
    "id": "ajonO2QLxFUd"
   },
   "outputs": [],
   "source": [
    "from IPython.display import YouTubeVideo\n",
    "YouTubeVideo('HpcYW08Ug7g',width=800,height=400)"
   ]
  },
  {
   "cell_type": "code",
   "execution_count": null,
   "metadata": {
    "id": "SMwBoFKNs4hz"
   },
   "outputs": [],
   "source": [
    "#Ejecutar la solución aquí"
   ]
  },
  {
   "cell_type": "markdown",
   "metadata": {
    "id": "Cc0o5r-2vNN3"
   },
   "source": [
    "#### Ejercicio 4\n",
    "Supóngase que en una reciente elección hubo tres candidatos (con identificadores 1, 2, 3). Usted habrá de encontrar, mediante un programa, el número votos correspondientes a cada candidato y el porcentaje que obtuvo respecto al total de votantes. El usuario tecleará los votos de manera desorganizada, tal y como se obtuvieron en la elección, el final de datos está representado por una letra.\n",
    "Realizar un algoritmo que solucione el presente problema y determine el ganador, empates o una nueva elección debido a triple empate.\n",
    "\n",
    "\n",
    "Nivel de dificultad:★★★★★\n"
   ]
  },
  {
   "cell_type": "code",
   "execution_count": null,
   "metadata": {
    "id": "1Fx2TtO-4w7s"
   },
   "outputs": [],
   "source": [
    "#Solucion"
   ]
  },
  {
   "cell_type": "markdown",
   "metadata": {
    "id": "8xPWD20aAnyT"
   },
   "source": [
    "#### Ejercicio 5\n",
    "Elabore un algoritmo que imprima los enteros desde uno hasta n de la siguiente manera:\n",
    "\n",
    "$1, 22, 333, 4444, 55555…$\n",
    "\n",
    "\n",
    "Nivel de dificultad:★★★★☆\n"
   ]
  },
  {
   "cell_type": "code",
   "execution_count": null,
   "metadata": {
    "id": "PM88xUkxCCVn"
   },
   "outputs": [],
   "source": [
    "#Solucion"
   ]
  },
  {
   "cell_type": "markdown",
   "metadata": {
    "id": "Ul6zIZtJ8wIm"
   },
   "source": [
    "<p><a name=\"s13\"></a></p>\n",
    "\n",
    "# **13. Funciones**\n",
    "[[Contenidos]](#contents)\n"
   ]
  },
  {
   "cell_type": "markdown",
   "metadata": {
    "id": "1P0itjVIJ-1d"
   },
   "source": [
    "##**Definicion de Función**\n",
    "<p>\n",
    "\n",
    "A día de hoy es posible que esté familiarizado con el concepto matemático de una función. Una función es una relación o mapeo entre una o más entradas y un conjunto de salidas. En matemáticas, una función normalmente se representa así:\n",
    "\n",
    "<center>\n",
    "\n",
    "$f(x) = x**\n",
    "2$\n",
    "\n",
    "</center>\n",
    "\n",
    "Las funciones en los algoritmos tienen a representar como se expresa previamente como una relación entre una o más entradas a lo cual se podría interpretar de la siguiente manera:\n",
    "<center>\n",
    "<img alt=\"Funcion\" height=\"40px\" src=\"https://files.realpython.com/media/t.74ec5430f457.png\" align=\"center\" hspace=\"10px\" vspace=\"0px\">\n",
    "</center>\n",
    "\n",
    "Aquí, $f$ es una función que opera en las entradas $x$ e $y$. La salida de la función es $z$. Sin embargo, las funciones de programación son mucho más generalizadas y versátiles que esta definición matemática. De hecho, la definición y el uso adecuados de las funciones son tan importantes para el desarrollo de software que prácticamente todos los lenguajes de programación modernos admiten funciones integradas y definidas por el usuario.\n",
    "\n",
    "En programación, una función es un bloque de código autónomo que encapsula una tarea específica o un grupo de tareas relacionadas. En Colabs previos hemos visto dicha funcionalidad en las llamadas `Built-in Functions` que ya hemos utilizado como:\n",
    "\n",
    "\n",
    "*   `len()`\n",
    "*   `print()`\n",
    "*   `abs()`\n",
    "*   `help()`\n",
    "*   `input()`\n",
    "*   `sum()`\n",
    "*   `range()`\n",
    "\n",
    "Entre otras, clic [aquí](https://docs.python.org/3/library/functions.html#built-in-functions) para acceder a la lista de ellas.\n",
    "\n",
    "Veamos el siguiente ejemplo:\n",
    "\n",
    "</p>"
   ]
  },
  {
   "cell_type": "code",
   "execution_count": null,
   "metadata": {
    "id": "MhlN5pu2lDvH"
   },
   "outputs": [],
   "source": [
    "# Eemplo de una funcion que eleva un numero al cuadrado\n",
    "\n",
    "def cuadrado_de(x):\n",
    "  \"\"\"\n",
    "  Esta funcion eleva al cuadrado el valor entrado\n",
    "  \"\"\"\n",
    "  return x**2\n",
    "\n"
   ]
  },
  {
   "cell_type": "code",
   "execution_count": null,
   "metadata": {
    "colab": {
     "base_uri": "https://localhost:8080/"
    },
    "executionInfo": {
     "elapsed": 399,
     "status": "ok",
     "timestamp": 1693329095780,
     "user": {
      "displayName": "JUAN CAMILO HENAO CARO",
      "userId": "11825490046934558373"
     },
     "user_tz": 300
    },
    "id": "LVbRYadWldji",
    "outputId": "0f170401-ccb3-4753-e209-6c5bb0ea7083"
   },
   "outputs": [
    {
     "name": "stdout",
     "output_type": "stream",
     "text": [
      "10000\n"
     ]
    }
   ],
   "source": [
    "y = cuadrado_de(100)\n",
    "print(y)"
   ]
  },
  {
   "cell_type": "markdown",
   "metadata": {
    "id": "CtIl1XzNXWLM"
   },
   "source": [
    "##**Argumentos y retorno de una función, ejemplo con `print()` y `len()`**\n",
    "La variable `a` es una lista que contiene 3 textos de los cuales usamos las funciones `print()` y `len()` para realizar acciones, el código donde se realizan dichas acciones está incorporado en Python y no es necesario saber dónde se encuentra, es necesario conocer su funcionalidad y los parámetros o argumentos que necesita para ejecutarse.\n",
    "Para el caso de `print()` y `len()` detallaremos los parámetros y resultados.\n",
    "\n",
    "\n",
    "\n",
    ">*   `print()`\n",
    ">>*   Argumentos: variables, texto, datos entre otros (objetos).\n",
    ">>*   Retorna: texto en consola en donde muestra los valores evaluados de los argumentos\n",
    ">\n",
    ">*   `len()`\n",
    ">>*   Argumentos: secuencias, objetos iterables.\n",
    ">>*   Retorna: Devuelve la longitud (el número de elementos) de un objeto.\n",
    "\n",
    "Cuando definimos nuestra propia función de Python, funciona igual. Desde algún lugar de nuestro código, llamará la función de Python y la ejecución del programa se transferirá al cuerpo del código que forma la función.\n",
    "\n",
    "Cuando finaliza la función, la ejecución vuelve a la ubicación donde se llamó a la función. Dependiendo de cómo diseñó la secuencia de la función, los datos pueden pasarse cuando se llama a la función y los valores devueltos pueden devolverse cuando finaliza."
   ]
  },
  {
   "cell_type": "markdown",
   "metadata": {
    "id": "scrqrtlGZkRU"
   },
   "source": [
    "## **Importancia de las funciones en Python**\n",
    "\n",
    "Prácticamente todos los lenguajes de programación que se utilizan hoy en día admiten una forma de funciones definidas por el usuario, aunque no siempre se denominan funciones. En otros idiomas, es posible que se mencionen como uno de los siguientes:\n",
    "\n",
    "\n",
    "*   Subrutinas\n",
    "*   Procedimientos\n",
    "*   Métodos\n",
    "*   Subprogramas\n"
   ]
  },
  {
   "cell_type": "markdown",
   "metadata": {
    "id": "ws221id-8wIo"
   },
   "source": [
    "## **Abstracción y reutilización**\n",
    "<p>\n",
    "\n",
    "Suponga que escribe un código que hace algo útil. A medida que continúe con el desarrollo, encontrará que la tarea realizada por ese código es una que necesita con frecuencia, en muchas ubicaciones diferentes dentro de su aplicación. ¿Qué deberías hacer? Bueno, podría simplemente replicar el código una y otra vez, utilizando la capacidad de copiar y pegar de su editor.\n",
    "\n",
    "Más adelante, probablemente decida que es necesario modificar el código en cuestión. O encontrará algo malo en él que necesita ser arreglado, o querrá mejorarlo de alguna manera. Si hay copias del código esparcidas por toda su aplicación, deberá realizar los cambios necesarios en cada ubicación.\n",
    "\n",
    "*Nota: A primera vista, puede parecer una solución razonable, pero a largo plazo, es probable que se convierta en una pesadilla de mantenimiento. Si bien su editor de código puede ayudar al proporcionar una función de búsqueda y reemplazo, este método es propenso a errores y podría introducir fácilmente errores en su código que serán difíciles de encontrar.*\n",
    "\n",
    "Una mejor solución es definir una función de Python que realice la tarea. En cualquier lugar de su aplicación que necesite realizar la tarea, simplemente llame a la función. Más adelante, si decide cambiar cómo funciona, solo necesita cambiar el código en una ubicación, que es el lugar donde se define la función. Los cambios se recogerán automáticamente en cualquier lugar donde se llame a la función.\n",
    "\n",
    "La abstracción de la funcionalidad en una definición de función es un ejemplo del principio de desarrollo de software *Don’t Repeat Yourself* (DRY). Esta es posiblemente la motivación más fuerte para usar funciones."
   ]
  },
  {
   "cell_type": "markdown",
   "metadata": {
    "id": "m3qa7bDc6tkc"
   },
   "source": [
    "## **Modularidad**\n",
    "\n",
    "Las funciones permiten dividir procesos complejos en pasos más pequeños. Imagine, por ejemplo, que tiene un programa que lee un archivo, procesa el contenido del archivo y luego escribe un archivo de salida. Su código podría verse así:\n",
    "\n",
    "\n",
    "```python\n",
    "# Programa principal\n",
    "# Código para leer un archivo\n",
    "<statement>\n",
    "<statement>\n",
    "<statement>\n",
    "<statement>\n",
    "\n",
    "# Código para procesar el archivo\n",
    "<statement>\n",
    "<statement>\n",
    "<statement>\n",
    "<statement>\n",
    "\n",
    "# Código para imprimir el archivo procesado\n",
    "<statement>\n",
    "<statement>\n",
    "<statement>\n",
    "<statement>\n",
    "```\n",
    "En este ejemplo, el programa principal es un montón de código encadenado en una secuencia larga, con espacios en blanco y comentarios para ayudar a organizarlo. Sin embargo, si el código se volviera mucho más largo y complejo, entonces le resultaría cada vez más difícil entenderlo.\n",
    "\n",
    "Alternativamente, puede estructurar el código de la siguiente manera:\n",
    "\n",
    "\n",
    "\n",
    "```python\n",
    "def read_file():\n",
    "    # Código para leer un archivo\n",
    "    <statement>\n",
    "    <statement>\n",
    "    <statement>\n",
    "    <statement>\n",
    "\n",
    "def process_file():\n",
    "    # Código para procesar el archivo\n",
    "    <statement>\n",
    "    <statement>\n",
    "    <statement>\n",
    "    <statement>\n",
    "\n",
    "def write_file():\n",
    "    # Código para imprimir el archivo procesado\n",
    "    <statement>\n",
    "    <statement>\n",
    "    <statement>\n",
    "    <statement>\n",
    "\n",
    "\n",
    "# Programa principal\n",
    "read_file()\n",
    "process_file()\n",
    "write_file()\n",
    "```\n",
    "Este ejemplo está modularizado. En lugar de encadenar todo el código, se divide en funciones separadas, cada una de las cuales se centra en una tarea específica. Esas tareas son leer, procesar e imprimir. El programa principal ahora simplemente necesita llamar a cada uno de estos a su vez.\n",
    "\n",
    "*Nota: La palabra clave `def` introduce una nueva definición de función de Python.*"
   ]
  },
  {
   "cell_type": "markdown",
   "metadata": {
    "id": "duMmrqx182Xo"
   },
   "source": [
    "## **Tareas del día a día que pueden replicarse**\n",
    "\n",
    "Si tuviéramos que detallar una actividad a realizar secuencialmente que pudiera implementar diariamente ¿cuál relacionarías con una función y por qué?\n",
    "Ejemplo:\n",
    "*   Detallar el transporte diario al trabajo."
   ]
  },
  {
   "cell_type": "markdown",
   "metadata": {
    "id": "XSqQqAMT8wIo"
   },
   "source": [
    "\n"
   ]
  },
  {
   "cell_type": "markdown",
   "metadata": {
    "id": "67-Pjp8I_SpO"
   },
   "source": [
    "## **Llamadas a funciones y definición y sintaxis de una función**\n",
    "\n",
    "La sintaxis habitual para definir una función de Python es la siguiente:\n",
    "\n",
    "\n",
    "```python\n",
    "def <nombre_funcion>([<argumentos_parametros>]):\n",
    "    <instrucciones>\n",
    "```\n",
    "\n",
    "**Componente**|**Detalle**\n",
    "---|---\n",
    "`def`|La palabra clave que informa a Python de que se está definiendo una función.\n",
    "`<nombre_funcion>`|Un identificador de Python válido que nombra la función\n",
    "`<argumentos_parametros>`|Una lista opcional de parámetros separados por comas que se pueden pasar a la función\n",
    "`:`|Puntuación que denota el final del encabezado de la función de Python (el nombre y la lista de parámetros)\n",
    "`<instrucciones>`|Un bloque de instrucciones validas de Python\n",
    "\n",
    "El elemento final, `<instrucciones>`, se denomina cuerpo de la función. El cuerpo es un bloque de declaraciones que se ejecutarán cuando se llame a la función. El cuerpo de una función de Python se define mediante sangría de acuerdo con [la regla de fuera de juego](https://en.wikipedia.org/wiki/Off-side_rule). Esto es lo mismo que los bloques de código asociados con una estructura de control, como una instrucción `if` o `while`.\n",
    "\n",
    "La sintaxis para llamar a una función de Python es la siguiente:\n",
    "\n",
    "```python\n",
    "<nombre_funcion>([<argumentos_parametros>])\n",
    "```\n",
    "\n",
    "`<argumentos_parametros>` son los valores pasados a la función. Corresponden a los parámetros en la definición de la función de Python. Se puede definir una función que no tome ningún argumento, pero los paréntesis aún son obligatorios. Tanto una definición de función como una llamada a función siempre deben incluir paréntesis, incluso si están vacíos.\n",
    "\n",
    "Ejemplo:\n",
    "\n",
    "\n",
    "```python\n",
    "def f():\n",
    "    s = 'en la función f()'\n",
    "    print(s)\n",
    "\n",
    "print('Antes de llamar a f()')\n",
    "f()\n",
    "print('Después de llamar a f()')\n",
    "```\n",
    "\n"
   ]
  },
  {
   "cell_type": "code",
   "execution_count": null,
   "metadata": {
    "id": "04Nh06UJM1SD"
   },
   "outputs": [],
   "source": [
    "def f():\n",
    "    s = 'en la función f()'\n",
    "    print(s)\n",
    "\n",
    "print('Antes de llamar a f()')\n",
    "f()\n",
    "print('Después de llamar a f()')"
   ]
  },
  {
   "cell_type": "code",
   "execution_count": null,
   "metadata": {
    "id": "0V3P3meRhgxP"
   },
   "outputs": [],
   "source": [
    "print(type(f))"
   ]
  },
  {
   "cell_type": "markdown",
   "metadata": {
    "id": "vVzyh1-ANau-"
   },
   "source": [
    "## **Detalle del código**\n",
    "\n",
    "**La línea 1** usa la palabra clave `def` para indicar que se está definiendo una función. La ejecución de la declaración `def` simplemente crea la definición de `f()`. Todas las siguientes líneas que están sangradas (**líneas 2 a 3**) pasan a formar parte del cuerpo de `f()` y se almacenan como su definición, pero aún no se ejecutan.\n",
    "\n",
    "La **línea 4** es un espacio en blanco entre la definición de la función y la primera línea del programa principal. Si bien no es sintácticamente necesario, es bueno tenerlo.\n",
    "\n",
    "**La línea 5** es la primera declaración que no tiene sangría porque no forma parte de la definición de `f()`. Es el comienzo del programa principal. Cuando se ejecuta el programa principal, esta instrucción se ejecuta primero.\n",
    "\n",
    "**La línea 6** es una llamada a `f()`. Tenga en cuenta que siempre se requieren paréntesis vacíos tanto en una definición de función como en una llamada de función, incluso cuando no hay parámetros ni argumentos. La ejecución procede a `f()` y se ejecutan las declaraciones en el cuerpo de `f()`.\n",
    "\n",
    "La **línea 7** es la siguiente línea que se ejecutará una vez que haya terminado el cuerpo de `f()`. La ejecución vuelve a esta declaración `print()`.\n",
    "|\n",
    "La secuencia de ejecución (o flujo de control) de la celda anterior se muestra en el siguiente diagrama:\n",
    "\n",
    "<center>\n",
    "<img alt=\"Funcion\" height=\"400px\" src=\"https://i.imgur.com/ui887QO.png\" align=\"center\" hspace=\"100px\" vspace=\"0px\">\n",
    "</center>"
   ]
  },
  {
   "cell_type": "markdown",
   "metadata": {
    "id": "ozPjtnQJL_fJ"
   },
   "source": [
    "### **Función vacía**\n",
    "\n",
    "Es posible definir una función vacía que no hace nada. Esto se conoce como [`stub`](https://es.wikipedia.org/wiki/Stub), que suele ser un marcador de posición temporal para una función de Python que se implementará por completo en un momento posterior. Así como un bloque en una estructura de control no puede estar vacío, tampoco el cuerpo de una función. Para definir una función stub, use la sentencia: `pass`\n",
    "\n",
    "```python\n",
    "def f():\n",
    "    pass\n",
    "f()\n",
    "```\n",
    "Como puede ver , una llamada a una función stub es sintácticamente válida pero no hace nada.\n"
   ]
  },
  {
   "cell_type": "markdown",
   "metadata": {
    "id": "kDn4IS--WyAw"
   },
   "source": [
    "## **Ejemplos de Funciones**\n",
    "\n",
    "### **Ejercicio 1**\n",
    "Definir una función que imprima la hora actual usando [pytz](https://pypi.org/project/pytz/) con base en la [TZ_Database](https://es.wikipedia.org/wiki/TZ_Database).\n"
   ]
  },
  {
   "cell_type": "code",
   "execution_count": null,
   "metadata": {
    "colab": {
     "base_uri": "https://localhost:8080/"
    },
    "executionInfo": {
     "elapsed": 8,
     "status": "ok",
     "timestamp": 1693329887167,
     "user": {
      "displayName": "JUAN CAMILO HENAO CARO",
      "userId": "11825490046934558373"
     },
     "user_tz": 300
    },
    "id": "lkxldJg7XILZ",
    "outputId": "f8f9d589-4c49-4193-d320-9ce0343a51ae"
   },
   "outputs": [
    {
     "name": "stdout",
     "output_type": "stream",
     "text": [
      "Hora Colombiana: 12:24:13:PM\n",
      "Hora Colombiana: 2023/08/29 12:24:13 PM\n"
     ]
    }
   ],
   "source": [
    "from datetime import datetime\n",
    "import pytz # pytz PythonTimeZone utiliza la Base de Datos de zonas https://es.wikipedia.org/wiki/TZ_Database\n",
    "\n",
    "def HoraColombiana():\n",
    "    #variable,\n",
    "    arroz = pytz.timezone('America/Bogota')\n",
    "    fechahora = datetime.now(arroz)\n",
    "    print(\"Hora Colombiana:\", fechahora.strftime(\"%H:%M:%S:%p\")) #Hora 24horas\n",
    "    print(\"Hora Colombiana:\", fechahora.strftime('%Y/%m/%d %I:%M:%S %p')) #Hora 12 Horas mas fecha\n",
    "\n",
    "HoraColombiana()"
   ]
  },
  {
   "cell_type": "code",
   "execution_count": null,
   "metadata": {
    "colab": {
     "base_uri": "https://localhost:8080/"
    },
    "executionInfo": {
     "elapsed": 375,
     "status": "ok",
     "timestamp": 1693329924967,
     "user": {
      "displayName": "JUAN CAMILO HENAO CARO",
      "userId": "11825490046934558373"
     },
     "user_tz": 300
    },
    "id": "BygH7h91jKvq",
    "outputId": "058f51e4-9e15-489b-f258-f1a759687684"
   },
   "outputs": [
    {
     "name": "stdout",
     "output_type": "stream",
     "text": [
      "2023-08-29 17:24:51.279003\n"
     ]
    }
   ],
   "source": [
    "print(datetime.now())"
   ]
  },
  {
   "cell_type": "markdown",
   "metadata": {
    "id": "rZnitGJOYZkM"
   },
   "source": [
    "### **Ejercicio 2**\n",
    "Definir una función que imprima datos relacionados con el sistema operativo."
   ]
  },
  {
   "cell_type": "code",
   "execution_count": null,
   "metadata": {
    "colab": {
     "base_uri": "https://localhost:8080/"
    },
    "executionInfo": {
     "elapsed": 388,
     "status": "ok",
     "timestamp": 1693329933381,
     "user": {
      "displayName": "JUAN CAMILO HENAO CARO",
      "userId": "11825490046934558373"
     },
     "user_tz": 300
    },
    "id": "Ai4RgO73YYor",
    "outputId": "5781cfd3-2c06-4fc7-87bd-ff1ef16b86fd"
   },
   "outputs": [
    {
     "name": "stdout",
     "output_type": "stream",
     "text": [
      "3.10.12 (main, Jun 11 2023, 05:26:28) [GCC 11.4.0]\n",
      "********************\n",
      "Linux\n",
      "********************\n",
      "x86_64\n",
      "********************\n",
      "Linux-5.15.109+-x86_64-with-glibc2.35\n",
      "********************\n",
      "#1 SMP Fri Jun 9 10:57:30 UTC 2023\n",
      "********************\n"
     ]
    }
   ],
   "source": [
    "import platform\n",
    "import sys\n",
    "def ImprimirDetallesSistema():\n",
    "    print(sys.version)\n",
    "    print('*'*20)\n",
    "    print(platform.system())\n",
    "    print('*'*20)\n",
    "    print(platform.machine())\n",
    "    print('*'*20)\n",
    "    print(platform.platform())\n",
    "    print('*'*20)\n",
    "    print(platform.version())\n",
    "    print('*'*20)\n",
    "ImprimirDetallesSistema()"
   ]
  },
  {
   "cell_type": "markdown",
   "metadata": {
    "id": "LPOr4JDc8WkQ"
   },
   "source": [
    "## **Argumentos**\n"
   ]
  },
  {
   "cell_type": "markdown",
   "metadata": {
    "id": "GpqEgICfUZDP"
   },
   "source": [
    "### **Paso de Argumentos**\n",
    "Hasta ahora las funciones que hemos definido no han tomado ningún argumento. Eso a veces puede ser útil y ocasionalmente escribirás tales funciones. Sin embargo, más a menudo querrá pasar datos a una función para que su comportamiento pueda variar de una invocación a la siguiente.\n"
   ]
  },
  {
   "cell_type": "markdown",
   "metadata": {
    "id": "e2YMda8WWj-J"
   },
   "source": [
    "### **Argumentos posicionales**\n",
    "La forma más sencilla de pasar argumentos a una función de Python es con argumentos posicionales (argumentos obligatorios). En la definición de la función, se especifica una lista de parámetros separados por comas entre los paréntesis:\n",
    "\n",
    "```python\n",
    "def f(cantidad, articulo, precio):\n",
    "    print(f'{cantidad} {articulo} cuesta ${precio:.2f}')\n",
    "```\n",
    "Cuando se llama a la función, se especifica una lista correspondiente de argumentos:\n",
    "\n",
    "```python\n",
    "f(1,'Docena Huevos',1800)\n",
    "> 1 Docena Huevos cuesta $1800.00\n",
    "```\n",
    "\n",
    "Los parámetros (cantidad, artículo y precio) se comportan como variables que se definen localmente para la función. Cuando se llama a la función, los argumentos que se pasan (1,'Docena Huevos',1800) están vinculados a los parámetros en orden, como por asignación de variable:\n",
    "\n",
    "Parametro | Argumento\n",
    "---|---\n",
    "`cantidad`|<center>`1`\n",
    "`articulo`|<center>`'Docena Huevos'`\n",
    "`precio`|<center>`1800`\n",
    "\n",
    "En algunos textos de programación, los parámetros dados en la definición de la función se denominan parámetros formales y los argumentos en la llamada a la función se denominan parámetros reales:\n",
    "\n",
    "<center>\n",
    "<img alt=\"Funcion\" src=\"https://raw.githubusercontent.com/juliancastillo-iudigital/FundamentosProgramacionPosgrados2021-1/main/ArgumentosFunciones.png\" align=\"center\" hspace=\"100px\" vspace=\"0px\">\n",
    "</center>\n",
    "\n",
    "Aunque los argumentos posicionales son la forma más sencilla de pasar datos a una función, también ofrecen la menor flexibilidad. Para empezar, el orden de los argumentos en la llamada debe coincidir con el orden de los parámetros en la definición. No hay nada que le impida especificar argumentos posicionales fuera de orden, excepto ingresar de forma incorrecta los parámetros.\n",
    "Con argumentos posicionales, los argumentos en la llamada y los parámetros en la definición deben coincidir no solo en orden sino también en número. Esa es la razón por la que los argumentos posicionales también se denominan argumentos obligatorios.\n"
   ]
  },
  {
   "cell_type": "code",
   "execution_count": null,
   "metadata": {
    "colab": {
     "base_uri": "https://localhost:8080/"
    },
    "executionInfo": {
     "elapsed": 382,
     "status": "ok",
     "timestamp": 1693330114032,
     "user": {
      "displayName": "JUAN CAMILO HENAO CARO",
      "userId": "11825490046934558373"
     },
     "user_tz": 300
    },
    "id": "GonTlV2DK7Cj",
    "outputId": "9f24b1e8-3959-41d2-b229-1a73af10fb28"
   },
   "outputs": [
    {
     "name": "stdout",
     "output_type": "stream",
     "text": [
      "1 Docena Huevos cuesta $1,800\n"
     ]
    }
   ],
   "source": [
    "def f(cantidad, articulo, precio):\n",
    "    print(f'{cantidad} {articulo} cuesta ${precio:,.0f}')\n",
    "\n",
    "f(1,'Docena Huevos',1800)"
   ]
  },
  {
   "cell_type": "markdown",
   "metadata": {
    "id": "eCBF8jBbInXR"
   },
   "source": [
    "### **Argumentos tipo `Keyword`**\n",
    "Cuando llama a una función, puede especificar argumentos en la forma `<keyword> = <valor>`. En ese caso, cada `<keyword>` debe coincidir con un parámetro en la definición de función de Python. Por ejemplo, la función `f()` definida previamente se puede llamar con argumentos de palabras clave de la siguiente manera:\n",
    "\n",
    "\n",
    "```python\n",
    "f(cantidad=1,articulo='Docena Huevos',precio=1800)\n",
    "> 1 Docena Huevos cuesta $1800.00\n",
    "```\n",
    "Hacer referencia a una palabra clave que no coincide con ninguno de los parámetros declarados genera una excepción:\n",
    "\n",
    "```python\n",
    "f(cantidad=1,articulo='Docena Huevos',valor=1800)\n",
    "\n",
    "TypeError: f() got an unexpected keyword argument 'valor'\n",
    "```\n",
    "El uso de argumentos con `keyword` elimina la restricción en el orden de los argumentos. Cada argumento `keyword` designa explícitamente un parámetro específico por nombre, por lo que puede especificarlos en cualquier orden y Python aún sabrá qué argumento va con qué parámetro y sin embargo, al igual que con los argumentos posicionales, el número de argumentos y parámetros debe coincidir:\n",
    "\n"
   ]
  },
  {
   "cell_type": "markdown",
   "metadata": {
    "id": "rlgzf2xUJ7rD"
   },
   "source": [
    "### **Argumentos Opcionales**\n",
    "Si un parámetro especificado en una definición de función de Python tiene la forma `<nombre> = <valor>`, entonces `<valor>` se convierte en un valor predeterminado para ese parámetro. Los parámetros definidos de esta manera se denominan parámetros predeterminados u opcionales. A continuación se muestra un ejemplo de una definición de función con parámetros opcionales:\n",
    "\n",
    "\n",
    "```python\n",
    "def f(cantidad=1, articulo='docena', precio=1800):\n",
    "    print(f'{cantidad} {articulo} cuesta ${precio:.2f}')\n",
    "```\n",
    "Cuando se llama a esta versión de `f()`, cualquier argumento que quede fuera asume su valor predeterminado:\n",
    "\n",
    "\n",
    "```python\n",
    "f()\n",
    "> 1 docena cuesta $1800.00     \n",
    "f(1, 'Empanada', 500)\n",
    "> 1 Empanada cuesta $500.00\n",
    "f('Empanada', 500)\n",
    "> Empanada 500 cuesta $1800.00\n",
    "f(1, 'Empanada')\n",
    "> 1 Empanada cuesta $1800.00\n",
    "f(1)\n",
    "> 1 docena cuesta $1800.00\n",
    "f(articulo='buñuelo')\n",
    "> 1 buñuelo cuesta $1800.00\n",
    "```\n",
    "\n"
   ]
  },
  {
   "cell_type": "code",
   "execution_count": null,
   "metadata": {
    "id": "ZsApg2ciUGZo"
   },
   "outputs": [],
   "source": [
    "def f(cantidad=1, articulo='docena', precio=1800):\n",
    "    print(f'{cantidad} {articulo} cuesta ${precio:.2f}')"
   ]
  },
  {
   "cell_type": "code",
   "execution_count": null,
   "metadata": {
    "colab": {
     "base_uri": "https://localhost:8080/"
    },
    "executionInfo": {
     "elapsed": 4,
     "status": "ok",
     "timestamp": 1693330159213,
     "user": {
      "displayName": "JUAN CAMILO HENAO CARO",
      "userId": "11825490046934558373"
     },
     "user_tz": 300
    },
    "id": "Jq0Dy3brUIQK",
    "outputId": "b921f857-561c-4c12-fdb0-c2f0a5d3f514"
   },
   "outputs": [
    {
     "name": "stdout",
     "output_type": "stream",
     "text": [
      "1 docena cuesta $1800.00\n"
     ]
    }
   ],
   "source": [
    "f()"
   ]
  },
  {
   "cell_type": "code",
   "execution_count": null,
   "metadata": {
    "colab": {
     "base_uri": "https://localhost:8080/"
    },
    "executionInfo": {
     "elapsed": 355,
     "status": "ok",
     "timestamp": 1693330180847,
     "user": {
      "displayName": "JUAN CAMILO HENAO CARO",
      "userId": "11825490046934558373"
     },
     "user_tz": 300
    },
    "id": "rCo8o77pmLhP",
    "outputId": "cbb64da4-eea0-4bd7-a388-31d6befcaf47"
   },
   "outputs": [
    {
     "name": "stdout",
     "output_type": "stream",
     "text": [
      "1 Empanada cuesta $500.00\n"
     ]
    }
   ],
   "source": [
    "f(1, 'Empanada', 500)"
   ]
  },
  {
   "cell_type": "code",
   "execution_count": null,
   "metadata": {
    "colab": {
     "base_uri": "https://localhost:8080/"
    },
    "executionInfo": {
     "elapsed": 331,
     "status": "ok",
     "timestamp": 1693330189152,
     "user": {
      "displayName": "JUAN CAMILO HENAO CARO",
      "userId": "11825490046934558373"
     },
     "user_tz": 300
    },
    "id": "J32apmO0mRsE",
    "outputId": "40615e38-bd61-4851-cd54-61d273b9a046"
   },
   "outputs": [
    {
     "name": "stdout",
     "output_type": "stream",
     "text": [
      "10 Empanada cuesta $5000.00\n"
     ]
    }
   ],
   "source": [
    "f(10, 'Empanada', 5000) #Keywords"
   ]
  },
  {
   "cell_type": "code",
   "execution_count": null,
   "metadata": {
    "colab": {
     "base_uri": "https://localhost:8080/"
    },
    "executionInfo": {
     "elapsed": 448,
     "status": "ok",
     "timestamp": 1693330194814,
     "user": {
      "displayName": "JUAN CAMILO HENAO CARO",
      "userId": "11825490046934558373"
     },
     "user_tz": 300
    },
    "id": "DtVigsQenCde",
    "outputId": "ecf05470-1dd0-4dfe-a6f7-85cf039b4524"
   },
   "outputs": [
    {
     "name": "stdout",
     "output_type": "stream",
     "text": [
      "1 Empanada cuesta $1800.00\n",
      "20 docena cuesta $1800.00\n",
      "1 buñuelo cuesta $1800.00\n"
     ]
    }
   ],
   "source": [
    "\n",
    "f(1, 'Empanada')\n",
    "f(20)\n",
    "f(articulo='buñuelo')"
   ]
  },
  {
   "cell_type": "markdown",
   "metadata": {
    "id": "n3UojsNtUP0N"
   },
   "source": [
    "En resumen:\n",
    "*   Los argumentos posicionales deben coincidir en orden y número con los parámetros declarados en la definición de la función.\n",
    "*   Los parámetros predeterminados permiten omitir algunos argumentos cuando se llama a la función, pero su orden afecta su omisión.\n",
    "\n"
   ]
  },
  {
   "cell_type": "markdown",
   "metadata": {
    "id": "sBNvqypX8XbY"
   },
   "source": [
    "## **La instruccion `return`**\n",
    "\n",
    "¿Cuál es la finalidad que debe tener una función?, ¿qué debe hacer una función de Python? Hasta el momento las funciones de Python son repositorios que describen una acción, reciben parámetros pero pueden hacer mucho más.\n",
    "Después de todo, en muchos casos, si una función no causa algún cambio en el entorno de llamada, entonces no tiene mucho sentido llamarla. ¿Cómo debería afectar una función su solicitud o petición?\n",
    "\n",
    "Python utiliza la posibilidad de usar valores de retorno en funciones. Una declaración de retorno en una función de Python tiene dos propósitos:\n",
    "\n",
    "1. Inmediatamente termina la función y devuelve el control de ejecución a la llamada.\n",
    "2. Proporciona un mecanismo mediante el cual la función puede devolver datos a la persona o instrucción que llama la función.\n"
   ]
  },
  {
   "cell_type": "markdown",
   "metadata": {
    "id": "eb-oT23cUzEw"
   },
   "source": [
    "### **Saliendo de una Función**\n",
    "En una función, una declaración de retorno (`return`) provoca la salida inmediata de la función de Python y la transferencia de la ejecución a la línea de la llamada a la función.\n",
    "\n",
    "\n",
    "```python\n",
    "def f():\n",
    "    print('Arroz')\n",
    "    print('Yuca')\n",
    "    return\n",
    "\n",
    "f()\n",
    ">Arroz\n",
    ">Yuca\n",
    "```\n",
    "En este ejemplo, la declaración de retorno es realmente superflua. Una función volverá a la llamada cuando caiga al final, es decir, después de que se ejecute la última instrucción del cuerpo de la función. Entonces, esta función se comportaría de manera idéntica sin la declaración de retorno.\n",
    "\n",
    "Sin embargo, no es necesario que las declaraciones de devolución estén al final de una función. Pueden aparecer en cualquier parte de un cuerpo  e incluso varias veces. Considere este ejemplo:\n",
    "\n",
    "\n",
    "\n",
    "```python\n",
    "def f(x):\n",
    "    if x < 0:\n",
    "        return\n",
    "    if x > 100:\n",
    "        return\n",
    "    print(x)\n",
    "f(-3)\n",
    "f(105)\n",
    "f(64)\n",
    ">64\n",
    "```\n",
    "Las dos primeras llamadas a `f()` no generan ningún resultado, porque se ejecuta una instrucción de retorno y la función sale prematuramente, antes de que se alcance la instrucción `print()` en la línea 6.\n",
    "\n",
    "Este tipo de paradigma puede ser útil para verificar errores en una función. Puede verificar varias condiciones de error al comienzo de la función, con declaraciones de retorno que salen de la función si hay un problema como en el siguiente caso:\n",
    "\n",
    "\n",
    "```python\n",
    "def f():\n",
    "    if error_cond1:\n",
    "        return\n",
    "    if error_cond2:\n",
    "        return\n",
    "    if error_cond3:\n",
    "        return\n",
    "\n",
    "    <proceso normal de la funcion>\n",
    "```\n",
    "\n",
    "Si no se encuentra ninguna de las condiciones de error, la función puede continuar con su procesamiento normal."
   ]
  },
  {
   "cell_type": "code",
   "execution_count": null,
   "metadata": {
    "colab": {
     "base_uri": "https://localhost:8080/"
    },
    "executionInfo": {
     "elapsed": 365,
     "status": "ok",
     "timestamp": 1693330503799,
     "user": {
      "displayName": "JUAN CAMILO HENAO CARO",
      "userId": "11825490046934558373"
     },
     "user_tz": 300
    },
    "id": "EUrzf1PyYH4v",
    "outputId": "df9980ba-2a1b-410a-8a20-e3bd4f8b5012"
   },
   "outputs": [
    {
     "name": "stdout",
     "output_type": "stream",
     "text": [
      "None\n",
      "None\n",
      "64\n"
     ]
    }
   ],
   "source": [
    "def f(x):\n",
    "    if x < 0:\n",
    "        return\n",
    "    if x > 100:\n",
    "        return\n",
    "    print(x)\n",
    "print(f(-3))\n",
    "print(f(105))\n",
    "f(64)"
   ]
  },
  {
   "cell_type": "markdown",
   "metadata": {
    "id": "lmpyzb90Y0ZO"
   },
   "source": [
    "### **Retornar datos**\n",
    "Además de salir de una función, la declaración `return` también se usa para devolver datos al llamado de la función. Si una declaración de retorno dentro de una función de Python va seguida de una expresión, en el entorno de llamada, la llamada a la función se evalúa como el valor de esa expresión:\n",
    "\n",
    "\n",
    "```python\n",
    "def f():\n",
    "    return 'Tamal'\n",
    "s = f()\n",
    "print(s)\n",
    "'Tamal'\n",
    "```\n",
    "Aquí, el valor de la expresión `f()` en la línea 3 es 'Tamal', que se asigna a la variable `s`.\n",
    "\n",
    "Una función puede devolver cualquier tipo de objeto. En Python, eso significa prácticamente cualquier cosa. En el entorno de llamada, la ejecución de la función se puede utilizar sintácticamente de cualquier forma que tenga sentido para el tipo de objeto que devuelve la función.\n",
    "\n",
    "Por ejemplo, en este código, `f()` devuelve un diccionario. Entonces, en el entorno de llamada, la expresión `f()` representa un diccionario, y `f()['c']` es una referencia clave válida en ese diccionario:\n",
    "\n",
    "\n",
    "```python\n",
    "def f():\n",
    "    return dict(a=1, b=2, c=3)\n",
    "f()\n",
    "{'a': 1, 'b': 2, 'c': 3}\n",
    "f()['c']\n",
    "```\n",
    "En el siguiente ejemplo, `f()` devuelve una cadena que se puede dividir como cualquier otra cadena:\n",
    "\n",
    "```python\n",
    "def f():\n",
    "    return 'empanadas'\n",
    "f()[4:8]\n",
    "```\n",
    "Aquí, `f()` devuelve una lista que se puede indexar o dividir:\n",
    "\n",
    "```python\n",
    "def f():\n",
    "    return ['Arroz', 'Papa', 'Yuca', 'Platano']\n",
    "\n",
    "print(f())\n",
    "> ['Arroz', 'Papa', 'Yuca', 'Platano']\n",
    "print(f()[2])\n",
    "> Yuca\n",
    "print(f()[::-1])\n",
    "> ['Platano', 'Yuca', 'Papa', 'Arroz']\n",
    "```\n",
    "\n",
    "Si se especifican varias expresiones separadas por comas en una declaración `return`, se empaquetan y se devuelven como una tupla:\n",
    "\n",
    "```python\n",
    "def f():\n",
    "    return 'Arroz', 'Papa', 'Yuca', 'Platano'\n",
    "\n",
    "print(type(f()))\n",
    "t = f()\n",
    "> <class 'tuple'>\n",
    "print(t)\n",
    "> ('Arroz', 'Papa', 'Yuca', 'Platano')\n",
    "a, b, c, d = f()\n",
    "print(f'a = {a}, b = {b}, c = {c}, d = {d}')\n",
    "> a = Arroz, b = Papa, c = Yuca, d = Platano\n",
    "```\n",
    "\n",
    "Cuando no se proporciona ningún valor de retorno en una función de Python, esta devuelve el valor especial de Python `None`, adicionalmente pasa lo mismo si el cuerpo de la función no contiene una declaración de retorno y la función llega al final.\n",
    "\n",
    "```python\n",
    "def f():\n",
    "    return\n",
    "print(f())\n",
    "None\n",
    "```\n",
    "```python\n",
    "def f():\n",
    "    pass\n",
    "print(f())\n",
    "None\n",
    "```\n",
    "Nota: `None` es falso evaluado en un contexto booleano."
   ]
  },
  {
   "cell_type": "code",
   "execution_count": null,
   "metadata": {
    "colab": {
     "base_uri": "https://localhost:8080/"
    },
    "executionInfo": {
     "elapsed": 352,
     "status": "ok",
     "timestamp": 1693330705506,
     "user": {
      "displayName": "JUAN CAMILO HENAO CARO",
      "userId": "11825490046934558373"
     },
     "user_tz": 300
    },
    "id": "9SvdiD0fZTIt",
    "outputId": "e85adf8b-b3d7-4eed-9f15-271d9bfb50ee"
   },
   "outputs": [
    {
     "name": "stdout",
     "output_type": "stream",
     "text": [
      "\n"
     ]
    }
   ],
   "source": [
    "def f():\n",
    "    return 'Tamal'\n",
    "s = f()[-1:-3]\n",
    "print(s)"
   ]
  },
  {
   "cell_type": "code",
   "execution_count": null,
   "metadata": {
    "colab": {
     "base_uri": "https://localhost:8080/"
    },
    "executionInfo": {
     "elapsed": 367,
     "status": "ok",
     "timestamp": 1693330793931,
     "user": {
      "displayName": "JUAN CAMILO HENAO CARO",
      "userId": "11825490046934558373"
     },
     "user_tz": 300
    },
    "id": "RfblcMspaPGE",
    "outputId": "869151ed-6cf4-462e-90da-52476ba6cd9c"
   },
   "outputs": [
    {
     "data": {
      "text/plain": [
       "3"
      ]
     },
     "execution_count": 24,
     "metadata": {},
     "output_type": "execute_result"
    }
   ],
   "source": [
    "def f():\n",
    "    return dict(a=1, b=2, c=3)\n",
    "f()\n",
    "#{'a': 1, 'b': 2, 'c': 3}\n",
    "f()['c']"
   ]
  },
  {
   "cell_type": "code",
   "execution_count": null,
   "metadata": {
    "id": "SSjMsVkzaq0j"
   },
   "outputs": [],
   "source": [
    "def f():\n",
    "    return 'empanadas'\n",
    "f()[4:8]"
   ]
  },
  {
   "cell_type": "code",
   "execution_count": null,
   "metadata": {
    "colab": {
     "base_uri": "https://localhost:8080/"
    },
    "executionInfo": {
     "elapsed": 360,
     "status": "ok",
     "timestamp": 1693330744982,
     "user": {
      "displayName": "JUAN CAMILO HENAO CARO",
      "userId": "11825490046934558373"
     },
     "user_tz": 300
    },
    "id": "4kc28Mm0dyEx",
    "outputId": "13e314d9-fd99-4014-dc42-63d671a0f353"
   },
   "outputs": [
    {
     "name": "stdout",
     "output_type": "stream",
     "text": [
      "['Arroz', 'Papa', 'Yuca', 'Platano']\n",
      "Yuca\n",
      "['Platano', 'Yuca', 'Papa', 'Arroz']\n"
     ]
    }
   ],
   "source": [
    "def f():\n",
    "    return ['Arroz', 'Papa', 'Yuca', 'Platano']\n",
    "\n",
    "print(f())\n",
    "print(f()[2])\n",
    "print(f()[::-1])"
   ]
  },
  {
   "cell_type": "code",
   "execution_count": null,
   "metadata": {
    "id": "4XUbDgA9d0gi"
   },
   "outputs": [],
   "source": [
    "def f():\n",
    "    return 'Arroz', 'Papa', 'Yuca', 'Platano'\n",
    "\n",
    "print(type(f()))\n",
    "t = f()\n",
    "print(t)\n",
    "a, b, c, d = f()\n",
    "print(f'a = {a}, b = {b}, c = {c}, d = {d}')"
   ]
  },
  {
   "cell_type": "code",
   "execution_count": null,
   "metadata": {
    "colab": {
     "base_uri": "https://localhost:8080/"
    },
    "executionInfo": {
     "elapsed": 5,
     "status": "ok",
     "timestamp": 1693330814675,
     "user": {
      "displayName": "JUAN CAMILO HENAO CARO",
      "userId": "11825490046934558373"
     },
     "user_tz": 300
    },
    "id": "Ss2_saxtd35T",
    "outputId": "df3cf43d-0db3-4344-dc69-adb1aeeb8ccd"
   },
   "outputs": [
    {
     "name": "stdout",
     "output_type": "stream",
     "text": [
      "None\n"
     ]
    }
   ],
   "source": [
    "def f():\n",
    "    return\n",
    "print(f())\n",
    "None"
   ]
  },
  {
   "cell_type": "code",
   "execution_count": null,
   "metadata": {
    "id": "2CZxb7-Nd5Vc"
   },
   "outputs": [],
   "source": [
    "def f():\n",
    "    pass #Stub --> None\n",
    "print(f())\n",
    "None"
   ]
  },
  {
   "cell_type": "markdown",
   "metadata": {
    "id": "9o_79djY8ZgC"
   },
   "source": [
    "## **Ejercicios**\n"
   ]
  },
  {
   "cell_type": "markdown",
   "metadata": {
    "id": "I9b7K2YVLgLW"
   },
   "source": [
    "### Ejercicio 1\n",
    "\n",
    "Realizar una función que permita ingresar la calificación de un estudiante, si la nota es mayor o igual a 3 imprimir aprobado."
   ]
  },
  {
   "cell_type": "code",
   "execution_count": null,
   "metadata": {
    "colab": {
     "base_uri": "https://localhost:8080/",
     "height": 35
    },
    "executionInfo": {
     "elapsed": 509,
     "status": "ok",
     "timestamp": 1693506305964,
     "user": {
      "displayName": "JUAN CAMILO HENAO CARO",
      "userId": "11825490046934558373"
     },
     "user_tz": 300
    },
    "id": "y87sdmfTYHaU",
    "outputId": "4f89171c-cc3e-40b9-da51-f6063351e36b"
   },
   "outputs": [
    {
     "data": {
      "application/vnd.google.colaboratory.intrinsic+json": {
       "type": "string"
      },
      "text/plain": [
       "'Paila'"
      ]
     },
     "execution_count": 5,
     "metadata": {},
     "output_type": "execute_result"
    }
   ],
   "source": [
    "#Ejecutar la solución aquí\n",
    "def ganar(nota):\n",
    "    if nota >= 3:\n",
    "        return \"Corono\"\n",
    "    if nota < 3:\n",
    "        return \"Paila\"\n",
    "    else:\n",
    "        return \"Error\"\n",
    "\n",
    "ganar(2)"
   ]
  },
  {
   "cell_type": "markdown",
   "metadata": {
    "id": "VgKV0quqbhNZ"
   },
   "source": [
    "### Ejercicio 2\n",
    "\n",
    "Realizar una función que permita detallar si una nota se encuentra bien categorizada, es decir, que la nota sea superior o igual a cero y menor o igual a cinco y retornar `True` si es correcto y `False` si no es correcto."
   ]
  },
  {
   "cell_type": "code",
   "execution_count": null,
   "metadata": {
    "colab": {
     "base_uri": "https://localhost:8080/"
    },
    "executionInfo": {
     "elapsed": 18,
     "status": "ok",
     "timestamp": 1693506285968,
     "user": {
      "displayName": "JUAN CAMILO HENAO CARO",
      "userId": "11825490046934558373"
     },
     "user_tz": 300
    },
    "id": "ctbWZIGop1dq",
    "outputId": "08a4c686-f708-4f20-d063-48e723164b72"
   },
   "outputs": [
    {
     "data": {
      "text/plain": [
       "False"
      ]
     },
     "execution_count": 1,
     "metadata": {},
     "output_type": "execute_result"
    }
   ],
   "source": [
    "#Ejecutar la solución aquí\n",
    "def validadornota(nota):\n",
    "    if nota >= 0:\n",
    "        if nota <= 5:\n",
    "            return True\n",
    "        else:\n",
    "            return False\n",
    "    else:\n",
    "        return False\n",
    "validadornota(-15)"
   ]
  },
  {
   "cell_type": "code",
   "execution_count": null,
   "metadata": {
    "id": "1qNxcSU7Z0Ss"
   },
   "outputs": [],
   "source": [
    "def validadornotaengallado(nota):\n",
    "    if nota >= 0 and nota <= 5:\n",
    "        return True\n",
    "    else:\n",
    "        return False"
   ]
  },
  {
   "cell_type": "markdown",
   "metadata": {
    "id": "hcQEG-aXp1xx"
   },
   "source": [
    "### Ejercicio 3\n",
    "\n",
    "Realizar un algoritmo que permita utilizar las dos funciones previas para clasificar una nota y su validez."
   ]
  },
  {
   "cell_type": "code",
   "execution_count": null,
   "metadata": {
    "colab": {
     "base_uri": "https://localhost:8080/"
    },
    "executionInfo": {
     "elapsed": 390,
     "status": "ok",
     "timestamp": 1693506314881,
     "user": {
      "displayName": "JUAN CAMILO HENAO CARO",
      "userId": "11825490046934558373"
     },
     "user_tz": 300
    },
    "id": "q6wv1v65tLcL",
    "outputId": "efa4e617-f7b8-4513-a3ad-37ad46709448"
   },
   "outputs": [
    {
     "name": "stdout",
     "output_type": "stream",
     "text": [
      "Corono\n"
     ]
    }
   ],
   "source": [
    "#Ejecutar la solución aquí\n",
    "def resultadofinalsimulacion(nota):\n",
    "    if validadornotaengallado(nota):\n",
    "        print(ganar(nota))\n",
    "    else:\n",
    "        print(\"Error en los valores de la nota, por favor revisar 😂\")\n",
    "\n",
    "resultadofinalsimulacion(3)"
   ]
  },
  {
   "cell_type": "code",
   "execution_count": null,
   "metadata": {
    "colab": {
     "base_uri": "https://localhost:8080/",
     "height": 35
    },
    "executionInfo": {
     "elapsed": 476,
     "status": "ok",
     "timestamp": 1693506332241,
     "user": {
      "displayName": "JUAN CAMILO HENAO CARO",
      "userId": "11825490046934558373"
     },
     "user_tz": 300
    },
    "id": "Z3aTOnuXdZjl",
    "outputId": "b4bd3d79-a144-4e83-c395-02f135625d24"
   },
   "outputs": [
    {
     "data": {
      "application/vnd.google.colaboratory.intrinsic+json": {
       "type": "string"
      },
      "text/plain": [
       "'Corono'"
      ]
     },
     "execution_count": 7,
     "metadata": {},
     "output_type": "execute_result"
    }
   ],
   "source": [
    "def ResultadoFinalSimulacion(nota):\n",
    "    if validadornotaengallado(nota):\n",
    "        q = ganar(nota)\n",
    "    else:\n",
    "        q = 'Error'\n",
    "    return q\n",
    "ResultadoFinalSimulacion(3)\n"
   ]
  },
  {
   "cell_type": "code",
   "execution_count": null,
   "metadata": {
    "colab": {
     "base_uri": "https://localhost:8080/"
    },
    "executionInfo": {
     "elapsed": 415,
     "status": "ok",
     "timestamp": 1693506338051,
     "user": {
      "displayName": "JUAN CAMILO HENAO CARO",
      "userId": "11825490046934558373"
     },
     "user_tz": 300
    },
    "id": "sRsMKlWAczFn",
    "outputId": "a24742b5-18a0-48ab-e7a1-b16d64954d8e"
   },
   "outputs": [
    {
     "name": "stdout",
     "output_type": "stream",
     "text": [
      "[['Corono', 'Error', 'Paila', 'Error', 'Error', 'Paila', 'Paila', 'Error', 'Error', 'Corono', 'Error', 'Error', 'Error', 'Error', 'Error', 'Paila', 'Error', 'Error', 'Error', 'Error', 'Error', 'Error', 'Paila', 'Error', 'Error', 'Error', 'Paila', 'Error', 'Error', 'Error', 'Error', 'Error', 'Error', 'Corono', 'Error', 'Error', 'Error', 'Error', 'Error', 'Error', 'Error', 'Error', 'Corono', 'Error', 'Error', 'Corono', 'Paila', 'Corono', 'Paila', 'Error', 'Error', 'Error', 'Paila', 'Error', 'Corono', 'Error', 'Paila', 'Error', 'Error', 'Paila', 'Error', 'Paila', 'Corono', 'Error', 'Error', 'Error', 'Error', 'Error', 'Error', 'Error', 'Error', 'Paila', 'Error', 'Error', 'Error', 'Error', 'Paila', 'Error', 'Error', 'Error', 'Error', 'Corono', 'Error', 'Corono', 'Error', 'Error', 'Error', 'Error', 'Paila', 'Error', 'Error', 'Error', 'Error', 'Error', 'Error', 'Paila', 'Error', 'Error', 'Error', 'Corono']]\n"
     ]
    }
   ],
   "source": [
    "import random as rnd\n",
    "listaresultados = []\n",
    "experimento = []\n",
    "for i in range(100):\n",
    "    q= rnd.uniform(-5,10)\n",
    "    listaresultados.append(ResultadoFinalSimulacion(q))\n",
    "experimento.append(listaresultados)\n",
    "\n",
    "print(experimento)"
   ]
  },
  {
   "cell_type": "code",
   "execution_count": null,
   "metadata": {
    "colab": {
     "base_uri": "https://localhost:8080/",
     "height": 430
    },
    "executionInfo": {
     "elapsed": 380,
     "status": "ok",
     "timestamp": 1693333673001,
     "user": {
      "displayName": "JUAN CAMILO HENAO CARO",
      "userId": "11825490046934558373"
     },
     "user_tz": 300
    },
    "id": "wCF97n2fhV-m",
    "outputId": "fd377139-14fd-4177-816a-e63e45702d0d"
   },
   "outputs": [
    {
     "data": {
      "image/png": "[encoded data removed]",
      "text/plain": [
       "<Figure size 640x480 with 1 Axes>"
      ]
     },
     "metadata": {},
     "output_type": "display_data"
    }
   ],
   "source": [
    "import matplotlib.pyplot as plt\n",
    "plt.hist(experimento)\n",
    "plt.show()"
   ]
  },
  {
   "cell_type": "code",
   "execution_count": null,
   "metadata": {
    "colab": {
     "base_uri": "https://localhost:8080/"
    },
    "executionInfo": {
     "elapsed": 353,
     "status": "ok",
     "timestamp": 1693506755227,
     "user": {
      "displayName": "JUAN CAMILO HENAO CARO",
      "userId": "11825490046934558373"
     },
     "user_tz": 300
    },
    "id": "pWC6K6wxS5mF",
    "outputId": "c8ad73ec-02ca-4667-88d1-109099dcb5de"
   },
   "outputs": [
    {
     "name": "stdout",
     "output_type": "stream",
     "text": [
      "['Error', 'Paila', 'Paila', 'Paila', 'Error', 'Error', 'Error', 'Error', 'Corono', 'Error']\n",
      "['Paila', 'Error', 'Error', 'Error', 'Paila', 'Paila', 'Error', 'Error', 'Paila', 'Error', 'Paila', 'Error', 'Corono', 'Error', 'Error', 'Error', 'Error', 'Error', 'Error', 'Corono', 'Paila', 'Error', 'Error', 'Error', 'Error', 'Error', 'Error', 'Error', 'Error', 'Error', 'Error', 'Error', 'Error', 'Paila', 'Error', 'Error', 'Error', 'Error', 'Error', 'Error', 'Error', 'Error', 'Paila', 'Error', 'Error', 'Error', 'Error', 'Error', 'Corono', 'Error', 'Error', 'Error', 'Paila', 'Error', 'Paila', 'Error', 'Error', 'Error', 'Error', 'Error', 'Error', 'Corono', 'Corono', 'Error', 'Error', 'Corono', 'Error', 'Paila', 'Error', 'Error', 'Error', 'Error', 'Error', 'Error', 'Error', 'Error', 'Error', 'Error', 'Error', 'Error', 'Error', 'Error', 'Error', 'Corono', 'Paila', 'Corono', 'Error', 'Paila', 'Error', 'Paila', 'Paila', 'Error', 'Error', 'Error', 'Error', 'Error', 'Error', 'Error', 'Paila', 'Error']\n"
     ]
    }
   ],
   "source": [
    "#homework\n",
    "\n",
    "import random as rnd\n",
    "\n",
    "\n",
    "experimento = []\n",
    "\n",
    "lista_numero_pruebas = [10, 100,1000,10000]\n",
    "for x in lista_numero_pruebas:\n",
    "    listaresultados = []\n",
    "    for y in range(x):\n",
    "        q = rnd.uniform(-5,10)\n",
    "        listaresultados.append(ResultadoFinalSimulacion(q))\n",
    "    experimento.append(listaresultados)\n",
    "\n",
    "print(experimento[0])\n",
    "print(experimento[1])\n"
   ]
  },
  {
   "cell_type": "code",
   "execution_count": null,
   "metadata": {
    "colab": {
     "base_uri": "https://localhost:8080/",
     "height": 433
    },
    "executionInfo": {
     "elapsed": 524,
     "status": "ok",
     "timestamp": 1693506776099,
     "user": {
      "displayName": "JUAN CAMILO HENAO CARO",
      "userId": "11825490046934558373"
     },
     "user_tz": 300
    },
    "id": "kxw1fD37Xw6j",
    "outputId": "7e7214e7-3560-4cb4-970e-6487724a8421"
   },
   "outputs": [
    {
     "data": {
      "image/png": "[encoded data removed]",
      "text/plain": [
       "<Figure size 640x480 with 1 Axes>"
      ]
     },
     "metadata": {},
     "output_type": "display_data"
    }
   ],
   "source": [
    "import matplotlib.pyplot as plt\n",
    "plt.hist(experimento)\n",
    "plt.show()"
   ]
  },
  {
   "cell_type": "markdown",
   "metadata": {
    "id": "JJlUTGz6YesT"
   },
   "source": [
    "<p><a name=\"s14\"></a></p>\n",
    "\n",
    "# **14. Clases y Objetos**\n",
    "[[Contenidos]](#contents)\n",
    "\n",
    "\n",
    "Python es un lenguaje de programación orientado a objetos. Casi todo en Python es un objeto, con sus propiedades y métodos. Una clase es como un constructor de objetos o un \"molde\" para crear objetos. Para crear una clase, use la palabra clave `class`.\n",
    "\n",
    "\n",
    "```python\n",
    "class LaClase:\n",
    "    x = 123\n",
    "```\n",
    "Crear un objeto corresponde a un dato(objeto) relacionado a una clase.\n",
    "A continuación crearemos un objeto llamado `dato` e imprime el valor de x:\n",
    "```python\n",
    "dato = LaClase()\n",
    "print(dato.x)\n",
    "```\n",
    "\n"
   ]
  },
  {
   "cell_type": "markdown",
   "metadata": {
    "id": "e3vB3c1lcU5c"
   },
   "source": [
    "## **La función `__init__()`**\n",
    "\n",
    "Los ejemplos anteriores son clases y objetos en su forma más simple y no son realmente útiles en aplicaciones de la vida real.\n",
    "\n",
    "Para comprender el significado de las clases, debemos comprender la función incorporada `__init __()`. Todas las clases tienen una función llamada `__init __()`, que siempre se ejecuta cuando se inicia la clase.\n",
    "Se debe utilizar la función `__init __()` para asignar valores a las propiedades del objeto u otras operaciones que sean necesarias cuando se crea el objeto.\n",
    "\n",
    "Nota: La función `__init __()` se llama automáticamente cada vez que se usa la clase para crear un nuevo objeto. `__init __()` es un método reservado en las clases, es conocido como el método constructor en los conceptos de programación orientada a objetos (POO).\n",
    "\n",
    "\n",
    "\n",
    "```python\n",
    "class Persona:\n",
    "  def __init__(self, nombre, edad):\n",
    "    self.nombre = nombre\n",
    "    self.edad = edad\n",
    "\n",
    "p1 = Persona(\"Bruce Wayne\", 30)\n",
    "\n",
    "print(p1.nombre)\n",
    "print(p1.edad)\n",
    "```\n",
    "\n"
   ]
  },
  {
   "cell_type": "code",
   "execution_count": null,
   "metadata": {
    "id": "y4xvfTAAczpb"
   },
   "outputs": [],
   "source": [
    "class Persona:\n",
    "  def __init__(self, nombre, edad):\n",
    "    self.nombre = nombre\n",
    "    self.edad = edad\n",
    "\n",
    "p1 = Persona(\"Bruce Wayne\", 30)\n",
    "\n",
    "print(p1.nombre)\n",
    "print(p1.edad)"
   ]
  },
  {
   "cell_type": "markdown",
   "metadata": {
    "id": "CxYffKC3ez6y"
   },
   "source": [
    "## **Métodos de objetos**\n",
    "\n",
    "Los objetos también pueden contener métodos. Los métodos en los objetos son funciones que pertenecen al objeto. Creemos un método en la clase Persona:\n",
    "\n",
    "\n",
    "```python\n",
    "class Persona:\n",
    "  def __init__(self, nombre, edad):\n",
    "    self.nombre = nombre\n",
    "    self.edad = edad\n",
    "\n",
    "  def UnaFuncion(self):\n",
    "    print(\"Hola, mi nombre es \" + self.nombre)\n",
    "\n",
    "p1 = Persona(\"Clark Kent\", 25)\n",
    "p1.UnaFuncion()\n",
    "```\n",
    "\n",
    "Nota: El parámetro `self` es una referencia a la instancia actual de la clase y se usa para acceder a las variables que pertenecen a la clase.\n",
    "\n"
   ]
  },
  {
   "cell_type": "code",
   "execution_count": null,
   "metadata": {
    "id": "x475TSk6fX6C"
   },
   "outputs": [],
   "source": [
    "class Persona:\n",
    "  def __init__(self, nombre, edad):\n",
    "    self.nombre = nombre\n",
    "    self.edad = edad\n",
    "\n",
    "  def UnaFuncion(self):\n",
    "    print(\"Hola, mi nombre es \" + self.nombre)\n",
    "\n",
    "p1 = Persona(\"Clark Kent\", 25)\n",
    "p1.UnaFuncion()"
   ]
  },
  {
   "cell_type": "markdown",
   "metadata": {
    "id": "f_EB2u-UgIH5"
   },
   "source": [
    "## **El parámetro `self`**\n",
    "\n",
    "El parámetro `self` es una referencia a la instancia actual de la clase y se usa para acceder a las variables que pertenecen a la clase. No tiene que llamarse `self`, puede llamarlo como quiera, pero tiene que ser el primer parámetro de cualquier función en la clase y se tiene por concenso el uso de la palabra `self`.\n",
    "\n",
    "A continuación cambiaremos la palabra `self` por otro valor y el ejercicio funciona perfectamente, pero se ve feo, se recomienda usar `self`.\n",
    "\n",
    "\n",
    "```python\n",
    "class Persona:\n",
    "  def __init__(selfman, nombre, edad):\n",
    "    selfman.nombre = nombre\n",
    "    selfman.edad = edad\n",
    "\n",
    "  def OtraFuncion(manself):\n",
    "    print(\"Mi nombre es \" + manself.name)\n",
    "\n",
    "p1 = Persona(\"Diana Prince\", 30)\n",
    "p1.OtraFuncion()\n",
    "```\n",
    "\n",
    "Las definiciones de clase no pueden estar vacías, pero si por alguna razón tiene una definición de clase sin contenido, coloque la declaración `pass` para evitar errores.\n",
    "\n",
    "\n",
    "\n",
    "```python\n",
    "class Persona:\n",
    "  pass\n",
    "```\n",
    "\n",
    "\n"
   ]
  },
  {
   "cell_type": "code",
   "execution_count": null,
   "metadata": {
    "id": "BVyPgKr_gzUZ"
   },
   "outputs": [],
   "source": [
    "class Persona:\n",
    "  def __init__(selfman, nombre, edad):\n",
    "    selfman.nombre = nombre\n",
    "    selfman.edad = edad\n",
    "\n",
    "  def OtraFuncion(manself):\n",
    "    print(\"Mi nombre es \" + manself.nombre)\n",
    "\n",
    "p1 = Persona(\"Diana Prince\", 30)\n",
    "p1.OtraFuncion()"
   ]
  },
  {
   "cell_type": "markdown",
   "metadata": {
    "id": "Q78BG-MlheWC"
   },
   "source": [
    "## **Herencia de Python**\n",
    "\n",
    "La herencia nos permite definir una clase que hereda todos los métodos y propiedades de otra clase. La clase principal es la clase de la que se hereda, también llamada clase base. La clase hija es la clase que hereda de otra clase, también llamada clase derivada.\n",
    "\n",
    "### **Crear una clase padre**\n",
    "\n",
    "Cualquier clase puede ser una clase principal, por lo que la sintaxis es la misma que la de crear cualquier otra clase, a continuación crearemos un ejemplo con una clase persona, con nombre, apellido y una método que imprima dichos datos.\n",
    "\n",
    "\n",
    "\n",
    "```python\n",
    "class Persona:\n",
    "  def __init__(self, nombre, apellido):\n",
    "    self.nombre = nombre\n",
    "    self.apellido = apellido\n",
    "\n",
    "  def ImprimirNombre(self):\n",
    "    print(self.nombre, self.apellido)\n",
    "\n",
    "x = Persona(\"Hal\", \"Jordan\")\n",
    "x.ImprimirNombre()\n",
    "```\n",
    "### **Crear una clase hija**\n",
    "\n",
    "Para crear una clase que herede la funcionalidad de otra clase, se debe pasar como parámetro la clase principal al crear la clase secundaria o hija. A continuación crearemos la clase llamada Estudiante la cual heredará las propiedades y métodos de la clase Persona.\n",
    "\n",
    "```python\n",
    "class Estudiante(Persona):\n",
    "    pass\n",
    "```\n",
    "\n",
    "Ahora la clase Estudiante tiene las mismas propiedades y métodos de la clase Persona.\n",
    "```python\n",
    "x = Estudiante(\"Barry\", \"Allen\")\n",
    "x.ImprimirNombre()\n",
    "```\n",
    "\n"
   ]
  },
  {
   "cell_type": "markdown",
   "metadata": {
    "id": "jK6D4UhCuj1e"
   },
   "source": [
    "## **Ejemplos de Clases**\n",
    "\n",
    "A continuación veremos ejemplos de código relacionado con clases."
   ]
  },
  {
   "cell_type": "code",
   "execution_count": null,
   "metadata": {
    "id": "55885QITGQSK"
   },
   "outputs": [],
   "source": [
    "#Crear una clase empleado y dos instancias.\n",
    "class Empleado:\n",
    "    pass\n",
    "empleado1 = Empleado()\n",
    "empleado2 = Empleado()\n",
    "\n",
    "print(empleado1)\n",
    "print(empleado2)\n"
   ]
  },
  {
   "cell_type": "code",
   "execution_count": null,
   "metadata": {
    "id": "4S9MOfhNJ-TW"
   },
   "outputs": [],
   "source": [
    "#Crear una clase empleado, dos instancias y crear dos atributos.\n",
    "%%time\n",
    "class Empleado:\n",
    "    pass\n",
    "#No es necesario tener datos en la clase o propiedades para recibir atributos\n",
    "\n",
    "empleado1 = Empleado()\n",
    "empleado2 = Empleado()\n",
    "\n",
    "empleado1.nombre = 'Bruce'\n",
    "empleado1.apellido = 'Wayne'\n",
    "empleado1.email = 'Bruce.Wayne@WayneEnterprises.com'\n",
    "empleado1.salario = 5000000000\n",
    "\n",
    "empleado2.nombre = 'Clark'\n",
    "empleado2.apellido = 'Kent'\n",
    "empleado2.email = 'Clark.Kent@DailyPlanet.com'\n",
    "empleado2.salario = 5000\n",
    "print('-----------------------------')\n",
    "print(empleado1)\n",
    "print(empleado2)\n",
    "print('-----------------------------')\n",
    "print('Empleado: ',empleado1.nombre, empleado1.apellido)\n",
    "print('Email: ',empleado1.email)\n",
    "print('Salario: {:,}'.format(empleado1.salario))\n",
    "print('-----------------------------')\n",
    "print('Empleado: ',empleado2.nombre, empleado2.apellido)\n",
    "print('Email: ',empleado2.email)\n",
    "print('Salario: {:,}'.format(empleado2.salario))\n",
    "print('-----------------------------')"
   ]
  },
  {
   "cell_type": "code",
   "execution_count": null,
   "metadata": {
    "id": "UdUf5u3SBWF0"
   },
   "outputs": [],
   "source": [
    "%%time\n",
    "class Empleado:\n",
    "    def __init__(self, nombre, apellido, salario):\n",
    "        self.nombre = nombre\n",
    "        self.apellido = apellido\n",
    "        self.salario = salario\n",
    "        self.email = nombre + '.' + apellido + '@JusticeLeague.com'\n",
    "\n",
    "empleado1 = Empleado('Bruce', 'Wayne', 5000000000)\n",
    "empleado2 = Empleado('Clark', 'Kent', 5000)\n",
    "\n",
    "print('-----------------------------')\n",
    "print(empleado1)\n",
    "print(empleado2)\n",
    "print('-----------------------------')\n",
    "print('Empleado: ',empleado1.nombre, empleado1.apellido)\n",
    "print('Email: ',empleado1.email)\n",
    "print('Salario: {:,}'.format(empleado1.salario))\n",
    "print('-----------------------------')\n",
    "print('Empleado: ',empleado2.nombre, empleado2.apellido)\n",
    "print('Email: ',empleado2.email)\n",
    "print('Salario: {:,}'.format(empleado2.salario))\n",
    "print('-----------------------------')"
   ]
  },
  {
   "cell_type": "code",
   "execution_count": null,
   "metadata": {
    "id": "i-APys_RCTE8"
   },
   "outputs": [],
   "source": [
    "%%time\n",
    "class Empleado:\n",
    "    def __init__(self, nombre, apellido, salario):\n",
    "        self.nombre = nombre\n",
    "        self.apellido = apellido\n",
    "        self.salario = salario\n",
    "        self.email = nombre + '.' + apellido + '@JusticeLeague.com'\n",
    "\n",
    "empleado1 = Empleado('Bruce', 'Wayne', 5000000000)\n",
    "empleado2 = Empleado('Clark', 'Kent', 5000)\n",
    "\n",
    "print('Imprimir el nombre de los empleados')\n",
    "print(empleado1)\n",
    "print(empleado2)\n",
    "print('-----------------------------')\n",
    "print('{} {}'.format(empleado1.nombre, empleado1.apellido))\n",
    "print('{} {}'.format(empleado2.nombre, empleado2.apellido))\n",
    "print('-----------------------------')"
   ]
  },
  {
   "cell_type": "code",
   "execution_count": null,
   "metadata": {
    "id": "WcK6-jTBCucz"
   },
   "outputs": [],
   "source": [
    "%%time\n",
    "class Empleado:\n",
    "    def __init__(self, nombre, apellido, salario):\n",
    "        self.nombre = nombre\n",
    "        self.apellido = apellido\n",
    "        self.salario = salario\n",
    "        self.email = nombre + '.' + apellido + '@JusticeLeague.com'\n",
    "    def NombreCompleto(self): #Solo necesitamos pasar 'self' como el objeto contenedor de la clase.\n",
    "    #Si no utilizamos self nos detalla un error\n",
    "        return '{} {}'.format(self.nombre, self.apellido)\n",
    "\n",
    "empleado1 = Empleado('Bruce', 'Wayne', 5000000000)\n",
    "empleado2 = Empleado('Clark', 'Kent', 5000)\n",
    "\n",
    "print('Imprimir el nombre de los empleados')\n",
    "print(empleado1)\n",
    "print(empleado2)\n",
    "print('-----------------------------')\n",
    "print(empleado1.NombreCompleto())\n",
    "print(empleado2.NombreCompleto())\n",
    "print('-----------------------------')"
   ]
  },
  {
   "cell_type": "code",
   "execution_count": null,
   "metadata": {
    "id": "toGug2OkNi07"
   },
   "outputs": [],
   "source": [
    "%%time\n",
    "class Empleado:\n",
    "    def __init__(self, nombre, apellido, salario):\n",
    "        self.nombre = nombre\n",
    "        self.apellido = apellido\n",
    "        self.salario = salario\n",
    "        self.email = nombre + '.' + apellido + '@JusticeLeague.com'\n",
    "#----------------------------QUITAMOS SELF-------------------------\n",
    "    def NombreCompleto(self): #Solo necesitamos pasar 'self' como el objeto contenedor de la clase.\n",
    "    #Si no utilizamos self nos detalla un error\n",
    "        return '{} {}'.format(self.nombre, self.apellido)\n",
    "\n",
    "empleado1 = Empleado('Bruce', 'Wayne', 5000000000)\n",
    "empleado2 = Empleado('Clark', 'Kent', 5000)\n",
    "\n",
    "print('Imprimir el nombre de los empleados')\n",
    "print(empleado1)\n",
    "print(empleado2)\n",
    "print('-----------------------------')\n",
    "print(empleado1.NombreCompleto())\n",
    "print(empleado2.NombreCompleto())\n",
    "print('-----------------------------')"
   ]
  },
  {
   "cell_type": "markdown",
   "metadata": {
    "id": "zUjP9NnsNvSW"
   },
   "source": [
    "TypeError: NombreCompleto() takes 0 positional arguments but 1 was given\n",
    "\n",
    "Los métodos de clase y su instancia se pasa automaticamente, por eso detalla que '1 was given'."
   ]
  },
  {
   "cell_type": "code",
   "execution_count": null,
   "metadata": {
    "id": "n6qZHCGzOVg7"
   },
   "outputs": [],
   "source": [
    "%%time\n",
    "class Empleado:\n",
    "    def __init__(self, nombre, apellido, salario):\n",
    "        self.nombre = nombre\n",
    "        self.apellido = apellido\n",
    "        self.salario = salario\n",
    "        self.email = nombre + '.' + apellido + '@JusticeLeague.com'\n",
    "    def NombreCompleto(self):\n",
    "        return '{} {}'.format(self.nombre, self.apellido)\n",
    "#Llamando la clase\n",
    "empleado1 = Empleado('Bruce', 'Wayne', 5000000000)\n",
    "empleado2 = Empleado('Clark', 'Kent', 5000)\n",
    "\n",
    "print('Imprimir el nombre de los empleados')\n",
    "print(empleado1)\n",
    "print(empleado2)\n",
    "print('-----------------------------')\n",
    "print(Empleado.NombreCompleto(empleado1)) #La clase no tiene conocimiento de sus datos, debo pasar el objeto con los valores.\n",
    "print(Empleado.NombreCompleto(empleado2))\n",
    "print('-----------------------------')"
   ]
  },
  {
   "cell_type": "markdown",
   "metadata": {
    "id": "GlFhecBT9EvW"
   },
   "source": [
    "<p><a name=\"s15\"></a></p>\n",
    "\n",
    "# **15. Manejo de archivos**\n",
    "[[Contenidos]](#contents)\n",
    "\n",
    "\n",
    "El manejo de archivos es una parte importante de cualquier aplicación web. Google Colab y Python tiene varias funciones para crear, leer, actualizar y eliminar archivos."
   ]
  },
  {
   "cell_type": "markdown",
   "metadata": {
    "id": "LEKvJ3O-9EvX"
   },
   "source": [
    "##**Subir archivos desde el sistema de archivos local**\n",
    "\n",
    "El módulo `google.colab` se basa en una serie de complementos detallados para el ecosistema Google Colaboratory que permiten la interacción con muchos de los servicios de Google, tales como Google Drive o Google Spreadsheets.\n",
    "El método files del módulo Google Colab permite cargar archivos al sistema operativo virtualizado en el cual se aloja Google Colab.\n",
    "\n",
    "`files.upload` muestra un diccionario de los archivos que se cargaron.\n",
    "El diccionario está codificado según el nombre de archivo y los valores son los datos que se subieron.\n",
    "\n",
    "Para el siguiente ejercicio descargaremos el archivo detallado a continuación y procederemos a cargarlos con la función `files.upload()` con el cual se detalla una ventana de dialogo para realizar la selección del archivo y su posterior carga.\n",
    "\n",
    "El documento se carga en la carpeta content-> nombre\n",
    "*    `/content/california_housing_test_cargar.csv`\n",
    "\n",
    "Los archivos en el entorno virtualizado de Google Colab tienen el siguiente árbol de datos, nótese que los niveles y carpetas están separados por `/` y no por `\\` como se utiliza en Windows. Para todas las lecturas de archivos se debe detallar con  `/`.\n",
    "\n",
    "\n",
    "\n",
    "```\n",
    "directorio/\n",
    "|\n",
    "├── bin/\n",
    "|   └──/(archivos de sistema)\n",
    "|\n",
    "├── boot/\n",
    "|   └──/(archivos de sistema)\n",
    "|\n",
    "├── content/\n",
    "|   ├── sample_data/\n",
    "|   |   ├── README.md\n",
    "|   |   ├── anscombe.json\n",
    "|   |   ├── california_housing_test.csv\n",
    "|   |   ├── california_housing_train.csv\n",
    "|   |   ├── mnist_test.csv\n",
    "|   |   └── mnist_train_small.csv\n",
    "|   └── california_housing_test_cargar.csv\n",
    "|\n",
    "├── datalab/\n",
    "|   └──/(archivos de sistema)\n",
    "├── dev/\n",
    "|   └──/(archivos de sistema)\n",
    ".\n",
    ".\n",
    ".\n",
    "```\n",
    "\n"
   ]
  },
  {
   "cell_type": "code",
   "execution_count": null,
   "metadata": {
    "id": "vLNpCvjYXm9Q"
   },
   "outputs": [],
   "source": [
    "from google.colab import files\n",
    "uploaded = files.upload()\n",
    "for fn in uploaded.keys():\n",
    "  print('El usuario ha cargado el archivo: \"{name}\" con tamaño {length} bytes'.format(\n",
    "      name=fn, length=len(uploaded[fn])))\n"
   ]
  },
  {
   "cell_type": "code",
   "execution_count": null,
   "metadata": {
    "id": "uVK8yMsb_1Cw"
   },
   "outputs": [],
   "source": [
    "print(type(uploaded))"
   ]
  },
  {
   "cell_type": "markdown",
   "metadata": {
    "id": "bE1s1pIW1N4h"
   },
   "source": [
    "El presente código puede parecer avanzado, pero con nuestro conocimientos podemos deducir lo que pasa en el lector de archivos CSV."
   ]
  },
  {
   "cell_type": "code",
   "execution_count": null,
   "metadata": {
    "id": "l9fETCcXzC5t"
   },
   "outputs": [],
   "source": [
    "import csv\n",
    "with open('/content/sample_data/california_housing_test.csv') as csv_file:\n",
    "    objetoCSV = csv.reader(csv_file, delimiter=',')\n",
    "    for row in objetoCSV:\n",
    "        print(f'Nombres de Columna \\n{\", \".join(row)}') #el método join() del módulo str permite unir objetos iterables\n",
    "        break"
   ]
  },
  {
   "cell_type": "markdown",
   "metadata": {
    "id": "eD4nsmpl4X8u"
   },
   "source": [
    "##**Descargar archivos en el sistema de archivos local**\n",
    "\n",
    "El módulo `google.colab` tiene método `files.download` el cual invocará una descarga del archivo desde el navegador a tu computadora local. Es de anotar que el archivo invocado será descargado."
   ]
  },
  {
   "cell_type": "code",
   "execution_count": null,
   "metadata": {
    "id": "L46P17S04tKq"
   },
   "outputs": [],
   "source": [
    "files.download('/content/sample_data/california_housing_test.csv')"
   ]
  },
  {
   "cell_type": "markdown",
   "metadata": {
    "id": "Ru_r0kp5Az7y"
   },
   "source": [
    "##**Google Drive**\n",
    "\n",
    "Puedes acceder a archivos en Drive de varias maneras, incluidas las siguientes:\n",
    "- Activación de Google Drive en la máquina virtual del entorno de ejecución\n",
    "- Usar un wrapper alrededor de la API, como <a href=\"https://pythonhosted.org/PyDrive/\">PyDrive</a>\n",
    "- Usar la <a href=\"https://developers.google.com/drive/v3/web/about-sdk\">API nativa de REST*</a>\n",
    "\n",
    "A continuación, detallaremos unos ejemplos.\n",
    "\n",
    "\\* [Definición de API REST](https://es.wikipedia.org/wiki/Transferencia_de_Estado_Representacional)"
   ]
  },
  {
   "cell_type": "markdown",
   "metadata": {
    "id": "Xr4G76LiE02n"
   },
   "source": [
    "##**Activar Google Drive de forma local**\n",
    "\n",
    "El ejemplo siguiente muestra cómo activar Google Drive en el entorno de ejecución mediante un código de autorización y cómo escribir y leer archivos allí. Una vez ejecutado, podrás ver el archivo nuevo (foo.txt) en [https://drive.google.com/.](https://drive.google.com), la presente configuración solo permite leer, escribir y mover archivos.\n",
    "\n",
    "Nota: Si utilizas el botón \"Activar unidad de Drive\" en el navegador de archivos, no necesitas ningún código de autenticación para los notebooks que solo modificó el usuario actual."
   ]
  },
  {
   "cell_type": "code",
   "execution_count": null,
   "metadata": {
    "id": "AXwvjUrwHGhX"
   },
   "outputs": [],
   "source": [
    "from google.colab import drive\n",
    "drive.mount('/content/drive')"
   ]
  },
  {
   "cell_type": "markdown",
   "metadata": {
    "id": "_EgOdv0-eyJU"
   },
   "source": [
    "##**Crear un Archivo en Google Drive de forma local**\n",
    "\n",
    "El ejemplo siguiente muestra cómo activar Google Drive en el entorno de ejecución mediante un código de autorización y cómo escribir y leer archivos allí. Una vez ejecutado, podrás ver el archivo nuevo (foo.txt) en [https://drive.google.com/.](https://drive.google.com), la presente configuración solo permite leer, escribir y mover archivos.\n",
    "\n",
    "Nota: Si utilizas el botón \"Activar unidad de Drive\" en el navegador de archivos, no necesitas ningún código de autenticación para los notebooks que solo modificó el usuario actual."
   ]
  },
  {
   "cell_type": "code",
   "execution_count": null,
   "metadata": {
    "id": "cS0TW7tDfWgW"
   },
   "outputs": [],
   "source": [
    "with open('/content/drive/MyDrive/_EjemploFundamentosProgramacion/Texto.txt', 'w') as f:\n",
    "  f.write('Escribiendo Directamente en Google Drive')\n",
    "!cat /content/drive/MyDrive/_EjemploFundamentosProgramacion/Texto.txt\n",
    "!echo \"\"\n",
    "!echo \"Los comandos con admiracion son comandos de consola\""
   ]
  },
  {
   "cell_type": "markdown",
   "metadata": {
    "id": "in6nyn-Aj3Or"
   },
   "source": [
    "##**Cerrar Conexión con Google Drive**\n",
    "\n",
    "Cerramos la sesión con el siguiente código y desmontamos el disco.\n"
   ]
  },
  {
   "cell_type": "code",
   "execution_count": null,
   "metadata": {
    "id": "4kEofj99kH5b"
   },
   "outputs": [],
   "source": [
    "drive.flush_and_unmount()\n",
    "print('Conexión con Google Drive Terminada - Todos los cambios no guardados se perdieron')"
   ]
  },
  {
   "cell_type": "markdown",
   "metadata": {
    "id": "Y4eaU4ImkWOP"
   },
   "source": [
    "##**Abrir archivos con Pyhton**\n",
    "\n",
    "El manejo de archivos es una parte importante de cualquier aplicación o script.Python tiene varias funciones para crear, leer, actualizar y eliminar archivos.\n"
   ]
  },
  {
   "cell_type": "markdown",
   "metadata": {
    "id": "JO7JnqZuMzkY"
   },
   "source": [
    "###**Manejo de archivos**\n",
    "La función clave para trabajar con archivos en Python es la función `open()`. La función `open()` toma dos parámetros; nombre de archivo y modo.\n",
    "\n",
    "Hay cuatro métodos (modos) diferentes para abrir un archivo:\n",
    "\n",
    "\n",
    "*   `r` - Lectura - Valor predeterminado. Abre un archivo para lectura, error si el archivo no existe\n",
    "*   `a` - Adjuntar - Abre un archivo para agregar, crea el archivo si no existe\n",
    "*   `w` - Escribir - Abre un archivo para escribir, crea el archivo si no existe\n",
    "*   `x` - Crear - Crea el archivo especificado, devuelve un error si el archivo existe\n",
    "\n",
    "Además, puede especificar si el archivo debe manejarse en modo binario o de texto\n",
    "\n",
    "*   `t` - Texto - Valor predeterminado. Modo texto\n",
    "\n",
    "*   `b` - Binario - Modo binario (p. ej., imágenes)\n",
    "\n",
    "\n",
    "\n",
    "\n",
    "\n"
   ]
  },
  {
   "cell_type": "markdown",
   "metadata": {
    "id": "EX9gb1ASNa9z"
   },
   "source": [
    "###**Sintaxis**\n",
    "Para abrir un archivo en modo lectura, basta con especificar el nombre del archivo:\n",
    "\n",
    "`f = open(\"archivo.txt\")`\n",
    "\n",
    "El código anterior es el mismo que:\n",
    "\n",
    "`f = open(\"archivo.txt\", \"rt\")`\n",
    "\n",
    "Dado que \"r\" para lectura y \"t\" para texto son los valores predeterminados, no es necesario especificarlos.\n",
    "\n",
    "Nota: asegúrese de que el archivo exista o obtendrá un error.\n",
    "\n",
    "A continuación usaremos el siguiente archivo y lo cargaremos en el servicio virtualizado de Google Colab en la carpeta `'/content/'` o lo cargaremos a Google Drive y usaremos `'/content/MyDrive/'`\n",
    "\n",
    "[https://raw.githubusercontent.com/juliancastillo-udea/2023-02-Simulacion/main/Data/archivo.txt](https://raw.githubusercontent.com/juliancastillo-udea/2023-02-Simulacion/main/Data/archivo.txt)\n",
    "\n",
    "\n",
    "###**urllib**\n",
    "\n",
    "urllib es un paquete que recopila varios módulos para trabajar con URL:\n",
    "\n",
    "*   urllib.request para abrir y leer URL\n",
    ">*   urllib.request: biblioteca extensible para abrir URL\n",
    ">>\n",
    "El módulo urllib.request define funciones y clases que ayudan a abrir URL (principalmente HTTP) en un mundo complejo: autenticación básica y resumida, redirecciones, cookies y más.\n",
    "*   urllib.error que contiene las excepciones generadas por urllib.request\n",
    ">*   urllib.error: clases de excepción generadas por urllib.request  \n",
    ">>\n",
    "El módulo urllib.error define las clases de excepción para las excepciones generadas por urllib.request. La clase de excepción básica es URLError.\n",
    "*   urllib.parse para analizar URL\n",
    ">*   urllib.parse - Analizar URL en componentes\n",
    ">>\n",
    "Este módulo define una interfaz estándar para dividir las cadenas del Uniform Resource Locator (URL) en componentes (addressing scheme, network location, path etc.), para volver a combinar los componentes en una cadena de URL y convertir una \"relative URL\" en una URL absoluta dada una \"base URL.\"\n",
    "*   urllib.robotparser para analizar archivos robots.txt\n",
    ">*   urllib.robotparser: analizador de robots.txt\n",
    ">>\n",
    "Este módulo proporciona una clase única, RobotFileParser, que responde preguntas sobre si un agente de usuario en particular puede obtener una URL en el sitio web que publicó el archivo robots.txt. Para obtener más detalles sobre la estructura de los archivos robots.txt, consulte http://www.robotstxt.org/orig.html.\n",
    "\n"
   ]
  },
  {
   "cell_type": "code",
   "execution_count": null,
   "metadata": {
    "id": "zDrxhxf_a2PC"
   },
   "outputs": [],
   "source": [
    "from urllib.request import urlopen #Importamos urlopen\n",
    "#Creamos un link\n",
    "link = r'https://raw.githubusercontent.com/juliancastillo-udea/2023-02-Simulacion/main/Data/archivo.txt'\n",
    "#Asignamos el archivo mediante urlopen a una variable\n",
    "f = urlopen(link)\n",
    "archivo = f.read() #Archivo ahora contiene la lectura del archivo\n",
    "print(archivo) #Impresion del archivo"
   ]
  },
  {
   "cell_type": "code",
   "execution_count": null,
   "metadata": {
    "id": "GUxRe4qaUODG"
   },
   "outputs": [],
   "source": [
    "from urllib.request import urlopen\n",
    "\n",
    "origen = r'https://raw.githubusercontent.com/juliancastillo-udea/2023-02-Simulacion/main/Data/archivo.txt'\n",
    "destino = '/content/archivo.txt'\n",
    "\n",
    "datos = urlopen(origen)\n",
    "data = datos.read()\n",
    "archivo = '/content/archivo.txt'\n",
    "archivo_ = open(archivo, 'w')\n",
    "archivo_.write(str(data))\n",
    "archivo_.close()\n"
   ]
  },
  {
   "cell_type": "code",
   "execution_count": null,
   "metadata": {
    "id": "BmbdT4Lrc0Xb"
   },
   "outputs": [],
   "source": [
    "!cat /content/archivo.txt"
   ]
  },
  {
   "cell_type": "markdown",
   "metadata": {
    "id": "b2DO19-8oOh5"
   },
   "source": [
    "##**Manejo de archivos en `/content/`**\n",
    "\n",
    "Cargaremos el archivo proporcionado en el Classroom de la Clase 07 llamado `archivo.txt`"
   ]
  },
  {
   "cell_type": "code",
   "execution_count": null,
   "metadata": {
    "id": "g44IQf-xovGy"
   },
   "outputs": [],
   "source": [
    "from google.colab import files\n",
    "uploaded = files.upload()\n",
    "for fn in uploaded.keys():\n",
    "  print('El usuario ha cargado el archivo: \"{name}\" con tamaño {length} bytes'.format(\n",
    "      name=fn, length=len(uploaded[fn])))"
   ]
  },
  {
   "cell_type": "markdown",
   "metadata": {
    "id": "YzAkjFtLjyDA"
   },
   "source": [
    "###**Abrir archivos ubicados en `/content/`**\n",
    "\n",
    "Ahora ya tenemos el archivo llamado `archivo.txt`\n",
    "\n",
    "Para abrirlo, usaremos la función `Built-in` `open()`. Esta devuelve un objeto tipo archivo, que tiene un método `read()` para leer el contenido del archivo:\n",
    "\n",
    "\n",
    "```python\n",
    "f = open('/content/archivo.txt', 'r')\n",
    "print(f.read())\n",
    "```\n",
    "\n",
    "###**Leer solo partes del archivo**\n",
    "\n",
    "De forma predeterminada, el método `read()` devuelve el texto completo, pero también puede especificar cuántos caracteres desea devolver:\n",
    "```python\n",
    "f = open('/content/archivo.txt', 'r')\n",
    "print(f.read(5))\n",
    "```\n",
    "\n",
    "###**Leer líneas**\n",
    "\n",
    "Podemos devolver una línea utilizando el método `readline()`:\n",
    "```python\n",
    "f = open('/content/archivo.txt', 'r')\n",
    "print(f.readline())\n",
    "```\n",
    "Al llamar a `readline()` dos veces, puede leer las dos primeras líneas:\n",
    "```python\n",
    "f = open('/content/archivo.txt', 'r')\n",
    "print(f.readline())\n",
    "print(f.readline())\n",
    "```\n",
    "Al iterar las líneas del archivo, puede leer el archivo completo, línea por línea:\n",
    "```python\n",
    "f = open('/content/archivo.txt', 'r')\n",
    "for x in f:\n",
    "    print(x)\n",
    "```\n",
    "\n",
    "###**Cerrar archivos**\n",
    "\n",
    "Es una buena práctica cerrar siempre el archivo cuando haya terminado.\n",
    "```python\n",
    "f = open('/content/archivo.txt', 'r')\n",
    "print(f.readline())\n",
    "f.close()\n",
    "```\n",
    "\n",
    "Nota: Siempre debe cerrar sus archivos; en algunos casos, debido al almacenamiento en búfer, es posible que los cambios realizados en un archivo no se muestren hasta que cierre el archivo."
   ]
  },
  {
   "cell_type": "code",
   "execution_count": null,
   "metadata": {
    "id": "c8ywhPNxmmmG"
   },
   "outputs": [],
   "source": [
    "f = open('/content/archivo.txt', 'r')\n",
    "print(f.read())"
   ]
  },
  {
   "cell_type": "code",
   "execution_count": null,
   "metadata": {
    "id": "B7ITL3ZWm5__"
   },
   "outputs": [],
   "source": [
    "f = open('/content/archivo.txt', 'r')\n",
    "print(f.read(5))"
   ]
  },
  {
   "cell_type": "code",
   "execution_count": null,
   "metadata": {
    "id": "HD38MhYnnEGk"
   },
   "outputs": [],
   "source": [
    "f = open('/content/archivo.txt', 'r')\n",
    "print(f.readline())"
   ]
  },
  {
   "cell_type": "code",
   "execution_count": null,
   "metadata": {
    "id": "Ltos7LalncvH"
   },
   "outputs": [],
   "source": [
    "f = open('/content/archivo.txt', 'r')\n",
    "print(f.readline())\n",
    "print(f.readline())"
   ]
  },
  {
   "cell_type": "code",
   "execution_count": null,
   "metadata": {
    "id": "-TKNN31uniqs"
   },
   "outputs": [],
   "source": [
    "f = open('/content/archivo.txt', 'r')\n",
    "for x in f:\n",
    "    print(x)"
   ]
  },
  {
   "cell_type": "code",
   "execution_count": null,
   "metadata": {
    "id": "vyfCMc77p624"
   },
   "outputs": [],
   "source": [
    "f = open('/content/archivo.txt', 'r')\n",
    "print(f.readline())\n",
    "f.close()"
   ]
  },
  {
   "cell_type": "markdown",
   "metadata": {
    "id": "fE2SqpZVqqmA"
   },
   "source": [
    "###**El módulo `shutil`**\n",
    "\n",
    "El módulo `shutil` en Python proporciona muchas funciones de operaciones de alto nivel en archivos y colecciones de archivos. Viene bajo los módulos de utilidad estándar de Python. Este módulo ayuda a automatizar el proceso de copia y eliminación de archivos y directorios."
   ]
  },
  {
   "cell_type": "code",
   "execution_count": null,
   "metadata": {
    "id": "ylT1MSL1q2vG"
   },
   "outputs": [],
   "source": [
    "import os\n",
    "import shutil\n",
    "\n",
    "origen = '/content/archivo.txt'\n",
    "destino = '/content/archivo2.txt'\n",
    "\n",
    "# Tipo de retorno: este método devuelve una cadena que representa la ruta del archivo recién creado.\n",
    "nuevodestino = shutil.copyfile(origen, destino)\n",
    "\n",
    "print(os.listdir('/content/'))\n",
    "\n",
    "print('Archivo copiado satisfactoriamente en la ruta: ', nuevodestino)"
   ]
  },
  {
   "cell_type": "markdown",
   "metadata": {
    "id": "fiDSUPnVqC1R"
   },
   "source": [
    "###**Escritura de archivos**\n",
    "\n",
    "Para escribir en un archivo existente, debe agregar un parámetro a la función `open()`:\n",
    "\n",
    "*   `'a'` - Append - se agregará al final del archivo\n",
    "*   `'w' `- Write - sobrescribirá cualquier contenido existente\n",
    "\n",
    "###**Escritura de archivos usando Append**\n",
    "\n",
    "Usando el nuevo archivo creado `archivo2.txt` agregaremos una nueva línea al final del texto usando el parámetro `a` de Append.\n",
    "\n",
    "```python\n",
    "f = open('archivo2.txt', 'a')\n",
    "f.write('\\nEl final es diferente, ahora soy yo el final')\n",
    "f.close()\n",
    "\n",
    "f = open('archivo2.txt', 'r')\n",
    "print(f.read())\n",
    "```\n",
    "\n",
    "Nota: `\\n` Crea una nueva línea\n",
    "\n",
    "###**Escritura de archivos usando Write**\n",
    "\n",
    "Crear un nuevo archivo copia de `archivo.txt` llamado originalmente `archivo3.txt`\n",
    "Usando el nuevo archivo creado `archivo3.txt` eliminaremos todo el contenido del archivo y sobrescribiremos en él.\n",
    "\n",
    "```python\n",
    "f = open('archivo2.txt', 'w')\n",
    "f.write(\"Ahora soy la unica línea de texto en el archivo 3, JAJAJAJAJAJA\")\n",
    "f.close()\n",
    "\n",
    "f = open('archivo2.txt', 'r')\n",
    "print(f.read())\n",
    "```\n",
    "\n",
    "Nota: `\\n` Crea una nueva línea"
   ]
  },
  {
   "cell_type": "code",
   "execution_count": null,
   "metadata": {
    "id": "IxH0DhMNsK7d"
   },
   "outputs": [],
   "source": [
    "f = open(\"archivo2.txt\", \"a\")\n",
    "f.write(\"\\nEl final es diferente, ahora soy yo el final\")\n",
    "f.close()\n",
    "\n",
    "f = open(\"archivo2.txt\", \"r\")\n",
    "print(f.read())"
   ]
  },
  {
   "cell_type": "code",
   "execution_count": null,
   "metadata": {
    "id": "hBZ3kT3AtBso"
   },
   "outputs": [],
   "source": [
    "import os\n",
    "import shutil\n",
    "\n",
    "origen = '/content/archivo.txt'\n",
    "destino = '/content/archivo3.txt'\n",
    "\n",
    "# Tipo de retorno: este método devuelve una cadena que representa la ruta del archivo recién creado.\n",
    "nuevodestino = shutil.copyfile(origen, destino)\n",
    "\n",
    "print(os.listdir('/content/'))\n",
    "\n",
    "print('Archivo copiado satisfactoriamente en la ruta: ', nuevodestino)"
   ]
  },
  {
   "cell_type": "code",
   "execution_count": null,
   "metadata": {
    "id": "DVdS4GXgt5m9"
   },
   "outputs": [],
   "source": [
    "f = open('archivo2.txt', 'w')\n",
    "f.write(\"Ahora soy la unica línea de texto en el archivo 3, JAJAJAJAJAJA\")\n",
    "f.close()\n",
    "\n",
    "f = open('archivo2.txt', 'r')\n",
    "print(f.read())"
   ]
  },
  {
   "cell_type": "markdown",
   "metadata": {
    "id": "r4fsYQoVuE4p"
   },
   "source": [
    "###**Crear un archivo nuevo**\n",
    "\n",
    "Para crear un nuevo archivo en Python, usamos el mismo método `open()`, con uno de los siguientes parámetros:\n",
    "\n",
    "*   `'x'` - Create - creará un archivo, devuelve un error si el archivo existe\n",
    "*   `'a'` - Append - creará un archivo si el archivo especificado no existe\n",
    "*   `'w'` - Write - creará un archivo si el archivo especificado no existe\n",
    "\n",
    "Creamos un archivo llamado `nuevoarchivo.txt`\n",
    "\n",
    "```python\n",
    "f = open('nuevoarchivo.txt', 'x')\n",
    "```\n",
    "\n",
    "Creamos un archivo nuevo llamado `nuevoarchivo.txt` si este no existe.\n",
    "\n",
    "```python\n",
    "f = open('nuevoarchivo.txt', 'w')\n",
    "```\n",
    "\n",
    "Nota: Nótese que no estamos llamando el directorio `/content/`, Python en Google Colab crea por defecto todos los archivos e interacciones en dicha carpeta.\n",
    "\n",
    "\n"
   ]
  },
  {
   "cell_type": "code",
   "execution_count": null,
   "metadata": {
    "id": "lSGcpw94vBIU"
   },
   "outputs": [],
   "source": [
    "f = open('nuevoarchivo.txt', 'x')"
   ]
  },
  {
   "cell_type": "code",
   "execution_count": null,
   "metadata": {
    "id": "gp7wodIzvGAh"
   },
   "outputs": [],
   "source": [
    "f = open('nuevoarchivo.txt', 'w')"
   ]
  },
  {
   "cell_type": "markdown",
   "metadata": {
    "id": "R6w-n3a9wCQs"
   },
   "source": [
    "Si el archivo existe y utilizamos el parámetro `x` nos presenta el siguiente error:\n",
    "\n",
    "\n",
    "```\n",
    "---------------------------------------------------------------------------\n",
    "FileExistsError Traceback (most recent call last)\n",
    "<ipython-input-39-81b73c73b5bd> in <module>()\n",
    "----> 1 f = open('nuevoarchivo.txt', 'x')\n",
    "FileExistsError: [Errno 17] File exists: 'nuevoarchivo.txt'\n",
    "```"
   ]
  },
  {
   "cell_type": "markdown",
   "metadata": {
    "id": "vHLacNQjwjO9"
   },
   "source": [
    "###**Borrar archivos**\n",
    "\n",
    "Para eliminar un archivo, debe importar el módulo del sistema operativo y ejecutar su función `os.remove()`:\n",
    "Creamos un archivo llamado `nuevoarchivo.txt`\n",
    "\n",
    "A continuación eliminaremos el nuevo archivo,\n",
    "```python\n",
    "import os\n",
    "os.remove(\"nuevoarchivo.txt\")\n",
    "```\n",
    "\n",
    "Ahora verifiquemos que el archivo ya no exista.\n",
    "\n",
    "```python\n",
    "import os\n",
    "if os.path.exists(\"nuevoarchivo.txt\"):\n",
    "  os.remove(\"nuevoarchivo.txt\")\n",
    "else:\n",
    "  print(\"El Archivo nuevo, ha muerto, ya no existe\")\n",
    "```\n",
    "\n"
   ]
  },
  {
   "cell_type": "code",
   "execution_count": null,
   "metadata": {
    "id": "bd8D4SnJxI8f"
   },
   "outputs": [],
   "source": [
    "import os\n",
    "os.remove(\"nuevoarchivo.txt\")"
   ]
  },
  {
   "cell_type": "code",
   "execution_count": null,
   "metadata": {
    "id": "6ZwS0soyxLUA"
   },
   "outputs": [],
   "source": [
    "import os\n",
    "if os.path.exists(\"nuevoarchivo.txt\"):\n",
    "  os.remove(\"nuevoarchivo.txt\")\n",
    "else:\n",
    "  print(\"El Archivo nuevo, ha muerto, ya no existe\")"
   ]
  },
  {
   "cell_type": "markdown",
   "metadata": {
    "id": "nMou3JRT9Evf"
   },
   "source": [
    "<p><a name=\"s16\"></a></p>\n",
    "\n",
    "# **16. NumPy**\n",
    "[[Contenidos]](#contents)\n",
    "\n",
    "[![](https://raw.githubusercontent.com/juliancastillo-iudigital/FundamentosProgramacionPosgrados2021-1/main/NumPy.png)](https://numpy.org/)"
   ]
  },
  {
   "cell_type": "markdown",
   "metadata": {
    "id": "g9AMIuz3xYC7"
   },
   "source": [
    "##**¿Qué es [NumPy](https://numpy.org/)?**\n",
    "\n",
    "\n",
    "NumPy es el paquete fundamental para la computación científica en Python. Es una biblioteca de Python que proporciona un objeto de matriz multidimensional, varios objetos derivados (como matrices y [matrices enmascaradas](https://numpy.org/doc/stable/reference/maskedarray.html) y una variedad de rutinas para operaciones rápidas en matrices, que incluyen operaciones matemáticas, lógica, manipulación de formas, clasificación, selección, I/O (input/output), transformadas discretas de Fourier, álgebra lineal básica, operaciones estadísticas básicas, simulación aleatoria y mucho más.\n",
    "\n",
    "En el núcleo del paquete NumPy, se encuentra el objeto `ndarray`. Esto encapsula matrices n-dimensionales de tipos de datos homogéneos, con muchas operaciones que se realizan en código compilado para mejorar el rendimiento. Hay varias diferencias importantes entre las matrices NumPy y las secuencias estándar de Python:\n",
    "\n",
    "*   Las matrices NumPy tienen un tamaño fijo en el momento de la creación, a diferencia de las listas de Python (que pueden crecer dinámicamente). Cambiar el tamaño de un ndarray creará una nueva matriz y eliminará la original.\n",
    "\n",
    "*   Todos los elementos de una matriz NumPy deben ser del mismo tipo de datos y, por lo tanto, tendrán el mismo tamaño en la memoria. La excepción: uno puede tener matrices de objetos (Python, incluido NumPy), lo que permite matrices de elementos de diferentes tamaños.\n",
    "\n",
    "*   Las matrices NumPy facilitan operaciones matemáticas avanzadas y de otro tipo en grandes cantidades de datos. Por lo general, estas operaciones se ejecutan de manera más eficiente y con menos código de lo que es posible usando las secuencias integradas de Python.\n",
    "\n",
    "*   Una creciente plétora de paquetes científicos y matemáticos basados ​​en Python utilizan matrices NumPy; aunque estos suelen admitir la entrada de secuencia de Python, convierten dicha entrada en matrices NumPy antes del procesamiento y, a menudo, generan matrices NumPy. En otras palabras, para usar de manera eficiente gran parte (quizás incluso la mayoría) del software científico / matemático basado en Python de hoy en día, simplemente saber cómo usar los tipos de secuencia integrados de Python es insuficiente; también es necesario saber cómo usar las matrices NumPy.\n",
    "\n",
    "Los puntos sobre el tamaño y la velocidad de la secuencia son particularmente importantes en la computación científica. Como ejemplo simple, considere el caso de multiplicar cada elemento en una secuencia 1-D con el elemento correspondiente en otra secuencia de la misma longitud. Si los datos se almacenan en dos listas de Python, `a` y `b`, podríamos iterar sobre cada elemento:\n",
    "\n",
    "```python\n",
    "c = []\n",
    "for i in range(len(a)):\n",
    "    c.append(a[i]*b[i])\n",
    "```\n",
    "Esto produce la respuesta correcta, pero si `a` y `b` contienen millones de números cada uno, pagaremos el precio por las ineficiencias de los bucles en Python. Podríamos realizar la misma tarea mucho más rápidamente en *C* escribiendo (para mayor claridad, descuidamos las declaraciones e inicializaciones de variables, la asignación de memoria, etc.)\n",
    "\n",
    "```c\n",
    "for (i = 0; i < rows; i++): {\n",
    "  c[i] = a[i]*b[i];\n",
    "}\n",
    "```\n",
    "Esto ahorra todos los gastos generales involucrados en la interpretación del código Python y la manipulación de objetos Python, pero a expensas de los beneficios obtenidos de la codificación en Python. Además, el trabajo de codificación requerido aumenta con la dimensionalidad de nuestros datos. En el caso de una matriz 2-D, por ejemplo, el código C (abreviado como antes) se expande a:\n",
    "```c\n",
    "for (i = 0; i < rows; i++): {\n",
    "  for (j = 0; j < columns; j++): {\n",
    "    c[i][j] = a[i][j]*b[i][j];\n",
    "  }\n",
    "}\n",
    "```\n",
    "NumPy nos da lo mejor de ambos mundos: las operaciones elemento por elemento son el \"modo predeterminado\" cuando se trata de un ndarray, pero la operación elemento por elemento se ejecuta rápidamente mediante código C precompilado. En NumPy `c = a * b` hace lo que hacen los ejemplos anteriores, a velocidades cercanas a *C*, pero con la simplicidad de código que esperamos de algo basado en Python. De hecho, ¡el modismo de NumPy es aún más simple! Este último ejemplo ilustra dos de las características de NumPy que son la base de gran parte de su poder: vectorización y difusión.\n",
    "\n",
    "###**¿Por qué NumPy es rápido?**\n",
    "\n",
    "La vectorización describe la ausencia de cualquier bucle explícito, indexación, etc., en el código; estas cosas están sucediendo, por supuesto, sólo \"detrás de escena\" en código *C* optimizado y precompilado. El código vectorizado tiene muchas ventajas, entre las que se encuentran:\n",
    "\n",
    "*   El código vectorizado es más conciso y más fácil de leer\n",
    "*   Menos líneas de código generalmente significan menos errores\n",
    "*   El código se parece más a la notación matemática estándar (lo que facilita, por lo general, codificar correctamente las construcciones matemáticas)\n",
    "*   La vectorización da como resultado un código más \"Pythonic\". Sin la vectorización, nuestro código estaría plagado de ciclos `for` ineficientes y difíciles de leer.\n",
    "\n",
    "###**Broadcasting**\n",
    "\n",
    "Broadcasting es el término utilizado para describir el comportamiento implícito elemento por elemento de las operaciones; En términos generales, en NumPy todas las operaciones, no solo las operaciones aritméticas, sino las lógicas, bit a bit, funcionales, etc., se comportan de esta manera implícita elemento por elemento, es decir, se realiza broadcast. Además, en el ejemplo anterior, `a` y `b` podrían ser matrices multidimensionales de la misma forma, o un escalar y una matriz, o incluso dos matrices con formas diferentes, siempre que la matriz más pequeña sea \"expandible\" a la forma de la más grande. de tal manera que la emisión resultante sea inequívoca. Para conocer las “reglas” detalladas de broadcasting, consulte [`basics.broadcasting`](https://numpy.org/doc/stable/user/basics.broadcasting.html)"
   ]
  },
  {
   "cell_type": "markdown",
   "metadata": {
    "id": "ontirwFJ0m93"
   },
   "source": [
    "##**Instalación de NumPy**\n",
    "\n",
    "Instalar NumPy en Google Colab no es necesario, dicho módulo se encuentra instalado, en caso de necesitar la instalación relacionamos un `pip install` con la llamada al módulo NumPy.\n",
    "\n",
    "\n",
    "```python\n",
    "!pip install numpy\n",
    "```\n",
    "Importar el módulo NumPy se realiza con la palabra clave `import` y nótese el alias asignado al módulo es `np` el cual es de uso generalizado en la comunidad de NumPy.\n",
    "\n",
    "```python\n",
    "import numpy as np\n",
    "```\n",
    "Ahora utilicemos nuestro nuevo módulo para crear un vector (array).\n",
    "\n",
    "```python\n",
    "arr = np.array([1, 2, 3, 4, 5])\n",
    "print(arr)\n",
    "```\n",
    "Para verificar la versión de Numpy se puede realizar con `!pip list` o con la llamada especifica usando `!pip show numpy` o `!pip show --verbose numpy`\n"
   ]
  },
  {
   "cell_type": "code",
   "execution_count": null,
   "metadata": {
    "id": "r4XkkiWA0xes"
   },
   "outputs": [],
   "source": [
    "!pip list -v"
   ]
  },
  {
   "cell_type": "code",
   "execution_count": null,
   "metadata": {
    "id": "JIyQsBxD13ZX"
   },
   "outputs": [],
   "source": [
    "!pip install numpy"
   ]
  },
  {
   "cell_type": "code",
   "execution_count": null,
   "metadata": {
    "id": "Ftv7YlGN2oyo"
   },
   "outputs": [],
   "source": [
    "import numpy as np\n",
    "arr = np.array([1, 2, 3, 4, 5])\n",
    "print(arr)"
   ]
  },
  {
   "cell_type": "code",
   "execution_count": null,
   "metadata": {
    "id": "DyTrha9MB_P0"
   },
   "outputs": [],
   "source": [
    "x = [x for x in range(1,6)]\n",
    "print(x)"
   ]
  },
  {
   "cell_type": "code",
   "execution_count": null,
   "metadata": {
    "id": "z1G6RA1b3NZJ"
   },
   "outputs": [],
   "source": [
    "!pip show numpy"
   ]
  },
  {
   "cell_type": "code",
   "execution_count": null,
   "metadata": {
    "id": "0kB6kUTe4IAJ"
   },
   "outputs": [],
   "source": [
    "!pip show --verbose numpy"
   ]
  },
  {
   "cell_type": "markdown",
   "metadata": {
    "id": "obgJ-0Z98L4R"
   },
   "source": [
    "##**NumPy creando matrices**\n",
    "\n",
    "NumPy se utiliza para trabajar con matrices (vectores). El objeto de NumPy para matrices o vectores se llama `ndarray`.\n",
    "\n",
    "Podemos crear un objeto `ndarray` NumPy usando la función `array()`.\n",
    "\n",
    "Un objeto `ndarray` representa una matriz homogénea y multidimensional de elementos de tamaño fijo. Un objeto de tipo de datos asociado describe el formato de cada elemento en la matriz (su orden de bytes, cuántos bytes ocupa en la memoria, si es un entero, un número flotante u otra cosa, etc.)\n",
    "\n",
    "Las matrices deben construirse utilizando `array`, `zeros` o `empty`. Los parámetros dados aquí se refieren a un método de bajo nivel `(ndarray(…))` para instanciar una matriz.\n",
    "\n",
    "\n",
    "\n",
    "```python\n",
    "arr = np.array([1, 2, 3, 4, 5])\n",
    "print(arr)\n",
    "print(type(arr))\n",
    "```\n",
    "Nota: `type()`; esta función incorporada de Python nos dice el tipo de objeto que se le pasa. Como en el código anterior, muestra que arr es del tipo `numpy.ndarray`.\n",
    "\n",
    "Para crear un `ndarray`, podemos pasar una lista, tupla o cualquier objeto similar a una matriz en el método `array()`, y se convertirá en un `ndarray`:\n",
    "\n",
    "```python\n",
    "arr = np.array((1, 2, 3, 4, 5))\n",
    "print(arr)\n",
    "```"
   ]
  },
  {
   "cell_type": "code",
   "execution_count": null,
   "metadata": {
    "id": "tnf3Xpgq9HwM"
   },
   "outputs": [],
   "source": [
    "arr = np.array([1, 2, 3, 4, 5])\n",
    "print(arr)\n",
    "print(type(arr))"
   ]
  },
  {
   "cell_type": "code",
   "execution_count": null,
   "metadata": {
    "id": "7UildXZS9kN-"
   },
   "outputs": [],
   "source": [
    "arr = np.array((1, 2, 3, 4, 5))\n",
    "print(arr)"
   ]
  },
  {
   "cell_type": "markdown",
   "metadata": {
    "id": "DIcUYTWm9qwH"
   },
   "source": [
    "##**Dimensiones en matrices**\n",
    "\n",
    "Una dimensión en matrices es un nivel de profundidad de matriz (matrices anidadas).\n",
    "\n",
    "Matriz anidada: son matrices que tienen matrices como elementos.\n",
    "\n",
    "###**Matrices 0-D**\n",
    "\n",
    "Las matrices 0-D, o escalares, son los elementos de una matriz. Cada valor de una matriz es una matriz 0-D.\n",
    "\n",
    "\n",
    "```python\n",
    "arr = np.array(42)\n",
    "print(arr)\n",
    "```\n",
    "###**Matrices 1-D**\n",
    "\n",
    "Una matriz que tiene matrices 0-D como sus elementos se llama matriz unidimensional o 1-D. Estos son los arreglos más comunes y básicos.\n",
    "\n",
    "```python\n",
    "arr = np.array([1, 2, 3, 4, 5])\n",
    "print(arr)\n",
    "```\n",
    "\n",
    "###**Matrices 2-D**\n",
    "\n",
    "Una matriz que tiene matrices 1-D como sus elementos se denomina matriz 2-D. A menudo se utilizan para representar tensores de segundo orden.\n",
    "NumPy tiene un submódulo completo dedicado a operaciones matriciales llamado `numpy.mat`\n",
    "\n",
    "```python\n",
    "arr = np.array([[1, 2, 3], [4, 5, 6]])\n",
    "print(arr)\n",
    "```\n",
    "\n",
    "###**Matrices 3-D**\n",
    "\n",
    "Una matriz que tiene matrices 2-D (matrices) como sus elementos se llama matriz 3-D. A menudo se utilizan para representar un tensor de tercer orden.\n",
    "\n",
    "```python\n",
    "arr = np.array([[[1, 2, 3], [4, 5, 6]], [[1, 2, 3], [4, 5, 6]]])\n",
    "print(arr)\n",
    "```\n",
    "\n",
    "###**¿Verifique el número de dimensiones?**\n",
    "\n",
    "NumPy Arrays proporciona el atributo `ndim` que devuelve un número entero que nos dice cuántas dimensiones tiene la matriz.\n",
    "\n",
    "```python\n",
    "a = np.array(42)\n",
    "b = np.array([1, 2, 3, 4, 5])\n",
    "c = np.array([[1, 2, 3], [4, 5, 6]])\n",
    "d = np.array([[[1, 2, 3], [4, 5, 6]], [[1, 2, 3], [4, 5, 6]]])\n",
    "\n",
    "print(a.ndim)\n",
    "print(b.ndim)\n",
    "print(c.ndim)\n",
    "print(d.ndim)\n",
    "```\n",
    "\n",
    "###**Matrices de dimensiones superiores**\n",
    "\n",
    "Una matriz puede tener cualquier número de dimensiones.\n",
    "Cuando se crea la matriz, puede definir el número de dimensiones utilizando el argumento `ndmin`.\n",
    "\n",
    "```python\n",
    "arr = np.array([1, 2, 3, 4], ndmin=5)\n",
    "print(arr)\n",
    "print('número de dimensiones :', arr.ndim)\n",
    "```"
   ]
  },
  {
   "cell_type": "code",
   "execution_count": null,
   "metadata": {
    "id": "0Hp900yf-eHw"
   },
   "outputs": [],
   "source": [
    "arr = np.array(42)\n",
    "print(arr)"
   ]
  },
  {
   "cell_type": "code",
   "execution_count": null,
   "metadata": {
    "id": "yWBcChra_BXh"
   },
   "outputs": [],
   "source": [
    "arr = np.array([1, 2, 3, 4, 5])\n",
    "print(arr)"
   ]
  },
  {
   "cell_type": "code",
   "execution_count": null,
   "metadata": {
    "id": "UYUJX7n7_DFu"
   },
   "outputs": [],
   "source": [
    "arr = np.array([[1, 2, 3], [4, 5, 6]])\n",
    "print(arr)"
   ]
  },
  {
   "cell_type": "code",
   "execution_count": null,
   "metadata": {
    "id": "MM9THTqsdtRx"
   },
   "outputs": [],
   "source": [
    "arr = np.array([[[1, 2, 3], [4, 5, 6]], [[1, 2, 3], [4, 5, 6]]])\n",
    "print(arr)"
   ]
  },
  {
   "cell_type": "code",
   "execution_count": null,
   "metadata": {
    "id": "1GYPTXw6eRk_"
   },
   "outputs": [],
   "source": [
    "a = np.array(42)\n",
    "b = np.array([1, 2, 3, 4, 5])\n",
    "c = np.array([[1, 2, 3], [4, 5, 6]])\n",
    "d = np.array([[[1, 2, 3], [4, 5, 6]], [[1, 2, 3], [4, 5, 6]]])\n",
    "\n",
    "print(a.ndim)\n",
    "print(b.ndim)\n",
    "print(c.ndim)\n",
    "print(d.ndim)"
   ]
  },
  {
   "cell_type": "code",
   "execution_count": null,
   "metadata": {
    "id": "icXEbVoKfIDE"
   },
   "outputs": [],
   "source": [
    "arr = np.array([1, 2, 3, 4], ndmin=5)\n",
    "print(arr)\n",
    "print('número de dimensiones :', arr.ndim)"
   ]
  },
  {
   "cell_type": "markdown",
   "metadata": {
    "id": "FgU6LvvlfaBX"
   },
   "source": [
    "##**Indexación de matrices NumPy**\n",
    "\n",
    "###**Acceso a elementos de matriz**\n",
    "\n",
    "La indexación de matrices es lo mismo que acceder a un elemento de matriz. Puede acceder a un elemento de matriz consultando su número de índice.\n",
    "\n",
    "Los índices en las matrices NumPy comienzan con $0$, lo que significa que el primer elemento tiene un índice $0$ y el segundo tiene un índice $1$, etc.\n",
    "\n",
    "\n",
    "\n",
    "```python\n",
    "arr = np.array([1, 2, 3, 4])\n",
    "print(arr[0])\n",
    "print(arr[1])\n",
    "print(arr[2] + arr[3])\n",
    "```\n",
    "###**Acceder a matrices 2-D**\n",
    "\n",
    "Para acceder a elementos de matrices 2-D, podemos usar enteros separados por comas que representan la dimensión y el índice del elemento.\n",
    "\n",
    "```python\n",
    "arr = np.array([[1,2,3,4,5], [6,7,8,9,10]])\n",
    "print('Fila 0 Columna 1: ', arr[0, 1])\n",
    "print('Fila 1 Columna 4: ', arr[1, 4])\n",
    "```\n",
    "\n",
    "###**Acceder a matrices 3-D**\n",
    "\n",
    "Para acceder a elementos de matrices 3-D, podemos usar enteros separados por comas que representan las dimensiones y el índice del elemento.\n",
    "\n",
    "```python\n",
    "arr = np.array([[[1, 2, 3], [4, 5, 6]], [[7, 8, 9], [10, 11, 12]]])\n",
    "print(arr[0, 1, 2])\n",
    "```\n",
    "\n",
    "###**Indexación negativa**\n",
    "\n",
    "NumPy permite el uso de indexación negativa, por lo tanto, se puede utilizar para acceder a una matriz desde el final.\n",
    "\n",
    "```python\n",
    "arr = np.array([[1,2,3,4,5], [6,7,8,9,10]])\n",
    "print('Ultimo elemento de la segund: ', arr[1, -1])\n",
    "```\n",
    "\n",
    "\n",
    "![](https://aprendeconalf.es/docencia/python/manual/img/arrays.png)"
   ]
  },
  {
   "cell_type": "code",
   "execution_count": null,
   "metadata": {
    "id": "M0uYZtnQglud"
   },
   "outputs": [],
   "source": [
    "arr = np.array([1, 2, 3, 4])\n",
    "print(arr[0])\n",
    "print(arr[1])\n",
    "print(arr[2] + arr[3])"
   ]
  },
  {
   "cell_type": "code",
   "execution_count": null,
   "metadata": {
    "id": "etYhPnpTjo1q"
   },
   "outputs": [],
   "source": [
    "arr = np.array([[1,2,3,4,5], [6,7,8,9,10]])\n",
    "print('Fila 0 Columna 1: ', arr[0, 1])\n",
    "print('Fila 1 Columna 4: ', arr[1, 4])"
   ]
  },
  {
   "cell_type": "code",
   "execution_count": null,
   "metadata": {
    "id": "MeO4tjUvrJdo"
   },
   "outputs": [],
   "source": [
    "arr = np.array([[[1, 2, 3], [4, 5, 6]], [[7, 8, 9], [10, 11, 12]]])\n",
    "print(arr[0, 1, 2])\n",
    "print(arr)"
   ]
  },
  {
   "cell_type": "code",
   "execution_count": null,
   "metadata": {
    "id": "n5_51f7gyzXN"
   },
   "outputs": [],
   "source": [
    "#La matriz es 2x5\n",
    "arr = np.array([[1,2,3,4,5], [6,7,8,9,10]])\n",
    "print('Fila 1 Columna -1(Ultima): ', arr[1, -1])"
   ]
  },
  {
   "cell_type": "markdown",
   "metadata": {
    "id": "xNpiruUI0b6H"
   },
   "source": [
    "##**Slicing de Matrices NumPy**\n",
    "\n",
    "\n",
    "El Slicing de python para NumPy es similar o en este caso igual al utilizado previamente.\n",
    "\n",
    "###**Slicing**\n",
    "\n",
    "El índice se detalla con corchetes de la siguiente forma: `[inicio: fin]`.\n",
    "\n",
    "También se puede definir el paso, así: `[inicio: final: paso]`.\n",
    "\n",
    "*   Si no pasamos `inicio` se considera $0$\n",
    "*   Si no pasamos `final` su longitud se considera la longitud de la matriz.\n",
    "*   Si no pasamos `paso` se considera $1$\n",
    "\n",
    "```python\n",
    "arr = np.array([1, 2, 3, 4, 5, 6, 7])\n",
    "print(arr[1:5])\n",
    "print(arr[4:])\n",
    "print(arr[:4])\n",
    "```\n",
    "\n",
    "**Nota: El resultado incluye el índice inicial, pero excluye el índice final.**\n",
    "\n",
    "###**Slicing Negativo**\n",
    "\n",
    "Utilice el operador menos para hacer referencia a un índice desde el final:\n",
    "\n",
    "```python\n",
    "arr = np.array([1, 2, 3, 4, 5, 6, 7])\n",
    "print(arr[-3:-1])\n",
    "```\n",
    "###**Paso**\n",
    "\n",
    "Utilice el valor del paso para determinar el paso del slicing:\n",
    "\n",
    "```python\n",
    "arr = np.array([1, 2, 3, 4, 5, 6, 7])\n",
    "print(arr[1:5:2])\n",
    "print(arr[::2])\n",
    "```\n",
    "###**Slicing Matrices 2-D**\n",
    "\n",
    "Debemos detallar que el segundo elemento tiene índice 1.\n",
    "\n",
    "```python\n",
    "arr = np.array([[1, 2, 3, 4, 5], [6, 7, 8, 9, 10]])\n",
    "print(arr[1, 1:4])\n",
    "print(arr[0:2, 2])\n",
    "print(arr[0:2, 1:4])\n",
    "```"
   ]
  },
  {
   "cell_type": "code",
   "execution_count": null,
   "metadata": {
    "id": "4CbjAEm23qAc"
   },
   "outputs": [],
   "source": [
    "arr = np.array([1, 2, 3, 4, 5, 6, 7])\n",
    "print(arr[1:5])\n",
    "print(arr[4:])\n",
    "print(arr[:4])"
   ]
  },
  {
   "cell_type": "code",
   "execution_count": null,
   "metadata": {
    "id": "VkEfe7yd4ze_"
   },
   "outputs": [],
   "source": [
    "arr = np.array([1, 2, 3, 4, 5, 6, 7])\n",
    "print(arr[-3:-1])"
   ]
  },
  {
   "cell_type": "code",
   "execution_count": null,
   "metadata": {
    "id": "Xc2m7HNR5fHr"
   },
   "outputs": [],
   "source": [
    "arr = np.array([1, 2, 3, 4, 5, 6, 7])\n",
    "#Devuelve todos los demás elementos del índice 1 al índice 5:\n",
    "print(arr[1:5:2])\n",
    "#Devuelve todos los demás elementos de la matriz completa de 2 en 2:\n",
    "print(arr[::2])"
   ]
  },
  {
   "cell_type": "code",
   "execution_count": null,
   "metadata": {
    "id": "wCmMv97y6mru"
   },
   "outputs": [],
   "source": [
    "arr = np.array([[1, 2, 3, 4, 5], [6, 7, 8, 9, 10]])\n",
    "#Desde el segundo elemento, corte los elementos del índice 1 al índice 4 (no incluido):\n",
    "print(arr[1, 1:4])\n",
    "#De ambos elementos, devuelve el índice 2:\n",
    "arr = np.array([[1, 2, 3, 4, 5], [6, 7, 8, 9, 10]])\n",
    "#De ambos elementos, corte el índice 1 al índice 4 (no incluido), esto devolverá una matriz 2-D:\n",
    "print(arr[0:2, 1:4])"
   ]
  },
  {
   "cell_type": "markdown",
   "metadata": {
    "id": "0c2e4g6LVl_O"
   },
   "source": [
    "##**Tipos de Datos NumPy**\n",
    "\n",
    "###**Tipos de datos en Python**\n",
    "\n",
    "Por defecto, Python tiene estos tipos de datos:\n",
    "\n",
    "*   `string`: se utilizan para representar datos de texto, el texto se indica entre comillas. p.ej. `\"A B C D\"`\n",
    "*   `integer`: se utiliza para representar números enteros. p.ej. `-1`, `-2`, `-3`\n",
    "*   `float`: se utiliza para representar números reales. p.ej. `1.2`, `42.42`\n",
    "*   `boolean`: se utiliza para representar Verdadero o Falso. `True` `False`\n",
    "*   `complex`: se utiliza para representar números complejos. p.ej. `1.0 + 2.0j`, `1.5 + 2.5j`\n",
    "\n",
    "###**Tipos de datos en NumPy**\n",
    "\n",
    "NumPy tiene algunos tipos de datos adicionales y se refiere a tipos de datos con un carácter, como `i` para enteros, `u` para enteros sin signo, etc.\n",
    "\n",
    "A continuación se muestra una lista de todos los tipos de datos en NumPy y los caracteres utilizados para representarlos.\n",
    "\n",
    "*   `i` - entero\n",
    "*   `b` - booleano\n",
    "*   `u` - entero sin signo\n",
    "*   `f` - Flotante\n",
    "*   `c` - Flotante complejo\n",
    "*   `m` - timedelta\n",
    "*   `M` - fecha y hora\n",
    "*   `O` - objeto\n",
    "*   `S` - Cadena texto\n",
    "*   `U` - cadena Unicode\n",
    "*   `V` - fragmento de memoria fijo para otro tipo (vacío)\n",
    "\n",
    "###**Tipo de datos de una matriz**\n",
    "\n",
    "El objeto de matriz NumPy tiene una propiedad llamada `dtype` que devuelve el tipo de datos de la matriz:\n",
    "\n",
    "```python\n",
    "arr = np.array([1, 2, 3, 4])\n",
    "print(arr.dtype)\n",
    "```\n",
    "\n",
    "###**Creación de matrices con un tipo de datos definido**\n",
    "\n",
    "Usamos la función `array()` para crear matrices, esta función puede tomar un argumento opcional: `dtype` que nos permite definir el tipo de datos esperado de los elementos de la matriz:\n",
    "\n",
    "```python\n",
    "arr = np.array([1, 2, 3, 4], dtype='S')\n",
    "print(arr)\n",
    "print(arr.dtype)\n",
    "```\n",
    "Para `i`, `u`, `f`, `S` and `U` también podemos definir el tamaño.\n",
    "\n",
    "```python\n",
    "arr = np.array([1, 2, 3, 4], dtype='i4')\n",
    "#Creamos una matriz con tipo de datos entero de 4 bytes = 32bits\n",
    "print(arr)\n",
    "print(arr.dtype)\n",
    "```\n",
    "###**¿Qué pasa si un valor no se puede convertir?**\n",
    "\n",
    "Si se da un tipo en el que los elementos no se pueden convertir, NumPy generará un ValueError.\n",
    "\n",
    "ValueError: en Python ValueError se genera cuando el tipo de argumento pasado a una función es inesperado / incorrecto.\n",
    "\n",
    "Ejemplo\n",
    "Una cadena que no sea un número entero como `'a'` no se puede convertir en un número entero (generará un error):\n",
    "\n",
    "```python\n",
    "arr = np.array (['a', '2', '3'], dtype = 'i')\n",
    "```\n",
    "\n",
    "###**Conversión de tipos de datos en matrices existentes**\n",
    "\n",
    "La mejor manera de cambiar el tipo de datos de una matriz existente es hacer una copia de la matriz con el método `astype()`.\n",
    "\n",
    "La función `astype()` crea una copia de la matriz y le permite especificar el tipo de datos como un argumento.\n",
    "\n",
    "El tipo de datos se puede especificar usando una cadena, como `'f'` para float, `'i'` para integer, etc. o puede usar el tipo de datos directamente como `float` para float e `int` para integer.\n",
    "\n",
    "```python\n",
    "#Cambie el tipo de datos de flotante a entero usando 'i' como valor de parámetro:\n",
    "arr = np.array([1.1, 2.1, 3.1])\n",
    "newarr = arr.astype('i')\n",
    "print(newarr)\n",
    "print(newarr.dtype)\n",
    "```\n",
    "```python\n",
    "# Cambie el tipo de datos de flotante a entero utilizando int como valor de parámetro:\n",
    "arr = np.array([1.1, 2.1, 3.1])\n",
    "newarr = arr.astype(int)\n",
    "print(newarr)\n",
    "print(newarr.dtype)\n",
    "```\n",
    "```python\n",
    "# Cambiar el tipo de datos de entero a Booleano\n",
    "arr = np.array([1, 0, 3])\n",
    "newarr = arr.astype(bool)\n",
    "print(newarr)\n",
    "print(newarr.dtype)\n",
    "```\n",
    "\n",
    "---\n",
    "Caracter|Descripción|Ejemplo\n",
    "---|---|---\n",
    "`b`|Byte|`np.dtype('b')`\n",
    "`i`|Signed integer|`np.dtype('i4') == np.int32`\n",
    "`u`|Unsigned integer|`np.dtype('u1') == np.uint8`\n",
    "f`|Floating point|`np.dtype('f8') == np.int64`\n",
    "`c`|Complex floating point|`np.dtype('c16') == np.complex128`\n",
    "`S`, `'a'`|String|`np.dtype('S5')`\n",
    "`U`|Unicode string|`np.dtype('U') == np.str_`\n",
    "`V`|Raw data (void)|`np.dtype('V') == np.void`"
   ]
  },
  {
   "cell_type": "code",
   "execution_count": null,
   "metadata": {
    "id": "zcn-lR_EXAmy"
   },
   "outputs": [],
   "source": [
    "arr = np.array([1, 2, 3, 4])\n",
    "print(arr.dtype)"
   ]
  },
  {
   "cell_type": "code",
   "execution_count": null,
   "metadata": {
    "id": "oflcUd2AbrkL"
   },
   "outputs": [],
   "source": [
    "arr = np.array(['apple', 'banana', 'cherry'])\n",
    "print(arr.dtype)"
   ]
  },
  {
   "cell_type": "code",
   "execution_count": null,
   "metadata": {
    "id": "0E2x47JAgdWc"
   },
   "outputs": [],
   "source": [
    "arr = np.array([1, 2, 3, 4], dtype='S')\n",
    "print(arr)\n",
    "print(arr.dtype)"
   ]
  },
  {
   "cell_type": "code",
   "execution_count": null,
   "metadata": {
    "id": "yqRMva04hFlo"
   },
   "outputs": [],
   "source": [
    "arr = np.array([1, 2, 3, 4], dtype='i4')\n",
    "#Creamos una matriz con tipo de datos entero de 4 bytes\n",
    "print(arr)\n",
    "print(arr.dtype)"
   ]
  },
  {
   "cell_type": "code",
   "execution_count": null,
   "metadata": {
    "id": "JncIFhEXvCxR"
   },
   "outputs": [],
   "source": [
    "# arr = np.array (['a', '2', '3'], dtype = 'i')"
   ]
  },
  {
   "cell_type": "code",
   "execution_count": null,
   "metadata": {
    "id": "FbDljsYHw7Gq"
   },
   "outputs": [],
   "source": [
    "# Cambie el tipo de datos de flotante a entero usando 'i' como valor de parámetro:\n",
    "arr = np.array([1.1, 2.1, 3.1])\n",
    "newarr = arr.astype('i')\n",
    "print(newarr)\n",
    "print(newarr.dtype)"
   ]
  },
  {
   "cell_type": "code",
   "execution_count": null,
   "metadata": {
    "id": "egXfK4jcxEcQ"
   },
   "outputs": [],
   "source": [
    "# Cambie el tipo de datos de flotante a entero utilizando int como valor de parámetro:\n",
    "arr = np.array([1.1, 2.1, 3.1])\n",
    "newarr = arr.astype(int)\n",
    "print(newarr)\n",
    "print(newarr.dtype)"
   ]
  },
  {
   "cell_type": "code",
   "execution_count": null,
   "metadata": {
    "id": "ULFURMKMxmDn"
   },
   "outputs": [],
   "source": [
    "arr = np.array([1, 0, 3])\n",
    "newarr = arr.astype(bool)\n",
    "print(newarr)\n",
    "print(newarr.dtype)"
   ]
  },
  {
   "cell_type": "markdown",
   "metadata": {
    "id": "5tbEEfp-x7QC"
   },
   "source": [
    "##**Forma(Shape) de una matriz NumPy**\n",
    "\n",
    "###**Forma de una matriz**\n",
    "\n",
    "La forma de una matriz es el número de elementos en cada dimensión.\n",
    "\n",
    "###**Obtener la forma de una matriz**\n",
    "\n",
    "Las matrices NumPy tienen un atributo llamado forma que devuelve una tupla con cada índice que tiene el número de elementos correspondientes.\n",
    "\n",
    "```python\n",
    "arr = np.array([[1, 2, 3, 4], [5, 6, 7, 8]])\n",
    "print(arr.shape)\n",
    "```\n",
    "El ejemplo anterior devuelve `(2, 4)`, lo que significa que la matriz tiene 2 dimensiones (filas) y cada dimensión tiene 4 elementos (columnas).\n",
    "\n",
    "Cree una matriz con 5 dimensiones usando `ndmin` con valores `1, 2, 3, 4` y verifique que la última columna tenga el valor `4`:\n",
    "```python\n",
    "arr = np.array([1, 2, 3, 4], ndmin=5)\n",
    "print(arr)\n",
    "print('Forma de la matriz :', arr.shape)\n",
    "```\n",
    "Los enteros en cada índice indican el número de elementos que tiene la dimensión (fila) correspondiente. En el ejemplo anterior en el índice-4 tenemos el valor 4, por lo que podemos decir que la quinta dimensión (4 + 1ª) tiene 4 elementos.\n",
    "\n",
    "###**Reformado de matrices**\n",
    "\n",
    "Reformar significa cambiar la forma de una matriz. La forma de una matriz es el número de elementos en cada dimensión. Al remodelar, podemos agregar o eliminar dimensiones o cambiar el número de elementos en cada dimensión.\n",
    "\n",
    "###**Reformar 1-D a 2-D**\n",
    "\n",
    "Convertir una matriz 1-D con 12 elementos en una matriz 2-D. La dimensión más externa tendrá 4 matrices, cada una con 3 elementos:\n",
    "\n",
    "```python\n",
    "arr = np.array([1, 2, 3, 4, 5, 6, 7, 8, 9, 10, 11, 12])\n",
    "newarr = arr.reshape(4, 3)\n",
    "print(newarr)\n",
    "```\n",
    "\n",
    "###**Reformar 1-D a 3-D**\n",
    "\n",
    "Convierta la siguiente matriz 1-D con 12 elementos en una matriz 3-D. La dimensión más externa tendrá 2 matrices que contienen 3 matrices, cada una con 2 elementos:\n",
    "\n",
    "```python\n",
    "arr = np.array([1, 2, 3, 4, 5, 6, 7, 8, 9, 10, 11, 12])\n",
    "newarr = arr.reshape(2, 3, 2)\n",
    "print(newarr)\n",
    "```\n",
    "\n",
    "¿Podemos reformar en cualquier forma?\n",
    "Sí, siempre que los elementos necesarios para reformar sean iguales en ambas formas.\n",
    "\n",
    "Podemos remodelar una matriz 1D de 8 elementos en 4 elementos en una matriz 2D de 2 filas, pero no podemos remodelarla en una matriz 2D de 3 elementos y 3 filas, ya que eso requeriría 3x3 = 9 elementos."
   ]
  },
  {
   "cell_type": "code",
   "execution_count": null,
   "metadata": {
    "id": "gL3bHpVfy6tS"
   },
   "outputs": [],
   "source": [
    "arr = np.array([[1, 2, 3, 4], [5, 6, 7, 8]])\n",
    "print(arr.shape)"
   ]
  },
  {
   "cell_type": "code",
   "execution_count": null,
   "metadata": {
    "id": "poNt7v1kzgBC"
   },
   "outputs": [],
   "source": [
    "arr = np.array([1, 2, 3, 4], ndmin=5)\n",
    "print(arr)\n",
    "print('Forma de la matriz :', arr.shape)"
   ]
  },
  {
   "cell_type": "code",
   "execution_count": null,
   "metadata": {
    "id": "Gk9Vw5AE0bYx"
   },
   "outputs": [],
   "source": [
    "arr = np.array([1, 2, 3, 4, 5, 6, 7, 8, 9, 10, 11, 12])\n",
    "newarr = arr.reshape(4, 3)\n",
    "print(newarr)"
   ]
  },
  {
   "cell_type": "code",
   "execution_count": null,
   "metadata": {
    "id": "SvWtd3PF05cL"
   },
   "outputs": [],
   "source": [
    "arr = np.array([1, 2, 3, 4, 5, 6, 7, 8, 9, 10, 11, 12])\n",
    "newarr = arr.reshape(2, 3, 2)\n",
    "print(newarr)"
   ]
  },
  {
   "cell_type": "markdown",
   "metadata": {
    "id": "vd6E4IwT10SC"
   },
   "source": [
    "##**Iteración de Matrices NumPy**\n",
    "\n",
    "Iterar significa pasar por los elementos uno por uno. Como tratamos con matrices multidimensionales en NumPy, podemos hacer esto usando el ciclo `for` básico de Python.\n",
    "\n",
    "###**Iterar una Matriz 1-D**\n",
    "\n",
    "Si iteramos en una matriz 1-D, pasará por cada elemento uno por uno.\n",
    "\n",
    "```python\n",
    "arr = np.array([1, 2, 3])\n",
    "for x in arr:\n",
    "  print(x)\n",
    "```\n",
    "\n",
    "###**Iterar una Matriz 2-D**\n",
    "\n",
    "En una matriz 2-D, pasará por todas las filas.\n",
    "\n",
    "```python\n",
    "arr = np.array([[1, 2, 3], [4, 5, 6]])\n",
    "for x in arr:\n",
    "  print(x)\n",
    "```\n",
    "Si iteramos en una matriz n-D, pasará por la n-1a dimensión una por una.\n",
    "\n",
    "Para devolver los valores reales, los escalares, tenemos que iterar las matrices en cada dimensión.\n",
    "\n",
    "```python\n",
    "#Iterar cada elemento escalar de la matriz 2-D:\n",
    "arr = np.array([[1, 2, 3], [4, 5, 6]])\n",
    "for x in arr:\n",
    "  for y in x:\n",
    "    print(y)\n",
    "```\n",
    "\n",
    "###**Iterar una Matriz 3-D**\n",
    "\n",
    "En una matriz 3-D, pasará por todas las matrices 2-D.\n",
    "\n",
    "```python\n",
    "arr = np.array([[[1, 2, 3], [4, 5, 6]], [[7, 8, 9], [10, 11, 12]]])\n",
    "for x in arr:\n",
    "  print(x)\n",
    "```\n",
    "Para devolver los valores reales (escalares), tenemos que iterar las matrices en cada dimensión.\n",
    "\n",
    "```python\n",
    "#Iterar cada elemento escalar de la matriz 2-D:\n",
    "arr = np.array([[[1, 2, 3], [4, 5, 6]], [[7, 8, 9], [10, 11, 12]]])\n",
    "for x in arr:\n",
    "  for y in x:\n",
    "    for z in y:\n",
    "      print(z)\n",
    "```\n",
    "\n",
    "###**Iterando matrices usando `nditer()`**\n",
    "\n",
    "La función `nditer()` es una función de ayuda que se puede utilizar desde iteraciones muy básicas hasta muy avanzadas. Resuelve algunos problemas básicos que enfrentamos en iteración,\n",
    "\n",
    "###**Iterando en cada elemento escalar**\n",
    "\n",
    "En ciclos `for` básicos, iterando a través de cada escalar de una matriz, necesitamos usar `n` ciclos `for` que pueden ser difíciles de escribir para matrices con una dimensionalidad muy alta. `nditer()` es un objeto iterador multidimensional eficiente para iterar sobre matrices.\n",
    "Ejemplo\n",
    "Itere a través de la siguiente matriz 3-D:\n",
    "\n",
    "```python\n",
    "arr = np.array([[[1, 2], [3, 4]], [[5, 6], [7, 8]]])\n",
    "for x in np.nditer(arr):\n",
    "  print(x)\n",
    "```"
   ]
  },
  {
   "cell_type": "code",
   "execution_count": null,
   "metadata": {
    "id": "yNOGFqnc6xKn"
   },
   "outputs": [],
   "source": [
    "arr = np.array([1, 2, 3])\n",
    "for x in arr:\n",
    "  print(x)"
   ]
  },
  {
   "cell_type": "code",
   "execution_count": null,
   "metadata": {
    "id": "dwiHJXZJ7f4f"
   },
   "outputs": [],
   "source": [
    "arr = np.array([[1, 2, 3], [4, 5, 6]])\n",
    "for x in arr:\n",
    "  print(x)"
   ]
  },
  {
   "cell_type": "code",
   "execution_count": null,
   "metadata": {
    "id": "nx-CKwmK73zT"
   },
   "outputs": [],
   "source": [
    "#Iterar cada elemento escalar de la matriz 2-D:\n",
    "arr = np.array([[1, 2, 3], [4, 5, 6]])\n",
    "for x in arr:\n",
    "    print('Fila', x)\n",
    "    for y in x:\n",
    "        print('columna', y)"
   ]
  },
  {
   "cell_type": "code",
   "execution_count": null,
   "metadata": {
    "id": "gsNvg-Cd9GNr"
   },
   "outputs": [],
   "source": [
    "arr = np.array([[[1, 2, 3], [4, 5, 6]], [[7, 8, 9], [10, 11, 12]]])\n",
    "for x in arr:\n",
    "    print(x)"
   ]
  },
  {
   "cell_type": "code",
   "execution_count": null,
   "metadata": {
    "id": "Q2dC-Fzv9I-p"
   },
   "outputs": [],
   "source": [
    "arr = np.array([[[1, 2, 3], [4, 5, 6]], [[7, 8, 9], [10, 11, 12]]])\n",
    "for x in arr:\n",
    "  for y in x:\n",
    "    for z in y:\n",
    "      print(z)"
   ]
  },
  {
   "cell_type": "code",
   "execution_count": null,
   "metadata": {
    "id": "t4mAniKf9KGv"
   },
   "outputs": [],
   "source": [
    "arr = np.array([[[1, 2, 3], [4, 5, 6]], [[7, 8, 9], [10, 11, 12]]])\n",
    "for x in arr:\n",
    "    print('Matriz 2D',list(x))\n",
    "    for y in x:\n",
    "        print('\\tMatriz 1D',list(y))\n",
    "        for z in y:\n",
    "            print('\\t\\tMatriz 0D',z)"
   ]
  },
  {
   "cell_type": "code",
   "execution_count": null,
   "metadata": {
    "id": "UngLYJJd-7mO"
   },
   "outputs": [],
   "source": [
    "arr = np.array([[[1, 2], [3, 4]], [[5, 6], [7, 8]]])\n",
    "for x in np.nditer(arr):\n",
    "  print(x)"
   ]
  },
  {
   "cell_type": "markdown",
   "metadata": {
    "id": "lSuhukb__k0y"
   },
   "source": [
    "##**Búsqueda en Matrices NumPy**\n",
    "\n",
    "Puede buscar en una matriz un valor determinado y devolver los índices que coinciden. Para buscar una matriz, use el método `where()`.\n",
    "\n",
    "```python\n",
    "arr = np.array([1, 2, 3, 4, 5, 4, 4])\n",
    "x = np.where(arr == 4)\n",
    "print(x)\n",
    "```\n",
    "El ejemplo anterior devolverá una tupla: `(array([3, 5, 6]),)`\n",
    "Lo que significa que el valor 4 está presente en los índices 3, 5 y 6.\n",
    "\n",
    "Ejemplo: Detallar los índices pares.\n",
    "```python\n",
    "arr = np.array([1, 2, 3, 4, 5, 6, 7, 8])\n",
    "x = np.where(arr%2 == 0)\n",
    "print(x)\n",
    "```\n",
    "Ejemplo: Detallar los indices impares.\n",
    "```python\n",
    "arr = np.array([1, 2, 3, 4, 5, 6, 7, 8])\n",
    "x = np.where(arr%2 == 1)\n",
    "print(x)\n",
    "```"
   ]
  },
  {
   "cell_type": "code",
   "execution_count": null,
   "metadata": {
    "id": "lxMxVwc__y6l"
   },
   "outputs": [],
   "source": [
    "arr = np.array([1, 2, 3, 4, 5, 4, 4])\n",
    "x = np.where(arr == 4)\n",
    "print(x)"
   ]
  },
  {
   "cell_type": "code",
   "execution_count": null,
   "metadata": {
    "id": "e2HrXodOAWlw"
   },
   "outputs": [],
   "source": [
    "arr = np.array([1, 2, 3, 4, 5, 6, 7, 8])\n",
    "x = np.where(arr%2 == 0)\n",
    "print(x)"
   ]
  },
  {
   "cell_type": "code",
   "execution_count": null,
   "metadata": {
    "id": "1Z5cxJv-AYWm"
   },
   "outputs": [],
   "source": [
    "arr = np.array([1, 2, 3, 4, 5, 6, 7, 8])\n",
    "x = np.where(arr%2 == 1)\n",
    "print(x)"
   ]
  },
  {
   "cell_type": "markdown",
   "metadata": {
    "id": "iZPn_JqoEHQn"
   },
   "source": [
    "##**Filtros en Matrices NumPy**\n",
    "\n",
    "Obtener algunos elementos de una matriz existente y crear una nueva matriz a partir de ellos se llama filtrado. En NumPy, filtrar una matriz se hace usando una lista de índice booleano. Una lista de índices booleanos es una lista de valores booleanos correspondientes a los índices de la matriz.\n",
    "\n",
    "Si el valor de un índice es Verdadero, ese elemento está contenido en la matriz filtrada, si el valor de ese índice es Falso, ese elemento se excluye de la matriz filtrada.\n",
    "\n",
    "```python\n",
    "arr = np.array([41, 42, 43, 44])\n",
    "x = [True, False, True, False]\n",
    "newarr = arr[x]\n",
    "print(newarr)\n",
    "```\n",
    "\n",
    "###**Filtros en Matrices NumPy con condicionales**\n",
    "\n",
    "En el ejemplo anterior codificamos los valores Verdadero y Falso, pero el uso común es crear una matriz de filtros basada en condiciones.\n",
    "\n",
    "```python\n",
    "arr = np.array([41, 42, 43, 44])\n",
    "# Creamos una lista vacía\n",
    "filter_arr = []\n",
    "# Recorremos los elementos de la matriz\n",
    "for element in arr:\n",
    "  # Si el elemento es mayor a 42 se marca como verdadero de lo contrario se marca falso\n",
    "  if element > 42:\n",
    "    filter_arr.append(True)\n",
    "  else:\n",
    "    filter_arr.append(False)\n",
    "#Creamos la nueva matriz filtrada\n",
    "newarr = arr[filter_arr]\n",
    "print(filter_arr)\n",
    "print(newarr)\n",
    "```"
   ]
  },
  {
   "cell_type": "code",
   "execution_count": null,
   "metadata": {
    "id": "N2E4vDHDEfIK"
   },
   "outputs": [],
   "source": [
    "arr = np.array([41, 42, 43, 44])\n",
    "x = [True, False, True, False]\n",
    "newarr = arr[x]\n",
    "print(newarr)"
   ]
  },
  {
   "cell_type": "code",
   "execution_count": null,
   "metadata": {
    "id": "ET2lXDDvFF6U"
   },
   "outputs": [],
   "source": [
    "arr = np.array([41, 42, 43, 44])\n",
    "# Creamos una lista vacía\n",
    "filter_arr = []\n",
    "# Recorremos los elementos de la matriz\n",
    "for element in arr:\n",
    "  # Si el elemento es mayor a 42 se marca como verdadero de lo contrario se marca falso\n",
    "  if element > 42:\n",
    "    filter_arr.append(True)\n",
    "  else:\n",
    "    filter_arr.append(False)\n",
    "#Creamos la nueva matriz filtrada\n",
    "newarr = arr[filter_arr]\n",
    "print(filter_arr)\n",
    "print(newarr)"
   ]
  },
  {
   "cell_type": "code",
   "execution_count": null,
   "metadata": {
    "id": "-LSDkTGsFLAF"
   },
   "outputs": [],
   "source": [
    "#Ejemplo\n",
    "arr = np.array([1, 2, 3, 4, 5, 6, 7])\n",
    "filter_arr = []\n",
    "for element in arr:\n",
    "    if element % 2 == 0:\n",
    "        filter_arr.append(True)\n",
    "    else:\n",
    "        filter_arr.append(False)\n",
    "newarr = arr[filter_arr]\n",
    "print(filter_arr)\n",
    "print(newarr)"
   ]
  },
  {
   "cell_type": "markdown",
   "metadata": {
    "id": "uciMsYcnFW93"
   },
   "source": [
    "##**Otras formas de crear matrices en NumPy**\n",
    "\n",
    "Se pueden crear matrices usando funciones detalladas por NumPy de la siguiente manera:\n",
    "\n",
    "\n",
    "```python\n",
    "a = np.zeros((2,2))                        # Creación de un array de zeros\n",
    "print(\"Array de ceros\", a)                 # Imprime \"[[ 0.  0.]\n",
    "                                           #          [ 0.  0.]]\"\n",
    "\n",
    "b = np.ones((1,2))                         # Creación de un array de unos\n",
    "print(\"Arrays de unos\", b)                 # Imprime \"[[ 1.  1.]]\"\n",
    "\n",
    "c = np.full((2,2), 8)                      # Creación de un array de una costante\n",
    "print(\"Array constante\", c)                # Imprime \"[[ 8.  8.]\n",
    "                                           #          [ 8.  8.]]\"\n",
    "\n",
    "d = np.eye(2)                              # Creación de la matriz indentidad de 2x2.\n",
    "print(\"Matriz identidad 2x2\", d)           # Imprime \"[[ 1.  0.]\n",
    "                                           #          [ 0.  1.]]\"\n",
    "\n",
    "e = np.arange(0, 20, 2)                    # Creación de un vector lleno de una secuencia lineal\n",
    "print(\"Array de una secuencia lineal\" ,e)  # que comience en 0, finalice en 18, con paso 2.\n",
    "\n",
    "\n",
    "f = np.linspace(0, 1, 5)                   # Crea un vector de cinco valores espaciados\n",
    "print(\"Array de una secuencia lineal2\",f)  # uniformemente entre 0 y 1.   \n",
    "\n",
    "\n",
    "g = np.random.random((2,2))                # Creación de una matriz de 2x2 de valores aleatorios.\n",
    "print(\"Array de números aleatorios(u)\", g) # distribuidos uniformemente.\n",
    "\n",
    "\n",
    "h = np.random.normal(0, 1, (3, 3))         # Creación una matriz 3x3 de valores aleatorios normalmente\n",
    "print(\"Array de números aleatorios(n)\", h) # distribuidos con media 0 y desviación estándar 1.\n",
    "\n",
    "\n",
    "i = np.random.randint(0, 10, (3, 3))       # Creación de una matriz 3x3 de números enteros aleatorios\n",
    "print(\"Array de números aleatorios(i)\",i)  # en el intervalo [0,10)\n",
    "```\n",
    "\n"
   ]
  },
  {
   "cell_type": "code",
   "execution_count": null,
   "metadata": {
    "id": "kF0JbmkPFnqB"
   },
   "outputs": [],
   "source": [
    "print('---------------------++++++++++++++++++----------------------')\n",
    "a = np.zeros((2,2))                        # Creación de un array de zeros\n",
    "print(\"Array de ceros\", a)                 # Imprime \"[[ 0.  0.]\n",
    "                                           #          [ 0.  0.]]\"\n",
    "print('---------------------++++++++++++++++++----------------------')\n",
    "b = np.ones((1,2))                         # Creación de un array de unos\n",
    "print(\"Arrays de unos\", b)                 # Imprime \"[[ 1.  1.]]\"\n",
    "print('---------------------++++++++++++++++++----------------------')\n",
    "c = np.full((2,2), 8)                      # Creación de un array de una costante\n",
    "print(\"Array constante\", c)                # Imprime \"[[ 8.  8.]\n",
    "                                           #          [ 8.  8.]]\"\n",
    "print('---------------------++++++++++++++++++----------------------')\n",
    "d = np.eye(2)                              # Creación de la matriz indentidad de 2x2.\n",
    "print(\"Matriz identidad 2x2\", d)           # Imprime \"[[ 1.  0.]\n",
    "                                           #          [ 0.  1.]]\"\n",
    "print('---------------------++++++++++++++++++----------------------')\n",
    "e = np.arange(0, 20, 2)                    # Creación de un vector lleno de una secuencia lineal\n",
    "print(\"Array de una secuencia lineal\" ,e)  # que comience en 0, finalice en 18, con paso 2.\n",
    "print('---------------------++++++++++++++++++----------------------')\n",
    "f = np.linspace(0, 1, 5)                   # Crea un vector de cinco valores espaciados\n",
    "print(\"Array de una secuencia lineal2\",f)  # uniformemente entre 0 y 1.\n",
    "print('---------------------++++++++++++++++++----------------------')\n",
    "g = np.random.random((2,2))                # Creación de una matriz de 2x2 de valores aleatorios.\n",
    "print(\"Array de números aleatorios(u)\", g) # distribuidos uniformemente.\n",
    "print('---------------------++++++++++++++++++----------------------')\n",
    "h = np.random.normal(0, 1, (3, 3))         # Creación una matriz 3x3 de valores aleatorios normalmente\n",
    "print(\"Array de números aleatorios(n)\", h) # distribuidos con media 0 y desviación estándar 1.\n",
    "print('---------------------++++++++++++++++++----------------------')\n",
    "i = np.random.randint(0, 10, (3, 3))       # Creación de una matriz 3x3 de números enteros aleatorios\n",
    "print(\"Array de números aleatorios(i)\",i)  # en el intervalo [0,10)\n",
    "print('---------------------++++++++++++++++++----------------------')"
   ]
  },
  {
   "cell_type": "markdown",
   "metadata": {
    "id": "qAlSFFFoNG6Y"
   },
   "source": [
    "##**Funciones universales (ufunc)**\n",
    "\n",
    "Una función universal (o ufunc para abreviar) es una función que opera en `ndarrays` de una manera elemento por elemento, que admite [Broadcasting](https://numpy.org/doc/stable/user/basics.broadcasting.html) sobre matrices, conversión de tipos y varias otras características estándar. Es decir, un ufunc es un contenedor \"vectorizado\" para una función que toma un número fijo de entradas específicas y produce un número fijo de salidas específicas.\n",
    "\n",
    "En NumPy, las funciones universales son instancias de la clase `numpy.ufunc`. Muchas de las funciones integradas se implementan en código `C` compilado. Las ufuncs básicas operan sobre escalares, pero también hay un tipo generalizado para el cual los elementos básicos son submatrices (vectores, matrices, etc.), y el [Broadcasting](https://numpy.org/doc/stable/user/basics.broadcasting.html) se realiza sobre otras dimensiones. También se pueden producir instancias de ufunc personalizadas utilizando la función de fábrica frompyfunc.\n",
    "\n",
    "Las ufuncs más comunes de NumPy se describen a continuación:\n",
    "\n",
    "```python\n",
    "x = np.arange(1,5)\n",
    "print(x)\n",
    "# Operadores aritméticos\n",
    "print('x+2 ',np.add(x,2))\n",
    "print('x-2 ',np.subtract(x,2))\n",
    "print('-x ',np.negative(x))\n",
    "print('x*2 ',np.multiply(x,2))\n",
    "print('x/2 ',np.divide(x,2))\n",
    "print('x^2 ',np.power(x,2))\n",
    "# Funciones trigonométricas\n",
    "theta = np.linspace(0,np.pi,3)\n",
    "print('sin(theta)',np.sin(theta))\n",
    "print('cos(theta)',np.cos(theta))\n",
    "# Exponenciales y logaritmos\n",
    "print(\"e^x =\", np.exp(x))\n",
    "print(\"2^x =\", np.exp2(x))\n",
    "print(\"3^x =\", np.power(3, x))\n",
    "print(\"ln(x) =\", np.log(x))\n",
    "print(\"log2(x) =\", np.log2(x))\n",
    "print(\"log10(x) =\", np.log10(x))\n",
    "```\n",
    "\n"
   ]
  },
  {
   "cell_type": "code",
   "execution_count": null,
   "metadata": {
    "id": "X5V59y2_OlyO"
   },
   "outputs": [],
   "source": [
    "x = np.arange(1,5)\n",
    "print(x)\n",
    "# Operadores aritméticos\n",
    "print('x+2 ',np.add(x,2))\n",
    "print('x-2 ',np.subtract(x,2))\n",
    "print('-x ',np.negative(x))\n",
    "print('x*2 ',np.multiply(x,2))\n",
    "print('x/2 ',np.divide(x,2))\n",
    "print('x^2 ',np.power(x,2))\n",
    "# Funciones trigonométricas\n",
    "theta = np.linspace(0,np.pi,3)\n",
    "print('sin(theta)',np.sin(theta))\n",
    "print('cos(theta)',np.cos(theta))\n",
    "# Exponenciales y logaritmos\n",
    "print(\"e^x =\", np.exp(x))\n",
    "print(\"2^x =\", np.exp2(x))\n",
    "print(\"3^x =\", np.power(3, x))\n",
    "print(\"ln(x) =\", np.log(x))\n",
    "print(\"log2(x) =\", np.log2(x))\n",
    "print(\"log10(x) =\", np.log10(x))"
   ]
  },
  {
   "cell_type": "code",
   "execution_count": null,
   "metadata": {
    "id": "yhwTavfROvqj"
   },
   "outputs": [],
   "source": []
  },
  {
   "cell_type": "markdown",
   "metadata": {
    "id": "s0yn8hzNF7Ok"
   },
   "source": [
    "##**Operaciones Básicas**\n",
    "\n",
    "Las operaciones matemáticas básicas entre matrices, son operaciones elemento a elemento, y están disponibles, tanto como sobrecarga de operadores como en funciones en NumPy.\n",
    "\n",
    "\n",
    "\n",
    "```python\n",
    "x = np.array([[1,2],[3,4]], dtype=np.float64)\n",
    "y = np.array([[5,6],[7,8]], dtype=np.float64)\n",
    "# Suma elemento a elemento\n",
    "print(x + y)\n",
    "print(np.add(x, y))\n",
    "# Resta elemento a elemento.\n",
    "print(x - y)\n",
    "print(np.subtract(x, y))\n",
    "# Multiplicación elemento a elemento.\n",
    "print(x * y)\n",
    "print(np.multiply(x, y))\n",
    "# División elemento a elemento.\n",
    "print(x / y)\n",
    "print(np.divide(x, y))\n",
    "# Raiz cuadrada a cada elmento.\n",
    "print(np.sqrt(x))\n",
    "```\n",
    "Nótese que la multiplicación mediante el operador `*` corresponde a una multiplicación elemento a elemento entre dos matrices. En Python, la multiplicación matricial entre dos matrices se realiza mediante la función punto (`dot`).\n",
    "\n",
    "```python\n",
    "x = np.array([[1,2],[3,4]])\n",
    "y = np.array([[5,6],[7,8]])\n",
    "v = np.array([9,10])\n",
    "w = np.array([11, 12])\n",
    "# Producto entre vectores\n",
    "print(\"Producto vector-vector\",v.dot(w))\n",
    "print(\"Producto vector-vector\", np.dot(v, w),\"\\n\")\n",
    "# Producto matriz/vector;\n",
    "print(\"Producto matriz/vector \\n\",x.dot(v))\n",
    "print(\"Producto matriz/vector \\n\", np.dot(x, v),\"\\n\")\n",
    "# Producto matrix/matrix ;\n",
    "print(\"Producto matriz/matriz \\n\",x.dot(y),\"\\n\")\n",
    "print(\"Producto matriz/matriz \\n\",np.dot(x, y))\n",
    "```\n",
    "\n"
   ]
  },
  {
   "cell_type": "code",
   "execution_count": null,
   "metadata": {
    "id": "baCLFN1KMB1j"
   },
   "outputs": [],
   "source": [
    "x = np.array([[1,2],[3,4]], dtype=np.float64)\n",
    "y = np.array([[5,6],[7,8]], dtype=np.float64)\n",
    "# Suma elemento a elemento\n",
    "print('---------------------++++++++++++++++++----------------------')\n",
    "print('Suma elemento a elemento')\n",
    "print(x + y)\n",
    "print(np.add(x, y))\n",
    "print('---------------------++++++++++++++++++----------------------')\n",
    "# Resta elemento a elemento.\n",
    "print('Resta elemento a elemento')\n",
    "print(x - y)\n",
    "print(np.subtract(x, y))\n",
    "print('---------------------++++++++++++++++++----------------------')\n",
    "# Multiplicación elemento a elemento.\n",
    "print('Multiplicación elemento a elemento')\n",
    "print(x * y)\n",
    "print(np.multiply(x, y))\n",
    "print('---------------------++++++++++++++++++----------------------')\n",
    "# División elemento a elemento.\n",
    "print('División elemento a elemento')\n",
    "print(x / y)\n",
    "print(np.divide(x, y))\n",
    "print('---------------------++++++++++++++++++----------------------')\n",
    "# Raiz cuadrada a cada elmento.\n",
    "print('Raiz cuadrada a cada elmento')\n",
    "print(np.sqrt(x))\n",
    "print('---------------------++++++++++++++++++----------------------')"
   ]
  },
  {
   "cell_type": "code",
   "execution_count": null,
   "metadata": {
    "id": "KB0x8niNMxJ8"
   },
   "outputs": [],
   "source": [
    "x = np.array([[1,2],[3,4]])\n",
    "y = np.array([[5,6],[7,8]])\n",
    "\n",
    "v = np.array([9,10])\n",
    "w = np.array([11, 12])\n",
    "\n",
    "# Producto entre vectores\n",
    "print(\"Producto vector-vector\",v.dot(w))\n",
    "print(\"Producto vector-vector\", np.dot(v, w),\"\\n\")\n",
    "\n",
    "# Producto matriz/vector;\n",
    "print(\"Producto matriz/vector \\n\",x.dot(v))\n",
    "print(\"Producto matriz/vector \\n\", np.dot(x, v),\"\\n\")\n",
    "\n",
    "# Producto matrix/matrix ;\n",
    "print(\"Producto matriz/matriz \\n\",x.dot(y),\"\\n\")\n",
    "print(\"Producto matriz/matriz \\n\",np.dot(x, y))"
   ]
  },
  {
   "cell_type": "markdown",
   "metadata": {
    "id": "UguIyiL_9Evu"
   },
   "source": [
    "<p><a name=\"s17\"></a></p>\n",
    "\n",
    "# **17. Pandas**\n",
    "[[Contenidos]](#contents)\n",
    "\n",
    "<p><img alt=\"Pandas\" height=\"200px\" src=\"https://raw.githubusercontent.com/juliancastillo-iudigital/FundamentosProgramacionPosgrados2021-1/feee1baad810e4671256f00d1231bd0b94fffdd1/pandas.svg\" align=\"left\" hspace=\"10px\" vspace=\"0px\"></p></div>"
   ]
  },
  {
   "cell_type": "markdown",
   "metadata": {
    "id": "SNfdns2zR6Ub"
   },
   "source": [
    "##**¿Qué es [Pandas](https://pandas.pydata.org/)?**\n",
    "\n",
    "En Computación y Ciencia de datos, pandas es una biblioteca de software escrita como extensión de NumPy para manipulación y análisis de datos para el lenguaje de programación Python. En particular, ofrece estructuras de datos y operaciones para manipular tablas numéricas y series temporales. Es un software libre distribuido bajo la licencia [BSD](https://es.wikipedia.org/wiki/Licencia_BSD) versión tres cláusulas.​ El nombre deriva del término \"datos de panel\", término de econometría que designa datos que combinan una dimensión temporal con otra dimensión transversal.\n",
    "\n",
    "###**Características de la biblioteca**\n",
    "\n",
    "*   Tipo de datos DataFrame para manipulación de datos con indexación integrada.\n",
    "*   Herramientas para leer y escribir datos entre estructuras de dato en-memoria y formatos de archivo variados.\n",
    "*   Alineación de dato y manejo integrado de datos faltantes.\n",
    "*   Reestructuración y segmentación de conjuntos de datos.\n",
    "*   Segmentación vertical basada en etiquetas, indexación elegante, y segmentación horizontal de grandes conjuntos de datos.\n",
    "*   Inserción y eliminación de columnas en estructuras de datos.\n",
    "*   Agrupación predefinida en la biblioteca lo que permite realizar cadenas de operaciones dividir-aplicar-combinar sobre conjuntos de datos.\n",
    "*   Mezcla y unión de datos.\n",
    "*   Indexación jerárquica de ejes para trabajar con datos de altas dimensiones en estructuras de datos de menor dimensión.\n",
    "*   Funcionalidad de series de tiempo: generación de rangos de fechas y conversión de frecuencias, desplazamiento de ventanas estadísticas y de regresiones lineales, desplazamiento de fechas y retrasos.\n",
    "\n",
    "La biblioteca ha sido altamente optimizada en cuanto a rendimiento, con caminos de código crítico escritos en Cython o en C.\n",
    "\n",
    "\n",
    "\n",
    "*   Pandas nos permite analizar big data y sacar conclusiones basadas en teorías estadísticas.\n",
    "*   Los pandas pueden limpiar conjuntos de datos desordenados y hacerlos legibles y relevantes.\n",
    "*   Los datos relevantes son muy importantes en la ciencia de datos.\n",
    "\n",
    "###**¿Qué pueden hacer Pandas?**\n",
    "\n",
    "Pandas te da respuestas sobre los datos. Como:\n",
    "\n",
    "*   ¿Existe una correlación entre dos o más columnas?\n",
    "*   ¿Qué es el valor medio?\n",
    "*   ¿Valor máximo?\n",
    "*   ¿Valor mínimo?\n",
    "\n",
    "Pandas también pueden eliminar filas que no son relevantes o que contienen valores incorrectos, como valores vacíos o NULL. A esto se le llama limpiar los datos.\n",
    "\n",
    "###**¿Dónde está el código fuente de Pandas?**\n",
    "\n",
    "El código fuente de Pandas se encuentra en este repositorio de github\n",
    "*   [https://github.com/pandas-dev/pandas](https://github.com/pandas-dev/pandas)\n"
   ]
  },
  {
   "cell_type": "markdown",
   "metadata": {
    "id": "wuU6KxSRPcbD"
   },
   "source": [
    "##**Instalación de Pandas**\n",
    "\n",
    "Instalar Pandas en Google Colab no es necesario, dicho módulo se encuentra instalado, en caso de necesitar la instalación relacionamos un `pip install` con la llamada al módulo Pandas.\n",
    "\n",
    "\n",
    "```python\n",
    "!pip install Pandas\n",
    "```\n",
    "Importar el módulo Pandas se realiza con la palabra clave `import` y nótese el alias asignado al módulo es `pd` el cual es de uso generalizado en la comunidad de Pandas.\n",
    "\n",
    "```python\n",
    "import pandas as pd\n",
    "```\n",
    "\n",
    "Para verficar la versión de Pandas se puede realizar con `!pip list` o con la llamada especifica usando `!pip show pandas` o `!pip show --verbose pandas`\n",
    "\n",
    "\n"
   ]
  },
  {
   "cell_type": "code",
   "execution_count": null,
   "metadata": {
    "id": "H_UKkRiGY9C4"
   },
   "outputs": [],
   "source": [
    "import pandas as pd"
   ]
  },
  {
   "cell_type": "code",
   "execution_count": null,
   "metadata": {
    "id": "3-8b5oteY_jA"
   },
   "outputs": [],
   "source": [
    "!pip show pandas"
   ]
  },
  {
   "cell_type": "code",
   "execution_count": null,
   "metadata": {
    "id": "zvxBLDKaP4gV"
   },
   "outputs": [],
   "source": [
    "!pip show --verbose pandas"
   ]
  },
  {
   "cell_type": "markdown",
   "metadata": {
    "id": "oGCSS9B2X6Jg"
   },
   "source": [
    "##**¿Qué es una serie de Pandas?**\n",
    "\n",
    "Una serie Pandas es como una columna en una tabla. Es una matriz unidimensional que contiene datos de cualquier tipo.\n",
    "\n",
    "```python\n",
    "a = [1, 7, 2]\n",
    "myvar = pd.Series(a)\n",
    "print(myvar)\n",
    "```\n",
    "\n"
   ]
  },
  {
   "cell_type": "code",
   "execution_count": null,
   "metadata": {
    "id": "SqGU9O8oZNDm"
   },
   "outputs": [],
   "source": [
    "a = [1, 7, 2]\n",
    "myvar = pd.Series(a)\n",
    "print(myvar)"
   ]
  },
  {
   "cell_type": "markdown",
   "metadata": {
    "id": "dKudNhhCZdnC"
   },
   "source": [
    "##**Etiquetas-Labels**\n",
    "\n",
    "Si no se especifica nada más, los valores se etiquetan con su número de índice. El primer valor tiene índice 0, el segundo valor tiene índice 1, etc.\n",
    "\n",
    "Esta etiqueta se puede utilizar para acceder a un valor especificado.\n",
    "\n",
    "Ejemplo\n",
    "Devuelve el primer valor de la serie:\n",
    "\n",
    "```python\n",
    "print(myvar[0])\n",
    "```\n",
    "\n",
    "###**Crear etiquetas**\n",
    "\n",
    "Con el argumento de índice, puede nombrar sus propias etiquetas.\n",
    "Ejemplo\n",
    "Crea tus propias etiquetas:\n",
    "```python\n",
    "a = [1, 7, 2]\n",
    "myvar = pd.Series(a, index = [\"x\", \"y\", \"z\"])\n",
    "print(myvar)\n",
    "```\n",
    "\n",
    "Cuando haya creado etiquetas, puede acceder a un elemento consultando la etiqueta.\n",
    "\n",
    "Ejemplo\n",
    "Devuelve el valor de \"y\":\n",
    "\n",
    "```python\n",
    "print(myvar[\"y\"])\n",
    "```\n",
    "\n",
    "###**Objetos `clave/valor` como serie**\n",
    "\n",
    "También puede utilizar un objeto `clave/valor`, como un diccionario, al crear una serie.\n",
    "\n",
    "Ejemplo\n",
    "Cree una serie Pandas simple a partir de un diccionario:\n",
    "```python\n",
    "calories = {\"day1\": 420, \"day2\": 380, \"day3\": 390}\n",
    "myvar = pd.Series(calories)\n",
    "print(myvar)\n",
    "```\n",
    "Nota: Las claves del diccionario se convierten en etiquetas.\n",
    "\n",
    "Para seleccionar solo algunos de los elementos del diccionario, use el argumento del índice y especifique solo los elementos que desea incluir en la Serie.\n",
    "\n",
    "Ejemplo\n",
    "Cree una serie utilizando solo datos de \"día1\" y \"día2\":\n",
    "```python\n",
    "calories = {\"day1\": 420, \"day2\": 380, \"day3\": 390}\n",
    "myvar = pd.Series(calories, index = [\"day1\", \"day2\"])\n",
    "print(myvar)\n",
    "```\n"
   ]
  },
  {
   "cell_type": "code",
   "execution_count": null,
   "metadata": {
    "id": "6icFJDx6bmI3"
   },
   "outputs": [],
   "source": [
    "print(myvar[0])"
   ]
  },
  {
   "cell_type": "code",
   "execution_count": null,
   "metadata": {
    "id": "rao5GcnfcIzi"
   },
   "outputs": [],
   "source": [
    "a = [1, 7, 2]\n",
    "myvar = pd.Series(a, index = [\"x\", \"y\", \"z\"])\n",
    "print(myvar)"
   ]
  },
  {
   "cell_type": "code",
   "execution_count": null,
   "metadata": {
    "id": "8474bnmMcSj8"
   },
   "outputs": [],
   "source": [
    "print(myvar[\"y\"])"
   ]
  },
  {
   "cell_type": "code",
   "execution_count": null,
   "metadata": {
    "id": "jdIeQIyccuT3"
   },
   "outputs": [],
   "source": [
    "calories = {\"day1\": 420, \"day2\": 380, \"day3\": 390}\n",
    "myvar = pd.Series(calories)\n",
    "print(myvar)"
   ]
  },
  {
   "cell_type": "code",
   "execution_count": null,
   "metadata": {
    "id": "wmc6AOiwdAFl"
   },
   "outputs": [],
   "source": [
    "calories = {\"day1\": 420, \"day2\": 380, \"day3\": 390}\n",
    "myvar = pd.Series(calories, index = [\"day1\", \"day2\"])\n",
    "print(myvar)"
   ]
  },
  {
   "cell_type": "markdown",
   "metadata": {
    "id": "yEMdn5D6g2Ir"
   },
   "source": [
    "##**DataFrames**\n",
    "\n",
    "![](https://pandas.pydata.org/docs/_images/01_table_dataframe.svg)\n",
    "\n",
    "Los conjuntos de datos en Pandas suelen ser tablas multidimensionales, llamadas DataFrames. La serie es como una columna, un DataFrame es la tabla completa.\n",
    "\n",
    "Ejemplo\n",
    "Cree un DataFrame a partir de dos series:\n",
    "\n",
    "```python\n",
    "data = {\n",
    "  \"calories\": [420, 380, 390],\n",
    "  \"duration\": [50, 40, 45]\n",
    "}\n",
    "df = pd.DataFrame(data)\n",
    "print(df)\n",
    "```\n",
    "\n",
    "###**Localizar fila**\n",
    "\n",
    "Pandas utiliza el atributo loc para devolver una o más filas especificadas\n",
    "\n",
    "```python\n",
    "print(df.loc[0])\n",
    "```\n",
    "Nota: Este ejemplo devuelve una serie Pandas.\n",
    "\n",
    "Ahora retornaremos la fila 0 y 1\n",
    "```python\n",
    "print(df.loc[[0, 1]])\n",
    "```\n",
    "Nota: Al usar `[]`, el resultado es un DataFrame de Pandas.\n",
    "\n",
    "###**Índices nombrados**\n",
    "\n",
    "Con el argumento de `index`, puede nombrar sus propios índices.\n",
    "\n",
    "Ejemplo\n",
    "Agregue una lista de nombres para darle un nombre a cada fila:\n",
    "\n",
    "```python\n",
    "data = {\n",
    "  \"calories\": [420, 380, 390],\n",
    "  \"duration\": [50, 40, 45]\n",
    "}\n",
    "df = pd.DataFrame(data, index = [\"day1\", \"day2\", \"day3\"])\n",
    "print(df)\n",
    "```\n",
    "\n",
    "###**Localizar Índices nombrados**\n",
    "\n",
    "Utilice el índice nombrado en el atributo `loc` para devolver las filas especificadas:\n",
    "\n",
    "```python\n",
    "print(df.loc[\"day2\"])\n",
    "```"
   ]
  },
  {
   "cell_type": "code",
   "execution_count": null,
   "metadata": {
    "id": "Z8K9e39ghB6Z"
   },
   "outputs": [],
   "source": [
    "data = {\n",
    "  \"calories\": [420, 380, 390],\n",
    "  \"duration\": [50, 40, 45]\n",
    "}\n",
    "df = pd.DataFrame(data)\n",
    "print(df)"
   ]
  },
  {
   "cell_type": "code",
   "execution_count": null,
   "metadata": {
    "id": "UmU8-M9MGVKb"
   },
   "outputs": [],
   "source": [
    "df.head()"
   ]
  },
  {
   "cell_type": "code",
   "execution_count": null,
   "metadata": {
    "id": "S8U5d5fIi-xk"
   },
   "outputs": [],
   "source": [
    "print(df.loc[0])"
   ]
  },
  {
   "cell_type": "code",
   "execution_count": null,
   "metadata": {
    "id": "PUQQYMBxjt6J"
   },
   "outputs": [],
   "source": [
    "print(df.loc[[0, 1]])"
   ]
  },
  {
   "cell_type": "code",
   "execution_count": null,
   "metadata": {
    "id": "vyYrLw0rkU22"
   },
   "outputs": [],
   "source": [
    "data = {\n",
    "  \"calories\": [420, 380, 390],\n",
    "  \"duration\": [50, 40, 45]\n",
    "}\n",
    "df = pd.DataFrame(data, index = [\"day1\", \"day2\", \"day3\"])\n",
    "print(df)"
   ]
  },
  {
   "cell_type": "code",
   "execution_count": null,
   "metadata": {
    "id": "Z0-w7ABElNGn"
   },
   "outputs": [],
   "source": [
    "print(df.loc[\"day2\"])"
   ]
  },
  {
   "cell_type": "markdown",
   "metadata": {
    "id": "zHxTKj26mKrQ"
   },
   "source": [
    "##**Cargar archivos en un DataFrame**\n",
    "\n",
    "\n",
    "Si sus conjuntos de datos están almacenados en un archivo, Pandas puede cargarlos en un DataFrame. A continuación, mostraremos los ejemplos básicos de carga de datos y los archivos genéricos para ello.\n",
    "\n",
    "###**Pandas - Leer CSV**\n",
    "\n",
    "Una forma sencilla de almacenar grandes conjuntos de datos es utilizar archivos CSV (archivos separados por comas). Los archivos CSV contienen texto plano y es un formato bien conocido que puede ser leído por muchos programas, incluido Pandas.\n",
    "\n",
    "En nuestros ejemplos usaremos un archivo CSV llamado `'california_housing_test.csv'`\n",
    "\n",
    "`'california_housing_test.csv'` se encuentra por defecto en la ruta '/content/sample_data/california_housing_test.csv'\n",
    "\n",
    "```python\n",
    "df = pd.read_csv('/content/sample_data/california_housing_test.csv')\n",
    "print(df.to_string())\n",
    "```\n",
    "De forma predeterminada, cuando imprime un DataFrame, solo obtendrá las primeras 5 filas y las últimas 5 filas.\n",
    "\n",
    "Nota: Usamos la función `to_string()` para imprimir todo el conjunto de datos.\n",
    "\n",
    "---\n",
    "\n",
    "<p><img alt=\"Pandas\" height=\"150px\" src=\"https://upload.wikimedia.org/wikipedia/commons/thumb/3/38/CsvDelimited001.svg/800px-CsvDelimited001.svg.png\" align=\"left\" hspace=\"10px\" vspace=\"0px\"></p></div>\n",
    "\n",
    "\n",
    "Los archivos CSV (del inglés comma-separated values) son un tipo de documento en formato abierto sencillo para representar datos en forma de tabla, en las que las columnas se separan por comas (o punto y coma en donde la coma es el separador decimal como en Chile, Perú, Argentina, España, Brasil, entre otros) y las filas por saltos de línea.\n",
    "El formato CSV es muy sencillo y no indica un juego de caracteres concreto, ni cómo van situados los bytes, ni el formato para el salto de línea. Estos puntos deben indicarse muchas veces al abrir el archivo, por ejemplo, con una hoja de cálculo.\n",
    "\n",
    "---\n",
    "\n",
    "###**Pandas - Leer JSON**\n",
    "\n",
    "Los grandes conjuntos de datos a menudo se almacenan o extraen como JSON. JSON es texto sin formato, pero tiene el formato de un objeto y es muy conocido en el mundo de la programación, incluido Pandas.\n",
    "\n",
    "En nuestros ejemplos usaremos un archivo JSON llamado `'anscombe.json'`\n",
    "\n",
    "`'anscombe.json'` se encuentra por defecto en la ruta '/content/sample_data/anscombe.json'\n",
    "\n",
    "```python\n",
    "df = pd.read_json('/content/sample_data/anscombe.json')\n",
    "print(df.to_string())\n",
    "```\n",
    "De forma predeterminada, cuando imprime un DataFrame, solo obtendrá las primeras 5 filas y las últimas 5 filas.\n",
    "\n",
    "Nota: Usamos la función `head()` para imprimir los primeros cinco datos.\n",
    "Nota: Usamos la función `tail()` para imprimir los últimos cinco datos incluyendo los encabezados.\n",
    "\n",
    "---\n",
    "\n",
    "<p><img alt=\"Pandas\" height=\"180px\" src=\"https://upload.wikimedia.org/wikipedia/commons/thumb/c/c9/JSON_vector_logo.svg/1200px-JSON_vector_logo.svg.png\" align=\"left\" hspace=\"10px\" vspace=\"0px\"></p></div>\n",
    "\n",
    "\n",
    "JSON (acrónimo de JavaScript Object Notation, «notación de objeto de JavaScript») es un formato de texto sencillo para el intercambio de datos. Se trata de un subconjunto de la notación literal de objetos de JavaScript, aunque, debido a su amplia adopción como alternativa a XML, se considera (año 2019) un formato independiente del lenguaje. Una de las supuestas ventajas de JSON sobre XML como formato de intercambio de datos es que resulta mucho más sencillo escribir un analizador sintáctico (parser) para él. En JavaScript, un texto JSON se puede analizar fácilmente usando la función eval(), algo que (debido a la ubicuidad de JavaScript en casi cualquier navegador web) ha sido fundamental para que haya sido aceptado por parte de la comunidad de desarrolladores AJAX.\n",
    "\n",
    "---\n",
    "###**Información sobre los datos**\n",
    "\n",
    "El objeto DataFrames tiene un método llamado `info()`, que le brinda más información sobre el conjunto de datos.\n",
    "```python\n",
    "df = pd.read_json('/content/sample_data/anscombe.json')\n",
    "print(df.info())\n",
    "```\n",
    "```python\n",
    "<class 'pandas.core.frame.DataFrame'>\n",
    "RangeIndex: 44 entries, 0 to 43\n",
    "Data columns (total 3 columns):\n",
    " #   Column  Non-Null Count  Dtype  \n",
    "---  ------  --------------  -----  \n",
    " 0   Series  44 non-null     object\n",
    " 1   X       44 non-null     int64  \n",
    " 2   Y       44 non-null     float64\n",
    "dtypes: float64(1), int64(1), object(1)\n",
    "memory usage: 1.2+ KB\n",
    "None\n",
    "```\n",
    "\n"
   ]
  },
  {
   "cell_type": "code",
   "execution_count": null,
   "metadata": {
    "id": "EaKe9hU8qe1K"
   },
   "outputs": [],
   "source": [
    "df = pd.read_csv('/content/sample_data/california_housing_test.csv')\n",
    "print(df)"
   ]
  },
  {
   "cell_type": "code",
   "execution_count": null,
   "metadata": {
    "id": "tnlyUuO0rPHc"
   },
   "outputs": [],
   "source": [
    "#df = pd.read_csv('/content/sample_data/california_housing_test.csv')\n",
    "#print(df.to_string())"
   ]
  },
  {
   "cell_type": "code",
   "execution_count": null,
   "metadata": {
    "id": "fATeCuMqtnSc"
   },
   "outputs": [],
   "source": [
    "df = pd.read_json('/content/sample_data/anscombe.json')\n",
    "print(df.head())"
   ]
  },
  {
   "cell_type": "code",
   "execution_count": null,
   "metadata": {
    "id": "V6WQzrlStihq"
   },
   "outputs": [],
   "source": [
    "print(df.tail())"
   ]
  },
  {
   "cell_type": "code",
   "execution_count": null,
   "metadata": {
    "id": "MIZn6aNCzbhv"
   },
   "outputs": [],
   "source": [
    "print(df.info())"
   ]
  },
  {
   "cell_type": "markdown",
   "metadata": {
    "id": "BFC-hLxP9Ev3"
   },
   "source": [
    "<p><a name=\"s18\"></a></p>\n",
    "\n",
    "# **18. Matplotlib**\n",
    "[[Contenidos]](#contents)\n",
    "\n",
    "<p><img alt=\"matplotlib\" height=\"200px\" src=\"https://matplotlib.org/_static/logo2_compressed.svg\" align=\"left\" hspace=\"10px\" vspace=\"0px\"></p></div>"
   ]
  },
  {
   "cell_type": "markdown",
   "metadata": {
    "id": "elhxRXZx3trq"
   },
   "source": [
    "##**¿Qué es [Matplotlib](https://matplotlib.org/)?**\n",
    "\n",
    "Matplotlib es una biblioteca de trazado para el lenguaje de programación Python y su extensión matemática numérica NumPy. Proporciona una API orientada a objetos para incrustar gráficos en aplicaciones que utilizan kits de herramientas de GUI de uso general como Tkinter, wxPython, Qt o GTK. También hay una interfaz de procedimiento \"pylab\" basada en una máquina de estado (como OpenGL), diseñada para parecerse mucho a la de MATLAB, aunque se desaconseja su uso. SciPy hace uso de Matplotlib. Matplotlib fue escrito originalmente por John D. Hunter. Desde entonces tiene una comunidad de desarrollo activa y se distribuye bajo una licencia estilo BSD. Michael Droettboom fue nominado como desarrollador principal de matplotlib poco antes de la muerte de John Hunter en agosto de 2012 y se le unió Thomas Caswell.\n",
    "\n",
    "![](https://matplotlib.org/stable/_images/sphx_glr_anatomy_001.png)"
   ]
  },
  {
   "cell_type": "markdown",
   "metadata": {
    "id": "QB0C8BrH3trs"
   },
   "source": [
    "##**Instalación de Matplotlib**\n",
    "\n",
    "Instalar Matplotlib en Google Colab no es necesario, dicho módulo se encuentra instalado, en caso de necesitar la instalación relacionamos un `pip install` con la llamada al módulo Matplotlib.\n",
    "\n",
    "\n",
    "```python\n",
    "!pip install matplotlib\n",
    "```\n",
    "Importar el módulo Matplotlib se realiza con la palabra clave `import` y nótese el alias asignado al módulo es `pd` el cual es de uso generalizado en la comunidad de Matplotlib.\n",
    "\n",
    "```python\n",
    "import matplotlib as mlib\n",
    "```\n",
    "\n",
    "Para verficar la versión de Matplotlib se puede realizar con `!pip list` o con la llamada especifica usando `!pip show matplotlib` o `!pip show --verbose matplotlib`\n",
    "\n",
    "\n"
   ]
  },
  {
   "cell_type": "code",
   "execution_count": null,
   "metadata": {
    "id": "jZ0cmMJb3trt"
   },
   "outputs": [],
   "source": [
    "import matplotlib as mlib"
   ]
  },
  {
   "cell_type": "code",
   "execution_count": null,
   "metadata": {
    "id": "Em0QwsO83tru"
   },
   "outputs": [],
   "source": [
    "!pip show matplotlib"
   ]
  },
  {
   "cell_type": "code",
   "execution_count": null,
   "metadata": {
    "id": "OH9CkcvX3trv"
   },
   "outputs": [],
   "source": [
    "!pip show --verbose matplotlib"
   ]
  },
  {
   "cell_type": "markdown",
   "metadata": {
    "id": "xvZpQhkR6RDY"
   },
   "source": [
    "##**Matplotlib - Pyplot**\n",
    "\n",
    "La mayoría de las utilidades de Matplotlib se encuentran en el submódulo pyplot y, por lo general, se importan con el alias plt:\n",
    "\n",
    "```python\n",
    "import matplotlib.pyplot as plt\n",
    "```\n",
    "\n",
    "Ahora se puede hacer referencia al paquete Pyplot como `plt`.\n",
    "\n",
    "Ejemplo: Dibuje una línea en una gráfica desde la posición (0,0) hasta la posición (6,250):\n",
    "\n",
    "```python\n",
    "import matplotlib.pyplot as plt\n",
    "import numpy as np\n",
    "xpoints = np.array([0, 6])\n",
    "ypoints = np.array([0, 250])\n",
    "plt.plot(xpoints, ypoints)\n",
    "plt.show()\n",
    "```\n",
    "\n",
    "![](https://raw.githubusercontent.com/juliancastillo-iudigital/FundamentosProgramacionPosgrados2021-1/main/matplotlib1.png)\n",
    "\n",
    "###**Graficar puntos $x$ e $y$**\n",
    "\n",
    "La función `plot()` se usa para dibujar puntos (marcadores) en una gráfica.\n",
    "De forma predeterminada, la función `plot()` dibuja una línea de un punto a otro. La función toma parámetros para especificar puntos en el gráfico.\n",
    "\n",
    "*   El parámetro 1 es una matriz que contiene los puntos en el eje $x$.\n",
    "*   El parámetro 2 es una matriz que contiene los puntos en el eje $y$.\n",
    "\n",
    "Si necesitamos trazar una línea de `(1, 3)` a `(8, 10)`, tenemos que pasar dos matrices `[1, 8]` y `[3, 10]` a la función de trazado.\n",
    "\n",
    "Ejemplo\n",
    "Dibuje una línea en un diagrama desde la posición `(1, 3)` a la posición `(8, 10)`:\n",
    "\n",
    "```python\n",
    "xpoints = np.array([1, 8])\n",
    "ypoints = np.array([3, 10])\n",
    "plt.plot(xpoints, ypoints)\n",
    "plt.show()\n",
    "```\n",
    "![](https://raw.githubusercontent.com/juliancastillo-iudigital/FundamentosProgramacionPosgrados2021-1/main/matplotlib2.png)\n",
    "\n",
    "***x-axis es el eje horizontal.***\n",
    "\n",
    "***y-axis es el eje vertical.***\n",
    "\n",
    "###**Trazado sin línea**\n",
    "\n",
    "Para trazar solo los marcadores, podemos utilizar el atajo tipo texto `'o'` como argumento que simboliza a anillos en el contexto de Pyplot.\n",
    "\n",
    "Ejemplo\n",
    "Dibuje dos puntos en el diagrama, uno en la posición `(1, 3)` y otro en la posición `(8, 10)`:\n",
    "\n",
    "```python\n",
    "xpoints = np.array([1, 8])\n",
    "ypoints = np.array([3, 10])\n",
    "plt.plot(xpoints, ypoints, 'o')\n",
    "plt.show()\n",
    "```\n",
    "![](https://raw.githubusercontent.com/juliancastillo-iudigital/FundamentosProgramacionPosgrados2021-1/main/matplotlib3.png)\n",
    "\n",
    "###**Múltiples puntos**\n",
    "\n",
    "Se pueden trazar múltiples puntos siempre y cuando existan los mismos puntos en ambos ejes.\n",
    "\n",
    "Ejemplo\n",
    "Dibuje una línea en un diagrama desde la posición `(1, 3)` a `(2, 8)` luego a `(6, 1)` y finalmente a la posición `(8, 10)`:\n",
    "\n",
    "```python\n",
    "xpoints = np.array([1, 2, 6, 8])\n",
    "ypoints = np.array([3, 8, 1, 10])\n",
    "plt.plot(xpoints, ypoints)\n",
    "plt.show()\n",
    "```\n",
    "![](https://raw.githubusercontent.com/juliancastillo-iudigital/FundamentosProgramacionPosgrados2021-1/main/matplotlib4.png)"
   ]
  },
  {
   "cell_type": "code",
   "execution_count": null,
   "metadata": {
    "id": "Q2s315fw63Td"
   },
   "outputs": [],
   "source": [
    "import matplotlib.pyplot as plt"
   ]
  },
  {
   "cell_type": "code",
   "execution_count": null,
   "metadata": {
    "id": "nuky2yjn6-Ta"
   },
   "outputs": [],
   "source": [
    "import numpy as np\n",
    "xpoints = np.array([0, 6])\n",
    "ypoints = np.array([0, 250])\n",
    "plt.plot(xpoints, ypoints)\n",
    "plt.show()\n",
    "print(xpoints, ypoints)"
   ]
  },
  {
   "cell_type": "code",
   "execution_count": null,
   "metadata": {
    "id": "VIMiBncaFrXL"
   },
   "outputs": [],
   "source": [
    "xpoints = np.array([1, 8])\n",
    "ypoints = np.array([3, 10])\n",
    "plt.plot(xpoints, ypoints)\n",
    "plt.show()"
   ]
  },
  {
   "cell_type": "code",
   "execution_count": null,
   "metadata": {
    "id": "5dKzzpnjHkQ8"
   },
   "outputs": [],
   "source": [
    "xpoints = np.array([1, 8])\n",
    "ypoints = np.array([3, 10])\n",
    "plt.plot(xpoints, ypoints, 'o')\n",
    "plt.show()"
   ]
  },
  {
   "cell_type": "code",
   "execution_count": null,
   "metadata": {
    "id": "oBSMXmo1I-n1"
   },
   "outputs": [],
   "source": [
    "xpoints = np.array([1, 2, 6, 8])\n",
    "ypoints = np.array([3, 8, 1, 10])\n",
    "plt.plot(xpoints, ypoints)\n",
    "plt.show()"
   ]
  },
  {
   "cell_type": "markdown",
   "metadata": {
    "id": "Lm8G-IGAJSFz"
   },
   "source": [
    "###**Puntos $x$ predeterminados**\n",
    "\n",
    "Si no especificamos los puntos en el eje $x$, obtendrán los valores predeterminados 0, 1, 2, 3, (etc., dependiendo de la longitud de $y$).\n",
    "\n",
    "Entonces, si tomamos el mismo ejemplo anterior y omitimos los puntos $x$, el diagrama se verá así:\n",
    "\n",
    "Ejemplo: Trazado sin puntos $x$:\n",
    "\n",
    "**Los x-points en el ejemplo son [0, 1, 2, 3, 4, 5].**"
   ]
  },
  {
   "cell_type": "code",
   "execution_count": null,
   "metadata": {
    "id": "oeI4NXFvJm6i"
   },
   "outputs": [],
   "source": [
    "ypoints = np.array([3, 8, 1, 10, 5, 7])\n",
    "plt.plot(ypoints)\n",
    "plt.show()"
   ]
  },
  {
   "cell_type": "markdown",
   "metadata": {
    "id": "mMWt8lzKKY5D"
   },
   "source": [
    "###**Matplotlib Markers - Marcadores**\n",
    "\n",
    "###**Markers - Marcadores**\n",
    "\n",
    "Puede utilizar el argumento tipo `keyword` para enfatizar cada punto de un gráfico con un marcador especifico.\n",
    "\n",
    "Ejemplo: Marque cada punto con un círculo y una estrella:\n"
   ]
  },
  {
   "cell_type": "code",
   "execution_count": null,
   "metadata": {
    "id": "MPAEC5TxLITW"
   },
   "outputs": [],
   "source": [
    "ypoints = np.array([3, 8, 1, 10])\n",
    "plt.plot(ypoints, marker = 'o')\n",
    "plt.show()\n",
    "plt.plot(ypoints, marker = '*')\n",
    "plt.show()"
   ]
  },
  {
   "cell_type": "markdown",
   "metadata": {
    "id": "x15Eu7SlLZ4C"
   },
   "source": [
    "###**Markers - Referencias**\n",
    "\n",
    "Se pueden utilizar los siguientes marcadores.\n",
    "\n",
    "Marcador|Descripción\n",
    "---|---\n",
    "<center>`'*'`</center>|<center>Estrella</center>\n",
    "<center>`'.'`</center>|<center>Punto</center>\n",
    "<center>`','`</center>|<center>Pixel</center>\n",
    "<center>`'x'`</center>|<center>x</center>\n",
    "<center>`'X'`</center>|<center>X (Negrita)</center>\n",
    "<center>`'+'`</center>|<center>+</center>\n",
    "<center>`'P'`</center>|<center>+ (Negrita)</center>\n",
    "<center>`'s'`</center>|<center>Cuadro</center>\n",
    "<center>`'D'`</center>|<center>Diamante</center>\n",
    "<center>`'d'`</center>|<center>Diamante delgado</center>\n",
    "<center>`'p'`</center>|<center>Pentágono</center>\n",
    "<center>`'H'`</center>|<center>Hexágono</center>\n",
    "<center>`'h'`</center>|<center>Hexágono</center>\n",
    "<center>`'v'`</center>|<center>Triangulo Abajo</center>\n",
    "<center>`'^'`</center>|<center>Triangulo Arriba</center>\n",
    "<center>`'<'`</center>|<center>Triangulo Izquierda</center>\n",
    "<center>`'>'`</center>|<center>Triangulo Derecha</center>\n",
    "<center>`'1'`</center>|<center>Tri Abajo</center>\n",
    "<center>`'2'`</center>|<center>Tri Arriba</center>\n",
    "<center>`'3'`</center>|<center>Tri Izquierda</center>\n",
    "<center>`'4'`</center>|<center>Tri Derecha</center>\n",
    "<center>\\|</center>|<center>Vline(Pipe)</center>\n",
    "<center>`'_'`</center>|<center>Hline(Underscore)</center>\n"
   ]
  },
  {
   "cell_type": "markdown",
   "metadata": {
    "id": "SQuhaTEaQJhH"
   },
   "source": [
    "###**Format Strings `fmt`**\n",
    "\n",
    "También se puede usar el atajo `shortcut string notation` para especificar el marcador, este parámetro es también llamado `fmt` y su sintaxis se detalla de la siguiente manera:\n",
    "\n",
    "`marker|line|color`\n",
    "\n",
    "El marcador puede ser cualquiera de los detallados previamente y la línea puede ser cualquiera de las detalladas a continuación:\n",
    "\n",
    "Línea Sintaxis|Descripción\n",
    "---|---\n",
    "`'-'`|Línea solida\n",
    "`':'`|Línea de puntos\n",
    "`'--'`|Línea de guiones\n",
    "`'-.'`|Línea de puntos y guiones\n",
    "\n",
    "Nota: Si omite el valor de la línea en el parámetro `fmt`, no se trazará ninguna línea."
   ]
  },
  {
   "cell_type": "code",
   "execution_count": null,
   "metadata": {
    "id": "4kIwtu32RuJp"
   },
   "outputs": [],
   "source": [
    "ypoints = np.array([3, 8, 1, 10])\n",
    "plt.plot(ypoints, 'o:r')\n",
    "plt.show()"
   ]
  },
  {
   "cell_type": "markdown",
   "metadata": {
    "id": "UIEzVaj8S_co"
   },
   "source": [
    "###**Colores**\n",
    "\n",
    "El color puede ser uno de los siguientes:\n",
    "\n",
    "Color Syntaxis|Descripción\n",
    "---|---\n",
    "`'r'`|Rojo\n",
    "`'g'`|Verde\n",
    "`'b'`|Azul\n",
    "`'c'`|Cyan\n",
    "`'m'`|Magenta\n",
    "`'y'`|Amarillo\n",
    "`'k'`|Negro\n",
    "`'w'`|Blanco"
   ]
  },
  {
   "cell_type": "code",
   "execution_count": null,
   "metadata": {
    "id": "wFpJkyP0T7DQ"
   },
   "outputs": [],
   "source": [
    "plt.plot(ypoints, 'o:g')\n",
    "plt.show()"
   ]
  },
  {
   "cell_type": "markdown",
   "metadata": {
    "id": "-BtxofetT-Ua"
   },
   "source": [
    "###**Etiquetas**\n",
    "\n",
    "Con Pyplot, se pueden usar los parámetros `xlabel()` y `ylabel()` para detallar el texto de `x-axis y-axis`"
   ]
  },
  {
   "cell_type": "code",
   "execution_count": null,
   "metadata": {
    "id": "shnEoxMtUefB"
   },
   "outputs": [],
   "source": [
    "x = np.array([80, 85, 90, 95, 100, 105, 110, 115, 120, 125])\n",
    "y = np.array([240, 250, 260, 270, 280, 290, 300, 310, 320, 330])\n",
    "plt.plot(x, y)\n",
    "plt.xlabel(\"Pulso Promedio\")\n",
    "plt.ylabel(\"Quema de calorías\")\n",
    "plt.show()"
   ]
  },
  {
   "cell_type": "markdown",
   "metadata": {
    "id": "_8Ln3HyGUpTw"
   },
   "source": [
    "###**Crear un título**\n",
    "\n",
    "Con Pyplot, puede usar la función `title()` para establecer el título de un gráfico."
   ]
  },
  {
   "cell_type": "code",
   "execution_count": null,
   "metadata": {
    "id": "tmPgf6-1U2Cr"
   },
   "outputs": [],
   "source": [
    "x = np.array([80, 85, 90, 95, 100, 105, 110, 115, 120, 125])\n",
    "y = np.array([240, 250, 260, 270, 280, 290, 300, 310, 320, 330])\n",
    "plt.plot(x, y)\n",
    "plt.title(\"Datos del reloj deportivo\")\n",
    "plt.xlabel(\"Pulso Promedio\")\n",
    "plt.ylabel(\"Quema de calorías\")\n",
    "plt.show()"
   ]
  },
  {
   "cell_type": "markdown",
   "metadata": {
    "id": "En4zBbCQVEix"
   },
   "source": [
    "###**Agregar líneas de cuadrícula a una gráfica**\n",
    "\n",
    "Con Pyplot, puede usar la función `grid()` para agregar líneas de cuadrícula a una gráfica."
   ]
  },
  {
   "cell_type": "code",
   "execution_count": null,
   "metadata": {
    "id": "rdhzHRQZVTS8"
   },
   "outputs": [],
   "source": [
    "x = np.array([80, 85, 90, 95, 100, 105, 110, 115, 120, 125])\n",
    "y = np.array([240, 250, 260, 270, 280, 290, 300, 310, 320, 330])\n",
    "plt.title(\"Datos del reloj deportivo\")\n",
    "plt.xlabel(\"Pulso Promedio\")\n",
    "plt.ylabel(\"Quema de calorías\")\n",
    "plt.plot(x, y)\n",
    "plt.grid()\n",
    "plt.show()"
   ]
  },
  {
   "cell_type": "markdown",
   "metadata": {
    "id": "e74PQL59VcSX"
   },
   "source": [
    "###**Especificar las líneas de cuadrícula a mostrar**\n",
    "\n",
    "Se puede usar el parámetro `axis` en la función `grid()` para especificar que líneas de cuadricula mostrar.\n",
    "\n",
    "Valores permitidos: `'x'`, `'y'` y `'both'`, si no se especifica el valor por defecto es `'both'`"
   ]
  },
  {
   "cell_type": "code",
   "execution_count": null,
   "metadata": {
    "id": "vfdIi-5jYFSF"
   },
   "outputs": [],
   "source": [
    "x = np.array([80, 85, 90, 95, 100, 105, 110, 115, 120, 125])\n",
    "y = np.array([240, 250, 260, 270, 280, 290, 300, 310, 320, 330])\n",
    "plt.title(\"Datos del reloj deportivo\")\n",
    "plt.xlabel(\"Pulso Promedio\")\n",
    "plt.ylabel(\"Quema de calorías\")\n",
    "plt.plot(x, y)\n",
    "plt.grid(axis = 'y')\n",
    "plt.show()"
   ]
  },
  {
   "cell_type": "markdown",
   "metadata": {
    "id": "EWXx_UOFbFkZ"
   },
   "source": [
    "###**Multiples Gráficas**\n",
    "\n",
    "Con la función `subplots()` se crea una figura y una cuadrícula de subfiguras.\n",
    "\n",
    "El siguiente ejemplo gráfica dos figuras.\n"
   ]
  },
  {
   "cell_type": "code",
   "execution_count": null,
   "metadata": {
    "id": "yuRJUsTnbFCs"
   },
   "outputs": [],
   "source": [
    "#plot 1:\n",
    "x = np.array([0, 1, 2, 3])\n",
    "y = np.array([3, 8, 1, 10])\n",
    "plt.subplot(1, 2, 1)\n",
    "plt.plot(x,y)\n",
    "\n",
    "#plot 2:\n",
    "x = np.array([0, 1, 2, 3])\n",
    "y = np.array([10, 20, 30, 40])\n",
    "plt.subplot(1, 2, 2)\n",
    "plt.plot(x,y)\n",
    "\n",
    "plt.show()"
   ]
  },
  {
   "cell_type": "markdown",
   "metadata": {
    "id": "OtaSov-YeTNd"
   },
   "source": [
    "###**La Función `subplots()`**\n",
    "\n",
    "La función `subplots()` toma tres argumentos que describen el diseño de la figura. El diseño está organizado en filas y columnas, que están representadas por el primer y segundo argumento. El tercer argumento representa el índice de la gráfica actual.\n",
    "\n",
    "```python\n",
    "plt.subplot(1, 2, 1)\n",
    "#la figura tiene 1 fila, 2 columnas y estamos en el primer gráfico\n",
    "plt.subplot(1, 2, 2)\n",
    "#la figura tiene 1 fila, 2 columnas y estamos en el segundo gráfico\n",
    "```\n",
    "A continuación detallaremos un ejemplo en donde un subplot tenga dos filas y una columna.\n",
    "\n",
    "Puede dibujar tantas gráficas como desee en una figura, simplemente describa el número de filas, columnas y el índice de la gráfica.\n",
    "\n",
    "A continuación detallaremos 6 gráficas.\n",
    "\n",
    "Para agregar un título a las gráficas con la función `title()`.\n",
    "\n",
    "Para agregar un título para todas las gráficas se utiliza la función `suptitle()`\n"
   ]
  },
  {
   "cell_type": "code",
   "execution_count": null,
   "metadata": {
    "id": "pWyy4NEKfSz4"
   },
   "outputs": [],
   "source": [
    "#plot 1:\n",
    "x = np.array([0, 1, 2, 3])\n",
    "y = np.array([3, 8, 1, 10])\n",
    "\n",
    "plt.subplot(2, 1, 1)\n",
    "plt.plot(x,y)\n",
    "\n",
    "#plot 2:\n",
    "x = np.array([0, 1, 2, 3])\n",
    "y = np.array([10, 20, 30, 40])\n",
    "\n",
    "plt.subplot(2, 1, 2)\n",
    "plt.plot(x,y)\n",
    "\n",
    "plt.show()"
   ]
  },
  {
   "cell_type": "code",
   "execution_count": null,
   "metadata": {
    "id": "NKiveLgjfj9c"
   },
   "outputs": [],
   "source": [
    "x = np.array([0, 1, 2, 3])\n",
    "y = np.array([3, 8, 1, 10])\n",
    "\n",
    "plt.subplot(2, 3, 1)\n",
    "plt.plot(x,y)\n",
    "\n",
    "x = np.array([0, 1, 2, 3])\n",
    "y = np.array([10, 20, 30, 40])\n",
    "\n",
    "plt.subplot(2, 3, 2)\n",
    "plt.plot(x,y)\n",
    "\n",
    "x = np.array([0, 1, 2, 3])\n",
    "y = np.array([3, 8, 1, 10])\n",
    "\n",
    "plt.subplot(2, 3, 3)\n",
    "plt.plot(x,y)\n",
    "\n",
    "x = np.array([0, 1, 2, 3])\n",
    "y = np.array([10, 20, 30, 40])\n",
    "\n",
    "plt.subplot(2, 3, 4)\n",
    "plt.plot(x,y)\n",
    "\n",
    "x = np.array([0, 1, 2, 3])\n",
    "y = np.array([3, 8, 1, 10])\n",
    "\n",
    "plt.subplot(2, 3, 5)\n",
    "plt.plot(x,y)\n",
    "\n",
    "x = np.array([0, 1, 2, 3])\n",
    "y = np.array([10, 20, 30, 40])\n",
    "\n",
    "plt.subplot(2, 3, 6)\n",
    "plt.plot(x,y)\n",
    "\n",
    "plt.show()"
   ]
  },
  {
   "cell_type": "code",
   "execution_count": null,
   "metadata": {
    "id": "WPnucX-mf2FT"
   },
   "outputs": [],
   "source": [
    "#plot 1:\n",
    "x = np.array([0, 1, 2, 3])\n",
    "y = np.array([3, 8, 1, 10])\n",
    "\n",
    "plt.subplot(1, 2, 1)\n",
    "plt.plot(x,y)\n",
    "plt.title(\"Ventas\")\n",
    "\n",
    "#plot 2:\n",
    "x = np.array([0, 1, 2, 3])\n",
    "y = np.array([10, 20, 30, 40])\n",
    "\n",
    "plt.subplot(1, 2, 2)\n",
    "plt.plot(x,y)\n",
    "plt.title(\"Ganancias\")\n",
    "\n",
    "plt.show()"
   ]
  },
  {
   "cell_type": "code",
   "execution_count": null,
   "metadata": {
    "id": "_J37fOVogH8F"
   },
   "outputs": [],
   "source": [
    "#plot 1:\n",
    "x = np.array([0, 1, 2, 3])\n",
    "y = np.array([3, 8, 1, 10])\n",
    "\n",
    "plt.subplot(1, 2, 1)\n",
    "plt.plot(x,y)\n",
    "plt.title(\"Ventas\")\n",
    "\n",
    "#plot 2:\n",
    "x = np.array([0, 1, 2, 3])\n",
    "y = np.array([10, 20, 30, 40])\n",
    "\n",
    "plt.subplot(1, 2, 2)\n",
    "plt.plot(x,y)\n",
    "plt.title(\"Ganancias\")\n",
    "\n",
    "plt.suptitle(\"Tienda - Los Hermanos Brothers\")\n",
    "plt.show()"
   ]
  },
  {
   "cell_type": "markdown",
   "metadata": {
    "id": "Ty4vJ5QcgjiT"
   },
   "source": [
    "###**Gráficas de dispersión**\n",
    "\n",
    "Con Pyplot, puede usar la función `scatter()` para dibujar un diagrama de dispersión. La función `scatter()` traza un punto para cada observación. Necesita dos matrices de la misma longitud, una para los valores del eje $x$ y otra para los valores del eje $y$.\n",
    "\n",
    "Los valores detallan la siguiente información:\n",
    "*   La observación detalla el resultado del paso de 13 automóviles por una cámara de fotomultas.\n",
    "*   El eje X muestra la antigüedad del automóvil.\n",
    "*   El eje Y muestra la velocidad del automóvil cuando pasa.\n",
    "\n",
    "¿Existe alguna relación entre las observaciones?\n",
    "\n",
    "Parece que cuanto más nuevo es el automóvil, más rápido conduce, pero eso podría ser una coincidencia, después de todo, solo registramos 13 automóviles.\n"
   ]
  },
  {
   "cell_type": "code",
   "execution_count": null,
   "metadata": {
    "id": "EiE1rqDehI9r"
   },
   "outputs": [],
   "source": [
    "x = np.array([5,7,8,7,2,17,2,9,4,11,12,9,6])\n",
    "y = np.array([99,86,87,88,111,86,103,87,94,78,77,85,86])\n",
    "\n",
    "plt.scatter(x, y)\n",
    "plt.show()"
   ]
  },
  {
   "cell_type": "markdown",
   "metadata": {
    "id": "LZJbpTAHhXsG"
   },
   "source": [
    "###**Comparación de gráficas**\n",
    "\n",
    "En el ejemplo anterior, parece haber una relación entre la velocidad y la edad, pero ¿qué pasa si también graficamos las observaciones de otro día? ¿El diagrama de dispersión nos dirá algo más?\n",
    "\n",
    "Al comparar los dos gráficos, creo que es seguro decir que ambos nos dan la misma conclusión: cuanto más nuevo es el automóvil, más rápido conduce.\n"
   ]
  },
  {
   "cell_type": "code",
   "execution_count": null,
   "metadata": {
    "id": "IqLAkaOth4J1"
   },
   "outputs": [],
   "source": [
    "#día 1 - 13 carros\n",
    "x = np.array([5,7,8,7,2,17,2,9,4,11,12,9,6])\n",
    "y = np.array([99,86,87,88,111,86,103,87,94,78,77,85,86])\n",
    "plt.scatter(x, y)\n",
    "\n",
    "#día 2 - 15 carros\n",
    "x = np.array([2,2,8,1,15,8,12,9,7,3,11,4,7,14,12])\n",
    "y = np.array([100,105,84,105,90,99,90,95,94,100,79,112,91,80,85])\n",
    "plt.scatter(x, y)\n",
    "\n",
    "plt.show()"
   ]
  },
  {
   "cell_type": "markdown",
   "metadata": {
    "id": "5Tvei0v0iIPP"
   },
   "source": [
    "###**Colores**\n",
    "\n",
    "Se puede establecer el color para cada gráfico de dispersión con el argumento `color` o `c`:"
   ]
  },
  {
   "cell_type": "code",
   "execution_count": null,
   "metadata": {
    "id": "GXY2EmakiW8o"
   },
   "outputs": [],
   "source": [
    "x = np.array([5,7,8,7,2,17,2,9,4,11,12,9,6])\n",
    "y = np.array([99,86,87,88,111,86,103,87,94,78,77,85,86])\n",
    "plt.scatter(x, y, color = 'hotpink')\n",
    "\n",
    "x = np.array([2,2,8,1,15,8,12,9,7,3,11,4,7,14,12])\n",
    "y = np.array([100,105,84,105,90,99,90,95,94,100,79,112,91,80,85])\n",
    "plt.scatter(x, y, color = '#88c999')\n",
    "\n",
    "plt.show()"
   ]
  },
  {
   "cell_type": "markdown",
   "metadata": {
    "id": "6sehNqHvimJl"
   },
   "source": [
    "###**Colores a cada punto**\n",
    "\n",
    "Se puede establecer un color específico para cada punto utilizando una matriz de colores como valor para el argumento `c`:\n",
    "\n",
    "Nota: No puede usar el argumento de `color` para esto, solo el argumento `c`."
   ]
  },
  {
   "cell_type": "code",
   "execution_count": null,
   "metadata": {
    "id": "yxKxi7LrizpH"
   },
   "outputs": [],
   "source": [
    "x = np.array([5,7,8,7,2,17,2,9,4,11,12,9,6])\n",
    "y = np.array([99,86,87,88,111,86,103,87,94,78,77,85,86])\n",
    "colors = np.array([\"red\",\"green\",\"blue\",\"yellow\",\"pink\",\"black\",\"orange\",\"purple\",\"beige\",\"brown\",\"gray\",\"cyan\",\"magenta\"])\n",
    "\n",
    "plt.scatter(x, y, c=colors)\n",
    "\n",
    "plt.show()"
   ]
  },
  {
   "cell_type": "markdown",
   "metadata": {
    "id": "LbM_m2xIi3QQ"
   },
   "source": [
    "###**Mapa de Colores**\n",
    "\n",
    "Matplotlib tiene diferentes mapas de colores (ColorMap) disponibles, un mapa de colores es como una lista de colores, donde cada color tiene un valor que va de 0 a 100.\n",
    "\n",
    "A continuación, se muestra un ejemplo de mapa de colores:\n",
    "\n",
    "![](https://www.w3schools.com/python/img_colorbar.png)\n",
    "\n",
    "Este mapa de colores se llama `'viridis'` y, como puede ver, va desde $0$, que es un color púrpura, y hasta $100$, que es un color amarillo.\n",
    "\n",
    "###**Cómo utilizar ColorMap**\n",
    "\n",
    "Puede especificar el mapa de colores con el argumento de palabra clave cmap con el valor del mapa de colores, en este caso 'viridis', que es uno de los mapas de colores integrados disponibles en Matplotlib.\n",
    "\n",
    "Además, debe crear una matriz con valores (de 0 a 100), un valor para cada uno de los puntos en el diagrama de dispersión:\n",
    "\n",
    "Puede incluir el mapa de colores en el dibujo si incluye la declaración `plt.colorbar()`"
   ]
  },
  {
   "cell_type": "code",
   "execution_count": null,
   "metadata": {
    "id": "P0m77oJljbJF"
   },
   "outputs": [],
   "source": [
    "x = np.array([5,7,8,7,2,17,2,9,4,11,12,9,6])\n",
    "y = np.array([99,86,87,88,111,86,103,87,94,78,77,85,86])\n",
    "colors = np.array([0, 10, 20, 30, 40, 45, 50, 55, 60, 70, 80, 90, 100])\n",
    "\n",
    "plt.scatter(x, y, c=colors, cmap='viridis')\n",
    "plt.colorbar()\n",
    "plt.show()"
   ]
  },
  {
   "cell_type": "markdown",
   "metadata": {
    "id": "usbWNIznjq68"
   },
   "source": [
    "###**ColorMap disponibles**\n",
    "\n",
    "<table>\n",
    "<thead>\n",
    "  <tr>\n",
    "    <th>Nombre</th>\n",
    "    <th>Reverso</th>\n",
    "    <th></th>\n",
    "    <th>Nombre</th>\n",
    "    <th>Reverso</th>\n",
    "    <th></th>\n",
    "    <th>Nombre</th>\n",
    "    <th>Reverso</th>\n",
    "    <th></th>\n",
    "    <th>Nombre</th>\n",
    "    <th>Reverso</th>\n",
    "  </tr>\n",
    "</thead>\n",
    "<tbody>\n",
    "  <tr>\n",
    "    <td>Accent</td>\n",
    "    <td>Accent_r</td>\n",
    "    <td></td>\n",
    "    <td>Purples</td>\n",
    "    <td>Purples_r</td>\n",
    "    <td></td>\n",
    "    <td>bwr</td>\n",
    "    <td>bwr_r</td>\n",
    "    <td></td>\n",
    "    <td>magma</td>\n",
    "    <td>magma_r</td>\n",
    "  </tr>\n",
    "  <tr>\n",
    "    <td>Blues</td>\n",
    "    <td>Blues_r</td>\n",
    "    <td></td>\n",
    "    <td>RdBu</td>\n",
    "    <td>RdBu_r</td>\n",
    "    <td></td>\n",
    "    <td>cividis</td>\n",
    "    <td>cividis_r</td>\n",
    "    <td></td>\n",
    "    <td>nipy_spectral</td>\n",
    "    <td>nipy_spectral_r</td>\n",
    "  </tr>\n",
    "  <tr>\n",
    "    <td>BrBG</td>\n",
    "    <td>BrBG_r</td>\n",
    "    <td></td>\n",
    "    <td>RdGy</td>\n",
    "    <td>RdGy_r</td>\n",
    "    <td></td>\n",
    "    <td>cool</td>\n",
    "    <td>cool_r</td>\n",
    "    <td></td>\n",
    "    <td>ocean</td>\n",
    "    <td>ocean_r</td>\n",
    "  </tr>\n",
    "  <tr>\n",
    "    <td>BuGn</td>\n",
    "    <td>BuGn_r</td>\n",
    "    <td></td>\n",
    "    <td>RdPu</td>\n",
    "    <td>RdPu_r</td>\n",
    "    <td></td>\n",
    "    <td>coolwarm</td>\n",
    "    <td>coolwarm_r</td>\n",
    "    <td></td>\n",
    "    <td>pink</td>\n",
    "    <td>pink_r</td>\n",
    "  </tr>\n",
    "  <tr>\n",
    "    <td>BuPu</td>\n",
    "    <td>BuPu_r</td>\n",
    "    <td></td>\n",
    "    <td>RdYlBu</td>\n",
    "    <td>RdYlBu_r</td>\n",
    "    <td></td>\n",
    "    <td>copper</td>\n",
    "    <td>copper_r</td>\n",
    "    <td></td>\n",
    "    <td>plasma</td>\n",
    "    <td>plasma_r</td>\n",
    "  </tr>\n",
    "  <tr>\n",
    "    <td>CMRmap</td>\n",
    "    <td>CMRmap_r</td>\n",
    "    <td></td>\n",
    "    <td>RdYlGn</td>\n",
    "    <td>RdYlGn_r</td>\n",
    "    <td></td>\n",
    "    <td>cubehelix</td>\n",
    "    <td>cubehelix_r</td>\n",
    "    <td></td>\n",
    "    <td>prism</td>\n",
    "    <td>prism_r</td>\n",
    "  </tr>\n",
    "  <tr>\n",
    "    <td>Dark2</td>\n",
    "    <td>Dark2_r</td>\n",
    "    <td></td>\n",
    "    <td>Reds</td>\n",
    "    <td>Reds_r</td>\n",
    "    <td></td>\n",
    "    <td>flag</td>\n",
    "    <td>flag_r</td>\n",
    "    <td></td>\n",
    "    <td>rainbow</td>\n",
    "    <td>rainbow_r</td>\n",
    "  </tr>\n",
    "  <tr>\n",
    "    <td>GnBu</td>\n",
    "    <td>GnBu_r</td>\n",
    "    <td></td>\n",
    "    <td>Set1</td>\n",
    "    <td>Set1_r</td>\n",
    "    <td></td>\n",
    "    <td>gist_earth</td>\n",
    "    <td>gist_earth_r</td>\n",
    "    <td></td>\n",
    "    <td>seismic</td>\n",
    "    <td>seismic_r</td>\n",
    "  </tr>\n",
    "  <tr>\n",
    "    <td>Greens</td>\n",
    "    <td>Greens_r</td>\n",
    "    <td></td>\n",
    "    <td>Set2</td>\n",
    "    <td>Set2_r</td>\n",
    "    <td></td>\n",
    "    <td>gist_gray</td>\n",
    "    <td>gist_gray_r</td>\n",
    "    <td></td>\n",
    "    <td>spring</td>\n",
    "    <td>spring_r</td>\n",
    "  </tr>\n",
    "  <tr>\n",
    "    <td>Greys</td>\n",
    "    <td>Greys_r</td>\n",
    "    <td></td>\n",
    "    <td>Set3</td>\n",
    "    <td>Set3_r</td>\n",
    "    <td></td>\n",
    "    <td>gist_heat</td>\n",
    "    <td>gist_heat_r</td>\n",
    "    <td></td>\n",
    "    <td>summer</td>\n",
    "    <td>summer_r</td>\n",
    "  </tr>\n",
    "  <tr>\n",
    "    <td>OrRd</td>\n",
    "    <td>OrRd_r</td>\n",
    "    <td></td>\n",
    "    <td>Spectral</td>\n",
    "    <td>Spectral_r</td>\n",
    "    <td></td>\n",
    "    <td>gist_ncar</td>\n",
    "    <td>gist_ncar_r</td>\n",
    "    <td></td>\n",
    "    <td>tab10</td>\n",
    "    <td>tab10_r</td>\n",
    "  </tr>\n",
    "  <tr>\n",
    "    <td>Oranges</td>\n",
    "    <td>Oranges_r</td>\n",
    "    <td></td>\n",
    "    <td>Wistia</td>\n",
    "    <td>Wistia_r</td>\n",
    "    <td></td>\n",
    "    <td>gist_rainbow</td>\n",
    "    <td>gist_rainbow_r</td>\n",
    "    <td></td>\n",
    "    <td>tab20</td>\n",
    "    <td>tab20_r</td>\n",
    "  </tr>\n",
    "  <tr>\n",
    "    <td>PRGn</td>\n",
    "    <td>PRGn_r</td>\n",
    "    <td></td>\n",
    "    <td>YlGn</td>\n",
    "    <td>YlGn_r</td>\n",
    "    <td></td>\n",
    "    <td>gist_stern</td>\n",
    "    <td>gist_stern_r</td>\n",
    "    <td></td>\n",
    "    <td>tab20b</td>\n",
    "    <td>tab20b_r</td>\n",
    "  </tr>\n",
    "  <tr>\n",
    "    <td>Paired</td>\n",
    "    <td>Paired_r</td>\n",
    "    <td></td>\n",
    "    <td>YlGnBu</td>\n",
    "    <td>YlGnBu_r</td>\n",
    "    <td></td>\n",
    "    <td>gist_yarg</td>\n",
    "    <td>gist_yarg_r</td>\n",
    "    <td></td>\n",
    "    <td>tab20c</td>\n",
    "    <td>tab20c_r</td>\n",
    "  </tr>\n",
    "  <tr>\n",
    "    <td>Pastel1</td>\n",
    "    <td>Pastel1_r</td>\n",
    "    <td></td>\n",
    "    <td>YlOrBr</td>\n",
    "    <td>YlOrBr_r</td>\n",
    "    <td></td>\n",
    "    <td>gnuplot</td>\n",
    "    <td>gnuplot_r</td>\n",
    "    <td></td>\n",
    "    <td>terrain</td>\n",
    "    <td>terrain_r</td>\n",
    "  </tr>\n",
    "  <tr>\n",
    "    <td>Pastel2</td>\n",
    "    <td>Pastel2_r</td>\n",
    "    <td></td>\n",
    "    <td>YlOrRd</td>\n",
    "    <td>YlOrRd_r</td>\n",
    "    <td></td>\n",
    "    <td>gnuplot2</td>\n",
    "    <td>gnuplot2_r</td>\n",
    "    <td></td>\n",
    "    <td>twilight</td>\n",
    "    <td>twilight_r</td>\n",
    "  </tr>\n",
    "  <tr>\n",
    "    <td>PiYG</td>\n",
    "    <td>PiYG_r</td>\n",
    "    <td></td>\n",
    "    <td>afmhot</td>\n",
    "    <td>afmhot_r</td>\n",
    "    <td></td>\n",
    "    <td>gray</td>\n",
    "    <td>gray_r</td>\n",
    "    <td></td>\n",
    "    <td>twilight_shifted</td>\n",
    "    <td>twilight_shifted_r</td>\n",
    "  </tr>\n",
    "  <tr>\n",
    "    <td>PuBu</td>\n",
    "    <td>PuBu_r</td>\n",
    "    <td></td>\n",
    "    <td>autumn</td>\n",
    "    <td>autumn_r</td>\n",
    "    <td></td>\n",
    "    <td>hot</td>\n",
    "    <td>hot_r</td>\n",
    "    <td></td>\n",
    "    <td>viridis</td>\n",
    "    <td>viridis_r</td>\n",
    "  </tr>\n",
    "  <tr>\n",
    "    <td>PuBuGn</td>\n",
    "    <td>PuBuGn_r</td>\n",
    "    <td></td>\n",
    "    <td>binary</td>\n",
    "    <td>binary_r</td>\n",
    "    <td></td>\n",
    "    <td>hsv</td>\n",
    "    <td>hsv_r</td>\n",
    "    <td></td>\n",
    "    <td>winter</td>\n",
    "    <td>winter_r</td>\n",
    "  </tr>\n",
    "  <tr>\n",
    "    <td>PuOr</td>\n",
    "    <td>PuOr_r</td>\n",
    "    <td></td>\n",
    "    <td>bone</td>\n",
    "    <td>bone_r</td>\n",
    "    <td></td>\n",
    "    <td>inferno</td>\n",
    "    <td>inferno_r</td>\n",
    "    <td></td>\n",
    "    <td></td>\n",
    "    <td></td>\n",
    "  </tr>\n",
    "  <tr>\n",
    "    <td>PuRd</td>\n",
    "    <td>PuRd_r</td>\n",
    "    <td></td>\n",
    "    <td>brg</td>\n",
    "    <td>brg_r</td>\n",
    "    <td></td>\n",
    "    <td>jet</td>\n",
    "    <td>jet_r</td>\n",
    "    <td></td>\n",
    "    <td></td>\n",
    "    <td></td>\n",
    "  </tr>\n",
    "</tbody>\n",
    "</table>\n"
   ]
  },
  {
   "cell_type": "markdown",
   "metadata": {
    "id": "m-rDp2Rft7FW"
   },
   "source": [
    "###**Tamaño de los marcadores**\n",
    "\n",
    "El tamaño de los marcadores o puntos se puede cambiar con el argumento `s`.\n",
    "\n",
    "Al igual que los colores, asegúrese de que la matriz de tamaños tenga la misma longitud que las matrices de los ejes $x$ e $y$:"
   ]
  },
  {
   "cell_type": "code",
   "execution_count": null,
   "metadata": {
    "id": "JwN74a9juLMD"
   },
   "outputs": [],
   "source": [
    "x = np.array([5,7,8,7,2,17,2,9,4,11,12,9,6])\n",
    "y = np.array([99,86,87,88,111,86,103,87,94,78,77,85,86])\n",
    "sizes = np.array([20,50,100,200,500,1000,60,90,10,300,600,800,75])\n",
    "\n",
    "plt.scatter(x, y, s=sizes)\n",
    "\n",
    "plt.show()"
   ]
  },
  {
   "cell_type": "markdown",
   "metadata": {
    "id": "dSi8aJfguQNe"
   },
   "source": [
    "###**Transparencia marcadores**\n",
    "\n",
    "**Alpha**\n",
    "\n",
    "Se puede ajustar la transparencia de los marcadores o puntos con el argumento `alpha`\n",
    "\n",
    "Al igual que los colores, asegúrese de que la matriz de tamaños tenga la misma longitud que las matrices de los ejes $x$ e $y$:"
   ]
  },
  {
   "cell_type": "code",
   "execution_count": null,
   "metadata": {
    "id": "UwcAmtZrukK0"
   },
   "outputs": [],
   "source": [
    "x = np.array([5,7,8,7,2,17,2,9,4,11,12,9,6])\n",
    "y = np.array([99,86,87,88,111,86,103,87,94,78,77,85,86])\n",
    "sizes = np.array([20,50,100,200,500,1000,60,90,10,300,600,800,75])\n",
    "\n",
    "plt.scatter(x, y, s=sizes, alpha=0.5)\n",
    "\n",
    "plt.show()"
   ]
  },
  {
   "cell_type": "markdown",
   "metadata": {
    "id": "ldZO5mCTuqDw"
   },
   "source": [
    "###**Combinar tamaño, color y Alpha**\n",
    "\n",
    "**Alpha**\n",
    "\n",
    "\n",
    "Puede combinar un mapa de colores con diferentes tamaños en los puntos. Esto se visualiza mejor si los puntos son transparentes:"
   ]
  },
  {
   "cell_type": "code",
   "execution_count": null,
   "metadata": {
    "id": "Ec8GqeFdu8qO"
   },
   "outputs": [],
   "source": [
    "x = np.random.randint(100, size=(100))\n",
    "y = np.random.randint(100, size=(100))\n",
    "colors = np.random.randint(100, size=(100))\n",
    "sizes = 10 * np.random.randint(100, size=(100))\n",
    "\n",
    "plt.scatter(x, y, c=colors, s=sizes, alpha=0.5, cmap='nipy_spectral')\n",
    "\n",
    "plt.colorbar()\n",
    "\n",
    "plt.show()"
   ]
  },
  {
   "cell_type": "markdown",
   "metadata": {
    "id": "4uVx7AAvvPZ6"
   },
   "source": [
    "###**Gráficas de barras**\n",
    "\n",
    "Con Pyplot, puede usar la función `bar()` para dibujar un diagrama de barras. La función `bar()` dibuja una barra para cada observación.\n",
    "\n",
    "La función `bar()` toma argumentos que describen el diseño de las barras. Las categorías y sus valores representados por el primer y segundo argumento como matrices."
   ]
  },
  {
   "cell_type": "code",
   "execution_count": null,
   "metadata": {
    "id": "4PpZHA5_vgKd"
   },
   "outputs": [],
   "source": [
    "x = np.array([\"A\", \"B\", \"C\", \"D\"])\n",
    "y = np.array([3, 8, 1, 10])\n",
    "\n",
    "plt.bar(x,y)\n",
    "plt.show()"
   ]
  },
  {
   "cell_type": "code",
   "execution_count": null,
   "metadata": {
    "id": "CKob37IfvqTH"
   },
   "outputs": [],
   "source": [
    "x = [\"Yuca\", \"Papa\"]\n",
    "y = [400, 350]\n",
    "plt.bar(x, y)\n",
    "plt.show()"
   ]
  },
  {
   "cell_type": "markdown",
   "metadata": {
    "id": "UvtxKBZLv0Zb"
   },
   "source": [
    "###**Gráficas de barras horizontales**\n",
    "\n",
    "Con Pyplot, puede usar la función `barh()` para dibujar un diagrama de barras horizontales. La función `barh()` dibuja una barra para cada observación."
   ]
  },
  {
   "cell_type": "code",
   "execution_count": null,
   "metadata": {
    "id": "xy84gmbUv98Z"
   },
   "outputs": [],
   "source": [
    "x = np.array([\"A\", \"B\", \"C\", \"D\"])\n",
    "y = np.array([3, 8, 1, 10])\n",
    "\n",
    "plt.barh(x, y)\n",
    "plt.show()"
   ]
  },
  {
   "cell_type": "markdown",
   "metadata": {
    "id": "g0nZomIywBQn"
   },
   "source": [
    "###**Colores de las barras**\n",
    "\n",
    "`bar()` y `barh()` utilizan el argumento `color` para detallar el color de las barras.\n",
    "\n",
    "![](https://matplotlib.org/stable/_images/sphx_glr_named_colors_001.png)\n",
    "\n",
    "![](https://matplotlib.org/stable/_images/sphx_glr_named_colors_002.png)\n",
    "\n",
    "![](https://matplotlib.org/stable/_images/sphx_glr_named_colors_003.png)"
   ]
  },
  {
   "cell_type": "code",
   "execution_count": null,
   "metadata": {
    "id": "2eIuiyQfwN4s"
   },
   "outputs": [],
   "source": [
    "x = np.array([\"A\", \"B\", \"C\", \"D\"])\n",
    "y = np.array([3, 8, 1, 10])\n",
    "\n",
    "plt.bar(x, y, color = \"red\")\n",
    "plt.show()"
   ]
  },
  {
   "cell_type": "markdown",
   "metadata": {
    "id": "Jx2-BifBw4-a"
   },
   "source": [
    "###**Ancho y alto de las barras**\n",
    "\n",
    "`bar()` utilizan el argumento `width` para detallar el ancho de las barras.\n",
    "\n",
    "`barh()` utilizan el argumento `height` para detallar el alto de las barras."
   ]
  },
  {
   "cell_type": "code",
   "execution_count": null,
   "metadata": {
    "id": "ifR-FJ7nxNK4"
   },
   "outputs": [],
   "source": [
    "x = np.array([\"A\", \"B\", \"C\", \"D\"])\n",
    "y = np.array([3, 8, 1, 10])\n",
    "\n",
    "plt.bar(x, y, width = 0.1)\n",
    "plt.show()\n",
    "\n",
    "plt.barh(x, y, height = 0.1)\n",
    "plt.show()"
   ]
  },
  {
   "cell_type": "markdown",
   "metadata": {
    "id": "Lxly24NvxWd8"
   },
   "source": [
    "###**Histogramas**\n",
    "\n",
    "Un histograma es un gráfico que muestra distribuciones de frecuencia.\n",
    "\n",
    "Es un gráfico que muestra el número de observaciones dentro de cada intervalo dado.\n",
    "\n",
    "Ejemplo: digamos que pregunta por la altura de 250 personas, podría terminar con un histograma como este:\n",
    "\n",
    "![](https://www.w3schools.com/python/img_matplotlib_histogram1.png)\n",
    "\n",
    "Puede leer en el histograma que hay aproximadamente:\n",
    "\n",
    "* 2 personas de 140 a 145cm\n",
    "* 5 personas de 145 a 150cm\n",
    "* 15 personas de 151 a 156cm\n",
    "* 31 personas de 157 a 162cm\n",
    "* 46 personas de 163 a 168cm\n",
    "* 53 personas de 168 a 173cm\n",
    "* 45 personas de 173 a 178cm\n",
    "* 28 personas de 179 a 184cm\n",
    "* 21 personas de 185 a 190cm\n",
    "* 4 personas de 190 a 195cm"
   ]
  },
  {
   "cell_type": "markdown",
   "metadata": {
    "id": "fcb1HzYk0ByJ"
   },
   "source": [
    "###**Crear un Histogramas**\n",
    "\n",
    "En Matplotlib, usamos la función `hist()` para crear histogramas.\n",
    "\n",
    "La función `hist()` usará una matriz de números para crear un histograma, la matriz se envía a la función como un argumento.\n",
    "\n",
    "Para simplificar, usamos NumPy para generar aleatoriamente una matriz con 250 valores, donde los valores se concentrarán alrededor de 170 y la desviación estándar es 10.\n",
    "\n",
    "```python\n",
    "x = np.random.normal(170, 10, 250)\n",
    "print(x)\n",
    "```\n",
    "La funcion `hist()` leerá la matriz y generará el histograma.\n",
    "\n"
   ]
  },
  {
   "cell_type": "code",
   "execution_count": null,
   "metadata": {
    "id": "XwdUumNX0S8G"
   },
   "outputs": [],
   "source": [
    "x = np.random.normal(170, 10, 250)\n",
    "\n",
    "plt.hist(x)\n",
    "plt.show()"
   ]
  },
  {
   "cell_type": "markdown",
   "metadata": {
    "id": "neoVEPN_0c_z"
   },
   "source": [
    "###**Gráficos circulares (torta)**\n",
    "\n",
    "Con Pyplot, puede usar la función `pie()` para dibujar gráficos circulares.\n",
    "\n",
    "Como puede ver, el gráfico circular dibuja una pieza (llamada wedge) para cada valor en la matriz (en este caso `[35, 25, 25, 15]`).\n",
    "\n",
    "De forma predeterminada, el trazado de la primera parte o `wedge` comienza desde el eje $x$ y se mueve en sentido antihorario.\n",
    "\n",
    "Nota: El tamaño de cada parte (`wedge`) se determina comparando el valor con todos los demás valores, utilizando esta fórmula:\n",
    "\n",
    "El valor dividido por la suma de todos los valores: `x / suma (x)`\n",
    "\n",
    "![](https://www.w3schools.com/python/img_matplotlib_pie_start.png)"
   ]
  },
  {
   "cell_type": "code",
   "execution_count": null,
   "metadata": {
    "id": "27RkzOsM0spI"
   },
   "outputs": [],
   "source": [
    "y = np.array([35, 25, 25, 15])\n",
    "\n",
    "plt.pie(y)\n",
    "plt.show()"
   ]
  },
  {
   "cell_type": "markdown",
   "metadata": {
    "id": "dG7OTsqc1cBN"
   },
   "source": [
    "###**Etiquetas de Gráficos circulares (torta)**\n",
    "\n",
    "Agregue etiquetas al gráfico circular con el parámetro de etiqueta `label`.\n",
    "\n",
    "El parámetro de etiqueta debe ser una matriz con una etiqueta para cada sector:\n"
   ]
  },
  {
   "cell_type": "code",
   "execution_count": null,
   "metadata": {
    "id": "zWDw9vGZ1ogD"
   },
   "outputs": [],
   "source": [
    "y = np.array([35, 25, 25, 15])\n",
    "mylabels = [\"Yuca\", \"Platano\", \"Papa\", \"Tomate\"]\n",
    "\n",
    "plt.pie(y, labels = mylabels)\n",
    "plt.show()"
   ]
  },
  {
   "cell_type": "markdown",
   "metadata": {
    "id": "o6VEeHX112m8"
   },
   "source": [
    "###**Colores de Gráficos circulares (torta)**\n",
    "\n",
    "Puede establecer el color de cada cuña con el parámetro de colores `colors`.\n",
    "\n",
    "El parámetro `colors`, si se especifica, debe ser una matriz con un valor para cada sector:\n"
   ]
  },
  {
   "cell_type": "code",
   "execution_count": null,
   "metadata": {
    "id": "AtxCf3dK2HbY"
   },
   "outputs": [],
   "source": [
    "y = np.array([35, 25, 25, 15])\n",
    "mylabels = [\"Yuca\", \"Platano\", \"Papa\", \"Tomate\"]\n",
    "mycolors = [\"sienna\", \"green\", \"peru\", \"red\"]\n",
    "\n",
    "plt.pie(y, labels = mylabels, colors = mycolors)\n",
    "plt.show()"
   ]
  },
  {
   "cell_type": "markdown",
   "metadata": {
    "id": "CT0-mUJH2oiw"
   },
   "source": [
    "###**Leyenda**\n",
    "\n",
    "Para agregar una lista de explicación tipo leyenda para cada sector, use la función `legend()`.\n",
    "\n",
    "Para agregar un encabezado a la leyenda, agregue el parámetro `title` a la función `legend()`.\n",
    "Para ubicar la leyenda podemos utilizar el parametro `loc` con la siguiente tabla:\n",
    "\n",
    "Location String|Location Code\n",
    "---|---\n",
    "'best'|0\n",
    "'upper right'|1\n",
    "'upper left'|2\n",
    "'lower left'|3\n",
    "'lower right'|4\n",
    "'right'|5\n",
    "'center left'|6\n",
    "'center right'|7\n",
    "'lower center'|8\n",
    "'upper center'|9\n",
    "'center'|10"
   ]
  },
  {
   "cell_type": "code",
   "execution_count": null,
   "metadata": {
    "id": "-hiixhYe3EZT"
   },
   "outputs": [],
   "source": [
    "y = np.array([35, 25, 25, 15])\n",
    "mylabels = [\"Yuca\", \"Platano\", \"Papa\", \"Tomate\"]\n",
    "\n",
    "plt.pie(y, labels = mylabels)\n",
    "plt.legend(title=\"Sancocho\", loc=2)\n",
    "plt.show()"
   ]
  },
  {
   "cell_type": "markdown",
   "metadata": {
    "id": "U5N3TOxJ9EwH"
   },
   "source": [
    "# **Notas Finales**\n",
    "[[Contenidos]](#contents)"
   ]
  },
  {
   "cell_type": "markdown",
   "metadata": {
    "id": "Sj7tLr6j1myZ"
   },
   "source": [
    "<table>\n",
    "   <tbody>\n",
    "      <tr>\n",
    "         <strong><td>Quantum Computing</td><strong>\n",
    "         <h1><td>Statistical Computing</td></h1>\n",
    "         <h1><td>Signal Processing</td></h1>\n",
    "         <h1><td>Image Processing</td></h1>\n",
    "         <h1><td>Graphs and Networks</td></h1>\n",
    "         <h1><td>Astronomy Processes</td></h1>\n",
    "         <h1><td>Cognitive Psychology</td></h1>\n",
    "      </tr>\n",
    "      <tr>\n",
    "         <td><img class=\"cell-layout\" height=\"30px\" src=\"https://github.com/juliancastillo-iudigital/FundamentosProgramacionPosgrados2021-1/blob/main/quantum_computing.svg?raw=True\" alt=\"A computer chip.\"></td>\n",
    "         <td><img class=\"cell-layout\" height=\"30px\" src=\"https://github.com/juliancastillo-iudigital/FundamentosProgramacionPosgrados2021-1/blob/main/statistical_computing.svg?raw=True\" alt=\"A line graph with the line moving up.\"></td>\n",
    "         <td><img class=\"cell-layout\" height=\"30px\" src=\"https://github.com/juliancastillo-iudigital/FundamentosProgramacionPosgrados2021-1/blob/main/signal_processing.svg?raw=True\" alt=\"A bar chart with positive and negative values.\"></td>\n",
    "         <td><img class=\"cell-layout\" height=\"30px\" src=\"https://github.com/juliancastillo-iudigital/FundamentosProgramacionPosgrados2021-1/blob/main/image_processing.svg?raw=True\" alt=\"An photograph of the mountains.\"></td>\n",
    "         <td><img class=\"cell-layout\" height=\"30px\" src=\"https://github.com/juliancastillo-iudigital/FundamentosProgramacionPosgrados2021-1/blob/main/sd6.svg?raw=True\" alt=\"A simple graph.\"></td>\n",
    "         <td><img class=\"cell-layout\" height=\"30px\" src=\"https://github.com/juliancastillo-iudigital/FundamentosProgramacionPosgrados2021-1/blob/main/astronomy_processes.svg?raw=True\" alt=\"A telescope.\"></td>\n",
    "         <td><img class=\"cell-layout\" height=\"30px\" src=\"https://github.com/juliancastillo-iudigital/FundamentosProgramacionPosgrados2021-1/blob/main/cognitive_psychology.svg?raw=True\" alt=\"A human head with gears.\"></td>\n",
    "      </tr>\n",
    "      <tr>\n",
    "         <td class=\"center-text\"><a href=\"http://qutip.org\">QuTiP</a></td>\n",
    "         <td class=\"center-text\"><a href=\"https://pandas.pydata.org\">Pandas</a></td>\n",
    "         <td class=\"center-text\"><a href=\"https://www.scipy.org\">SciPy</a></td>\n",
    "         <td class=\"center-text\"><a href=\"https://scikit-image.org\">Scikit-image</a></td>\n",
    "         <td class=\"center-text\"><a href=\"https://networkx.org\">NetworkX</a></td>\n",
    "         <td class=\"center-text\"><a href=\"https://www.astropy.org\">AstroPy</a></td>\n",
    "         <td class=\"center-text\"><a href=\"https://www.psychopy.org\">PsychoPy</a></td>\n",
    "      </tr>\n",
    "      <tr>\n",
    "         <td class=\"center-text\"><a href=\"https://pyquil-docs.rigetti.com/en/stable\">PyQuil</a></td>\n",
    "         <td class=\"center-text\"><a href=\"https://github.com/statsmodels/statsmodels\">statsmodels</a></td>\n",
    "         <td class=\"center-text\"><a href=\"https://pywavelets.readthedocs.io\">PyWavelets</a></td>\n",
    "         <td class=\"center-text\"><a href=\"https://opencv.org\">OpenCV</a></td>\n",
    "         <td class=\"center-text\"><a href=\"https://graph-tool.skewed.de/\">graph-tool</a></td>\n",
    "         <td class=\"center-text\"><a href=\"https://github.com/sunpy/sunpy\">SunPy</a></td>\n",
    "         <td class=\"center-text\"></td>\n",
    "      </tr>\n",
    "      <tr>\n",
    "         <td class=\"center-text\"><a href=\"https://qiskit.org\">Qiskit</a></td>\n",
    "         <td class=\"center-text\"><a href=\"https://xarray.pydata.org/en/stable/\">Xarray</a></td>\n",
    "         <td class=\"center-text\"><a href=\"https://python-control.org\">python-control</a></td>\n",
    "         <td class=\"center-text\"><a href=\"https://mahotas.rtfd.io/\">Mahotas</a></td>\n",
    "         <td class=\"center-text\"><a href=\"https://igraph.org/python/\">igraph</a></td>\n",
    "         <td class=\"center-text\"><a href=\"https://github.com/spacepy/spacepy\">SpacePy</a></td>\n",
    "         <td class=\"center-text\"></td>\n",
    "      </tr>\n",
    "      <tr>\n",
    "         <td class=\"lastrow-center-text\"></td>\n",
    "         <td class=\"center-text\"><a href=\"https://github.com/mwaskom/seaborn\">Seaborn</a></td>\n",
    "         <td class=\"lastrow-center-text\"></td>\n",
    "         <td class=\"lastrow-center-text\"></td>\n",
    "         <td class=\"center-text\"><a href=\"https://pygsp.rtfd.io\">PyGSP</a></td>\n",
    "         <td class=\"lastrow-center-text\"></td>\n",
    "         <td class=\"lastrow-center-text\"></td>\n",
    "      </tr>\n",
    "      <tr class=\"highlight-th\">\n",
    "         <h1><td class=\"bold-text\">Bioinformatics</td></h1>\n",
    "         <h1><td class=\"bold-text\">Bayesian Inference</td></h1>\n",
    "         <h1><td class=\"bold-text\">Mathematical Analysis</td></h1>\n",
    "         <h1><td class=\"bold-text\">Chemistry</td></h1>\n",
    "         <h1><td class=\"bold-text\">Geoscience</td></h1>\n",
    "         <h1><td class=\"bold-text\">Geographic Processing</td></h1>\n",
    "         <h1><td class=\"bold-text\">Architecture &amp; Engineering</td></h1>\n",
    "      </tr>\n",
    "      <tr>\n",
    "         <td><img class=\"cell-layout\" height=\"30px\" src=\"https://github.com/juliancastillo-iudigital/FundamentosProgramacionPosgrados2021-1/blob/main/bioinformatics.svg?raw=True\" alt=\"A strand of DNA.\"></td>\n",
    "         <td><img class=\"cell-layout\" height=\"30px\" src=\"https://github.com/juliancastillo-iudigital/FundamentosProgramacionPosgrados2021-1/blob/main/bayesian_inference.svg?raw=True\" alt=\"A graph with a bell-shaped curve.\"></td>\n",
    "         <td><img class=\"cell-layout\" height=\"30px\" src=\"https://github.com/juliancastillo-iudigital/FundamentosProgramacionPosgrados2021-1/blob/main/mathematical_analysis.svg?raw=True\" alt=\"Four mathematical symbols.\"></td>\n",
    "         <td><img class=\"cell-layout\" height=\"30px\" src=\"https://github.com/juliancastillo-iudigital/FundamentosProgramacionPosgrados2021-1/blob/main/chemistry.svg?raw=True\" alt=\"A test tube.\"></td>\n",
    "         <td><img class=\"cell-layout\" height=\"30px\" src=\"https://github.com/juliancastillo-iudigital/FundamentosProgramacionPosgrados2021-1/blob/main/geoscience.svg?raw=True\" alt=\"The Earth.\"></td>\n",
    "         <td><img class=\"cell-layout\" height=\"30px\" src=\"https://github.com/juliancastillo-iudigital/FundamentosProgramacionPosgrados2021-1/blob/main/GIS.svg?raw=True\" alt=\"A map.\"></td>\n",
    "         <td><img class=\"cell-layout\" height=\"30px\" src=\"https://github.com/juliancastillo-iudigital/FundamentosProgramacionPosgrados2021-1/blob/main/robotics.svg?raw=True\" alt=\"A microprocessor development board.\"></td>\n",
    "      </tr>\n",
    "      <tr>\n",
    "         <td class=\"center-text\"><a href=\"https://biopython.org\">BioPython</a></td>\n",
    "         <td class=\"center-text\"><a href=\"https://pystan.readthedocs.io/en/latest/\">PyStan</a></td>\n",
    "         <td class=\"center-text\"><a href=\"https://www.scipy.org\">SciPy</a></td>\n",
    "         <td class=\"center-text\"><a href=\"https://cantera.org/\">Cantera</a></td>\n",
    "         <td class=\"center-text\"><a href=\"https://pangeo.io/\">Pangeo</a></td>\n",
    "         <td class=\"center-text\"><a href=\"https://shapely.readthedocs.io\">Shapely</a></td>\n",
    "         <td class=\"center-text\"><a href=\"https://compas.dev/\">COMPAS</a></td>\n",
    "      </tr>\n",
    "      <tr>\n",
    "         <td class=\"center-text\"><a href=\"http://scikit-bio.org\">Scikit-Bio</a></td>\n",
    "         <td class=\"center-text\"><a href=\"https://docs.pymc.io\">PyMC3</a></td>\n",
    "         <td class=\"center-text\"><a href=\"https://www.sympy.org\">SymPy</a></td>\n",
    "         <td class=\"center-text\"><a href=\"https://www.mdanalysis.org/\">MDAnalysis</a></td>\n",
    "         <td class=\"center-text\"><a href=\"https://simpeg.xyz/\">Simpeg</a></td>\n",
    "         <td class=\"center-text\"><a href=\"https://geopandas.org/\">GeoPandas</a></td>\n",
    "         <td class=\"center-text\"><a href=\"https://cityenergyanalyst.com/\">City Energy Analyst</a></td>\n",
    "      </tr>\n",
    "      <tr>\n",
    "         <td class=\"center-text\"><a href=\"https://github.com/openvax/pyensembl\">PyEnsembl</a></td>\n",
    "         <td class=\"center-text\"><a href=\"https://arviz-devs.github.io/arviz/\">ArviZ</a></td>\n",
    "         <td class=\"center-text\"><a href=\"https://github.com/cvxgrp/cvxpy\">cvxpy</a></td>\n",
    "         <td class=\"center-text\"><a href=\"https://github.com/rdkit/rdkit\">RDKit</a></td>\n",
    "         <td class=\"center-text\"><a href=\"https://github.com/obspy/obspy/wiki\">ObsPy</a></td>\n",
    "         <td class=\"center-text\"><a href=\"https://python-visualization.github.io/folium\">Folium</a></td>\n",
    "         <td class=\"center-text\"><a href=\"https://nortikin.github.io/sverchok/\">Sverchok</a></td>\n",
    "      </tr>\n",
    "      <tr>\n",
    "         <td class=\"lastrow-center-text\"><a href=\"http://etetoolkit.org/\">ETE</a></td>\n",
    "         <td class=\"lastrow-center-text\"><a href=\"https://emcee.readthedocs.io/\">emcee</a></td>\n",
    "         <td class=\"lastrow-center-text\"><a href=\"https://fenicsproject.org/\">FEniCS</a></td>\n",
    "         <td class=\"lastrow-center-text\"></td>\n",
    "         <td class=\"lastrow-center-text\"><a href=\"https://www.fatiando.org/\">Fatiando a Terra</a></td>\n",
    "         <td class=\"lastrow-center-text\"></td>\n",
    "         <td class=\"lastrow-center-text\"></td>\n",
    "      </tr>\n",
    "   </tbody>\n",
    "</table>"
   ]
  }
 ],
 "metadata": {
  "colab": {
   "provenance": []
  },
  "kernelspec": {
   "display_name": "Python 3",
   "name": "python3"
  },
  "language_info": {
   "codemirror_mode": {
    "name": "ipython",
    "version": 3
   },
   "file_extension": ".py",
   "mimetype": "text/x-python",
   "name": "python",
   "nbconvert_exporter": "python",
   "pygments_lexer": "ipython3",
   "version": "3.11.9"
  }
 },
 "nbformat": 4,
 "nbformat_minor": 0
}
